{
 "cells": [
  {
   "cell_type": "markdown",
   "source": [
    "necessary packages"
   ],
   "metadata": {
    "collapsed": false
   }
  },
  {
   "cell_type": "code",
   "execution_count": 1,
   "outputs": [],
   "source": [
    "import numpy as np\n",
    "from ipywidgets import interact\n",
    "import plotly.graph_objects as go\n",
    "from scipy.special import gamma\n",
    "from scipy.integrate import quad as integrate"
   ],
   "metadata": {
    "collapsed": false,
    "ExecuteTime": {
     "end_time": "2024-07-15T22:09:11.794551Z",
     "start_time": "2024-07-15T22:09:11.438899Z"
    }
   }
  },
  {
   "cell_type": "markdown",
   "source": [
    "define function for updating the layout of the figure:\n",
    "* updates the layout of a plotly figure with predefined settings\n",
    "* the **title** dict includes all title properties: **'x'** specifies the position of the title along the x-axis, **'xanchor'** specifies the anchor point of the title along the x-axis"
   ],
   "metadata": {
    "collapsed": false
   }
  },
  {
   "cell_type": "code",
   "execution_count": 2,
   "outputs": [],
   "source": [
    "def update_layout_of_graph(fig: go.Figure, title: str = 'Plot') -> go.Figure:\n",
    "    fig.update_layout(\n",
    "        width=1000,\n",
    "        height=500,\n",
    "        autosize=False,\n",
    "        plot_bgcolor='black',\n",
    "        title={'text': title, 'x': 0.5, 'xanchor': 'center'},  # dict includes all title properties; specifies the position of the title along the x-axis\n",
    "        xaxis_title='t / s',\n",
    "        yaxis_title='U / V',\n",
    "        legend=dict(yanchor=\"top\", y=0.9, xanchor=\"right\", x=0.95),\n",
    "        xaxis=dict(showline=True, linewidth=1, linecolor='black'),\n",
    "        yaxis=dict(showline=True, linewidth=1, linecolor='black')\n",
    "    )\n",
    "    return fig"
   ],
   "metadata": {
    "collapsed": false,
    "ExecuteTime": {
     "end_time": "2024-07-15T22:09:11.795071Z",
     "start_time": "2024-07-15T22:09:11.778922Z"
    }
   }
  },
  {
   "cell_type": "markdown",
   "source": [
    "define function for creating a line plot:\n",
    "* creates a Plotly scatter trace representing a line plot\n",
    "* **x_lines** x-coordinates of the points on the line with an empty default array\n",
    "* **y_lines** y-coordinates of the points on the line with an empty default array"
   ],
   "metadata": {
    "collapsed": false
   }
  },
  {
   "cell_type": "code",
   "execution_count": 3,
   "outputs": [],
   "source": [
    "def line_plot(x_lines: np.array = np.array([]), y_lines: np.array = np.array([]), title: str = 'predicted function',\n",
    "show_legend: bool = True, visible: bool = True, ) -> go.Scatter:\n",
    "\n",
    "    scatter = go.Scatter(x=x_lines, y=y_lines, line=dict(color=\"orange\", width=3), name=title, showlegend= show_legend, visible=visible)\n",
    "    return scatter"
   ],
   "metadata": {
    "collapsed": false,
    "ExecuteTime": {
     "end_time": "2024-07-15T22:09:11.795320Z",
     "start_time": "2024-07-15T22:09:11.789533Z"
    }
   }
  },
  {
   "cell_type": "markdown",
   "source": [
    "define function for a scatter plot:\n",
    "* creates a scatter plot with Plotly\n",
    "* **x_dots** is an array of x-coordinates for the data points in the scatter plot with an empty default array\n",
    "* **y_dots** is an array of y-coordinates for the data points in the scatter plot with an empty default array"
   ],
   "metadata": {
    "collapsed": false
   }
  },
  {
   "cell_type": "code",
   "execution_count": 4,
   "outputs": [],
   "source": [
    "def scatter_plot(visible: bool = True, x_dots: np.array = np.array([]), y_dots: np.array = np.array([]), name_dots: str = 'observed points',\n",
    "show_legend: bool = True, color: str = 'red') -> go.Scatter:\n",
    "\n",
    "    scatter = go.Scatter(x=x_dots, y=y_dots, visible=visible, mode='markers', name=name_dots, marker=dict(color=color, size=8), showlegend=show_legend)\n",
    "    return scatter"
   ],
   "metadata": {
    "collapsed": false,
    "ExecuteTime": {
     "end_time": "2024-07-15T22:09:12.296332Z",
     "start_time": "2024-07-15T22:09:12.293045Z"
    }
   }
  },
  {
   "cell_type": "markdown",
   "source": [
    "define function for plotting the uncertainty area:\n",
    "* generates an area plot to represent the uncertainty using the Plotly\n",
    "* **x_lines** an array of x-coordinates for the lines outlining the area plot with an empty default array\n",
    "* **y_lower** an array of y-coordinates representing the lower boundary of the uncertainty area plot with an empty default array\n",
    "* **y_upper** an array of y-coordinates representing the upper boundary of the uncertainty area plot with an empty default array"
   ],
   "metadata": {
    "collapsed": false
   }
  },
  {
   "cell_type": "code",
   "execution_count": 5,
   "outputs": [],
   "source": [
    "def uncertainty_area_plot(visible: bool = True, x_lines: np.array = np.array([]), y_lower: np.array = np.array([]), y_upper: np.array = np.array([]), name: str = 'mean plus/minus standard deviation') -> go.Scatter:\n",
    "\n",
    "    scatter = go.Scatter(x=np.concatenate((x_lines, x_lines[::-1])), y=np.concatenate((y_upper, y_lower[::-1])), visible=visible, fill='toself', fillcolor='rgba(189, 195, 199, 0.5)', line=dict(color='rgba(200, 200, 200, 0)'), hoverinfo='skip', showlegend=True, name=name)\n",
    "    return scatter"
   ],
   "metadata": {
    "collapsed": false,
    "ExecuteTime": {
     "end_time": "2024-07-15T22:09:12.846507Z",
     "start_time": "2024-07-15T22:09:12.843756Z"
    }
   }
  },
  {
   "cell_type": "markdown",
   "source": [
    "define squared exponential kernel:\n",
    "* **variable1** & **variable2** correspond to t & t'\n",
    "* **sigma** describes the average distance away from the function mean and l determines the reach of influence on neighbors\n",
    "* **sigma** & **length** is assigned the float standard value 1\n",
    "* **variable_1** & **variable_2** expect an float value"
   ],
   "metadata": {
    "collapsed": false
   }
  },
  {
   "cell_type": "code",
   "execution_count": 6,
   "outputs": [],
   "source": [
    "class SquaredExponentialKernel:\n",
    "    def __init__(self, sigma: float = 1, length: float = 1, alpha: float = 0.75):\n",
    "        self.sigma = sigma\n",
    "        self.length = length\n",
    "        self.alpha = alpha\n",
    "\n",
    "    def __call__(self, tau_1: float, tau_2: float):\n",
    "        def kernel(variable_1, variable_2):\n",
    "            k_SE = float(self.sigma**2 * np.exp(-(np.linalg.norm(variable_1 - variable_2)**2) /(2 * self.length**2)))\n",
    "            return k_SE\n",
    "        return kernel(tau_1, tau_2)"
   ],
   "metadata": {
    "collapsed": false,
    "ExecuteTime": {
     "end_time": "2024-07-15T22:09:13.417209Z",
     "start_time": "2024-07-15T22:09:13.401139Z"
    }
   }
  },
  {
   "cell_type": "markdown",
   "source": [
    "visualize the squared exponential kernel:\n",
    "* only for testing the squared exponential kernel and monitor the effect of changing the parameters\n",
    "* **@interact** generates a user interface which allows for an interactive regulation of the parameters length, sigma and variable_2 in the defined ranges\n",
    "* the function **update** is called whenever the values of the sliders are changed\n",
    "* **batch_update()** ensures that all updates to the figure within the block are batched together"
   ],
   "metadata": {
    "collapsed": false
   }
  },
  {
   "cell_type": "code",
   "execution_count": 7,
   "outputs": [
    {
     "data": {
      "text/plain": "interactive(children=(FloatSlider(value=1.0, description='length', max=3.0, min=0.1), FloatSlider(value=1.0, d…",
      "application/vnd.jupyter.widget-view+json": {
       "version_major": 2,
       "version_minor": 0,
       "model_id": "1ff2c13ca4294901a650bfab0bd5e32a"
      }
     },
     "metadata": {},
     "output_type": "display_data"
    },
    {
     "data": {
      "application/vnd.jupyter.widget-view+json": {
       "version_major": 2,
       "version_minor": 0,
       "model_id": "006f67bf599e4606a11334ca74d5b09f"
      },
      "text/plain": "FigureWidget({\n    'data': [{'line': {'color': 'orange', 'width': 3},\n              'name': 'predicted function',\n              'showlegend': True,\n              'type': 'scatter',\n              'uid': '18760880-cc2a-4eb1-bd27-ae9e5de9d21a',\n              'visible': True,\n              'x': array([-1.00000000e+01, -9.90000000e+00, -9.80000000e+00, -9.70000000e+00,\n                          -9.60000000e+00, -9.50000000e+00, -9.40000000e+00, -9.30000000e+00,\n                          -9.20000000e+00, -9.10000000e+00, -9.00000000e+00, -8.90000000e+00,\n                          -8.80000000e+00, -8.70000000e+00, -8.60000000e+00, -8.50000000e+00,\n                          -8.40000000e+00, -8.30000000e+00, -8.20000000e+00, -8.10000000e+00,\n                          -8.00000000e+00, -7.90000000e+00, -7.80000000e+00, -7.70000000e+00,\n                          -7.60000000e+00, -7.50000000e+00, -7.40000000e+00, -7.30000000e+00,\n                          -7.20000000e+00, -7.10000000e+00, -7.00000000e+00, -6.90000000e+00,\n                          -6.80000000e+00, -6.70000000e+00, -6.60000000e+00, -6.50000000e+00,\n                          -6.40000000e+00, -6.30000000e+00, -6.20000000e+00, -6.10000000e+00,\n                          -6.00000000e+00, -5.90000000e+00, -5.80000000e+00, -5.70000000e+00,\n                          -5.60000000e+00, -5.50000000e+00, -5.40000000e+00, -5.30000000e+00,\n                          -5.20000000e+00, -5.10000000e+00, -5.00000000e+00, -4.90000000e+00,\n                          -4.80000000e+00, -4.70000000e+00, -4.60000000e+00, -4.50000000e+00,\n                          -4.40000000e+00, -4.30000000e+00, -4.20000000e+00, -4.10000000e+00,\n                          -4.00000000e+00, -3.90000000e+00, -3.80000000e+00, -3.70000000e+00,\n                          -3.60000000e+00, -3.50000000e+00, -3.40000000e+00, -3.30000000e+00,\n                          -3.20000000e+00, -3.10000000e+00, -3.00000000e+00, -2.90000000e+00,\n                          -2.80000000e+00, -2.70000000e+00, -2.60000000e+00, -2.50000000e+00,\n                          -2.40000000e+00, -2.30000000e+00, -2.20000000e+00, -2.10000000e+00,\n                          -2.00000000e+00, -1.90000000e+00, -1.80000000e+00, -1.70000000e+00,\n                          -1.60000000e+00, -1.50000000e+00, -1.40000000e+00, -1.30000000e+00,\n                          -1.20000000e+00, -1.10000000e+00, -1.00000000e+00, -9.00000000e-01,\n                          -8.00000000e-01, -7.00000000e-01, -6.00000000e-01, -5.00000000e-01,\n                          -4.00000000e-01, -3.00000000e-01, -2.00000000e-01, -1.00000000e-01,\n                          -3.55271368e-14,  1.00000000e-01,  2.00000000e-01,  3.00000000e-01,\n                           4.00000000e-01,  5.00000000e-01,  6.00000000e-01,  7.00000000e-01,\n                           8.00000000e-01,  9.00000000e-01,  1.00000000e+00,  1.10000000e+00,\n                           1.20000000e+00,  1.30000000e+00,  1.40000000e+00,  1.50000000e+00,\n                           1.60000000e+00,  1.70000000e+00,  1.80000000e+00,  1.90000000e+00,\n                           2.00000000e+00,  2.10000000e+00,  2.20000000e+00,  2.30000000e+00,\n                           2.40000000e+00,  2.50000000e+00,  2.60000000e+00,  2.70000000e+00,\n                           2.80000000e+00,  2.90000000e+00,  3.00000000e+00,  3.10000000e+00,\n                           3.20000000e+00,  3.30000000e+00,  3.40000000e+00,  3.50000000e+00,\n                           3.60000000e+00,  3.70000000e+00,  3.80000000e+00,  3.90000000e+00,\n                           4.00000000e+00,  4.10000000e+00,  4.20000000e+00,  4.30000000e+00,\n                           4.40000000e+00,  4.50000000e+00,  4.60000000e+00,  4.70000000e+00,\n                           4.80000000e+00,  4.90000000e+00,  5.00000000e+00,  5.10000000e+00,\n                           5.20000000e+00,  5.30000000e+00,  5.40000000e+00,  5.50000000e+00,\n                           5.60000000e+00,  5.70000000e+00,  5.80000000e+00,  5.90000000e+00,\n                           6.00000000e+00,  6.10000000e+00,  6.20000000e+00,  6.30000000e+00,\n                           6.40000000e+00,  6.50000000e+00,  6.60000000e+00,  6.70000000e+00,\n                           6.80000000e+00,  6.90000000e+00,  7.00000000e+00,  7.10000000e+00,\n                           7.20000000e+00,  7.30000000e+00,  7.40000000e+00,  7.50000000e+00,\n                           7.60000000e+00,  7.70000000e+00,  7.80000000e+00,  7.90000000e+00,\n                           8.00000000e+00,  8.10000000e+00,  8.20000000e+00,  8.30000000e+00,\n                           8.40000000e+00,  8.50000000e+00,  8.60000000e+00,  8.70000000e+00,\n                           8.80000000e+00,  8.90000000e+00,  9.00000000e+00,  9.10000000e+00,\n                           9.20000000e+00,  9.30000000e+00,  9.40000000e+00,  9.50000000e+00,\n                           9.60000000e+00,  9.70000000e+00,  9.80000000e+00,  9.90000000e+00]),\n              'y': array([1.92874985e-22, 5.21673666e-22, 1.39694394e-21, 3.70353198e-21,\n                          9.72098502e-21, 2.52616378e-20, 6.49934797e-20, 1.65552266e-19,\n                          4.17501006e-19, 1.04240618e-18, 2.57675711e-18, 6.30618989e-18,\n                          1.52797997e-17, 3.66543340e-17, 8.70542662e-17, 2.04697171e-16,\n                          4.76530474e-16, 1.09831413e-15, 2.50622189e-15, 5.66199552e-15,\n                          1.26641655e-14, 2.80440474e-14, 6.14839641e-14, 1.33456608e-13,\n                          2.86797501e-13, 6.10193668e-13, 1.28533723e-12, 2.68054764e-12,\n                          5.53461007e-12, 1.13137762e-11, 2.28973485e-11, 4.58796249e-11,\n                          9.10147076e-11, 1.78755887e-10, 3.47589128e-10, 6.69158609e-10,\n                          1.27540763e-09, 2.40672244e-09, 4.49634946e-09, 8.31670246e-09,\n                          1.52299797e-08, 2.76124246e-08, 4.95640532e-08, 8.80817920e-08,\n                          1.54975314e-07, 2.69957850e-07, 4.65571572e-07, 7.94939362e-07,\n                          1.34381228e-06, 2.24905597e-06, 3.72665317e-06, 6.11356797e-06,\n                          9.92950431e-06, 1.59667839e-05, 2.54193465e-05, 4.00652974e-05,\n                          6.25215038e-05, 9.65934137e-05, 1.47748360e-04, 2.23745794e-04,\n                          3.35462628e-04, 4.97955422e-04, 7.31802419e-04, 1.06476624e-03,\n                          1.53381068e-03, 2.18749112e-03, 3.08871541e-03, 4.31784001e-03,\n                          5.97602290e-03, 8.18870101e-03, 1.11089965e-02, 1.49207861e-02,\n                          1.98410947e-02, 2.61214099e-02, 3.40474547e-02, 4.39369336e-02,\n                          5.61347628e-02, 7.10053537e-02, 8.89216175e-02, 1.10250525e-01,\n                          1.35335283e-01, 1.64474457e-01, 1.97898699e-01, 2.35746077e-01,\n                          2.78037300e-01, 3.24652467e-01, 3.75311099e-01, 4.29557358e-01,\n                          4.86752256e-01, 5.46074427e-01, 6.06530660e-01, 6.66976811e-01,\n                          7.26149037e-01, 7.82704538e-01, 8.35270211e-01, 8.82496903e-01,\n                          9.23116346e-01, 9.55997482e-01, 9.80198673e-01, 9.95012479e-01,\n                          1.00000000e+00, 9.95012479e-01, 9.80198673e-01, 9.55997482e-01,\n                          9.23116346e-01, 8.82496903e-01, 8.35270211e-01, 7.82704538e-01,\n                          7.26149037e-01, 6.66976811e-01, 6.06530660e-01, 5.46074427e-01,\n                          4.86752256e-01, 4.29557358e-01, 3.75311099e-01, 3.24652467e-01,\n                          2.78037300e-01, 2.35746077e-01, 1.97898699e-01, 1.64474457e-01,\n                          1.35335283e-01, 1.10250525e-01, 8.89216175e-02, 7.10053537e-02,\n                          5.61347628e-02, 4.39369336e-02, 3.40474547e-02, 2.61214099e-02,\n                          1.98410947e-02, 1.49207861e-02, 1.11089965e-02, 8.18870101e-03,\n                          5.97602290e-03, 4.31784001e-03, 3.08871541e-03, 2.18749112e-03,\n                          1.53381068e-03, 1.06476624e-03, 7.31802419e-04, 4.97955422e-04,\n                          3.35462628e-04, 2.23745794e-04, 1.47748360e-04, 9.65934137e-05,\n                          6.25215038e-05, 4.00652974e-05, 2.54193465e-05, 1.59667839e-05,\n                          9.92950431e-06, 6.11356797e-06, 3.72665317e-06, 2.24905597e-06,\n                          1.34381228e-06, 7.94939362e-07, 4.65571572e-07, 2.69957850e-07,\n                          1.54975314e-07, 8.80817920e-08, 4.95640532e-08, 2.76124246e-08,\n                          1.52299797e-08, 8.31670246e-09, 4.49634946e-09, 2.40672244e-09,\n                          1.27540763e-09, 6.69158609e-10, 3.47589128e-10, 1.78755887e-10,\n                          9.10147076e-11, 4.58796249e-11, 2.28973485e-11, 1.13137762e-11,\n                          5.53461007e-12, 2.68054764e-12, 1.28533723e-12, 6.10193668e-13,\n                          2.86797501e-13, 1.33456608e-13, 6.14839641e-14, 2.80440474e-14,\n                          1.26641655e-14, 5.66199552e-15, 2.50622189e-15, 1.09831413e-15,\n                          4.76530474e-16, 2.04697171e-16, 8.70542662e-17, 3.66543340e-17,\n                          1.52797997e-17, 6.30618989e-18, 2.57675711e-18, 1.04240618e-18,\n                          4.17501006e-19, 1.65552266e-19, 6.49934797e-20, 2.52616378e-20,\n                          9.72098502e-21, 3.70353198e-21, 1.39694394e-21, 5.21673666e-22])}],\n    'layout': {'autosize': False,\n               'height': 500,\n               'legend': {'x': 0.95, 'xanchor': 'right', 'y': 0.9, 'yanchor': 'top'},\n               'plot_bgcolor': 'black',\n               'template': '...',\n               'title': {'text': 'squared exponential kernel', 'x': 0.5, 'xanchor': 'center'},\n               'width': 1000,\n               'xaxis': {'linecolor': 'black', 'linewidth': 1, 'showline': True, 'title': {'text': 't / s'}},\n               'yaxis': {'linecolor': 'black', 'linewidth': 1, 'showline': True, 'title': {'text': 'U / V'}}}\n})"
     },
     "execution_count": 7,
     "metadata": {},
     "output_type": "execute_result"
    }
   ],
   "source": [
    "x_lines = np.arange(-10, 10, 0.1)\n",
    "kernel = SquaredExponentialKernel()  # initialize an instance of the class SquaredExponentialKernel, length and sigma have already standard values\n",
    "data = line_plot(x_lines=x_lines, y_lines=np.array([kernel(x, 0) for x in x_lines]))  # generates the data for the line distribution\n",
    "\n",
    "fig = go.FigureWidget(data)  # generates an interactive plot-widget with the passed data\n",
    "fig = update_layout_of_graph(fig, title='squared exponential kernel')\n",
    "\n",
    "@interact(length=(0.1, 3, 0.1), sigma=(0.1, 3, 0.1), variable_2=(-10, 10, 0.1))\n",
    "def update(length=1, sigma=1, variable_2=0):\n",
    "    with fig.batch_update():\n",
    "        kernel = SquaredExponentialKernel(sigma=sigma, length=length)  # a new instance of the class SquaredExponentialKernel with the updated length and sigma value is generated\n",
    "        fig.data[0].y = np.array([kernel(x, variable_2) for x in x_lines])  # updates the y-values plot data, data can contain multiply scatter plots\n",
    "        # with data[0].y the y-coordinates of the first scatter plot are accessed\n",
    "\n",
    "fig"
   ],
   "metadata": {
    "collapsed": false,
    "ExecuteTime": {
     "end_time": "2024-07-15T22:09:14.238488Z",
     "start_time": "2024-07-15T22:09:14.111305Z"
    }
   }
  },
  {
   "cell_type": "markdown",
   "source": [
    "functions for creating the covariance matrix, each of them were implemented separately in such a way as to make them comprehensible with the notes, which is why they are referenced:\n",
    "* **val_1** & **val_2** are equal to a certain element of the arrays **t** & **t'**\n",
    "* **alpha**, **R** & **C** are set to a specific value"
   ],
   "metadata": {
    "collapsed": false
   }
  },
  {
   "cell_type": "code",
   "execution_count": 8,
   "outputs": [],
   "source": [
    "def k_fu(val_1, val_2, cov_func, R=2, C=0.5):\n",
    "    alpha = cov_func.alpha\n",
    "    l = cov_func.length\n",
    "    b = 1/(R*C) * cov_func(val_1, val_2)\n",
    "\n",
    "    def integrand(tau):\n",
    "        a = - 1/gamma(1-alpha) * 1/(val_1 - tau)**alpha * 1/l**2 * (tau - val_2)\n",
    "        return a * cov_func(tau, val_2)\n",
    "\n",
    "    integral_val, _ = integrate(integrand, 0, val_1, epsabs=1e-9, epsrel=1e-9, limit=200)\n",
    "    return integral_val + b"
   ],
   "metadata": {
    "collapsed": false,
    "ExecuteTime": {
     "end_time": "2024-07-15T22:09:15.116178Z",
     "start_time": "2024-07-15T22:09:14.860216Z"
    }
   }
  },
  {
   "cell_type": "code",
   "execution_count": 9,
   "outputs": [],
   "source": [
    "def k_uf(val_1, val_2, cov_func, R=2, C=0.5):\n",
    "    alpha = cov_func.alpha\n",
    "    l = cov_func.length\n",
    "    b = 1/(R*C) * cov_func(val_1, val_2)\n",
    "\n",
    "    def integrand(tau):\n",
    "        a = 1/gamma(1-alpha) * 1/(val_2 - tau)**alpha * 1/l**2 * (val_1 - tau)\n",
    "        return a * cov_func(val_1, tau)\n",
    "\n",
    "    integral_val, _ = integrate(integrand, 0, val_2, epsabs=1e-9, epsrel=1e-9, limit=200)\n",
    "    return integral_val + b"
   ],
   "metadata": {
    "collapsed": false,
    "ExecuteTime": {
     "end_time": "2024-07-15T22:09:15.857597Z",
     "start_time": "2024-07-15T22:09:15.847677Z"
    }
   }
  },
  {
   "cell_type": "code",
   "execution_count": 10,
   "outputs": [],
   "source": [
    "def k_uu(val_1, val_2, cov_func):\n",
    "    return cov_func(val_1, val_2)"
   ],
   "metadata": {
    "collapsed": false,
    "ExecuteTime": {
     "end_time": "2024-07-15T22:09:16.058939Z",
     "start_time": "2024-07-15T22:09:16.054198Z"
    }
   }
  },
  {
   "cell_type": "code",
   "execution_count": 11,
   "outputs": [],
   "source": [
    "def k_ff(val_1, val_2, cov_func, R=2, C=0.5):\n",
    "    alpha = cov_func.alpha\n",
    "    b = 1/(R*C)*(k_fu(val_1, val_2, cov_func, R, C) - k_uu(val_1, val_2, cov_func))\n",
    "    c = 1/(R*C)*(k_uf(val_1, val_2, cov_func, R, C) - k_uu(val_1, val_2, cov_func))\n",
    "    d = 1/(R*C)**2*k_uu(val_1, val_2, cov_func)\n",
    "\n",
    "    def B(val_1, val_2, tau):\n",
    "        l = cov_func.length\n",
    "        a = 1/gamma(1-alpha) * 1/(val_2 - tau)**alpha * 1/l**2 * (val_1 - tau)\n",
    "        return a * cov_func(val_1, tau)\n",
    "\n",
    "    def A(val_1, val_2):\n",
    "        integrand = lambda tau: B(val_1, val_2, tau)\n",
    "        integral_val, _ = integrate(integrand, 0, val_2, epsabs=1e-8, epsrel=1e-8, limit=200)\n",
    "        return integral_val\n",
    "\n",
    "    def derivative_A(tau, val_2, h= 0.01*np.sqrt(2e-53)):\n",
    "\n",
    "        def A_tau(tau):\n",
    "            return A(tau, val_2)\n",
    "        dB = (A_tau(tau + h) - A_tau(tau - h)) / (2*h)\n",
    "        return dB\n",
    "\n",
    "    def double_integral(val_1, val_2):\n",
    "        integrand = lambda tau: 1/gamma(1 - alpha) * 1/(val_1 - tau)**alpha * derivative_A(tau, val_2)\n",
    "        integral_val, _ = integrate(integrand, 0, val_1, epsabs=1e-8, epsrel=1e-8, limit=200)\n",
    "        return integral_val\n",
    "\n",
    "    e = double_integral(val_1, val_2)\n",
    "\n",
    "    return b + c + d + e"
   ],
   "metadata": {
    "collapsed": false,
    "ExecuteTime": {
     "end_time": "2024-07-15T22:09:16.301640Z",
     "start_time": "2024-07-15T22:09:16.291661Z"
    }
   }
  },
  {
   "cell_type": "markdown",
   "source": [
    "testing the implemented functions above:"
   ],
   "metadata": {
    "collapsed": false
   }
  },
  {
   "cell_type": "code",
   "execution_count": 12,
   "outputs": [
    {
     "name": "stderr",
     "output_type": "stream",
     "text": [
      "/var/folders/db/wdxh9ynd7_bfr2nwqswb2nn80000gn/T/ipykernel_5561/1571718703.py:14: IntegrationWarning:\n",
      "\n",
      "The integral is probably divergent, or slowly convergent.\n",
      "\n"
     ]
    },
    {
     "name": "stdout",
     "output_type": "stream",
     "text": [
      "kuf =  1.0006977511487722 kuu =  1.0 kfu =  1.0006977511487722 kff =  1.0013955022975445\n",
      "kuf =  1.0016594455240448 kuu =  1.0 kfu =  1.0016594455240448 kff =  1.0033188910480897\n",
      "kuf =  1.0027544526935086 kuu =  1.0 kfu =  1.0027544526935086 kff =  1.0055089053870172\n",
      "kuf =  1.0039459382488531 kuu =  1.0 kfu =  1.0039459382488531 kff =  1.0078918764977063\n",
      "kuf =  1.0052144997687686 kuu =  1.0 kfu =  1.0052144997687686 kff =  1.0104289995375373\n",
      "kuf =  1.0065478296617367 kuu =  1.0 kfu =  1.0065478296617367 kff =  1.0130956593234735\n",
      "kuf =  1.0079372916868248 kuu =  1.0 kfu =  1.0079372916868248 kff =  1.0158745833736496\n",
      "kuf =  1.0093764205896734 kuu =  1.0 kfu =  1.0093764205896734 kff =  1.0187528411793467\n",
      "kuf =  1.0108601512231887 kuu =  1.0 kfu =  1.0108601512231887 kff =  1.0217203024463775\n",
      "kuf =  1.012384378582134 kuu =  1.0 kfu =  1.012384378582134 kff =  1.024768757164268\n",
      "kuf =  1.0139456870460355 kuu =  1.0 kfu =  1.0139456870460355 kff =  1.027891374092071\n",
      "kuf =  1.0155411739888554 kuu =  1.0 kfu =  1.0155411739888554 kff =  1.0310823479777107\n",
      "kuf =  1.017168329616998 kuu =  1.0 kfu =  1.017168329616998 kff =  1.034336659233996\n",
      "kuf =  1.0188249521097776 kuu =  1.0 kfu =  1.0188249521097776 kff =  1.0376499042195553\n",
      "kuf =  1.0205090858856465 kuu =  1.0 kfu =  1.0205090858856465 kff =  1.041018171771293\n",
      "kuf =  1.0222189755604325 kuu =  1.0 kfu =  1.0222189755604325 kff =  1.044437951120865\n",
      "kuf =  1.0239530308743399 kuu =  1.0 kfu =  1.0239530308743399 kff =  1.0479060617486797\n",
      "kuf =  1.0257097994833757 kuu =  1.0 kfu =  1.0257097994833757 kff =  1.0514195989667514\n",
      "kuf =  1.027487945514761 kuu =  1.0 kfu =  1.027487945514761 kff =  1.054975891029522\n",
      "kuf =  1.0292862324288283 kuu =  1.0 kfu =  1.0292862324288283 kff =  1.0585724648576567\n",
      "kuf =  1.0311035091534422 kuu =  1.0 kfu =  1.0311035091534422 kff =  1.0622070183068844\n",
      "kuf =  1.0329386987429419 kuu =  1.0 kfu =  1.0329386987429419 kff =  1.0658773974858837\n",
      "kuf =  1.0347907890109842 kuu =  1.0 kfu =  1.0347907890109842 kff =  1.0695815780219684\n",
      "kuf =  1.036658824725566 kuu =  1.0 kfu =  1.036658824725566 kff =  1.0733176494511318\n",
      "kuf =  1.038541901054004 kuu =  1.0 kfu =  1.038541901054004 kff =  1.077083802108008\n",
      "kuf =  1.0404391580180632 kuu =  1.0 kfu =  1.0404391580180632 kff =  1.0808783160361264\n",
      "kuf =  1.0423497757728772 kuu =  1.0 kfu =  1.0423497757728772 kff =  1.0846995515457545\n",
      "kuf =  1.0442729705633 kuu =  1.0 kfu =  1.0442729705633 kff =  1.0885459411266\n",
      "kuf =  1.0462079912416073 kuu =  1.0 kfu =  1.0462079912416073 kff =  1.0924159824832147\n",
      "kuf =  1.048154116253647 kuu =  1.0 kfu =  1.048154116253647 kff =  1.096308232507294\n",
      "kuf =  1.0501106510184657 kuu =  1.0 kfu =  1.0501106510184657 kff =  1.1002213020369314\n",
      "kuf =  1.0520769256404445 kuu =  1.0 kfu =  1.0520769256404445 kff =  1.104153851280889\n",
      "kuf =  1.0540522929039904 kuu =  1.0 kfu =  1.0540522929039904 kff =  1.1081045858079808\n",
      "kuf =  1.056036126509605 kuu =  1.0 kfu =  1.056036126509605 kff =  1.11207225301921\n",
      "kuf =  1.0580278195171429 kuu =  1.0 kfu =  1.0580278195171429 kff =  1.1160556390342857\n",
      "kuf =  1.06002678296773 kuu =  1.0 kfu =  1.06002678296773 kff =  1.1200535659354598\n",
      "kuf =  1.062032444660394 kuu =  1.0 kfu =  1.062032444660394 kff =  1.1240648893207879\n",
      "kuf =  1.0640442480631949 kuu =  1.0 kfu =  1.0640442480631949 kff =  1.1280884961263897\n",
      "kuf =  1.0660616513417243 kuu =  1.0 kfu =  1.0660616513417243 kff =  1.1321233026834485\n",
      "kuf =  1.0680841264903742 kuu =  1.0 kfu =  1.0680841264903742 kff =  1.1361682529807484\n",
      "kuf =  1.0701111585538898 kuu =  1.0 kfu =  1.0701111585538898 kff =  1.1402223171077797\n",
      "kuf =  1.0721422449284723 kuu =  1.0 kfu =  1.0721422449284723 kff =  1.1442844898569446\n",
      "kuf =  1.0741768947331802 kuu =  1.0 kfu =  1.0741768947331802 kff =  1.1483537894663605\n",
      "kuf =  1.0762146282436134 kuu =  1.0 kfu =  1.0762146282436134 kff =  1.1524292564872267\n",
      "kuf =  1.0782549763809166 kuu =  1.0 kfu =  1.0782549763809166 kff =  1.1565099527618332\n",
      "kuf =  1.0802974802500345 kuu =  1.0 kfu =  1.0802974802500345 kff =  1.160594960500069\n",
      "kuf =  1.0823416907219052 kuu =  1.0 kfu =  1.0823416907219052 kff =  1.1646833814438105\n",
      "kuf =  1.0843871680549337 kuu =  1.0 kfu =  1.0843871680549337 kff =  1.1687743361098675\n",
      "kuf =  1.0864334815516472 kuu =  1.0 kfu =  1.0864334815516472 kff =  1.1728669631032944\n",
      "kuf =  1.0884802092469106 kuu =  1.0 kfu =  1.0884802092469106 kff =  1.1769604184938212\n",
      "kuf =  1.0905269376245033 kuu =  1.0 kfu =  1.0905269376245033 kff =  1.1810538752490065\n",
      "kuf =  1.0925732613592132 kuu =  1.0 kfu =  1.0925732613592132 kff =  1.1851465227184264\n",
      "kuf =  1.0946187830819254 kuu =  1.0 kfu =  1.0946187830819254 kff =  1.1892375661638508\n",
      "kuf =  1.0966631131654483 kuu =  1.0 kfu =  1.0966631131654483 kff =  1.1933262263308966\n",
      "kuf =  1.0987058695290677 kuu =  1.0 kfu =  1.0987058695290677 kff =  1.1974117390581354\n",
      "kuf =  1.1007466774600254 kuu =  1.0 kfu =  1.1007466774600254 kff =  1.2014933549200508\n",
      "kuf =  1.1027851694503028 kuu =  1.0 kfu =  1.1027851694503028 kff =  1.2055703389006056\n",
      "kuf =  1.1048209850472588 kuu =  1.0 kfu =  1.1048209850472588 kff =  1.2096419700945176\n",
      "kuf =  1.1068537707168062 kuu =  1.0 kfu =  1.1068537707168062 kff =  1.2137075414336125\n",
      "kuf =  1.1088831797179493 kuu =  1.0 kfu =  1.1088831797179493 kff =  1.2177663594358985\n",
      "kuf =  1.1109088719876072 kuu =  1.0 kfu =  1.1109088719876072 kff =  1.2218177439752145\n",
      "kuf =  1.112930514034762 kuu =  1.0 kfu =  1.112930514034762 kff =  1.2258610280695241\n",
      "kuf =  1.114947778843043 kuu =  1.0 kfu =  1.114947778843043 kff =  1.2298955576860862\n",
      "kuf =  1.1169603457809576 kuu =  1.0 kfu =  1.1169603457809576 kff =  1.2339206915619152\n",
      "kuf =  1.1189679005190365 kuu =  1.0 kfu =  1.1189679005190365 kff =  1.237935801038073\n",
      "kuf =  1.1209701349532362 kuu =  1.0 kfu =  1.1209701349532362 kff =  1.2419402699064723\n",
      "kuf =  1.1229667471339881 kuu =  1.0 kfu =  1.1229667471339881 kff =  1.2459334942679763\n",
      "kuf =  1.124957441200352 kuu =  1.0 kfu =  1.124957441200352 kff =  1.249914882400704\n",
      "kuf =  1.1269419273187595 kuu =  1.0 kfu =  1.1269419273187595 kff =  1.253883854637519\n",
      "kuf =  1.1289199216258936 kuu =  1.0 kfu =  1.1289199216258936 kff =  1.2578398432517872\n",
      "kuf =  1.1308911461752775 kuu =  1.0 kfu =  1.1308911461752775 kff =  1.261782292350555\n",
      "kuf =  1.1328553288871857 kuu =  1.0 kfu =  1.1328553288871857 kff =  1.2657106577743713\n",
      "kuf =  1.1348122035015196 kuu =  1.0 kfu =  1.1348122035015196 kff =  1.2696244070030391\n",
      "kuf =  1.1367615095333237 kuu =  1.0 kfu =  1.1367615095333237 kff =  1.2735230190666473\n",
      "kuf =  1.1387029922306386 kuu =  1.0 kfu =  1.1387029922306386 kff =  1.2774059844612773\n",
      "kuf =  1.1406364025344138 kuu =  1.0 kfu =  1.1406364025344138 kff =  1.2812728050688276\n",
      "kuf =  1.1425614970402298 kuu =  1.0 kfu =  1.1425614970402298 kff =  1.2851229940804596\n",
      "kuf =  1.1444780379615909 kuu =  1.0 kfu =  1.1444780379615909 kff =  1.2889560759231817\n",
      "kuf =  1.1463857930945733 kuu =  1.0 kfu =  1.1463857930945733 kff =  1.2927715861891467\n",
      "kuf =  1.1482845357836344 kuu =  1.0 kfu =  1.1482845357836344 kff =  1.2965690715672689\n",
      "kuf =  1.1501740448883928 kuu =  1.0 kfu =  1.1501740448883928 kff =  1.3003480897767856\n",
      "kuf =  1.1520541047512167 kuu =  1.0 kfu =  1.1520541047512167 kff =  1.3041082095024334\n",
      "kuf =  1.1539245051654634 kuu =  1.0 kfu =  1.1539245051654634 kff =  1.3078490103309268\n",
      "kuf =  1.155785041344225 kuu =  1.0 kfu =  1.155785041344225 kff =  1.31157008268845\n",
      "kuf =  1.1576355138894527 kuu =  1.0 kfu =  1.1576355138894527 kff =  1.3152710277789055\n",
      "kuf =  1.1594757287613349 kuu =  1.0 kfu =  1.1594757287613349 kff =  1.3189514575226697\n",
      "kuf =  1.161305497247819 kuu =  1.0 kfu =  1.161305497247819 kff =  1.322610994495638\n",
      "kuf =  1.1631246359341803 kuu =  1.0 kfu =  1.1631246359341803 kff =  1.3262492718683605\n",
      "kuf =  1.164932966672532 kuu =  1.0 kfu =  1.164932966672532 kff =  1.3298659333450642\n",
      "kuf =  1.1667303165512073 kuu =  1.0 kfu =  1.1667303165512073 kff =  1.3334606331024146\n",
      "kuf =  1.1685165178639174 kuu =  1.0 kfu =  1.1685165178639174 kff =  1.3370330357278348\n",
      "kuf =  1.1702914080786302 kuu =  1.0 kfu =  1.1702914080786302 kff =  1.3405828161572604\n",
      "kuf =  1.1720548298060924 kuu =  1.0 kfu =  1.1720548298060924 kff =  1.3441096596121849\n",
      "kuf =  1.1738066307679453 kuu =  1.0 kfu =  1.1738066307679453 kff =  1.3476132615358907\n",
      "kuf =  1.175546663764372 kuu =  1.0 kfu =  1.175546663764372 kff =  1.3510933275287438\n",
      "kuf =  1.1772747866412336 kuu =  1.0 kfu =  1.1772747866412336 kff =  1.3545495732824673\n",
      "kuf =  1.1789908622566536 kuu =  1.0 kfu =  1.1789908622566536 kff =  1.3579817245133072\n",
      "kuf =  1.1806947584470016 kuu =  1.0 kfu =  1.1806947584470016 kff =  1.3613895168940031\n",
      "kuf =  1.1823863479922527 kuu =  1.0 kfu =  1.1823863479922527 kff =  1.3647726959845055\n",
      "kuf =  1.184065508580687 kuu =  1.0 kfu =  1.184065508580687 kff =  1.368131017161374\n",
      "kuf =  1.185732122772903 kuu =  1.0 kfu =  1.185732122772903 kff =  1.371464245545806\n",
      "kuf =  1.1873860779651229 kuu =  1.0 kfu =  1.1873860779651229 kff =  1.3747721559302457\n",
      "kuf =  1.189027266351772 kuu =  1.0 kfu =  1.189027266351772 kff =  1.378054532703544\n",
      "kuf =  1.1906555848873108 kuu =  1.0 kfu =  1.1906555848873108 kff =  1.3813111697746216\n",
      "kuf =  1.1922709352473133 kuu =  1.0 kfu =  1.1922709352473133 kff =  1.3845418704946266\n",
      "kuf =  1.193873223788776 kuu =  1.0 kfu =  1.193873223788776 kff =  1.3877464475775518\n",
      "kuf =  1.1954623615096502 kuu =  1.0 kfu =  1.1954623615096502 kff =  1.3909247230193005\n",
      "kuf =  1.197038264007598 kuu =  1.0 kfu =  1.197038264007598 kff =  1.394076528015196\n",
      "kuf =  1.1986008514379602 kuu =  1.0 kfu =  1.1986008514379602 kff =  1.3972017028759205\n",
      "kuf =  1.200150048470942 kuu =  1.0 kfu =  1.200150048470942 kff =  1.400300096941884\n",
      "kuf =  1.2016857842480162 kuu =  1.0 kfu =  1.2016857842480162 kff =  1.4033715684960324\n",
      "kuf =  1.2032079923375472 kuu =  1.0 kfu =  1.2032079923375472 kff =  1.4064159846750943\n",
      "kuf =  1.2047166106896403 kuu =  1.0 kfu =  1.2047166106896403 kff =  1.4094332213792806\n",
      "kuf =  1.2062115815902248 kuu =  1.0 kfu =  1.2062115815902248 kff =  1.4124231631804496\n",
      "kuf =  1.2076928516143788 kuu =  1.0 kfu =  1.2076928516143788 kff =  1.4153857032287576\n",
      "kuf =  1.2091603715789052 kuu =  1.0 kfu =  1.2091603715789052 kff =  1.4183207431578104\n",
      "kuf =  1.2106140964941745 kuu =  1.0 kfu =  1.2106140964941745 kff =  1.421228192988349\n",
      "kuf =  1.21205398551524 kuu =  1.0 kfu =  1.21205398551524 kff =  1.4241079710304798\n",
      "kuf =  1.2134800018922485 kuu =  1.0 kfu =  1.2134800018922485 kff =  1.426960003784497\n",
      "kuf =  1.2148921129201562 kuu =  1.0 kfu =  1.2148921129201562 kff =  1.4297842258403124\n",
      "kuf =  1.2162902898877674 kuu =  1.0 kfu =  1.2162902898877674 kff =  1.4325805797755349\n",
      "kuf =  1.217674508026117 kuu =  1.0 kfu =  1.217674508026117 kff =  1.4353490160522342\n",
      "kuf =  1.2190447464562109 kuu =  1.0 kfu =  1.2190447464562109 kff =  1.4380894929124217\n",
      "kuf =  1.2204009881361488 kuu =  1.0 kfu =  1.2204009881361488 kff =  1.4408019762722977\n",
      "kuf =  1.2217432198076446 kuu =  1.0 kfu =  1.2217432198076446 kff =  1.443486439615289\n",
      "kuf =  1.2230714319419707 kuu =  1.0 kfu =  1.2230714319419707 kff =  1.4461428638839413\n",
      "kuf =  1.2243856186853455 kuu =  1.0 kfu =  1.2243856186853455 kff =  1.448771237370691\n",
      "kuf =  1.2256857778037877 kuu =  1.0 kfu =  1.2256857778037877 kff =  1.4513715556075755\n",
      "kuf =  1.22697191062746 kuu =  1.0 kfu =  1.22697191062746 kff =  1.4539438212549198\n",
      "kuf =  1.2282440219945254 kuu =  1.0 kfu =  1.2282440219945254 kff =  1.4564880439890509\n",
      "kuf =  1.2295021201945453 kuu =  1.0 kfu =  1.2295021201945453 kff =  1.4590042403890906\n",
      "kuf =  1.2307462169114356 kuu =  1.0 kfu =  1.2307462169114356 kff =  1.4614924338228712\n",
      "kuf =  1.231976327166015 kuu =  1.0 kfu =  1.231976327166015 kff =  1.4639526543320298\n",
      "kuf =  1.2331924692581655 kuu =  1.0 kfu =  1.2331924692581655 kff =  1.466384938516331\n",
      "kuf =  1.2343946647086312 kuu =  1.0 kfu =  1.2343946647086312 kff =  1.4687893294172625\n",
      "kuf =  1.2355829382004861 kuu =  1.0 kfu =  1.2355829382004861 kff =  1.4711658764009723\n",
      "kuf =  1.2367573175202922 kuu =  1.0 kfu =  1.2367573175202922 kff =  1.4735146350405843\n",
      "kuf =  1.2379178334989747 kuu =  1.0 kfu =  1.2379178334989747 kff =  1.4758356669979493\n",
      "kuf =  1.2390645199524482 kuu =  1.0 kfu =  1.2390645199524482 kff =  1.4781290399048963\n",
      "kuf =  1.2401974136220093 kuu =  1.0 kfu =  1.2401974136220093 kff =  1.4803948272440186\n",
      "kuf =  1.2413165541145335 kuu =  1.0 kfu =  1.2413165541145335 kff =  1.482633108229067\n",
      "kuf =  1.2424219838424952 kuu =  1.0 kfu =  1.2424219838424952 kff =  1.4848439676849905\n",
      "kuf =  1.2435137479638443 kuu =  1.0 kfu =  1.2435137479638443 kff =  1.4870274959276886\n",
      "kuf =  1.2445918943217595 kuu =  1.0 kfu =  1.2445918943217595 kff =  1.489183788643519\n",
      "kuf =  1.245656473384313 kuu =  1.0 kfu =  1.245656473384313 kff =  1.491312946768626\n",
      "kuf =  1.2467075381840655 kuu =  1.0 kfu =  1.2467075381840655 kff =  1.493415076368131\n",
      "kuf =  1.2477451442576262 kuu =  1.0 kfu =  1.2477451442576262 kff =  1.4954902885152523\n",
      "kuf =  1.2487693495851961 kuu =  1.0 kfu =  1.2487693495851961 kff =  1.4975386991703923\n",
      "kuf =  1.2497802145301298 kuu =  1.0 kfu =  1.2497802145301298 kff =  1.4995604290602595\n",
      "kuf =  1.2507778017785323 kuu =  1.0 kfu =  1.2507778017785323 kff =  1.5015556035570645\n",
      "kuf =  1.2517621762789264 kuu =  1.0 kfu =  1.2517621762789264 kff =  1.5035243525578528\n",
      "kuf =  1.2527334051820098 kuu =  1.0 kfu =  1.2527334051820098 kff =  1.5054668103640196\n",
      "kuf =  1.2536915577805297 kuu =  1.0 kfu =  1.2536915577805297 kff =  1.5073831155610593\n",
      "kuf =  1.2546367054493004 kuu =  1.0 kfu =  1.2546367054493004 kff =  1.5092734108986008\n",
      "kuf =  1.2555689215853887 kuu =  1.0 kfu =  1.2555689215853887 kff =  1.5111378431707774\n",
      "kuf =  1.2564882815484906 kuu =  1.0 kfu =  1.2564882815484906 kff =  1.5129765630969811\n",
      "kuf =  1.2573948626015234 kuu =  1.0 kfu =  1.2573948626015234 kff =  1.5147897252030469\n",
      "kuf =  1.2582887438514605 kuu =  1.0 kfu =  1.2582887438514605 kff =  1.516577487702921\n",
      "kuf =  1.2591700061904274 kuu =  1.0 kfu =  1.2591700061904274 kff =  1.5183400123808548\n",
      "kuf =  1.2600387322370854 kuu =  1.0 kfu =  1.2600387322370854 kff =  1.5200774644741708\n",
      "kuf =  1.2608950062783228 kuu =  1.0 kfu =  1.2608950062783228 kff =  1.5217900125566457\n",
      "kuf =  1.2617389142112811 kuu =  1.0 kfu =  1.2617389142112811 kff =  1.5234778284225623\n",
      "kuf =  1.26257054348573 kuu =  1.0 kfu =  1.26257054348573 kff =  1.52514108697146\n",
      "kuf =  1.26338998304682 kuu =  1.0 kfu =  1.26338998304682 kff =  1.52677996609364\n",
      "kuf =  1.2641973232782302 kuu =  1.0 kfu =  1.2641973232782302 kff =  1.5283946465564604\n",
      "kuf =  1.2649926559457283 kuu =  1.0 kfu =  1.2649926559457283 kff =  1.5299853118914566\n",
      "kuf =  1.2657760741411719 kuu =  1.0 kfu =  1.2657760741411719 kff =  1.5315521482823438\n",
      "kuf =  1.266547672226959 kuu =  1.0 kfu =  1.266547672226959 kff =  1.5330953444539182\n",
      "kuf =  1.2673075457809566 kuu =  1.0 kfu =  1.2673075457809566 kff =  1.5346150915619132\n",
      "kuf =  1.2680557915419173 kuu =  1.0 kfu =  1.2680557915419173 kff =  1.5361115830838346\n",
      "kuf =  1.268792507355411 kuu =  1.0 kfu =  1.268792507355411 kff =  1.5375850147108219\n",
      "kuf =  1.269517792120276 kuu =  1.0 kfu =  1.269517792120276 kff =  1.539035584240552\n",
      "kuf =  1.2702317457356245 kuu =  1.0 kfu =  1.2702317457356245 kff =  1.540463491471249\n",
      "kuf =  1.2709344690483966 kuu =  1.0 kfu =  1.2709344690483966 kff =  1.5418689380967932\n",
      "kuf =  1.2716260638014991 kuu =  1.0 kfu =  1.2716260638014991 kff =  1.5432521276029982\n",
      "kuf =  1.2723066325825279 kuu =  1.0 kfu =  1.2723066325825279 kff =  1.5446132651650557\n",
      "kuf =  1.2729762787731018 kuu =  1.0 kfu =  1.2729762787731018 kff =  1.5459525575462036\n",
      "kuf =  1.2736351064988107 kuu =  1.0 kfu =  1.2736351064988107 kff =  1.5472702129976215\n",
      "kuf =  1.2742832205797998 kuu =  1.0 kfu =  1.2742832205797998 kff =  1.5485664411595996\n",
      "kuf =  1.2749207264819935 kuu =  1.0 kfu =  1.2749207264819935 kff =  1.549841452963987\n",
      "kuf =  1.275547730268984 kuu =  1.0 kfu =  1.275547730268984 kff =  1.5510954605379679\n",
      "kuf =  1.2761643385545838 kuu =  1.0 kfu =  1.2761643385545838 kff =  1.5523286771091676\n",
      "kuf =  1.2767706584560599 kuu =  1.0 kfu =  1.2767706584560599 kff =  1.5535413169121197\n",
      "kuf =  1.2773667975480594 kuu =  1.0 kfu =  1.2773667975480594 kff =  1.5547335950961187\n",
      "kuf =  1.2779528638172342 kuu =  1.0 kfu =  1.2779528638172342 kff =  1.5559057276344683\n",
      "kuf =  1.2785289656175776 kuu =  1.0 kfu =  1.2785289656175776 kff =  1.5570579312351551\n",
      "kuf =  1.2790952116264784 kuu =  1.0 kfu =  1.2790952116264784 kff =  1.5581904232529569\n",
      "kuf =  1.2796517108015018 kuu =  1.0 kfu =  1.2796517108015018 kff =  1.5593034216030035\n",
      "kuf =  1.2801985723379061 kuu =  1.0 kfu =  1.2801985723379061 kff =  1.5603971446758123\n",
      "kuf =  1.2807359056269019 kuu =  1.0 kfu =  1.2807359056269019 kff =  1.5614718112538037\n",
      "kuf =  1.2812638202146571 kuu =  1.0 kfu =  1.2812638202146571 kff =  1.5625276404293142\n",
      "kuf =  1.281782425762059 kuu =  1.0 kfu =  1.281782425762059 kff =  1.5635648515241178\n",
      "kuf =  1.2822918320052343 kuu =  1.0 kfu =  1.2822918320052343 kff =  1.5645836640104687\n",
      "kuf =  1.2827921487168379 kuu =  1.0 kfu =  1.2827921487168379 kff =  1.5655842974336758\n",
      "kuf =  1.283283485668104 kuu =  1.0 kfu =  1.283283485668104 kff =  1.5665669713362078\n",
      "kuf =  1.2837659525916778 kuu =  1.0 kfu =  1.2837659525916778 kff =  1.5675319051833556\n",
      "kuf =  1.28423965914522 kuu =  1.0 kfu =  1.28423965914522 kff =  1.5684793182904402\n",
      "kuf =  1.2847047148757909 kuu =  1.0 kfu =  1.2847047148757909 kff =  1.5694094297515817\n",
      "kuf =  1.2851612291850163 kuu =  1.0 kfu =  1.2851612291850163 kff =  1.5703224583700326\n",
      "kuf =  1.285609311295038 kuu =  1.0 kfu =  1.285609311295038 kff =  1.571218622590076\n",
      "kuf =  1.286049070215248 kuu =  1.0 kfu =  1.286049070215248 kff =  1.5720981404304961\n",
      "kuf =  1.2864806147098093 kuu =  1.0 kfu =  1.2864806147098093 kff =  1.5729612294196187\n",
      "kuf =  1.2869040532659626 kuu =  1.0 kfu =  1.2869040532659626 kff =  1.5738081065319252\n",
      "kuf =  1.2873194940631192 kuu =  1.0 kfu =  1.2873194940631192 kff =  1.5746389881262384\n",
      "kuf =  1.2877270449427385 kuu =  1.0 kfu =  1.2877270449427385 kff =  1.575454089885477\n",
      "kuf =  1.2881268133789905 kuu =  1.0 kfu =  1.2881268133789905 kff =  1.576253626757981\n",
      "kuf =  1.2885189064502045 kuu =  1.0 kfu =  1.2885189064502045 kff =  1.577037812900409\n",
      "kuf =  1.2889034308110916 kuu =  1.0 kfu =  1.2889034308110916 kff =  1.5778068616221832\n",
      "kuf =  1.2892804926657542 kuu =  1.0 kfu =  1.2892804926657542 kff =  1.5785609853315083\n",
      "kuf =  1.289650197741466 kuu =  1.0 kfu =  1.289650197741466 kff =  1.579300395482932\n",
      "kuf =  1.2900126512632277 kuu =  1.0 kfu =  1.2900126512632277 kff =  1.5800253025264555\n",
      "kuf =  1.290367957929093 kuu =  1.0 kfu =  1.290367957929093 kff =  1.580735915858186\n",
      "kuf =  1.2907162218862562 kuu =  1.0 kfu =  1.2907162218862562 kff =  1.5814324437725125\n",
      "kuf =  1.2910575467079055 kuu =  1.0 kfu =  1.2910575467079055 kff =  1.582115093415811\n",
      "kuf =  1.2913920353708324 kuu =  1.0 kfu =  1.2913920353708324 kff =  1.5827840707416647\n",
      "kuf =  1.2917197902337882 kuu =  1.0 kfu =  1.2917197902337882 kff =  1.5834395804675765\n",
      "kuf =  1.2920409130165955 kuu =  1.0 kfu =  1.2920409130165955 kff =  1.584081826033191\n",
      "kuf =  1.2923555047799908 kuu =  1.0 kfu =  1.2923555047799908 kff =  1.5847110095599817\n",
      "kuf =  1.2926636659062094 kuu =  1.0 kfu =  1.2926636659062094 kff =  1.5853273318124188\n",
      "kuf =  1.2929654960802954 kuu =  1.0 kfu =  1.2929654960802954 kff =  1.5859309921605909\n",
      "kuf =  1.2932610942721325 kuu =  1.0 kfu =  1.2932610942721325 kff =  1.586522188544265\n",
      "kuf =  1.2935505587191938 kuu =  1.0 kfu =  1.2935505587191938 kff =  1.5871011174383876\n",
      "kuf =  1.2938339869099946 kuu =  1.0 kfu =  1.2938339869099946 kff =  1.5876679738199893\n",
      "kuf =  1.2941114755682512 kuu =  1.0 kfu =  1.2941114755682512 kff =  1.5882229511365025\n",
      "kuf =  1.2943831206377239 kuu =  1.0 kfu =  1.2943831206377239 kff =  1.5887662412754477\n",
      "kuf =  1.2946490172677552 kuu =  1.0 kfu =  1.2946490172677552 kff =  1.5892980345355103\n",
      "kuf =  1.294909259799477 kuu =  1.0 kfu =  1.294909259799477 kff =  1.5898185195989538\n",
      "kuf =  1.295163941752688 kuu =  1.0 kfu =  1.295163941752688 kff =  1.5903278835053758\n",
      "kuf =  1.2954131558133934 kuu =  1.0 kfu =  1.2954131558133934 kff =  1.590826311626787\n",
      "kuf =  1.2956569938219904 kuu =  1.0 kfu =  1.2956569938219904 kff =  1.5913139876439808\n",
      "kuf =  1.2958955467620998 kuu =  1.0 kfu =  1.2958955467620998 kff =  1.5917910935241997\n",
      "kuf =  1.296128904750028 kuu =  1.0 kfu =  1.296128904750028 kff =  1.592257809500056\n",
      "kuf =  1.296357157024853 kuu =  1.0 kfu =  1.296357157024853 kff =  1.5927143140497062\n",
      "kuf =  1.2965803919391237 kuu =  1.0 kfu =  1.2965803919391237 kff =  1.5931607838782473\n",
      "kuf =  1.2967986969501655 kuu =  1.0 kfu =  1.2967986969501655 kff =  1.593597393900331\n",
      "kuf =  1.2970121586119736 kuu =  1.0 kfu =  1.2970121586119736 kff =  1.5940243172239472\n",
      "kuf =  1.2972208625677004 kuu =  1.0 kfu =  1.2972208625677004 kff =  1.5944417251354008\n",
      "kuf =  1.2974248935427073 kuu =  1.0 kfu =  1.2974248935427073 kff =  1.5948497870854146\n",
      "kuf =  1.297624335338189 kuu =  1.0 kfu =  1.297624335338189 kff =  1.5952486706763782\n",
      "kuf =  1.297819270825346 kuu =  1.0 kfu =  1.297819270825346 kff =  1.595638541650692\n",
      "kuf =  1.2980097819401002 kuu =  1.0 kfu =  1.2980097819401002 kff =  1.5960195638802004\n",
      "kuf =  1.2981959496783504 kuu =  1.0 kfu =  1.2981959496783504 kff =  1.5963918993567008\n",
      "kuf =  1.29837785409174 kuu =  1.0 kfu =  1.29837785409174 kff =  1.5967557081834798\n",
      "kuf =  1.298555574283946 kuu =  1.0 kfu =  1.298555574283946 kff =  1.5971111485678922\n",
      "kuf =  1.298729188407463 kuu =  1.0 kfu =  1.298729188407463 kff =  1.597458376814926\n",
      "kuf =  1.2988987736608806 kuu =  1.0 kfu =  1.2988987736608806 kff =  1.5977975473217612\n",
      "kuf =  1.2990644062866394 kuu =  1.0 kfu =  1.2990644062866394 kff =  1.5981288125732789\n",
      "kuf =  1.2992261615692564 kuu =  1.0 kfu =  1.2992261615692564 kff =  1.5984523231385128\n",
      "kuf =  1.2993841138340105 kuu =  1.0 kfu =  1.2993841138340105 kff =  1.598768227668021\n",
      "kuf =  1.2995383364460698 kuu =  1.0 kfu =  1.2995383364460698 kff =  1.5990766728921395\n",
      "kuf =  1.299688901810064 kuu =  1.0 kfu =  1.299688901810064 kff =  1.5993778036201278\n",
      "kuf =  1.299835881370074 kuu =  1.0 kfu =  1.299835881370074 kff =  1.5996717627401482\n",
      "kuf =  1.2999793456100437 kuu =  1.0 kfu =  1.2999793456100437 kff =  1.5999586912200874\n",
      "kuf =  1.3001193640545916 kuu =  1.0 kfu =  1.3001193640545916 kff =  1.6002387281091832\n",
      "kuf =  1.300256005270217 kuu =  1.0 kfu =  1.300256005270217 kff =  1.600512010540434\n",
      "kuf =  1.3003893368668913 kuu =  1.0 kfu =  1.3003893368668913 kff =  1.6007786737337826\n",
      "kuf =  1.3005194255000174 kuu =  1.0 kfu =  1.3005194255000174 kff =  1.6010388510000348\n",
      "kuf =  1.3006463368727534 kuu =  1.0 kfu =  1.3006463368727534 kff =  1.6012926737455069\n",
      "kuf =  1.3007701357386874 kuu =  1.0 kfu =  1.3007701357386874 kff =  1.6015402714773748\n",
      "kuf =  1.300890885904852 kuu =  1.0 kfu =  1.300890885904852 kff =  1.601781771809704\n",
      "kuf =  1.301008650235067 kuu =  1.0 kfu =  1.301008650235067 kff =  1.6020173004701341\n",
      "kuf =  1.3011234906536067 kuu =  1.0 kfu =  1.3011234906536067 kff =  1.6022469813072133\n",
      "kuf =  1.301235468149168 kuu =  1.0 kfu =  1.301235468149168 kff =  1.602470936298336\n",
      "kuf =  1.301344642779148 kuu =  1.0 kfu =  1.301344642779148 kff =  1.602689285558296\n",
      "kuf =  1.301451073674202 kuu =  1.0 kfu =  1.301451073674202 kff =  1.602902147348404\n",
      "kuf =  1.3015548190430821 kuu =  1.0 kfu =  1.3015548190430821 kff =  1.6031096380861642\n",
      "kuf =  1.3016559361777509 kuu =  1.0 kfu =  1.3016559361777509 kff =  1.6033118723555018\n",
      "kuf =  1.3017544814587427 kuu =  1.0 kfu =  1.3017544814587427 kff =  1.6035089629174855\n",
      "kuf =  1.3018505103607843 kuu =  1.0 kfu =  1.3018505103607843 kff =  1.6037010207215685\n",
      "kuf =  1.3019440774586497 kuu =  1.0 kfu =  1.3019440774586497 kff =  1.6038881549172994\n",
      "kuf =  1.3020352364332468 kuu =  1.0 kfu =  1.3020352364332468 kff =  1.6040704728664936\n",
      "kuf =  1.3021240400779244 kuu =  1.0 kfu =  1.3021240400779244 kff =  1.6042480801558487\n",
      "kuf =  1.3022105403049875 kuu =  1.0 kfu =  1.3022105403049875 kff =  1.604421080609975\n",
      "kuf =  1.30229478815242 kuu =  1.0 kfu =  1.30229478815242 kff =  1.6045895763048401\n",
      "kuf =  1.3023768337907966 kuu =  1.0 kfu =  1.3023768337907966 kff =  1.6047536675815932\n",
      "kuf =  1.3024567265303786 kuu =  1.0 kfu =  1.3024567265303786 kff =  1.6049134530607572\n",
      "kuf =  1.302534514828387 kuu =  1.0 kfu =  1.302534514828387 kff =  1.6050690296567738\n",
      "kuf =  1.302610246296439 kuu =  1.0 kfu =  1.302610246296439 kff =  1.6052204925928781\n",
      "kuf =  1.3026839677081479 kuu =  1.0 kfu =  1.3026839677081479 kff =  1.6053679354162957\n",
      "kuf =  1.3027557250068642 kuu =  1.0 kfu =  1.3027557250068642 kff =  1.6055114500137284\n",
      "kuf =  1.3028255633135684 kuu =  1.0 kfu =  1.3028255633135684 kff =  1.6056511266271367\n",
      "kuf =  1.3028935269348858 kuu =  1.0 kfu =  1.3028935269348858 kff =  1.6057870538697716\n",
      "kuf =  1.3029596593712365 kuu =  1.0 kfu =  1.3029596593712365 kff =  1.605919318742473\n",
      "kuf =  1.303024003325096 kuu =  1.0 kfu =  1.303024003325096 kff =  1.6060480066501919\n",
      "kuf =  1.3030866007093684 kuu =  1.0 kfu =  1.3030866007093684 kff =  1.6061732014187369\n",
      "kuf =  1.3031474926558628 kuu =  1.0 kfu =  1.3031474926558628 kff =  1.6062949853117257\n",
      "kuf =  1.3032067195238621 kuu =  1.0 kfu =  1.3032067195238621 kff =  1.6064134390477243\n",
      "kuf =  1.3032643209087793 kuu =  1.0 kfu =  1.3032643209087793 kff =  1.6065286418175586\n",
      "kuf =  1.3033203356508967 kuu =  1.0 kfu =  1.3033203356508967 kff =  1.6066406713017933\n",
      "kuf =  1.3033748018441782 kuu =  1.0 kfu =  1.3033748018441782 kff =  1.6067496036883564\n",
      "kuf =  1.3034277568451447 kuu =  1.0 kfu =  1.3034277568451447 kff =  1.6068555136902893\n",
      "kuf =  1.3034792372818174 kuu =  1.0 kfu =  1.3034792372818174 kff =  1.6069584745636347\n",
      "kuf =  1.3035292790627047 kuu =  1.0 kfu =  1.3035292790627047 kff =  1.6070585581254093\n",
      "kuf =  1.3035779173858457 kuu =  1.0 kfu =  1.3035779173858457 kff =  1.6071558347716914\n",
      "kuf =  1.3036251867478907 kuu =  1.0 kfu =  1.3036251867478907 kff =  1.6072503734957815\n",
      "kuf =  1.303671120953217 kuu =  1.0 kfu =  1.303671120953217 kff =  1.607342241906434\n",
      "kuf =  1.303715753123075 kuu =  1.0 kfu =  1.303715753123075 kff =  1.60743150624615\n",
      "kuf =  1.3037591157047572 kuu =  1.0 kfu =  1.3037591157047572 kff =  1.6075182314095144\n",
      "kuf =  1.3038012404807886 kuu =  1.0 kfu =  1.3038012404807886 kff =  1.6076024809615772\n"
     ]
    }
   ],
   "source": [
    "val_1 = 0.1\n",
    "val_2 = 0.1\n",
    "x = np.arange(0.01, 3, 0.01)\n",
    "cov_func = SquaredExponentialKernel()\n",
    "\n",
    "for i in range(len(x)):\n",
    "    kuf = k_uf(x[i], x[i], cov_func)\n",
    "    kfu = k_fu(x[i], x[i], cov_func)\n",
    "    kuu = k_uu(x[i], x[i], cov_func)\n",
    "    kff = k_ff(x[i], x[i], cov_func)\n",
    "    print('kuf = ', kuf, 'kuu = ', kuu, 'kfu = ', kfu, 'kff = ', kff)"
   ],
   "metadata": {
    "collapsed": false,
    "ExecuteTime": {
     "end_time": "2024-07-15T22:09:46.832783Z",
     "start_time": "2024-07-15T22:09:16.684268Z"
    }
   }
  },
  {
   "cell_type": "markdown",
   "source": [
    "a function for creating the sub and covariance matrix as described in the notes:\n",
    "* works only correctly for squared matrices [n1 x n2] where n1 = n2"
   ],
   "metadata": {
    "collapsed": false
   }
  },
  {
   "cell_type": "code",
   "execution_count": 13,
   "outputs": [],
   "source": [
    "def create_sub_matrix(variable_1, variable_2, specified_cov_function, cov_function):\n",
    "    n1 = len(variable_1)\n",
    "    n2 = len(variable_2)\n",
    "    sub_matrix = np.zeros((n1, n2))\n",
    "\n",
    "    for i, val_1 in enumerate(variable_1):\n",
    "        for j, val_2 in enumerate(variable_2):\n",
    "            sub_matrix[i, j] = specified_cov_function(val_1, val_2, cov_function)\n",
    "\n",
    "    return sub_matrix"
   ],
   "metadata": {
    "collapsed": false,
    "ExecuteTime": {
     "end_time": "2024-07-15T22:09:46.838809Z",
     "start_time": "2024-07-15T22:09:46.836788Z"
    }
   }
  },
  {
   "cell_type": "markdown",
   "source": [
    "a function for creating the covariance matrix as described in the notes:\n",
    "* works only correctly for squared matrices [2*n1 x 2*n2] where n1 = n2"
   ],
   "metadata": {
    "collapsed": false
   }
  },
  {
   "cell_type": "code",
   "execution_count": 14,
   "outputs": [],
   "source": [
    "def create_cov_matrix(variable_1, variable_2, cov_function):\n",
    "    n1 = len(variable_1)\n",
    "    n2 = len(variable_2)\n",
    "    cov = np.zeros((2*n1, 2*n2))\n",
    "\n",
    "    kuu_sub_matrix = create_sub_matrix(variable_1, variable_2, k_uu, cov_function)\n",
    "    kuf_sub_matrix = create_sub_matrix(variable_1, variable_2, k_uf, cov_function)\n",
    "    kfu_sub_matrix = create_sub_matrix(variable_1, variable_2, k_fu, cov_function)\n",
    "    kff_sub_matrix = create_sub_matrix(variable_1, variable_2, k_ff, cov_function)\n",
    "\n",
    "    for i in range(2*n1):\n",
    "        for j in range(2*n2):\n",
    "\n",
    "            if i <= n1 - 1 and j <= n2 - 1:\n",
    "                #print('kuu')\n",
    "                cov[i, j] = kuu_sub_matrix[i, j]\n",
    "            elif i <= n1 - 1 and n2 <= j <= 2*n2 - 1:\n",
    "                #print('kuf')\n",
    "                cov[i, j] = kuf_sub_matrix[i, j - n2]\n",
    "            elif n1 <= i <= 2*n1 - 1 and j <= n2 - 1:\n",
    "                #print('kfu')\n",
    "                cov[i, j] = kfu_sub_matrix[i - n1, j]\n",
    "            else:\n",
    "                #print('kff')\n",
    "                cov[i, j] = kff_sub_matrix[i - n1, j - n2]\n",
    "\n",
    "    return cov"
   ],
   "metadata": {
    "collapsed": false,
    "ExecuteTime": {
     "end_time": "2024-07-15T22:09:46.844044Z",
     "start_time": "2024-07-15T22:09:46.842102Z"
    }
   }
  },
  {
   "cell_type": "markdown",
   "source": [
    "testing the implemented functions for creating the covariance matrix above"
   ],
   "metadata": {
    "collapsed": false
   }
  },
  {
   "cell_type": "code",
   "execution_count": 15,
   "outputs": [
    {
     "name": "stderr",
     "output_type": "stream",
     "text": [
      "/var/folders/db/wdxh9ynd7_bfr2nwqswb2nn80000gn/T/ipykernel_5561/1571718703.py:14: IntegrationWarning:\n",
      "\n",
      "The integral is probably divergent, or slowly convergent.\n",
      "\n"
     ]
    },
    {
     "name": "stdout",
     "output_type": "stream",
     "text": [
      "covariance matrix =  [[1.         1.         1.         1.         1.18406551 1.18406551\n",
      "  1.18406551 1.18406551]\n",
      " [1.         1.         1.         1.         1.18406551 1.18406551\n",
      "  1.18406551 1.18406551]\n",
      " [1.         1.         1.         1.         1.18406551 1.18406551\n",
      "  1.18406551 1.18406551]\n",
      " [1.         1.         1.         1.         1.18406551 1.18406551\n",
      "  1.18406551 1.18406551]\n",
      " [1.18406551 1.18406551 1.18406551 1.18406551 1.36813102 1.36813102\n",
      "  1.36813102 1.36813102]\n",
      " [1.18406551 1.18406551 1.18406551 1.18406551 1.36813102 1.36813102\n",
      "  1.36813102 1.36813102]\n",
      " [1.18406551 1.18406551 1.18406551 1.18406551 1.36813102 1.36813102\n",
      "  1.36813102 1.36813102]\n",
      " [1.18406551 1.18406551 1.18406551 1.18406551 1.36813102 1.36813102\n",
      "  1.36813102 1.36813102]]\n"
     ]
    }
   ],
   "source": [
    "variable_1 = [1, 1, 1, 1]\n",
    "variable_2 = [1, 1, 1, 1]\n",
    "#variable_1 = np.array([0.3, 0.8, 1.4, 1.8, 2])\n",
    "#variable_2 = np.array([0.3, 0.8, 1.4, 1.8, 2])\n",
    "\n",
    "cov_func = SquaredExponentialKernel()\n",
    "cov = create_cov_matrix(variable_1, variable_2, cov_func)\n",
    "\n",
    "print('covariance matrix = ', cov)"
   ],
   "metadata": {
    "collapsed": false,
    "ExecuteTime": {
     "end_time": "2024-07-15T22:09:48.259081Z",
     "start_time": "2024-07-15T22:09:46.856199Z"
    }
   }
  },
  {
   "cell_type": "markdown",
   "source": [
    "define function for calculating q_u transposed"
   ],
   "metadata": {
    "collapsed": false
   }
  },
  {
   "cell_type": "code",
   "execution_count": 16,
   "outputs": [],
   "source": [
    "def q_u_transposed(variable_1, variable_2, cov_function):\n",
    "    n1 = len(variable_1)\n",
    "    n2 = len(variable_2)\n",
    "    q_u_trans = np.zeros((n1, 2*n2))\n",
    "\n",
    "    kuu_sub_matrix = create_sub_matrix(variable_1, variable_2, k_uu, cov_function)\n",
    "    kuf_sub_matrix = create_sub_matrix(variable_1, variable_2, k_uf, cov_function)\n",
    "\n",
    "    for i in range(n1):\n",
    "        for j in range(2*n2):\n",
    "\n",
    "            if j <= n2 - 1:\n",
    "                q_u_trans[i, j] = kuu_sub_matrix[i, j]\n",
    "            else:\n",
    "                q_u_trans[i, j] = kuf_sub_matrix[i, j - n2]\n",
    "\n",
    "    return q_u_trans"
   ],
   "metadata": {
    "collapsed": false,
    "ExecuteTime": {
     "end_time": "2024-07-15T22:09:48.260796Z",
     "start_time": "2024-07-15T22:09:48.258427Z"
    }
   }
  },
  {
   "cell_type": "code",
   "execution_count": 17,
   "outputs": [],
   "source": [
    "def q_f_transposed(variable_1, variable_2, cov_function):\n",
    "    n1 = len(variable_1)\n",
    "    n2 = len(variable_2)\n",
    "    q_f_trans = np.zeros((n1, 2*n2))\n",
    "\n",
    "    kfu_sub_matrix = create_sub_matrix(variable_1, variable_2, k_fu, cov_function)\n",
    "    kff_sub_matrix = create_sub_matrix(variable_1, variable_2, k_ff, cov_function)\n",
    "\n",
    "    for i in range(n1):\n",
    "        for j in range(2*n2):\n",
    "\n",
    "            if j <= n2 - 1:\n",
    "                q_f_trans[i, j] = kfu_sub_matrix[i, j]\n",
    "            else:\n",
    "                q_f_trans[i, j] = kff_sub_matrix[i, j - n2]\n",
    "\n",
    "    return q_f_trans"
   ],
   "metadata": {
    "collapsed": false,
    "ExecuteTime": {
     "end_time": "2024-07-15T22:09:48.264962Z",
     "start_time": "2024-07-15T22:09:48.261823Z"
    }
   }
  },
  {
   "cell_type": "markdown",
   "source": [
    "testing if the function q_u_transposed works properly"
   ],
   "metadata": {
    "collapsed": false
   }
  },
  {
   "cell_type": "code",
   "execution_count": 18,
   "outputs": [
    {
     "name": "stdout",
     "output_type": "stream",
     "text": [
      "q_u transposed =  [[1.         0.60653066 1.         1.         1.18406551 0.0923652\n",
      "  1.18406551 1.18406551]\n",
      " [1.         0.60653066 1.         1.         1.18406551 0.0923652\n",
      "  1.18406551 1.18406551]\n",
      " [1.         0.60653066 1.         1.         1.18406551 0.0923652\n",
      "  1.18406551 1.18406551]\n",
      " [1.         0.60653066 1.         1.         1.18406551 0.0923652\n",
      "  1.18406551 1.18406551]]\n"
     ]
    }
   ],
   "source": [
    "variable_1 = [1, 1, 1, 1]\n",
    "variable_2 = [1, 2, 1, 1]\n",
    "cov_func = SquaredExponentialKernel()\n",
    "\n",
    "q_u_trans = q_u_transposed(variable_1, variable_2, cov_func)\n",
    "print('q_u transposed = ', q_u_trans)"
   ],
   "metadata": {
    "collapsed": false,
    "ExecuteTime": {
     "end_time": "2024-07-15T22:09:48.300891Z",
     "start_time": "2024-07-15T22:09:48.279733Z"
    }
   }
  },
  {
   "cell_type": "markdown",
   "source": [
    "training: page 113 in GP for ML, please work please"
   ],
   "metadata": {
    "collapsed": false
   }
  },
  {
   "cell_type": "code",
   "execution_count": 19,
   "outputs": [
    {
     "name": "stderr",
     "output_type": "stream",
     "text": [
      "/var/folders/db/wdxh9ynd7_bfr2nwqswb2nn80000gn/T/ipykernel_5561/1571718703.py:14: IntegrationWarning:\n",
      "\n",
      "The integral is probably divergent, or slowly convergent.\n",
      "\n"
     ]
    },
    {
     "name": "stdout",
     "output_type": "stream",
     "text": [
      "likelihood =  4.137355328672803\n",
      "obtained sigma and l values that minimize the negative log marginal likelihood:  sigma =  1.0 length =  2.7\n",
      "likelihood =  4.134944140771177\n",
      "obtained sigma and l values that minimize the negative log marginal likelihood:  sigma =  1.0 length =  2.75\n",
      "likelihood =  4.1321907457233324\n",
      "obtained sigma and l values that minimize the negative log marginal likelihood:  sigma =  1.0 length =  2.8\n",
      "likelihood =  4.129106540893659\n",
      "obtained sigma and l values that minimize the negative log marginal likelihood:  sigma =  1.0 length =  2.8499999999999996\n",
      "likelihood =  4.125701116753283\n",
      "obtained sigma and l values that minimize the negative log marginal likelihood:  sigma =  1.0 length =  2.8999999999999995\n",
      "likelihood =  4.121982279122967\n",
      "obtained sigma and l values that minimize the negative log marginal likelihood:  sigma =  1.0 length =  2.9499999999999993\n",
      "likelihood =  4.117956099149511\n",
      "obtained sigma and l values that minimize the negative log marginal likelihood:  sigma =  1.0 length =  2.999999999999999\n",
      "likelihood =  4.11362697983316\n",
      "obtained sigma and l values that minimize the negative log marginal likelihood:  sigma =  1.0 length =  3.049999999999999\n",
      "likelihood =  4.1089977315453075\n",
      "obtained sigma and l values that minimize the negative log marginal likelihood:  sigma =  1.0 length =  3.0999999999999988\n"
     ]
    },
    {
     "ename": "KeyboardInterrupt",
     "evalue": "",
     "output_type": "error",
     "traceback": [
      "\u001B[0;31m---------------------------------------------------------------------------\u001B[0m",
      "\u001B[0;31mKeyboardInterrupt\u001B[0m                         Traceback (most recent call last)",
      "Input \u001B[0;32mIn [19]\u001B[0m, in \u001B[0;36m<cell line: 21>\u001B[0;34m()\u001B[0m\n\u001B[1;32m     22\u001B[0m \u001B[38;5;28;01mfor\u001B[39;00m l_index, length_val \u001B[38;5;129;01min\u001B[39;00m \u001B[38;5;28menumerate\u001B[39m(length_vals):\n\u001B[1;32m     23\u001B[0m     cov_func \u001B[38;5;241m=\u001B[39m SquaredExponentialKernel(sigma\u001B[38;5;241m=\u001B[39msigma_val, length\u001B[38;5;241m=\u001B[39mlength_val)\n\u001B[0;32m---> 24\u001B[0m     negative_log_marginal_likelihood \u001B[38;5;241m=\u001B[39m \u001B[43mlog_marginal_likelihood\u001B[49m\u001B[43m(\u001B[49m\u001B[43mdata_x\u001B[49m\u001B[43m,\u001B[49m\u001B[43m \u001B[49m\u001B[43mdata_y\u001B[49m\u001B[43m,\u001B[49m\u001B[43m \u001B[49m\u001B[43mcov_func\u001B[49m\u001B[43m,\u001B[49m\u001B[43m \u001B[49m\u001B[43mnoise\u001B[49m\u001B[43m \u001B[49m\u001B[38;5;241;43m=\u001B[39;49m\u001B[43m \u001B[49m\u001B[38;5;241;43m0.01\u001B[39;49m\u001B[43m)\u001B[49m\n\u001B[1;32m     25\u001B[0m     \u001B[38;5;28mprint\u001B[39m(\u001B[38;5;124m'\u001B[39m\u001B[38;5;124mlikelihood = \u001B[39m\u001B[38;5;124m'\u001B[39m, negative_log_marginal_likelihood)\n\u001B[1;32m     27\u001B[0m     \u001B[38;5;28;01mif\u001B[39;00m negative_log_marginal_likelihood \u001B[38;5;241m<\u001B[39m memory[\u001B[38;5;124m'\u001B[39m\u001B[38;5;124mnegative_log_marginal_likelihood\u001B[39m\u001B[38;5;124m'\u001B[39m]:\n",
      "Input \u001B[0;32mIn [19]\u001B[0m, in \u001B[0;36mlog_marginal_likelihood\u001B[0;34m(data_x, data_y, cov_func, noise)\u001B[0m\n\u001B[1;32m      3\u001B[0m y \u001B[38;5;241m=\u001B[39m np\u001B[38;5;241m.\u001B[39mconcatenate([data_y, data_y])\n\u001B[1;32m      4\u001B[0m y_transposed \u001B[38;5;241m=\u001B[39m y\u001B[38;5;241m.\u001B[39mT\n\u001B[0;32m----> 5\u001B[0m K \u001B[38;5;241m=\u001B[39m \u001B[43mcreate_cov_matrix\u001B[49m\u001B[43m(\u001B[49m\u001B[43mdata_x\u001B[49m\u001B[43m,\u001B[49m\u001B[43m \u001B[49m\u001B[43mdata_x\u001B[49m\u001B[43m,\u001B[49m\u001B[43m \u001B[49m\u001B[43mcov_func\u001B[49m\u001B[43m)\u001B[49m \u001B[38;5;241m+\u001B[39m noise \u001B[38;5;241m*\u001B[39m np\u001B[38;5;241m.\u001B[39midentity(\u001B[38;5;241m2\u001B[39m\u001B[38;5;241m*\u001B[39mn)\n\u001B[1;32m      6\u001B[0m K_inverse \u001B[38;5;241m=\u001B[39m np\u001B[38;5;241m.\u001B[39mlinalg\u001B[38;5;241m.\u001B[39minv(K)\n\u001B[1;32m      8\u001B[0m a \u001B[38;5;241m=\u001B[39m n\u001B[38;5;241m/\u001B[39m\u001B[38;5;241m2\u001B[39m \u001B[38;5;241m*\u001B[39m np\u001B[38;5;241m.\u001B[39mlog(\u001B[38;5;241m2\u001B[39m\u001B[38;5;241m*\u001B[39mnp\u001B[38;5;241m.\u001B[39mpi)  \u001B[38;5;66;03m# normalization constant\u001B[39;00m\n",
      "Input \u001B[0;32mIn [14]\u001B[0m, in \u001B[0;36mcreate_cov_matrix\u001B[0;34m(variable_1, variable_2, cov_function)\u001B[0m\n\u001B[1;32m      7\u001B[0m kuf_sub_matrix \u001B[38;5;241m=\u001B[39m create_sub_matrix(variable_1, variable_2, k_uf, cov_function)\n\u001B[1;32m      8\u001B[0m kfu_sub_matrix \u001B[38;5;241m=\u001B[39m create_sub_matrix(variable_1, variable_2, k_fu, cov_function)\n\u001B[0;32m----> 9\u001B[0m kff_sub_matrix \u001B[38;5;241m=\u001B[39m \u001B[43mcreate_sub_matrix\u001B[49m\u001B[43m(\u001B[49m\u001B[43mvariable_1\u001B[49m\u001B[43m,\u001B[49m\u001B[43m \u001B[49m\u001B[43mvariable_2\u001B[49m\u001B[43m,\u001B[49m\u001B[43m \u001B[49m\u001B[43mk_ff\u001B[49m\u001B[43m,\u001B[49m\u001B[43m \u001B[49m\u001B[43mcov_function\u001B[49m\u001B[43m)\u001B[49m\n\u001B[1;32m     11\u001B[0m \u001B[38;5;28;01mfor\u001B[39;00m i \u001B[38;5;129;01min\u001B[39;00m \u001B[38;5;28mrange\u001B[39m(\u001B[38;5;241m2\u001B[39m\u001B[38;5;241m*\u001B[39mn1):\n\u001B[1;32m     12\u001B[0m     \u001B[38;5;28;01mfor\u001B[39;00m j \u001B[38;5;129;01min\u001B[39;00m \u001B[38;5;28mrange\u001B[39m(\u001B[38;5;241m2\u001B[39m\u001B[38;5;241m*\u001B[39mn2):\n",
      "Input \u001B[0;32mIn [13]\u001B[0m, in \u001B[0;36mcreate_sub_matrix\u001B[0;34m(variable_1, variable_2, specified_cov_function, cov_function)\u001B[0m\n\u001B[1;32m      6\u001B[0m \u001B[38;5;28;01mfor\u001B[39;00m i, val_1 \u001B[38;5;129;01min\u001B[39;00m \u001B[38;5;28menumerate\u001B[39m(variable_1):\n\u001B[1;32m      7\u001B[0m     \u001B[38;5;28;01mfor\u001B[39;00m j, val_2 \u001B[38;5;129;01min\u001B[39;00m \u001B[38;5;28menumerate\u001B[39m(variable_2):\n\u001B[0;32m----> 8\u001B[0m         sub_matrix[i, j] \u001B[38;5;241m=\u001B[39m \u001B[43mspecified_cov_function\u001B[49m\u001B[43m(\u001B[49m\u001B[43mval_1\u001B[49m\u001B[43m,\u001B[49m\u001B[43m \u001B[49m\u001B[43mval_2\u001B[49m\u001B[43m,\u001B[49m\u001B[43m \u001B[49m\u001B[43mcov_function\u001B[49m\u001B[43m)\u001B[49m\n\u001B[1;32m     10\u001B[0m \u001B[38;5;28;01mreturn\u001B[39;00m sub_matrix\n",
      "Input \u001B[0;32mIn [11]\u001B[0m, in \u001B[0;36mk_ff\u001B[0;34m(val_1, val_2, cov_func, R, C)\u001B[0m\n\u001B[1;32m     26\u001B[0m     integral_val, _ \u001B[38;5;241m=\u001B[39m integrate(integrand, \u001B[38;5;241m0\u001B[39m, val_1, epsabs\u001B[38;5;241m=\u001B[39m\u001B[38;5;241m1e-8\u001B[39m, epsrel\u001B[38;5;241m=\u001B[39m\u001B[38;5;241m1e-8\u001B[39m, limit\u001B[38;5;241m=\u001B[39m\u001B[38;5;241m200\u001B[39m)\n\u001B[1;32m     27\u001B[0m     \u001B[38;5;28;01mreturn\u001B[39;00m integral_val\n\u001B[0;32m---> 29\u001B[0m e \u001B[38;5;241m=\u001B[39m \u001B[43mdouble_integral\u001B[49m\u001B[43m(\u001B[49m\u001B[43mval_1\u001B[49m\u001B[43m,\u001B[49m\u001B[43m \u001B[49m\u001B[43mval_2\u001B[49m\u001B[43m)\u001B[49m\n\u001B[1;32m     31\u001B[0m \u001B[38;5;28;01mreturn\u001B[39;00m b \u001B[38;5;241m+\u001B[39m c \u001B[38;5;241m+\u001B[39m d \u001B[38;5;241m+\u001B[39m e\n",
      "Input \u001B[0;32mIn [11]\u001B[0m, in \u001B[0;36mk_ff.<locals>.double_integral\u001B[0;34m(val_1, val_2)\u001B[0m\n\u001B[1;32m     24\u001B[0m \u001B[38;5;28;01mdef\u001B[39;00m \u001B[38;5;21mdouble_integral\u001B[39m(val_1, val_2):\n\u001B[1;32m     25\u001B[0m     integrand \u001B[38;5;241m=\u001B[39m \u001B[38;5;28;01mlambda\u001B[39;00m tau: \u001B[38;5;241m1\u001B[39m\u001B[38;5;241m/\u001B[39mgamma(\u001B[38;5;241m1\u001B[39m \u001B[38;5;241m-\u001B[39m alpha) \u001B[38;5;241m*\u001B[39m \u001B[38;5;241m1\u001B[39m\u001B[38;5;241m/\u001B[39m(val_1 \u001B[38;5;241m-\u001B[39m tau)\u001B[38;5;241m*\u001B[39m\u001B[38;5;241m*\u001B[39malpha \u001B[38;5;241m*\u001B[39m derivative_A(tau, val_2)\n\u001B[0;32m---> 26\u001B[0m     integral_val, _ \u001B[38;5;241m=\u001B[39m \u001B[43mintegrate\u001B[49m\u001B[43m(\u001B[49m\u001B[43mintegrand\u001B[49m\u001B[43m,\u001B[49m\u001B[43m \u001B[49m\u001B[38;5;241;43m0\u001B[39;49m\u001B[43m,\u001B[49m\u001B[43m \u001B[49m\u001B[43mval_1\u001B[49m\u001B[43m,\u001B[49m\u001B[43m \u001B[49m\u001B[43mepsabs\u001B[49m\u001B[38;5;241;43m=\u001B[39;49m\u001B[38;5;241;43m1e-8\u001B[39;49m\u001B[43m,\u001B[49m\u001B[43m \u001B[49m\u001B[43mepsrel\u001B[49m\u001B[38;5;241;43m=\u001B[39;49m\u001B[38;5;241;43m1e-8\u001B[39;49m\u001B[43m,\u001B[49m\u001B[43m \u001B[49m\u001B[43mlimit\u001B[49m\u001B[38;5;241;43m=\u001B[39;49m\u001B[38;5;241;43m200\u001B[39;49m\u001B[43m)\u001B[49m\n\u001B[1;32m     27\u001B[0m     \u001B[38;5;28;01mreturn\u001B[39;00m integral_val\n",
      "File \u001B[0;32m/Library/Frameworks/Python.framework/Versions/3.10/lib/python3.10/site-packages/scipy/integrate/_quadpack_py.py:351\u001B[0m, in \u001B[0;36mquad\u001B[0;34m(func, a, b, args, full_output, epsabs, epsrel, limit, points, weight, wvar, wopts, maxp1, limlst)\u001B[0m\n\u001B[1;32m    348\u001B[0m flip, a, b \u001B[38;5;241m=\u001B[39m b \u001B[38;5;241m<\u001B[39m a, \u001B[38;5;28mmin\u001B[39m(a, b), \u001B[38;5;28mmax\u001B[39m(a, b)\n\u001B[1;32m    350\u001B[0m \u001B[38;5;28;01mif\u001B[39;00m weight \u001B[38;5;129;01mis\u001B[39;00m \u001B[38;5;28;01mNone\u001B[39;00m:\n\u001B[0;32m--> 351\u001B[0m     retval \u001B[38;5;241m=\u001B[39m \u001B[43m_quad\u001B[49m\u001B[43m(\u001B[49m\u001B[43mfunc\u001B[49m\u001B[43m,\u001B[49m\u001B[43m \u001B[49m\u001B[43ma\u001B[49m\u001B[43m,\u001B[49m\u001B[43m \u001B[49m\u001B[43mb\u001B[49m\u001B[43m,\u001B[49m\u001B[43m \u001B[49m\u001B[43margs\u001B[49m\u001B[43m,\u001B[49m\u001B[43m \u001B[49m\u001B[43mfull_output\u001B[49m\u001B[43m,\u001B[49m\u001B[43m \u001B[49m\u001B[43mepsabs\u001B[49m\u001B[43m,\u001B[49m\u001B[43m \u001B[49m\u001B[43mepsrel\u001B[49m\u001B[43m,\u001B[49m\u001B[43m \u001B[49m\u001B[43mlimit\u001B[49m\u001B[43m,\u001B[49m\n\u001B[1;32m    352\u001B[0m \u001B[43m                   \u001B[49m\u001B[43mpoints\u001B[49m\u001B[43m)\u001B[49m\n\u001B[1;32m    353\u001B[0m \u001B[38;5;28;01melse\u001B[39;00m:\n\u001B[1;32m    354\u001B[0m     \u001B[38;5;28;01mif\u001B[39;00m points \u001B[38;5;129;01mis\u001B[39;00m \u001B[38;5;129;01mnot\u001B[39;00m \u001B[38;5;28;01mNone\u001B[39;00m:\n",
      "File \u001B[0;32m/Library/Frameworks/Python.framework/Versions/3.10/lib/python3.10/site-packages/scipy/integrate/_quadpack_py.py:463\u001B[0m, in \u001B[0;36m_quad\u001B[0;34m(func, a, b, args, full_output, epsabs, epsrel, limit, points)\u001B[0m\n\u001B[1;32m    461\u001B[0m \u001B[38;5;28;01mif\u001B[39;00m points \u001B[38;5;129;01mis\u001B[39;00m \u001B[38;5;28;01mNone\u001B[39;00m:\n\u001B[1;32m    462\u001B[0m     \u001B[38;5;28;01mif\u001B[39;00m infbounds \u001B[38;5;241m==\u001B[39m \u001B[38;5;241m0\u001B[39m:\n\u001B[0;32m--> 463\u001B[0m         \u001B[38;5;28;01mreturn\u001B[39;00m \u001B[43m_quadpack\u001B[49m\u001B[38;5;241;43m.\u001B[39;49m\u001B[43m_qagse\u001B[49m\u001B[43m(\u001B[49m\u001B[43mfunc\u001B[49m\u001B[43m,\u001B[49m\u001B[43ma\u001B[49m\u001B[43m,\u001B[49m\u001B[43mb\u001B[49m\u001B[43m,\u001B[49m\u001B[43margs\u001B[49m\u001B[43m,\u001B[49m\u001B[43mfull_output\u001B[49m\u001B[43m,\u001B[49m\u001B[43mepsabs\u001B[49m\u001B[43m,\u001B[49m\u001B[43mepsrel\u001B[49m\u001B[43m,\u001B[49m\u001B[43mlimit\u001B[49m\u001B[43m)\u001B[49m\n\u001B[1;32m    464\u001B[0m     \u001B[38;5;28;01melse\u001B[39;00m:\n\u001B[1;32m    465\u001B[0m         \u001B[38;5;28;01mreturn\u001B[39;00m _quadpack\u001B[38;5;241m.\u001B[39m_qagie(func,bound,infbounds,args,full_output,epsabs,epsrel,limit)\n",
      "Input \u001B[0;32mIn [11]\u001B[0m, in \u001B[0;36mk_ff.<locals>.double_integral.<locals>.<lambda>\u001B[0;34m(tau)\u001B[0m\n\u001B[1;32m     24\u001B[0m \u001B[38;5;28;01mdef\u001B[39;00m \u001B[38;5;21mdouble_integral\u001B[39m(val_1, val_2):\n\u001B[0;32m---> 25\u001B[0m     integrand \u001B[38;5;241m=\u001B[39m \u001B[38;5;28;01mlambda\u001B[39;00m tau: \u001B[38;5;241m1\u001B[39m\u001B[38;5;241m/\u001B[39mgamma(\u001B[38;5;241m1\u001B[39m \u001B[38;5;241m-\u001B[39m alpha) \u001B[38;5;241m*\u001B[39m \u001B[38;5;241m1\u001B[39m\u001B[38;5;241m/\u001B[39m(val_1 \u001B[38;5;241m-\u001B[39m tau)\u001B[38;5;241m*\u001B[39m\u001B[38;5;241m*\u001B[39malpha \u001B[38;5;241m*\u001B[39m \u001B[43mderivative_A\u001B[49m\u001B[43m(\u001B[49m\u001B[43mtau\u001B[49m\u001B[43m,\u001B[49m\u001B[43m \u001B[49m\u001B[43mval_2\u001B[49m\u001B[43m)\u001B[49m\n\u001B[1;32m     26\u001B[0m     integral_val, _ \u001B[38;5;241m=\u001B[39m integrate(integrand, \u001B[38;5;241m0\u001B[39m, val_1, epsabs\u001B[38;5;241m=\u001B[39m\u001B[38;5;241m1e-8\u001B[39m, epsrel\u001B[38;5;241m=\u001B[39m\u001B[38;5;241m1e-8\u001B[39m, limit\u001B[38;5;241m=\u001B[39m\u001B[38;5;241m200\u001B[39m)\n\u001B[1;32m     27\u001B[0m     \u001B[38;5;28;01mreturn\u001B[39;00m integral_val\n",
      "Input \u001B[0;32mIn [11]\u001B[0m, in \u001B[0;36mk_ff.<locals>.derivative_A\u001B[0;34m(tau, val_2, h)\u001B[0m\n\u001B[1;32m     19\u001B[0m \u001B[38;5;28;01mdef\u001B[39;00m \u001B[38;5;21mA_tau\u001B[39m(tau):\n\u001B[1;32m     20\u001B[0m     \u001B[38;5;28;01mreturn\u001B[39;00m A(tau, val_2)\n\u001B[0;32m---> 21\u001B[0m dB \u001B[38;5;241m=\u001B[39m (\u001B[43mA_tau\u001B[49m\u001B[43m(\u001B[49m\u001B[43mtau\u001B[49m\u001B[43m \u001B[49m\u001B[38;5;241;43m+\u001B[39;49m\u001B[43m \u001B[49m\u001B[43mh\u001B[49m\u001B[43m)\u001B[49m \u001B[38;5;241m-\u001B[39m A_tau(tau \u001B[38;5;241m-\u001B[39m h)) \u001B[38;5;241m/\u001B[39m (\u001B[38;5;241m2\u001B[39m\u001B[38;5;241m*\u001B[39mh)\n\u001B[1;32m     22\u001B[0m \u001B[38;5;28;01mreturn\u001B[39;00m dB\n",
      "Input \u001B[0;32mIn [11]\u001B[0m, in \u001B[0;36mk_ff.<locals>.derivative_A.<locals>.A_tau\u001B[0;34m(tau)\u001B[0m\n\u001B[1;32m     19\u001B[0m \u001B[38;5;28;01mdef\u001B[39;00m \u001B[38;5;21mA_tau\u001B[39m(tau):\n\u001B[0;32m---> 20\u001B[0m     \u001B[38;5;28;01mreturn\u001B[39;00m \u001B[43mA\u001B[49m\u001B[43m(\u001B[49m\u001B[43mtau\u001B[49m\u001B[43m,\u001B[49m\u001B[43m \u001B[49m\u001B[43mval_2\u001B[49m\u001B[43m)\u001B[49m\n",
      "Input \u001B[0;32mIn [11]\u001B[0m, in \u001B[0;36mk_ff.<locals>.A\u001B[0;34m(val_1, val_2)\u001B[0m\n\u001B[1;32m     12\u001B[0m \u001B[38;5;28;01mdef\u001B[39;00m \u001B[38;5;21mA\u001B[39m(val_1, val_2):\n\u001B[1;32m     13\u001B[0m     integrand \u001B[38;5;241m=\u001B[39m \u001B[38;5;28;01mlambda\u001B[39;00m tau: B(val_1, val_2, tau)\n\u001B[0;32m---> 14\u001B[0m     integral_val, _ \u001B[38;5;241m=\u001B[39m \u001B[43mintegrate\u001B[49m\u001B[43m(\u001B[49m\u001B[43mintegrand\u001B[49m\u001B[43m,\u001B[49m\u001B[43m \u001B[49m\u001B[38;5;241;43m0\u001B[39;49m\u001B[43m,\u001B[49m\u001B[43m \u001B[49m\u001B[43mval_2\u001B[49m\u001B[43m,\u001B[49m\u001B[43m \u001B[49m\u001B[43mepsabs\u001B[49m\u001B[38;5;241;43m=\u001B[39;49m\u001B[38;5;241;43m1e-8\u001B[39;49m\u001B[43m,\u001B[49m\u001B[43m \u001B[49m\u001B[43mepsrel\u001B[49m\u001B[38;5;241;43m=\u001B[39;49m\u001B[38;5;241;43m1e-8\u001B[39;49m\u001B[43m,\u001B[49m\u001B[43m \u001B[49m\u001B[43mlimit\u001B[49m\u001B[38;5;241;43m=\u001B[39;49m\u001B[38;5;241;43m200\u001B[39;49m\u001B[43m)\u001B[49m\n\u001B[1;32m     15\u001B[0m     \u001B[38;5;28;01mreturn\u001B[39;00m integral_val\n",
      "File \u001B[0;32m/Library/Frameworks/Python.framework/Versions/3.10/lib/python3.10/site-packages/scipy/integrate/_quadpack_py.py:351\u001B[0m, in \u001B[0;36mquad\u001B[0;34m(func, a, b, args, full_output, epsabs, epsrel, limit, points, weight, wvar, wopts, maxp1, limlst)\u001B[0m\n\u001B[1;32m    348\u001B[0m flip, a, b \u001B[38;5;241m=\u001B[39m b \u001B[38;5;241m<\u001B[39m a, \u001B[38;5;28mmin\u001B[39m(a, b), \u001B[38;5;28mmax\u001B[39m(a, b)\n\u001B[1;32m    350\u001B[0m \u001B[38;5;28;01mif\u001B[39;00m weight \u001B[38;5;129;01mis\u001B[39;00m \u001B[38;5;28;01mNone\u001B[39;00m:\n\u001B[0;32m--> 351\u001B[0m     retval \u001B[38;5;241m=\u001B[39m \u001B[43m_quad\u001B[49m\u001B[43m(\u001B[49m\u001B[43mfunc\u001B[49m\u001B[43m,\u001B[49m\u001B[43m \u001B[49m\u001B[43ma\u001B[49m\u001B[43m,\u001B[49m\u001B[43m \u001B[49m\u001B[43mb\u001B[49m\u001B[43m,\u001B[49m\u001B[43m \u001B[49m\u001B[43margs\u001B[49m\u001B[43m,\u001B[49m\u001B[43m \u001B[49m\u001B[43mfull_output\u001B[49m\u001B[43m,\u001B[49m\u001B[43m \u001B[49m\u001B[43mepsabs\u001B[49m\u001B[43m,\u001B[49m\u001B[43m \u001B[49m\u001B[43mepsrel\u001B[49m\u001B[43m,\u001B[49m\u001B[43m \u001B[49m\u001B[43mlimit\u001B[49m\u001B[43m,\u001B[49m\n\u001B[1;32m    352\u001B[0m \u001B[43m                   \u001B[49m\u001B[43mpoints\u001B[49m\u001B[43m)\u001B[49m\n\u001B[1;32m    353\u001B[0m \u001B[38;5;28;01melse\u001B[39;00m:\n\u001B[1;32m    354\u001B[0m     \u001B[38;5;28;01mif\u001B[39;00m points \u001B[38;5;129;01mis\u001B[39;00m \u001B[38;5;129;01mnot\u001B[39;00m \u001B[38;5;28;01mNone\u001B[39;00m:\n",
      "File \u001B[0;32m/Library/Frameworks/Python.framework/Versions/3.10/lib/python3.10/site-packages/scipy/integrate/_quadpack_py.py:463\u001B[0m, in \u001B[0;36m_quad\u001B[0;34m(func, a, b, args, full_output, epsabs, epsrel, limit, points)\u001B[0m\n\u001B[1;32m    461\u001B[0m \u001B[38;5;28;01mif\u001B[39;00m points \u001B[38;5;129;01mis\u001B[39;00m \u001B[38;5;28;01mNone\u001B[39;00m:\n\u001B[1;32m    462\u001B[0m     \u001B[38;5;28;01mif\u001B[39;00m infbounds \u001B[38;5;241m==\u001B[39m \u001B[38;5;241m0\u001B[39m:\n\u001B[0;32m--> 463\u001B[0m         \u001B[38;5;28;01mreturn\u001B[39;00m \u001B[43m_quadpack\u001B[49m\u001B[38;5;241;43m.\u001B[39;49m\u001B[43m_qagse\u001B[49m\u001B[43m(\u001B[49m\u001B[43mfunc\u001B[49m\u001B[43m,\u001B[49m\u001B[43ma\u001B[49m\u001B[43m,\u001B[49m\u001B[43mb\u001B[49m\u001B[43m,\u001B[49m\u001B[43margs\u001B[49m\u001B[43m,\u001B[49m\u001B[43mfull_output\u001B[49m\u001B[43m,\u001B[49m\u001B[43mepsabs\u001B[49m\u001B[43m,\u001B[49m\u001B[43mepsrel\u001B[49m\u001B[43m,\u001B[49m\u001B[43mlimit\u001B[49m\u001B[43m)\u001B[49m\n\u001B[1;32m    464\u001B[0m     \u001B[38;5;28;01melse\u001B[39;00m:\n\u001B[1;32m    465\u001B[0m         \u001B[38;5;28;01mreturn\u001B[39;00m _quadpack\u001B[38;5;241m.\u001B[39m_qagie(func,bound,infbounds,args,full_output,epsabs,epsrel,limit)\n",
      "Input \u001B[0;32mIn [11]\u001B[0m, in \u001B[0;36mk_ff.<locals>.A.<locals>.<lambda>\u001B[0;34m(tau)\u001B[0m\n\u001B[1;32m     12\u001B[0m \u001B[38;5;28;01mdef\u001B[39;00m \u001B[38;5;21mA\u001B[39m(val_1, val_2):\n\u001B[0;32m---> 13\u001B[0m     integrand \u001B[38;5;241m=\u001B[39m \u001B[38;5;28;01mlambda\u001B[39;00m tau: \u001B[43mB\u001B[49m\u001B[43m(\u001B[49m\u001B[43mval_1\u001B[49m\u001B[43m,\u001B[49m\u001B[43m \u001B[49m\u001B[43mval_2\u001B[49m\u001B[43m,\u001B[49m\u001B[43m \u001B[49m\u001B[43mtau\u001B[49m\u001B[43m)\u001B[49m\n\u001B[1;32m     14\u001B[0m     integral_val, _ \u001B[38;5;241m=\u001B[39m integrate(integrand, \u001B[38;5;241m0\u001B[39m, val_2, epsabs\u001B[38;5;241m=\u001B[39m\u001B[38;5;241m1e-8\u001B[39m, epsrel\u001B[38;5;241m=\u001B[39m\u001B[38;5;241m1e-8\u001B[39m, limit\u001B[38;5;241m=\u001B[39m\u001B[38;5;241m200\u001B[39m)\n\u001B[1;32m     15\u001B[0m     \u001B[38;5;28;01mreturn\u001B[39;00m integral_val\n",
      "Input \u001B[0;32mIn [11]\u001B[0m, in \u001B[0;36mk_ff.<locals>.B\u001B[0;34m(val_1, val_2, tau)\u001B[0m\n\u001B[1;32m      8\u001B[0m l \u001B[38;5;241m=\u001B[39m cov_func\u001B[38;5;241m.\u001B[39mlength\n\u001B[1;32m      9\u001B[0m a \u001B[38;5;241m=\u001B[39m \u001B[38;5;241m1\u001B[39m\u001B[38;5;241m/\u001B[39mgamma(\u001B[38;5;241m1\u001B[39m\u001B[38;5;241m-\u001B[39malpha) \u001B[38;5;241m*\u001B[39m \u001B[38;5;241m1\u001B[39m\u001B[38;5;241m/\u001B[39m(val_2 \u001B[38;5;241m-\u001B[39m tau)\u001B[38;5;241m*\u001B[39m\u001B[38;5;241m*\u001B[39malpha \u001B[38;5;241m*\u001B[39m \u001B[38;5;241m1\u001B[39m\u001B[38;5;241m/\u001B[39ml\u001B[38;5;241m*\u001B[39m\u001B[38;5;241m*\u001B[39m\u001B[38;5;241m2\u001B[39m \u001B[38;5;241m*\u001B[39m (val_1 \u001B[38;5;241m-\u001B[39m tau)\n\u001B[0;32m---> 10\u001B[0m \u001B[38;5;28;01mreturn\u001B[39;00m a \u001B[38;5;241m*\u001B[39m \u001B[43mcov_func\u001B[49m\u001B[43m(\u001B[49m\u001B[43mval_1\u001B[49m\u001B[43m,\u001B[49m\u001B[43m \u001B[49m\u001B[43mtau\u001B[49m\u001B[43m)\u001B[49m\n",
      "Input \u001B[0;32mIn [6]\u001B[0m, in \u001B[0;36mSquaredExponentialKernel.__call__\u001B[0;34m(self, tau_1, tau_2)\u001B[0m\n\u001B[1;32m      9\u001B[0m     k_SE \u001B[38;5;241m=\u001B[39m \u001B[38;5;28mfloat\u001B[39m(\u001B[38;5;28mself\u001B[39m\u001B[38;5;241m.\u001B[39msigma\u001B[38;5;241m*\u001B[39m\u001B[38;5;241m*\u001B[39m\u001B[38;5;241m2\u001B[39m \u001B[38;5;241m*\u001B[39m np\u001B[38;5;241m.\u001B[39mexp(\u001B[38;5;241m-\u001B[39m(np\u001B[38;5;241m.\u001B[39mlinalg\u001B[38;5;241m.\u001B[39mnorm(variable_1 \u001B[38;5;241m-\u001B[39m variable_2)\u001B[38;5;241m*\u001B[39m\u001B[38;5;241m*\u001B[39m\u001B[38;5;241m2\u001B[39m) \u001B[38;5;241m/\u001B[39m(\u001B[38;5;241m2\u001B[39m \u001B[38;5;241m*\u001B[39m \u001B[38;5;28mself\u001B[39m\u001B[38;5;241m.\u001B[39mlength\u001B[38;5;241m*\u001B[39m\u001B[38;5;241m*\u001B[39m\u001B[38;5;241m2\u001B[39m)))\n\u001B[1;32m     10\u001B[0m     \u001B[38;5;28;01mreturn\u001B[39;00m k_SE\n\u001B[0;32m---> 11\u001B[0m \u001B[38;5;28;01mreturn\u001B[39;00m \u001B[43mkernel\u001B[49m\u001B[43m(\u001B[49m\u001B[43mtau_1\u001B[49m\u001B[43m,\u001B[49m\u001B[43m \u001B[49m\u001B[43mtau_2\u001B[49m\u001B[43m)\u001B[49m\n",
      "Input \u001B[0;32mIn [6]\u001B[0m, in \u001B[0;36mSquaredExponentialKernel.__call__.<locals>.kernel\u001B[0;34m(variable_1, variable_2)\u001B[0m\n\u001B[1;32m      8\u001B[0m \u001B[38;5;28;01mdef\u001B[39;00m \u001B[38;5;21mkernel\u001B[39m(variable_1, variable_2):\n\u001B[0;32m----> 9\u001B[0m     k_SE \u001B[38;5;241m=\u001B[39m \u001B[38;5;28mfloat\u001B[39m(\u001B[38;5;28mself\u001B[39m\u001B[38;5;241m.\u001B[39msigma\u001B[38;5;241m*\u001B[39m\u001B[38;5;241m*\u001B[39m\u001B[38;5;241m2\u001B[39m \u001B[38;5;241m*\u001B[39m np\u001B[38;5;241m.\u001B[39mexp(\u001B[38;5;241m-\u001B[39m(\u001B[43mnp\u001B[49m\u001B[38;5;241;43m.\u001B[39;49m\u001B[43mlinalg\u001B[49m\u001B[38;5;241;43m.\u001B[39;49m\u001B[43mnorm\u001B[49m\u001B[43m(\u001B[49m\u001B[43mvariable_1\u001B[49m\u001B[43m \u001B[49m\u001B[38;5;241;43m-\u001B[39;49m\u001B[43m \u001B[49m\u001B[43mvariable_2\u001B[49m\u001B[43m)\u001B[49m\u001B[38;5;241m*\u001B[39m\u001B[38;5;241m*\u001B[39m\u001B[38;5;241m2\u001B[39m) \u001B[38;5;241m/\u001B[39m(\u001B[38;5;241m2\u001B[39m \u001B[38;5;241m*\u001B[39m \u001B[38;5;28mself\u001B[39m\u001B[38;5;241m.\u001B[39mlength\u001B[38;5;241m*\u001B[39m\u001B[38;5;241m*\u001B[39m\u001B[38;5;241m2\u001B[39m)))\n\u001B[1;32m     10\u001B[0m     \u001B[38;5;28;01mreturn\u001B[39;00m k_SE\n",
      "File \u001B[0;32m<__array_function__ internals>:177\u001B[0m, in \u001B[0;36mnorm\u001B[0;34m(*args, **kwargs)\u001B[0m\n",
      "\u001B[0;31mKeyboardInterrupt\u001B[0m: "
     ]
    }
   ],
   "source": [
    "def log_marginal_likelihood(data_x, data_y, cov_func, noise):\n",
    "    n = len(data_x)\n",
    "    y = np.concatenate([data_y, data_y])\n",
    "    y_transposed = y.T\n",
    "    K = create_cov_matrix(data_x, data_x, cov_func) + noise * np.identity(2*n)\n",
    "    K_inverse = np.linalg.inv(K)\n",
    "\n",
    "    a = n/2 * np.log(2*np.pi)  # normalization constant\n",
    "    b = 1/2 * np.log(np.linalg.norm(K))  # complexity penalty\n",
    "    c = 1/2 * np.dot(y, np.dot(K_inverse, y_transposed))  # involving observed targets\n",
    "    log_ml = c + b + a  # is actually the negative log marginal likelihood\n",
    "    return log_ml\n",
    "\n",
    "sigma_vals = np.arange(1, 3.5, 0.05)\n",
    "length_vals = np.arange(2.7, 4.5, 0.05)\n",
    "memory = {'sigma': 1, 'length': 1, 'negative_log_marginal_likelihood': 1000}\n",
    "\n",
    "data_x = np.array([0.29, 0.796, 1.394])\n",
    "data_y = np.array([0.747, 0.447, 0.248])\n",
    "\n",
    "for sigma_index, sigma_val in enumerate(sigma_vals):\n",
    "    for l_index, length_val in enumerate(length_vals):\n",
    "        cov_func = SquaredExponentialKernel(sigma=sigma_val, length=length_val)\n",
    "        negative_log_marginal_likelihood = log_marginal_likelihood(data_x, data_y, cov_func, noise = 0.01)\n",
    "        print('likelihood = ', negative_log_marginal_likelihood)\n",
    "\n",
    "        if negative_log_marginal_likelihood < memory['negative_log_marginal_likelihood']:\n",
    "            memory['length'] = length_val\n",
    "            memory['sigma'] = sigma_val\n",
    "            memory['negative_log_marginal_likelihood'] = negative_log_marginal_likelihood\n",
    "\n",
    "        print('obtained sigma and l values that minimize the negative log marginal likelihood: ', 'sigma = ', memory['sigma'], 'length = ', memory['length'])"
   ],
   "metadata": {
    "collapsed": false,
    "ExecuteTime": {
     "end_time": "2024-07-15T22:09:57.093036Z",
     "start_time": "2024-07-15T22:09:48.302936Z"
    }
   }
  },
  {
   "cell_type": "code",
   "execution_count": null,
   "outputs": [],
   "source": [
    "cov_func = SquaredExponentialKernel(sigma=1.7, length=3.5)\n",
    "negative_log_marginal_likelihood = log_marginal_likelihood(data_x, data_y, cov_func, noise = 0.01)\n",
    "print(negative_log_marginal_likelihood)"
   ],
   "metadata": {
    "collapsed": false
   }
  },
  {
   "cell_type": "markdown",
   "source": [
    "define class GPR:\n",
    "* **data_x** is the input of the observed points\n",
    "* **data_y** is the output of the observed points\n",
    "* **noise** is the noise in the observed data\n",
    "* **memory** is a variable where the mean, the covariance matrix and the variance is stored\n",
    "* **3e-7** add this value to the noise in order to ensure stability when inverting the covariance matrix"
   ],
   "metadata": {
    "collapsed": false
   }
  },
  {
   "cell_type": "code",
   "execution_count": null,
   "outputs": [],
   "source": [
    "class GPR:\n",
    "    def __init__(self, data_x, data_y, cov_func= SquaredExponentialKernel(sigma=memory['sigma'], length=memory['length']), noise=0.01):\n",
    "        print('sigma memory = ', memory['sigma'])\n",
    "        print('length memory = ', memory['length'])\n",
    "        self.data_x = data_x\n",
    "        self.data_y = np.concatenate([data_y, data_y])\n",
    "        self.cov_func = cov_func\n",
    "        self.noise = noise\n",
    "        self.memory = None\n",
    "\n",
    "        n = len(data_x)\n",
    "        self.inv_cov_matrix_of_input_data = np.linalg.inv(create_cov_matrix(data_x, data_x, cov_func) + (noise + 3e-7)**2 * np.identity(2*n))\n",
    "\n",
    "    def predict(self, at_values):\n",
    "        q_u_trans = q_u_transposed(at_values, self.data_x, self.cov_func)\n",
    "        q_f_trans = q_f_transposed(at_values, self.data_x, self.cov_func)\n",
    "\n",
    "        # methode paper:\n",
    "        mean_at_values_u = np.dot(q_u_trans, np.dot(self.data_y, self.inv_cov_matrix_of_input_data.T).T).flatten()\n",
    "        #mean_at_values_f = np.dot(q_f_trans, np.dot(self.data_y, self.inv_cov_matrix_of_input_data.T).T).flatten()\n",
    "\n",
    "        covariance_matrix_u = create_sub_matrix(at_values, at_values, k_uu, self.cov_func) - np.dot(q_u_trans, np.dot(self.inv_cov_matrix_of_input_data, q_u_trans.T))\n",
    "        #covariance_matrix_f = create_sub_matrix(at_values, at_values, k_ff, self.cov_func) - np.dot(q_f_trans, np.dot(self.inv_cov_matrix_of_input_data, q_f_trans.T))\n",
    "\n",
    "        variance_u = np.abs(np.diag(covariance_matrix_u))\n",
    "        #variance_f = np.abs(np.diag(covariance_matrix_f))\n",
    "\n",
    "        self.memory = {'mean': mean_at_values_u, 'covariance_matrix':covariance_matrix_u, 'variance': variance_u}\n",
    "\n",
    "        return mean_at_values_u"
   ],
   "metadata": {
    "collapsed": false
   }
  },
  {
   "cell_type": "markdown",
   "source": [
    "defining function for plotting the GPR:\n",
    "* **data_x** is a list of observed input data points\n",
    "* **data_y** is a list of observed output data points\n",
    "* **x** is equivalent to **at_values** in the GPR, the values we want to do predictions on"
   ],
   "metadata": {
    "collapsed": false
   }
  },
  {
   "cell_type": "code",
   "execution_count": null,
   "outputs": [],
   "source": [
    "def plot_GPR(data_x, data_y, model, x, data_x_mv, data_y_mv, visible=True) -> list:\n",
    "    mean = model.predict(x)\n",
    "    standard_deviation = np.sqrt(model.memory['variance'])\n",
    "    data = []\n",
    "\n",
    "    for i in range(1, 4):\n",
    "        data.append(uncertainty_area_plot(x_lines=x, y_lower=mean -i * standard_deviation, y_upper=mean + i*standard_deviation, name=f'mean plus/minus {i}*standard deviation', visible=visible))\n",
    "\n",
    "    data.append(scatter_plot(x_dots=data_x, y_dots=data_y, visible=visible, color='red'))\n",
    "    data.append(scatter_plot(x_dots=data_x_mv, y_dots=data_y_mv, visible=visible, color='blue', name_dots='validation points'))\n",
    "    data.append(line_plot(x_lines=x, y_lines=mean, visible=visible))\n",
    "    return data"
   ],
   "metadata": {
    "collapsed": false
   }
  },
  {
   "cell_type": "markdown",
   "source": [
    "initializing the training data"
   ],
   "metadata": {
    "collapsed": false
   }
  },
  {
   "cell_type": "code",
   "execution_count": null,
   "outputs": [],
   "source": [
    "x_values = np.array([0.29, 0.796, 1.394])  # 1.798\n",
    "y_values = np.array([0.747, 0.447, 0.248])  # 0.166\n",
    "\n",
    "x_values_mv = np.array([0.0, 0.0183, 0.036, 0.055, 0.073, 0.091, 0.109, 0.127, 0.145, 0.164, 0.182, 0.2, 0.218, 0.236, 0.255, 0.273, 0.309, 0.327, 0.345, 0.364, 0.382, 0.4, 0.418, 0.436, 0.455, 0.473, 0.491, 0.509, 0.527, 0.545, 0.564, 0.582, 0.6, 0.618, 0.636, 0.655, 0.673, 0.69, 0.709, 0.727, 0.745, 0.764, 0.782, 0.818, 0.836, 0.855, 0.873, 0.891, 0.909, 0.927, 0.945, 0.964, 0.983, 1.0, 1.02, 1.036, 1.055, 1.073, 1.092, 1.109, 1.127, 1.145, 1.164, 1.182, 1.2, 1.215, 1.229, 1.248, 1.266, 1.284, 1.303, 1.321, 1.339, 1.358, 1.376, 1.413, 1.431, 1.45, 1.468, 1.486, 1.505, 1.523, 1.541, 1.56, 1.578, 1.596, 1.615, 1.633, 1.651, 1.67, 1.688, 1.706, 1.725, 1.743, 1.761, 1.78, 1.798, 1.817, 1.835, 1.853, 1.872, 1.89, 1.908, 1.927, 1.945, 1.963, 1.982, 1.996])\n",
    "y_values_mv = np.array([1.0, 0.982, 0.964, 0.946, 0.928, 0.915, 0.897, 0.881, 0.866, 0.85, 0.834, 0.819, 0.803, 0.79, 0.774, 0.761, 0.734, 0.72, 0.707, 0.694, 0.68, 0.669, 0.658, 0.644, 0.633, 0.622, 0.611, 0.590, 0.588, 0.577, 0.568, 0.557, 0.548, 0.537, 0.526, 0.512, 0.508, 0.499, 0.49, 0.479, 0.47, 0.461, 0.452, 0.438, 0.43, 0.423, 0.414, 0.407, 0.4 ,0.394, 0.385, 0.378, 0.374, 0.369, 0.358, 0.351, 0.345, 0.34, 0.336, 0.327, 0.32, 0.315, 0.309, 0.304, 0.302, 0.298, 0.293, 0.286, 0.282, 0.277, 0.271, 0.266, 0.262, 0.257, 0.253, 0.244, 0.239, 0.235, 0.23, 0.226, 0.221, 0.219, 0.215, 0.21, 0.206, 0.204, 0.199, 0.195, 0.192, 0.188, 0.186, 0.181, 0.179, 0.174, 0.172, 0.168, 0.166, 0.163, 0.159, 0.157, 0.154, 0.152, 0.148, 0.145, 0.143, 0.141, 0.139, 0.136])\n",
    "\n",
    "x = np.arange(0.01, 2, 0.01)"
   ],
   "metadata": {
    "collapsed": false
   }
  },
  {
   "cell_type": "markdown",
   "source": [
    "plot the output of the GPR"
   ],
   "metadata": {
    "collapsed": false
   }
  },
  {
   "cell_type": "code",
   "execution_count": null,
   "outputs": [],
   "source": [
    "# bocchi love you so much\n",
    "model = GPR(x_values, y_values)\n",
    "data = plot_GPR(data_x=x_values, data_y=y_values, x=x, model=model, data_x_mv=x_values_mv, data_y_mv=y_values_mv)\n",
    "fig4 = go.Figure(data)\n",
    "fig4 = update_layout_of_graph(fig=fig4, title=f'GPR with length {model.cov_func.length}, sigma {model.cov_func.sigma}, alpha {cov_func.alpha} and noise {model.noise}')\n",
    "fig4.show()\n",
    "fig4.write_html('/Users/simonjamnik/PycharmProjects/GaussianProcess/RC_0.75.html')"
   ],
   "metadata": {
    "collapsed": false
   }
  },
  {
   "cell_type": "code",
   "execution_count": null,
   "outputs": [],
   "source": [],
   "metadata": {
    "collapsed": false
   }
  }
 ],
 "metadata": {
  "kernelspec": {
   "display_name": "Python 3",
   "language": "python",
   "name": "python3"
  },
  "language_info": {
   "codemirror_mode": {
    "name": "ipython",
    "version": 2
   },
   "file_extension": ".py",
   "mimetype": "text/x-python",
   "name": "python",
   "nbconvert_exporter": "python",
   "pygments_lexer": "ipython2",
   "version": "2.7.6"
  }
 },
 "nbformat": 4,
 "nbformat_minor": 0
}
