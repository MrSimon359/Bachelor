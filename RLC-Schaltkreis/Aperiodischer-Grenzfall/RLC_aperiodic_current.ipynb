{
 "cells": [
  {
   "cell_type": "markdown",
   "metadata": {},
   "source": [
    "necessary packages"
   ]
  },
  {
   "cell_type": "code",
   "metadata": {
    "ExecuteTime": {
     "end_time": "2024-07-24T14:57:05.240005Z",
     "start_time": "2024-07-24T14:57:05.232034Z"
    }
   },
   "source": [
    "import numpy as np\n",
    "from ipywidgets import interact\n",
    "import plotly.graph_objects as go\n",
    "from scipy.special import gamma\n",
    "from scipy.integrate import quad as integrate"
   ],
   "outputs": [],
   "execution_count": 982
  },
  {
   "cell_type": "markdown",
   "metadata": {},
   "source": [
    "define function for updating the layout of the figure:\n",
    "* updates the layout of a plotly figure with predefined settings\n",
    "* the **title** dict includes all title properties: **'x'** specifies the position of the title along the x-axis, **'xanchor'** specifies the anchor point of the title along the x-axis"
   ]
  },
  {
   "cell_type": "code",
   "metadata": {
    "ExecuteTime": {
     "end_time": "2024-07-24T14:57:06.175899Z",
     "start_time": "2024-07-24T14:57:06.049582Z"
    }
   },
   "source": [
    "def update_layout_of_graph(fig: go.Figure, title: str = 'Plot') -> go.Figure:\n",
    "    fig.update_layout(\n",
    "        width=1000,\n",
    "        height=500,\n",
    "        autosize=False,\n",
    "        plot_bgcolor='black',\n",
    "        title={'text': title, 'x': 0.5, 'xanchor': 'center'},  # dict includes all title properties; specifies the position of the title along the x-axis\n",
    "        xaxis_title='t / ms',\n",
    "        yaxis_title='I / A',\n",
    "        legend=dict(yanchor=\"top\", y=0.5, xanchor=\"right\", x=0.95),\n",
    "        xaxis=dict(showline=True, linewidth=1, linecolor='black'),\n",
    "        yaxis=dict(showline=True, linewidth=1, linecolor='black')\n",
    "    )\n",
    "    return fig"
   ],
   "outputs": [],
   "execution_count": 983
  },
  {
   "cell_type": "markdown",
   "metadata": {},
   "source": [
    "define function for creating a line plot:\n",
    "* creates a Plotly scatter trace representing a line plot\n",
    "* **x_lines** x-coordinates of the points on the line with an empty default array\n",
    "* **y_lines** y-coordinates of the points on the line with an empty default array"
   ]
  },
  {
   "cell_type": "code",
   "metadata": {
    "ExecuteTime": {
     "end_time": "2024-07-24T14:57:06.697704Z",
     "start_time": "2024-07-24T14:57:06.694545Z"
    }
   },
   "source": [
    "def line_plot(x_lines: np.array = np.array([]), y_lines: np.array = np.array([]), title: str = 'predicted function',\n",
    "show_legend: bool = True, visible: bool = True, ) -> go.Scatter:\n",
    "\n",
    "    scatter = go.Scatter(x=x_lines, y=y_lines, line=dict(color=\"orange\", width=3), name=title, showlegend= show_legend, visible=visible)\n",
    "    return scatter"
   ],
   "outputs": [],
   "execution_count": 984
  },
  {
   "cell_type": "markdown",
   "metadata": {},
   "source": [
    "define function for a scatter plot:\n",
    "* creates a scatter plot with Plotly\n",
    "* **x_dots** is an array of x-coordinates for the data points in the scatter plot with an empty default array\n",
    "* **y_dots** is an array of y-coordinates for the data points in the scatter plot with an empty default array"
   ]
  },
  {
   "cell_type": "code",
   "metadata": {
    "ExecuteTime": {
     "end_time": "2024-07-24T14:57:07.541353Z",
     "start_time": "2024-07-24T14:57:07.532300Z"
    }
   },
   "source": [
    "def scatter_plot(visible: bool = True, x_dots: np.array = np.array([]), y_dots: np.array = np.array([]), name_dots: str = 'observed points',\n",
    "show_legend: bool = True, color: str = 'red') -> go.Scatter:\n",
    "\n",
    "    scatter = go.Scatter(x=x_dots, y=y_dots, visible=visible, mode='markers', name=name_dots, marker=dict(color=color, size=8), showlegend=show_legend)\n",
    "    return scatter"
   ],
   "outputs": [],
   "execution_count": 985
  },
  {
   "cell_type": "markdown",
   "metadata": {},
   "source": [
    "define function for plotting the uncertainty area:\n",
    "* generates an area plot to represent the uncertainty using the Plotly\n",
    "* **x_lines** an array of x-coordinates for the lines outlining the area plot with an empty default array\n",
    "* **y_lower** an array of y-coordinates representing the lower boundary of the uncertainty area plot with an empty default array\n",
    "* **y_upper** an array of y-coordinates representing the upper boundary of the uncertainty area plot with an empty default array"
   ]
  },
  {
   "cell_type": "code",
   "metadata": {
    "ExecuteTime": {
     "end_time": "2024-07-24T14:57:08.054431Z",
     "start_time": "2024-07-24T14:57:08.052514Z"
    }
   },
   "source": [
    "def uncertainty_area_plot(visible: bool = True, x_lines: np.array = np.array([]), y_lower: np.array = np.array([]), y_upper: np.array = np.array([]), name: str = 'mean plus/minus standard deviation') -> go.Scatter:\n",
    "\n",
    "    scatter = go.Scatter(x=np.concatenate((x_lines, x_lines[::-1])), y=np.concatenate((y_upper, y_lower[::-1])), visible=visible, fill='toself', fillcolor='rgba(189, 195, 199, 0.5)', line=dict(color='rgba(200, 200, 200, 0)'), hoverinfo='skip', showlegend=True, name=name)\n",
    "    return scatter"
   ],
   "outputs": [],
   "execution_count": 986
  },
  {
   "cell_type": "markdown",
   "metadata": {},
   "source": [
    "define squared exponential kernel:\n",
    "* **variable1** & **variable2** correspond to t & t'\n",
    "* **sigma** describes the average distance away from the function mean and l determines the reach of influence on neighbors\n",
    "* **sigma** & **length** is assigned the float standard value 1\n",
    "* **variable_1** & **variable_2** expect an array"
   ]
  },
  {
   "cell_type": "code",
   "metadata": {
    "ExecuteTime": {
     "end_time": "2024-07-24T14:57:08.749546Z",
     "start_time": "2024-07-24T14:57:08.746035Z"
    }
   },
   "source": [
    "class SquaredExponentialKernel:\n",
    "    def __init__(self, sigma: float = 1, length: float = 1, alpha: float = 0.75, beta: float = 0.75):\n",
    "        self.sigma = sigma\n",
    "        self.length = length\n",
    "        self.alpha = alpha\n",
    "        self.beta = beta\n",
    "\n",
    "    def __call__(self, tau_1: np.array, tau_2: np.array):\n",
    "        def kernel(variable_1, variable_2):\n",
    "            k_SE = float(self.sigma**2 * np.exp(-(np.linalg.norm(variable_1 - variable_2)**2) /(2 * self.length**2)))\n",
    "            return k_SE\n",
    "        return kernel(tau_1, tau_2)"
   ],
   "outputs": [],
   "execution_count": 987
  },
  {
   "cell_type": "markdown",
   "metadata": {
    "ExecuteTime": {
     "end_time": "2024-03-18T13:48:10.656422Z",
     "start_time": "2024-03-18T13:48:08.952728Z"
    }
   },
   "source": [
    "visualize the squared exponential kernel:\n",
    "* only for testing the squared exponential kernel and monitor the effect of changing the parameters\n",
    "* **@interact** generates a user interface which allows for an interactive regulation of the parameters length, sigma and variable_2 in the defined ranges\n",
    "* the function **update** is called whenever the values of the sliders are changed\n",
    "* **batch_update()** ensures that all updates to the figure within the block are batched together"
   ]
  },
  {
   "cell_type": "code",
   "metadata": {
    "ExecuteTime": {
     "end_time": "2024-07-24T14:57:09.690543Z",
     "start_time": "2024-07-24T14:57:09.544450Z"
    }
   },
   "source": [
    "x_lines = np.arange(-10, 10, 0.1)\n",
    "kernel = SquaredExponentialKernel()  # initialize an instance of the class SquaredExponentialKernel, length and sigma have already standard values\n",
    "data = line_plot(x_lines=x_lines, y_lines=np.array([kernel(x, 0) for x in x_lines]))  # generates the data for the line distribution\n",
    "\n",
    "fig = go.FigureWidget(data)  # generates an interactive plot-widget with the passed data\n",
    "fig = update_layout_of_graph(fig, title='squared exponential kernel')\n",
    "\n",
    "@interact(length=(0.1, 3, 0.1), sigma=(0.1, 3, 0.1), variable_2=(-10, 10, 0.1))\n",
    "def update(length=1, sigma=1, variable_2=0):\n",
    "    with fig.batch_update():\n",
    "        kernel = SquaredExponentialKernel(sigma=sigma, length=length)  # a new instance of the class SquaredExponentialKernel with the updated length and sigma value is generated\n",
    "        fig.data[0].y = np.array([kernel(x, variable_2) for x in x_lines])  # updates the y-values plot data, data can contain multiply scatter plots\n",
    "        # with data[0].y the y-coordinates of the first scatter plot are accessed\n",
    "\n",
    "fig"
   ],
   "outputs": [
    {
     "data": {
      "text/plain": "interactive(children=(FloatSlider(value=1.0, description='length', max=3.0, min=0.1), FloatSlider(value=1.0, d…",
      "application/vnd.jupyter.widget-view+json": {
       "version_major": 2,
       "version_minor": 0,
       "model_id": "30c6f8fc5a9a435c825085955a45589e"
      }
     },
     "metadata": {},
     "output_type": "display_data"
    },
    {
     "data": {
      "application/vnd.jupyter.widget-view+json": {
       "version_major": 2,
       "version_minor": 0,
       "model_id": "a23f73001017409db95443a688671d8b"
      },
      "text/plain": "FigureWidget({\n    'data': [{'line': {'color': 'orange', 'width': 3},\n              'name': 'predicted function',\n              'showlegend': True,\n              'type': 'scatter',\n              'uid': 'cebee62f-f57f-4b23-80a3-9714cfe67b28',\n              'visible': True,\n              'x': array([-1.00000000e+01, -9.90000000e+00, -9.80000000e+00, -9.70000000e+00,\n                          -9.60000000e+00, -9.50000000e+00, -9.40000000e+00, -9.30000000e+00,\n                          -9.20000000e+00, -9.10000000e+00, -9.00000000e+00, -8.90000000e+00,\n                          -8.80000000e+00, -8.70000000e+00, -8.60000000e+00, -8.50000000e+00,\n                          -8.40000000e+00, -8.30000000e+00, -8.20000000e+00, -8.10000000e+00,\n                          -8.00000000e+00, -7.90000000e+00, -7.80000000e+00, -7.70000000e+00,\n                          -7.60000000e+00, -7.50000000e+00, -7.40000000e+00, -7.30000000e+00,\n                          -7.20000000e+00, -7.10000000e+00, -7.00000000e+00, -6.90000000e+00,\n                          -6.80000000e+00, -6.70000000e+00, -6.60000000e+00, -6.50000000e+00,\n                          -6.40000000e+00, -6.30000000e+00, -6.20000000e+00, -6.10000000e+00,\n                          -6.00000000e+00, -5.90000000e+00, -5.80000000e+00, -5.70000000e+00,\n                          -5.60000000e+00, -5.50000000e+00, -5.40000000e+00, -5.30000000e+00,\n                          -5.20000000e+00, -5.10000000e+00, -5.00000000e+00, -4.90000000e+00,\n                          -4.80000000e+00, -4.70000000e+00, -4.60000000e+00, -4.50000000e+00,\n                          -4.40000000e+00, -4.30000000e+00, -4.20000000e+00, -4.10000000e+00,\n                          -4.00000000e+00, -3.90000000e+00, -3.80000000e+00, -3.70000000e+00,\n                          -3.60000000e+00, -3.50000000e+00, -3.40000000e+00, -3.30000000e+00,\n                          -3.20000000e+00, -3.10000000e+00, -3.00000000e+00, -2.90000000e+00,\n                          -2.80000000e+00, -2.70000000e+00, -2.60000000e+00, -2.50000000e+00,\n                          -2.40000000e+00, -2.30000000e+00, -2.20000000e+00, -2.10000000e+00,\n                          -2.00000000e+00, -1.90000000e+00, -1.80000000e+00, -1.70000000e+00,\n                          -1.60000000e+00, -1.50000000e+00, -1.40000000e+00, -1.30000000e+00,\n                          -1.20000000e+00, -1.10000000e+00, -1.00000000e+00, -9.00000000e-01,\n                          -8.00000000e-01, -7.00000000e-01, -6.00000000e-01, -5.00000000e-01,\n                          -4.00000000e-01, -3.00000000e-01, -2.00000000e-01, -1.00000000e-01,\n                          -3.55271368e-14,  1.00000000e-01,  2.00000000e-01,  3.00000000e-01,\n                           4.00000000e-01,  5.00000000e-01,  6.00000000e-01,  7.00000000e-01,\n                           8.00000000e-01,  9.00000000e-01,  1.00000000e+00,  1.10000000e+00,\n                           1.20000000e+00,  1.30000000e+00,  1.40000000e+00,  1.50000000e+00,\n                           1.60000000e+00,  1.70000000e+00,  1.80000000e+00,  1.90000000e+00,\n                           2.00000000e+00,  2.10000000e+00,  2.20000000e+00,  2.30000000e+00,\n                           2.40000000e+00,  2.50000000e+00,  2.60000000e+00,  2.70000000e+00,\n                           2.80000000e+00,  2.90000000e+00,  3.00000000e+00,  3.10000000e+00,\n                           3.20000000e+00,  3.30000000e+00,  3.40000000e+00,  3.50000000e+00,\n                           3.60000000e+00,  3.70000000e+00,  3.80000000e+00,  3.90000000e+00,\n                           4.00000000e+00,  4.10000000e+00,  4.20000000e+00,  4.30000000e+00,\n                           4.40000000e+00,  4.50000000e+00,  4.60000000e+00,  4.70000000e+00,\n                           4.80000000e+00,  4.90000000e+00,  5.00000000e+00,  5.10000000e+00,\n                           5.20000000e+00,  5.30000000e+00,  5.40000000e+00,  5.50000000e+00,\n                           5.60000000e+00,  5.70000000e+00,  5.80000000e+00,  5.90000000e+00,\n                           6.00000000e+00,  6.10000000e+00,  6.20000000e+00,  6.30000000e+00,\n                           6.40000000e+00,  6.50000000e+00,  6.60000000e+00,  6.70000000e+00,\n                           6.80000000e+00,  6.90000000e+00,  7.00000000e+00,  7.10000000e+00,\n                           7.20000000e+00,  7.30000000e+00,  7.40000000e+00,  7.50000000e+00,\n                           7.60000000e+00,  7.70000000e+00,  7.80000000e+00,  7.90000000e+00,\n                           8.00000000e+00,  8.10000000e+00,  8.20000000e+00,  8.30000000e+00,\n                           8.40000000e+00,  8.50000000e+00,  8.60000000e+00,  8.70000000e+00,\n                           8.80000000e+00,  8.90000000e+00,  9.00000000e+00,  9.10000000e+00,\n                           9.20000000e+00,  9.30000000e+00,  9.40000000e+00,  9.50000000e+00,\n                           9.60000000e+00,  9.70000000e+00,  9.80000000e+00,  9.90000000e+00]),\n              'y': array([1.92874985e-22, 5.21673666e-22, 1.39694394e-21, 3.70353198e-21,\n                          9.72098502e-21, 2.52616378e-20, 6.49934797e-20, 1.65552266e-19,\n                          4.17501006e-19, 1.04240618e-18, 2.57675711e-18, 6.30618989e-18,\n                          1.52797997e-17, 3.66543340e-17, 8.70542662e-17, 2.04697171e-16,\n                          4.76530474e-16, 1.09831413e-15, 2.50622189e-15, 5.66199552e-15,\n                          1.26641655e-14, 2.80440474e-14, 6.14839641e-14, 1.33456608e-13,\n                          2.86797501e-13, 6.10193668e-13, 1.28533723e-12, 2.68054764e-12,\n                          5.53461007e-12, 1.13137762e-11, 2.28973485e-11, 4.58796249e-11,\n                          9.10147076e-11, 1.78755887e-10, 3.47589128e-10, 6.69158609e-10,\n                          1.27540763e-09, 2.40672244e-09, 4.49634946e-09, 8.31670246e-09,\n                          1.52299797e-08, 2.76124246e-08, 4.95640532e-08, 8.80817920e-08,\n                          1.54975314e-07, 2.69957850e-07, 4.65571572e-07, 7.94939362e-07,\n                          1.34381228e-06, 2.24905597e-06, 3.72665317e-06, 6.11356797e-06,\n                          9.92950431e-06, 1.59667839e-05, 2.54193465e-05, 4.00652974e-05,\n                          6.25215038e-05, 9.65934137e-05, 1.47748360e-04, 2.23745794e-04,\n                          3.35462628e-04, 4.97955422e-04, 7.31802419e-04, 1.06476624e-03,\n                          1.53381068e-03, 2.18749112e-03, 3.08871541e-03, 4.31784001e-03,\n                          5.97602290e-03, 8.18870101e-03, 1.11089965e-02, 1.49207861e-02,\n                          1.98410947e-02, 2.61214099e-02, 3.40474547e-02, 4.39369336e-02,\n                          5.61347628e-02, 7.10053537e-02, 8.89216175e-02, 1.10250525e-01,\n                          1.35335283e-01, 1.64474457e-01, 1.97898699e-01, 2.35746077e-01,\n                          2.78037300e-01, 3.24652467e-01, 3.75311099e-01, 4.29557358e-01,\n                          4.86752256e-01, 5.46074427e-01, 6.06530660e-01, 6.66976811e-01,\n                          7.26149037e-01, 7.82704538e-01, 8.35270211e-01, 8.82496903e-01,\n                          9.23116346e-01, 9.55997482e-01, 9.80198673e-01, 9.95012479e-01,\n                          1.00000000e+00, 9.95012479e-01, 9.80198673e-01, 9.55997482e-01,\n                          9.23116346e-01, 8.82496903e-01, 8.35270211e-01, 7.82704538e-01,\n                          7.26149037e-01, 6.66976811e-01, 6.06530660e-01, 5.46074427e-01,\n                          4.86752256e-01, 4.29557358e-01, 3.75311099e-01, 3.24652467e-01,\n                          2.78037300e-01, 2.35746077e-01, 1.97898699e-01, 1.64474457e-01,\n                          1.35335283e-01, 1.10250525e-01, 8.89216175e-02, 7.10053537e-02,\n                          5.61347628e-02, 4.39369336e-02, 3.40474547e-02, 2.61214099e-02,\n                          1.98410947e-02, 1.49207861e-02, 1.11089965e-02, 8.18870101e-03,\n                          5.97602290e-03, 4.31784001e-03, 3.08871541e-03, 2.18749112e-03,\n                          1.53381068e-03, 1.06476624e-03, 7.31802419e-04, 4.97955422e-04,\n                          3.35462628e-04, 2.23745794e-04, 1.47748360e-04, 9.65934137e-05,\n                          6.25215038e-05, 4.00652974e-05, 2.54193465e-05, 1.59667839e-05,\n                          9.92950431e-06, 6.11356797e-06, 3.72665317e-06, 2.24905597e-06,\n                          1.34381228e-06, 7.94939362e-07, 4.65571572e-07, 2.69957850e-07,\n                          1.54975314e-07, 8.80817920e-08, 4.95640532e-08, 2.76124246e-08,\n                          1.52299797e-08, 8.31670246e-09, 4.49634946e-09, 2.40672244e-09,\n                          1.27540763e-09, 6.69158609e-10, 3.47589128e-10, 1.78755887e-10,\n                          9.10147076e-11, 4.58796249e-11, 2.28973485e-11, 1.13137762e-11,\n                          5.53461007e-12, 2.68054764e-12, 1.28533723e-12, 6.10193668e-13,\n                          2.86797501e-13, 1.33456608e-13, 6.14839641e-14, 2.80440474e-14,\n                          1.26641655e-14, 5.66199552e-15, 2.50622189e-15, 1.09831413e-15,\n                          4.76530474e-16, 2.04697171e-16, 8.70542662e-17, 3.66543340e-17,\n                          1.52797997e-17, 6.30618989e-18, 2.57675711e-18, 1.04240618e-18,\n                          4.17501006e-19, 1.65552266e-19, 6.49934797e-20, 2.52616378e-20,\n                          9.72098502e-21, 3.70353198e-21, 1.39694394e-21, 5.21673666e-22])}],\n    'layout': {'autosize': False,\n               'height': 500,\n               'legend': {'x': 0.95, 'xanchor': 'right', 'y': 0.5, 'yanchor': 'top'},\n               'plot_bgcolor': 'black',\n               'template': '...',\n               'title': {'text': 'squared exponential kernel', 'x': 0.5, 'xanchor': 'center'},\n               'width': 1000,\n               'xaxis': {'linecolor': 'black', 'linewidth': 1, 'showline': True, 'title': {'text': 't / ms'}},\n               'yaxis': {'linecolor': 'black', 'linewidth': 1, 'showline': True, 'title': {'text': 'I / A'}}}\n})"
     },
     "execution_count": 988,
     "metadata": {},
     "output_type": "execute_result"
    }
   ],
   "execution_count": 988
  },
  {
   "cell_type": "markdown",
   "metadata": {},
   "source": [
    "functions for creating the covariance matrix, each of them were implemented separately in such a way as to make them comprehensible with the notes, which is why they are referenced:\n",
    "* **val_1** & **val_2** are equal to a certain element of the arrays **t** & **t'**\n",
    "* **alpha**, **R** & **C** are set to a specific value"
   ]
  },
  {
   "cell_type": "code",
   "metadata": {
    "ExecuteTime": {
     "end_time": "2024-07-24T14:57:10.145491Z",
     "start_time": "2024-07-24T14:57:10.108439Z"
    }
   },
   "source": [
    "def k_fu(val_1, val_2, cov_func, R=0.87, C=330e-6, L=1e-3):\n",
    "    alpha = cov_func.alpha\n",
    "    beta = cov_func.beta\n",
    "    l = cov_func.length\n",
    "\n",
    "    c = R * C * cov_func(val_1, val_2)\n",
    "\n",
    "    def integrand_a(tau):\n",
    "        a = -1 / (gamma(1+alpha) * l**2)\n",
    "        return a * (tau - val_2) * (val_1 - tau)**alpha * cov_func(tau, val_2)\n",
    "\n",
    "    def integrand_b(tau):\n",
    "        b = -1 / (gamma(1+alpha+beta) * l**2)\n",
    "        return b * (tau - val_2) * (val_1 - tau)**(alpha+beta) * cov_func(tau, val_2)\n",
    "\n",
    "    integral_val_a, _ = integrate(integrand_a, 0, val_1, epsabs=1e-9, epsrel=1e-9, limit=10000)\n",
    "    integral_val_b, _ = integrate(integrand_b, 0, val_1, epsabs=1e-9, epsrel=1e-9, limit=10000)\n",
    "    return integral_val_a + R / L * integral_val_b + c"
   ],
   "outputs": [],
   "execution_count": 989
  },
  {
   "cell_type": "code",
   "metadata": {
    "ExecuteTime": {
     "end_time": "2024-07-24T14:57:10.172842Z",
     "start_time": "2024-07-24T14:57:10.121771Z"
    }
   },
   "source": [
    "def k_uf(val_1, val_2, cov_func, R=0.87, C=330e-6, L=1e-3):\n",
    "    alpha = cov_func.alpha\n",
    "    beta = cov_func.beta\n",
    "    l = cov_func.length\n",
    "\n",
    "    c = R * C * cov_func(val_1, val_2)\n",
    "\n",
    "    def integrand_a(tau):\n",
    "        a = 1 / (gamma(1+alpha) * l**2)\n",
    "        return a * (val_1 - tau) * (val_2 - tau)**alpha * cov_func(val_1, tau)\n",
    "\n",
    "    def integrand_b(tau):\n",
    "        b = 1 / (gamma(1+alpha+beta) * l**2)\n",
    "        return b * (val_1 - tau) * (val_2 - tau)**(alpha+beta) * cov_func(val_1, tau)\n",
    "\n",
    "    integral_val_a, _ = integrate(integrand_a, 0, val_2, epsabs=1e-9, epsrel=1e-9, limit=10000)\n",
    "    integral_val_b, _ = integrate(integrand_b, 0, val_2, epsabs=1e-9, epsrel=1e-9, limit=10000)\n",
    "    return integral_val_a + R / L * integral_val_b + c"
   ],
   "outputs": [],
   "execution_count": 990
  },
  {
   "cell_type": "code",
   "metadata": {
    "ExecuteTime": {
     "end_time": "2024-07-24T14:57:10.766334Z",
     "start_time": "2024-07-24T14:57:10.512836Z"
    }
   },
   "source": [
    "def k_uu(val_1, val_2, cov_func):\n",
    "    return cov_func(val_1, val_2)"
   ],
   "outputs": [],
   "execution_count": 991
  },
  {
   "cell_type": "code",
   "metadata": {
    "ExecuteTime": {
     "end_time": "2024-07-24T14:57:10.887122Z",
     "start_time": "2024-07-24T14:57:10.874293Z"
    }
   },
   "source": [
    "def k_ff(val_1, val_2, cov_func, R=0.87, C=330e-6, L=1e-3):\n",
    "    alpha = cov_func.alpha\n",
    "    beta = cov_func.beta\n",
    "    l = cov_func.length\n",
    "\n",
    "    # simple expressions, see notes:\n",
    "    a = R * C * k_uf(val_1, val_2, cov_func, R, C, L)\n",
    "    b = R * C * (k_fu(val_1, val_2, cov_func, R, C, L) - R * C * k_uu(val_1, val_2, cov_func))\n",
    "\n",
    "    # more complex integral c, see notes:\n",
    "    def c():\n",
    "        def A(val_1, val_2, tau):\n",
    "            a = 1/gamma(1+alpha) * (val_2 - tau)**alpha * 1/l**2 * (val_1 - tau)\n",
    "            return a * cov_func(val_1, tau)\n",
    "\n",
    "        def B(val_1, val_2):\n",
    "            integrand = lambda tau: A(val_1, val_2, tau)\n",
    "            integral_val, _ = integrate(integrand, 0, val_2, epsabs=1e-8, epsrel=1e-8, limit=10000)\n",
    "            return integral_val\n",
    "\n",
    "        def derivative_B(tau, val_2, h= 0.01*np.sqrt(2e-53)):\n",
    "            def B_tau(tau):\n",
    "                return B(tau, val_2)\n",
    "            dB = (B_tau(tau + h) - B_tau(tau - h)) / (2*h)\n",
    "            return dB\n",
    "\n",
    "        def double_integral(val_1, val_2):\n",
    "            integrand = lambda tau: 1/gamma(1 + alpha) * (val_1 - tau)**alpha * derivative_B(tau, val_2)\n",
    "            integral_val, _ = integrate(integrand, 0, val_1, epsabs=1e-8, epsrel=1e-8, limit=10000)\n",
    "            return integral_val\n",
    "\n",
    "        c = double_integral(val_1, val_2)\n",
    "        return c\n",
    "\n",
    "    # more complex integral d, see notes:\n",
    "    def d():\n",
    "        def A(val_1, val_2, tau):\n",
    "            a = R / (L * gamma(1+alpha+beta)) * (val_2 - tau)**(alpha+beta) * 1/l**2 * (val_1 - tau)\n",
    "            return a * cov_func(val_1, tau)\n",
    "\n",
    "        def B(val_1, val_2):\n",
    "            integrand = lambda tau: A(val_1, val_2, tau)\n",
    "            integral_val, _ = integrate(integrand, 0, val_2, epsabs=1e-8, epsrel=1e-8, limit=10000)\n",
    "            return integral_val\n",
    "\n",
    "        def derivative_B(tau, val_2, h= 0.01*np.sqrt(2e-53)):\n",
    "            def B_tau(tau):\n",
    "                return B(tau, val_2)\n",
    "            dB = (B_tau(tau + h) - B_tau(tau - h)) / (2*h)\n",
    "            return dB\n",
    "\n",
    "        def double_integral(val_1, val_2):\n",
    "            integrand = lambda tau: 1/gamma(1 + alpha) * (val_1 - tau)**alpha * derivative_B(tau, val_2)\n",
    "            integral_val, _ = integrate(integrand, 0, val_1, epsabs=1e-8, epsrel=1e-8, limit=10000)\n",
    "            return integral_val\n",
    "\n",
    "        d = double_integral(val_1, val_2)\n",
    "        return d\n",
    "\n",
    "    # more complex integral e, see notes:\n",
    "    def e():\n",
    "        def A(val_1, val_2, tau):\n",
    "            a = 1/gamma(1+alpha) * (val_2 - tau)**alpha * 1/l**2 * (val_1 - tau)\n",
    "            return a * cov_func(val_1, tau)\n",
    "\n",
    "        def B(val_1, val_2):\n",
    "            integrand = lambda tau: A(val_1, val_2, tau)\n",
    "            integral_val, _ = integrate(integrand, 0, val_2, epsabs=1e-8, epsrel=1e-8, limit=10000)\n",
    "            return integral_val\n",
    "\n",
    "        def derivative_B(tau, val_2, h= 0.01*np.sqrt(2e-53)):\n",
    "            def B_tau(tau):\n",
    "                return B(tau, val_2)\n",
    "            dB = (B_tau(tau + h) - B_tau(tau - h)) / (2*h)\n",
    "            return dB\n",
    "\n",
    "        def double_integral(val_1, val_2):\n",
    "            integrand = lambda tau: 1 / gamma(1 + alpha + beta) * (val_1 - tau)**(alpha + beta) * derivative_B(tau, val_2)\n",
    "            integral_val, _ = integrate(integrand, 0, val_1, epsabs=1e-8, epsrel=1e-8, limit=10000)\n",
    "            return integral_val\n",
    "\n",
    "        e = R / L * double_integral(val_1, val_2)\n",
    "        return e\n",
    "\n",
    "    # more complex integral f, see notes:\n",
    "    def f():\n",
    "        def A(val_1, val_2, tau):\n",
    "            a = R / (L * gamma(1 + alpha + beta)) * (val_2 - tau)**(alpha + beta) * 1/l**2 * (val_1 - tau)\n",
    "            return a * cov_func(val_1, tau)\n",
    "\n",
    "        def B(val_1, val_2):\n",
    "            integrand = lambda tau: A(val_1, val_2, tau)\n",
    "            integral_val, _ = integrate(integrand, 0, val_2, epsabs=1e-8, epsrel=1e-8, limit=10000)\n",
    "            return integral_val\n",
    "\n",
    "        def derivative_B(tau, val_2, h= 0.01*np.sqrt(2e-53)):\n",
    "            def B_tau(tau):\n",
    "                return B(tau, val_2)\n",
    "            dB = (B_tau(tau + h) - B_tau(tau - h)) / (2*h)\n",
    "            return dB\n",
    "\n",
    "        def double_integral(val_1, val_2):\n",
    "            integrand = lambda tau: 1 / gamma(1 + alpha + beta) * (val_1 - tau)**(alpha + beta) * derivative_B(tau, val_2)\n",
    "            integral_val, _ = integrate(integrand, 0, val_1, epsabs=1e-8, epsrel=1e-8, limit=10000)\n",
    "            return integral_val\n",
    "\n",
    "        d = R / L * double_integral(val_1, val_2)\n",
    "        return d\n",
    "\n",
    "    return a + b + c() + d() + e() + f()"
   ],
   "outputs": [],
   "execution_count": 992
  },
  {
   "cell_type": "markdown",
   "metadata": {},
   "source": [
    "testing the implemented functions above:"
   ]
  },
  {
   "cell_type": "code",
   "metadata": {
    "ExecuteTime": {
     "end_time": "2024-07-24T14:58:08.524337Z",
     "start_time": "2024-07-24T14:57:11.279349Z"
    }
   },
   "source": [
    "val_1 = 0.1\n",
    "val_2 = 0.1\n",
    "x = np.arange(0.01, 3, 0.01)\n",
    "cov_func = SquaredExponentialKernel()\n",
    "\n",
    "for i in range(len(x)):\n",
    "    kuf = k_uf(x[i], x[i], cov_func)\n",
    "    kfu = k_fu(x[i], x[i], cov_func)\n",
    "    kuu = k_uu(x[i], x[i], cov_func)\n",
    "    kff = k_ff(x[i], x[i], cov_func)\n",
    "    print('kuf = ', kuf, 'kuu = ', kuu, 'kfu = ', kfu, 'kff = ', kff)"
   ],
   "outputs": [
    {
     "name": "stdout",
     "output_type": "stream",
     "text": [
      "kuf =  0.0003070494106657661 kuu =  1.0 kfu =  0.0003070494106657661 kff =  9.388136160428288e-08\n",
      "kuf =  0.0005070424443475588 kuu =  1.0 kfu =  0.0005070424443475588 kff =  2.0871736154436826e-07\n",
      "kuf =  0.001186970645058045 kuu =  1.0 kfu =  0.001186970645058045 kff =  5.991321343923294e-07\n",
      "kuf =  0.002735931327708859 kuu =  1.0 kfu =  0.002735931327708859 kff =  1.4885453583704266e-06\n",
      "kuf =  0.005613947511904068 kuu =  1.0 kfu =  0.005613947511904068 kff =  3.141102251335316e-06\n",
      "kuf =  0.010341646737587954 kuu =  1.0 kfu =  0.010341646737587954 kff =  5.855747146723003e-06\n",
      "kuf =  0.017493208442374654 kuu =  1.0 kfu =  0.017493208442374654 kff =  9.962173877611525e-06\n",
      "kuf =  0.02769105925971123 kuu =  1.0 kfu =  0.02769105925971123 kff =  1.581777981692619e-05\n",
      "kuf =  0.04160163276631617 kuu =  1.0 kfu =  0.04160163276631617 kff =  2.3805231124418744e-05\n",
      "kuf =  0.05993183223639681 kuu =  1.0 kfu =  0.05993183223639681 kff =  3.433043166013905e-05\n",
      "kuf =  0.08342598450086934 kuu =  1.0 kfu =  0.08342598450086934 kff =  4.782077389039917e-05\n",
      "kuf =  0.11286315137443532 kuu =  1.0 kfu =  0.11286315137443532 kff =  6.472359510920075e-05\n",
      "kuf =  0.14905470985347466 kuu =  1.0 kfu =  0.14905470985347466 kff =  8.550478798786514e-05\n",
      "kuf =  0.19284213955596335 kuu =  1.0 kfu =  0.19284213955596335 kff =  0.00011064753012303415\n",
      "kuf =  0.24509497331821106 kuu =  1.0 kfu =  0.24509497331821106 kff =  0.0001406511072693168\n",
      "kuf =  0.3067088785432948 kuu =  1.0 kfu =  0.3067088785432948 kff =  0.00017602981164955986\n",
      "kuf =  0.37860384493539145 kuu =  1.0 kfu =  0.37860384493539145 kff =  0.00021731190135190176\n",
      "kuf =  0.4617224599782348 kuu =  1.0 kfu =  0.4617224599782348 kff =  0.0002650386101095024\n",
      "kuf =  0.5570282576790756 kuu =  1.0 kfu =  0.5570282576790756 kff =  0.0003197631991493252\n",
      "kuf =  0.6655041291943509 kuu =  1.0 kfu =  0.6655041291943509 kff =  0.0003820500445733963\n",
      "kuf =  0.7881507862959471 kuu =  1.0 kfu =  0.7881507862959471 kff =  0.0004524737550811328\n",
      "kuf =  0.925985270438941 kuu =  1.0 kfu =  0.925985270438941 kff =  0.0005316183158760399\n",
      "kuf =  1.0800395015981332 kuu =  1.0 kfu =  1.0800395015981332 kff =  0.000620076255407648\n",
      "kuf =  1.2513588621472176 kuu =  1.0 kfu =  1.2513588621472176 kff =  0.0007184478322349323\n",
      "kuf =  1.4410008119541038 kuu =  1.0 kfu =  1.4410008119541038 kff =  0.0008273402398140464\n",
      "kuf =  1.6500335315619643 kuu =  1.0 kfu =  1.6500335315619643 kff =  0.0009473668274128798\n",
      "kuf =  1.8795345909285028 kuu =  1.0 kfu =  1.8795345909285028 kff =  0.0010791463357011461\n",
      "kuf =  2.1305896416630086 kuu =  1.0 kfu =  2.1305896416630086 kff =  0.0012233021458328995\n",
      "kuf =  2.404291131100383 kuu =  1.0 kfu =  2.404291131100383 kff =  0.00138046154106784\n",
      "kuf =  2.7017370368801004 kuu =  1.0 kfu =  2.7017370368801004 kff =  0.0015512549801665536\n",
      "kuf =  3.0240296209736575 kuu =  1.0 kfu =  3.0240296209736575 kff =  0.001736315381953074\n",
      "kuf =  3.372274202335742 kuu =  1.0 kfu =  3.372274202335742 kff =  0.001936277420571183\n",
      "kuf =  3.7475779475500426 kuu =  1.0 kfu =  3.7475779475500426 kff =  0.0021517768310732343\n",
      "kuf =  4.151048679006361 kuu =  1.0 kfu =  4.151048679006361 kff =  0.002383449725075452\n",
      "kuf =  4.58379370028658 kuu =  1.0 kfu =  4.58379370028658 kff =  0.002631931916294554\n",
      "kuf =  5.04691863855694 kuu =  1.0 kfu =  5.04691863855694 kff =  0.0028978582558493943\n",
      "kuf =  5.541526303866326 kuu =  1.0 kfu =  5.541526303866326 kff =  0.0031818619772700438\n",
      "kuf =  6.068715565337517 kuu =  1.0 kfu =  6.068715565337517 kff =  0.0034845740512068025\n",
      "kuf =  6.629580244312544 kuu =  1.0 kfu =  6.629580244312544 kff =  0.0038066225498742624\n",
      "kuf =  7.22520802457676 kuu =  1.0 kfu =  7.22520802457676 kff =  0.004148632021301975\n",
      "kuf =  7.856679379839788 kuu =  1.0 kfu =  7.856679379839788 kff =  0.004511222873494006\n",
      "kuf =  8.525066518696965 kuu =  1.0 kfu =  8.525066518696965 kff =  0.004895010768625797\n",
      "kuf =  9.23143234733306 kuu =  1.0 kfu =  9.23143234733306 kff =  0.005300606027428643\n",
      "kuf =  9.97682945026179 kuu =  1.0 kfu =  9.97682945026179 kff =  0.00572861304393032\n",
      "kuf =  10.762299089420825 kuu =  1.0 kfu =  10.762299089420825 kff =  0.006179629710735438\n",
      "kuf =  11.58887022196386 kuu =  1.0 kfu =  11.58887022196386 kff =  0.0066542468550416485\n",
      "kuf =  12.45755853710386 kuu =  1.0 kfu =  12.45755853710386 kff =  0.0071530476855950365\n",
      "kuf =  13.36936551238701 kuu =  1.0 kfu =  13.36936551238701 kff =  0.00767660725080262\n",
      "kuf =  14.32527748976566 kuu =  1.0 kfu =  14.32527748976566 kff =  0.008225491908213442\n",
      "kuf =  15.326264771865164 kuu =  1.0 kfu =  15.326264771865164 kff =  0.008800258805594978\n",
      "kuf =  16.373280738830797 kuu =  1.0 kfu =  16.373280738830797 kff =  0.009401455373826643\n",
      "kuf =  17.46726098614585 kuu =  1.0 kfu =  17.46726098614585 kff =  0.010029618831834945\n",
      "kuf =  18.609122483809728 kuu =  1.0 kfu =  18.609122483809728 kff =  0.010685275703793545\n",
      "kuf =  19.799762757261597 kuu =  1.0 kfu =  19.799762757261597 kff =  0.011368941348809607\n",
      "kuf =  21.04005909042947 kuu =  1.0 kfu =  21.04005909042947 kff =  0.0120811195033146\n",
      "kuf =  22.33086775127728 kuu =  1.0 kfu =  22.33086775127728 kff =  0.012822301836373413\n",
      "kuf =  23.673023240214075 kuu =  1.0 kfu =  23.673023240214075 kff =  0.013592967518120922\n",
      "kuf =  25.06733756171884 kuu =  1.0 kfu =  25.06733756171884 kff =  0.014393582801528956\n",
      "kuf =  26.514599519523134 kuu =  1.0 kfu =  26.514599519523134 kff =  0.015224600617700184\n",
      "kuf =  28.015574036820766 kuu =  1.0 kfu =  28.015574036820766 kff =  0.016086460185532482\n",
      "kuf =  29.571001495049064 kuu =  1.0 kfu =  29.571001495049064 kff =  0.01697958663204717\n",
      "kuf =  31.181597108302874 kuu =  1.0 kfu =  31.181597108302874 kff =  0.01790439063317751\n",
      "kuf =  32.84805031153808 kuu =  1.0 kfu =  32.84805031153808 kff =  0.018861268062475164\n",
      "kuf =  34.57102417926769 kuu =  1.0 kfu =  34.57102417926769 kff =  0.019850599657325503\n",
      "kuf =  36.351154868491456 kuu =  1.0 kfu =  36.351154868491456 kff =  0.02087275069907779\n",
      "kuf =  38.18905108716681 kuu =  1.0 kfu =  38.18905108716681 kff =  0.021928070707841182\n",
      "kuf =  40.085293588435505 kuu =  1.0 kfu =  40.085293588435505 kff =  0.023016893152069666\n",
      "kuf =  42.040434690801796 kuu =  1.0 kfu =  42.040434690801796 kff =  0.024139535173048392\n",
      "kuf =  44.05499782443796 kuu =  1.0 kfu =  44.05499782443796 kff =  0.025296297324382273\n",
      "kuf =  46.12947710377278 kuu =  1.0 kfu =  46.12947710377278 kff =  0.026487463326576328\n",
      "kuf =  48.26433692649892 kuu =  1.0 kfu =  48.26433692649892 kff =  0.02771329983678568\n",
      "kuf =  50.46001159911363 kuu =  1.0 kfu =  50.46001159911363 kff =  0.028974056233801043\n",
      "kuf =  52.71690498908676 kuu =  1.0 kfu =  52.71690498908676 kff =  0.030269964418323615\n",
      "kuf =  55.035390203728504 kuu =  1.0 kfu =  55.035390203728504 kff =  0.03160123862857091\n",
      "kuf =  57.4158092958083 kuu =  1.0 kfu =  57.4158092958083 kff =  0.032968075271243125\n",
      "kuf =  59.85847299595444 kuu =  1.0 kfu =  59.85847299595444 kff =  0.034370652767867035\n",
      "kuf =  62.363660471842344 kuu =  1.0 kfu =  62.363660471842344 kff =  0.03580913141652187\n",
      "kuf =  64.93161911415804 kuu =  1.0 kfu =  64.93161911415804 kff =  0.03728365326893955\n",
      "kuf =  67.56256434930157 kuu =  1.0 kfu =  67.56256434930157 kff =  0.038794342022958964\n",
      "kuf =  70.256679478773 kuu =  1.0 kfu =  70.256679478773 kff =  0.040341302930301456\n",
      "kuf =  73.0141155451629 kuu =  1.0 kfu =  73.0141155451629 kff =  0.04192462271962254\n",
      "kuf =  75.83499122464644 kuu =  1.0 kfu =  75.83499122464644 kff =  0.04354436953478198\n",
      "kuf =  78.71939274586063 kuu =  1.0 kfu =  78.71939274586063 kff =  0.04520059288826317\n",
      "kuf =  81.6673738350202 kuu =  1.0 kfu =  81.6673738350202 kff =  0.046893323629658604\n",
      "kuf =  84.67895568711006 kuu =  1.0 kfu =  84.67895568711006 kff =  0.048622573929128596\n",
      "kuf =  87.75412696296807 kuu =  1.0 kfu =  87.75412696296807 kff =  0.050388337275726267\n",
      "kuf =  90.89284381205304 kuu =  1.0 kfu =  90.89284381205304 kff =  0.052190588490470854\n",
      "kuf =  94.09502992067286 kuu =  1.0 kfu =  94.09502992067286 kff =  0.054029283754040355\n",
      "kuf =  97.36057658542566 kuu =  1.0 kfu =  97.36057658542566 kff =  0.055904360648941415\n",
      "kuf =  100.6893428115895 kuu =  1.0 kfu =  100.6893428115895 kff =  0.05781573821600469\n",
      "kuf =  104.08115543617446 kuu =  1.0 kfu =  104.08115543617446 kff =  0.05976331702504137\n",
      "kuf =  107.53580927533461 kuu =  1.0 kfu =  107.53580927533461 kff =  0.061746979259487134\n",
      "kuf =  111.05306729581261 kuu =  1.0 kfu =  111.05306729581261 kff =  0.06376658881484559\n",
      "kuf =  114.63266081008554 kuu =  1.0 kfu =  114.63266081008554 kff =  0.0658219914107411\n",
      "kuf =  118.27428969484052 kuu =  1.0 kfu =  118.27428969484052 kff =  0.06791301471636743\n",
      "kuf =  121.97762263241387 kuu =  1.0 kfu =  121.97762263241387 kff =  0.07003946848912204\n",
      "kuf =  125.74229737479553 kuu =  1.0 kfu =  125.74229737479553 kff =  0.0722011447261976\n",
      "kuf =  129.5679210297915 kuu =  1.0 kfu =  129.5679210297915 kff =  0.07439781782889628\n",
      "kuf =  133.45407036891754 kuu =  1.0 kfu =  133.45407036891754 kff =  0.07662924477942244\n",
      "kuf =  137.40029215658367 kuu =  1.0 kfu =  137.40029215658367 kff =  0.07889516532990035\n",
      "kuf =  141.40610350011434 kuu =  1.0 kfu =  141.40610350011434 kff =  0.08119530220335565\n",
      "kuf =  145.4709922201332 kuu =  1.0 kfu =  145.4709922201332 kff =  0.08352936130639048\n",
      "kuf =  149.5944172408291 kuu =  1.0 kfu =  149.5944172408291 kff =  0.08589703195327407\n",
      "kuf =  153.7758089996068 kuu =  1.0 kfu =  153.7758089996068 kff =  0.08829798710116421\n",
      "kuf =  158.01456987561184 kuu =  1.0 kfu =  158.01456987561184 kff =  0.09073188359616631\n",
      "kuf =  162.310074636609 kuu =  1.0 kfu =  162.310074636609 kff =  0.09319836242993088\n",
      "kuf =  166.6616709036799 kuu =  1.0 kfu =  166.6616709036799 kff =  0.09569704900648299\n",
      "kuf =  171.06867963319797 kuu =  1.0 kfu =  171.06867963319797 kff =  0.09822755341897227\n",
      "kuf =  175.53039561552444 kuu =  1.0 kfu =  175.53039561552444 kff =  0.10078947073602412\n",
      "kuf =  180.0460879898636 kuu =  1.0 kfu =  180.0460879898636 kff =  0.10338238129736967\n",
      "kuf =  184.61500077470365 kuu =  1.0 kfu =  184.61500077470365 kff =  0.10600585101842483\n",
      "kuf =  189.23635341326332 kuu =  1.0 kfu =  189.23635341326332 kff =  0.10865943170348578\n",
      "kuf =  193.9093413333546 kuu =  1.0 kfu =  193.9093413333546 kff =  0.11134266136720221\n",
      "kuf =  198.63313652106763 kuu =  1.0 kfu =  198.63313652106763 kff =  0.11405506456398702\n",
      "kuf =  203.40688810767395 kuu =  1.0 kfu =  203.40688810767395 kff =  0.11679615272501637\n",
      "kuf =  208.22972296914276 kuu =  1.0 kfu =  208.22972296914276 kff =  0.11956542450247176\n",
      "kuf =  213.10074633765515 kuu =  1.0 kfu =  213.10074633765515 kff =  0.12236236612067158\n",
      "kuf =  218.0190424245018 kuu =  1.0 kfu =  218.0190424245018 kff =  0.12518645173373893\n",
      "kuf =  222.98367505374046 kuu =  1.0 kfu =  222.98367505374046 kff =  0.12803714378944775\n",
      "kuf =  227.993688307131 kuu =  1.0 kfu =  227.993688307131 kff =  0.13091389339954462\n",
      "kuf =  233.04810717291605 kuu =  1.0 kfu =  233.04810717291605 kff =  0.13381614071227838\n",
      "kuf =  238.14593821474705 kuu =  1.0 kfu =  238.14593821474705 kff =  0.13674331529649775\n",
      "kuf =  243.28617023766512 kuu =  1.0 kfu =  243.28617023766512 kff =  0.13969483652405731\n",
      "kuf =  248.46777496727012 kuu =  1.0 kfu =  248.46777496727012 kff =  0.14267011395979648\n",
      "kuf =  253.68970773477486 kuu =  1.0 kfu =  253.68970773477486 kff =  0.1456685477548977\n",
      "kuf =  258.95090816842145 kuu =  1.0 kfu =  258.95090816842145 kff =  0.1486895290438976\n",
      "kuf =  264.250300890631 kuu =  1.0 kfu =  264.250300890631 kff =  0.15173244034499034\n",
      "kuf =  269.58679622026085 kuu =  1.0 kfu =  269.58679622026085 kff =  0.15479665596326378\n",
      "kuf =  274.95929087934354 kuu =  1.0 kfu =  274.95929087934354 kff =  0.15788154239650906\n",
      "kuf =  280.3666687036886 kuu =  1.0 kfu =  280.3666687036886 kff =  0.16098645874324802\n",
      "kuf =  285.8078013567269 kuu =  1.0 kfu =  285.8078013567269 kff =  0.16411075711262257\n",
      "kuf =  291.2815490459862 kuu =  1.0 kfu =  291.2815490459862 kff =  0.16725378303579527\n",
      "kuf =  296.78676124158767 kuu =  1.0 kfu =  296.78676124158767 kff =  0.17041487587850962\n",
      "kuf =  302.32227739616036 kuu =  1.0 kfu =  302.32227739616036 kff =  0.17359336925446528\n",
      "kuf =  307.88692766557534 kuu =  1.0 kfu =  307.88692766557534 kff =  0.17678859143916337\n",
      "kuf =  313.47953362990893 kuu =  1.0 kfu =  313.47953362990893 kff =  0.17999986578388372\n",
      "kuf =  319.09890901404793 kuu =  1.0 kfu =  319.09890901404793 kff =  0.18322651112945632\n",
      "kuf =  324.7438604073627 kuu =  1.0 kfu =  324.7438604073627 kff =  0.18646784221949766\n",
      "kuf =  330.41318798187433 kuu =  1.0 kfu =  330.41318798187433 kff =  0.18972317011278222\n",
      "kuf =  336.10568620835744 kuu =  1.0 kfu =  336.10568620835744 kff =  0.19299180259442883\n",
      "kuf =  341.8201445698243 kuu =  1.0 kfu =  341.8201445698243 kff =  0.19627304458558312\n",
      "kuf =  347.5553482718462 kuu =  1.0 kfu =  347.5553482718462 kff =  0.19956619855128407\n",
      "kuf =  353.31007894917764 kuu =  1.0 kfu =  353.31007894917764 kff =  0.2028705649062078\n",
      "kuf =  359.0831153681599 kuu =  1.0 kfu =  359.0831153681599 kff =  0.20618544241798742\n",
      "kuf =  364.8732341243889 kuu =  1.0 kfu =  364.8732341243889 kff =  0.2095101286078141\n",
      "kuf =  370.6792103351426 kuu =  1.0 kfu =  370.6792103351426 kff =  0.2128439201480289\n",
      "kuf =  376.499818326079 kuu =  1.0 kfu =  376.499818326079 kff =  0.21618611325642456\n",
      "kuf =  382.3338323117198 kuu =  1.0 kfu =  382.3338323117198 kff =  0.21953600408697949\n",
      "kuf =  388.1800270692517 kuu =  1.0 kfu =  388.1800270692517 kff =  0.2228928891167543\n",
      "kuf =  394.0371786051886 kuu =  1.0 kfu =  394.0371786051886 kff =  0.2262560655286893\n",
      "kuf =  399.9040648144486 kuu =  1.0 kfu =  399.9040648144486 kff =  0.22962483159004637\n",
      "kuf =  405.77946613141273 kuu =  1.0 kfu =  405.77946613141273 kff =  0.2329984870262472\n",
      "kuf =  411.6621661725461 kuu =  1.0 kfu =  411.6621661725461 kff =  0.23637633338986597\n",
      "kuf =  417.5509523701758 kuu =  1.0 kfu =  417.5509523701758 kff =  0.23975767442454493\n",
      "kuf =  423.44461659702864 kuu =  1.0 kfu =  423.44461659702864 kff =  0.24314181642360383\n",
      "kuf =  429.3419557811516 kuu =  1.0 kfu =  429.3419557811516 kff =  0.24652806858312726\n",
      "kuf =  435.24177251084905 kuu =  1.0 kfu =  435.24177251084905 kff =  0.2499157433493195\n",
      "kuf =  441.14287562927836 kuu =  1.0 kfu =  441.14287562927836 kff =  0.25330415675992163\n",
      "kuf =  447.04408081837425 kuu =  1.0 kfu =  447.04408081837425 kff =  0.2566926287795005\n",
      "kuf =  452.9442111717684 kuu =  1.0 kfu =  452.9442111717684 kff =  0.2600804836284194\n",
      "kuf =  458.84209775639977 kuu =  1.0 kfu =  458.84209775639977 kff =  0.26346705010531474\n",
      "kuf =  464.7365801625165 kuu =  1.0 kfu =  464.7365801625165 kff =  0.266851661902907\n",
      "kuf =  470.62650704178884 kuu =  1.0 kfu =  470.62650704178884 kff =  0.27023365791698517\n",
      "kuf =  476.5107366332661 kuu =  1.0 kfu =  476.5107366332661 kff =  0.27361238254841136\n",
      "kuf =  482.3881372769242 kuu =  1.0 kfu =  482.3881372769242 kff =  0.2769871859979999\n",
      "kuf =  488.2575879145643 kuu =  1.0 kfu =  488.2575879145643 kff =  0.2803574245541328\n",
      "kuf =  494.11797857784296 kuu =  1.0 kfu =  494.11797857784296 kff =  0.2837224608729874\n",
      "kuf =  499.9682108632197 kuu =  1.0 kfu =  499.9682108632197 kff =  0.28708166425125076\n",
      "kuf =  505.8071983936318 kuu =  1.0 kfu =  505.8071983936318 kff =  0.29043441089121336\n",
      "kuf =  511.63386726671155 kuu =  1.0 kfu =  511.63386726671155 kff =  0.2937800841581357\n",
      "kuf =  517.4471564893867 kuu =  1.0 kfu =  517.4471564893867 kff =  0.2971180748297958\n",
      "kuf =  523.2460183987068 kuu =  1.0 kfu =  523.2460183987068 kff =  0.30044778133812744\n",
      "kuf =  529.0294190687623 kuu =  1.0 kfu =  529.0294190687623 kff =  0.30376861000287325\n",
      "kuf =  534.7963387035722 kuu =  1.0 kfu =  534.7963387035722 kff =  0.3070799752571811\n",
      "kuf =  540.5457720158344 kuu =  1.0 kfu =  540.5457720158344 kff =  0.31038129986508206\n",
      "kuf =  546.2767285914397 kuu =  1.0 kfu =  546.2767285914397 kff =  0.3136720151307947\n",
      "kuf =  551.9882332396743 kuu =  1.0 kfu =  551.9882332396743 kff =  0.31695156109981093\n",
      "kuf =  557.6793263290413 kuu =  1.0 kfu =  557.6793263290413 kff =  0.32021938675172545\n",
      "kuf =  563.349064108647 kuu =  1.0 kfu =  563.349064108647 kff =  0.32347495018477507\n",
      "kuf =  568.9965190151156 kuu =  1.0 kfu =  568.9965190151156 kff =  0.32671771879206934\n",
      "kuf =  574.6207799650043 kuu =  1.0 kfu =  574.6207799650043 kff =  0.3299471694294954\n",
      "kuf =  580.2209526327056 kuu =  1.0 kfu =  580.2209526327056 kff =  0.33316278857528947\n",
      "kuf =  585.7961597138352 kuu =  1.0 kfu =  585.7961597138352 kff =  0.33636407248127415\n",
      "kuf =  591.3455411741223 kuu =  1.0 kfu =  591.3455411741223 kff =  0.339550527315771\n",
      "kuf =  596.8682544838183 kuu =  1.0 kfu =  596.8682544838183 kff =  0.3427216692981985\n",
      "kuf =  602.363474837674 kuu =  1.0 kfu =  602.363474837674 kff =  0.34587702482538235\n",
      "kuf =  607.830395360522 kuu =  1.0 kfu =  607.830395360522 kff =  0.3490161305896017\n",
      "kuf =  613.26822729853 kuu =  1.0 kfu =  613.26822729853 kff =  0.35213853368840586\n",
      "kuf =  618.6762001961988 kuu =  1.0 kfu =  618.6762001961988 kff =  0.3552437917262473\n",
      "kuf =  624.053562059187 kuu =  1.0 kfu =  624.053562059187 kff =  0.3583314729079752\n",
      "kuf =  629.3995795030547 kuu =  1.0 kfu =  629.3995795030547 kff =  0.36140115612424395\n",
      "kuf =  634.7135378880356 kuu =  1.0 kfu =  634.7135378880356 kff =  0.3644524310289\n",
      "kuf =  639.9947414399485 kuu =  1.0 kfu =  639.9947414399485 kff =  0.3674848981084084\n",
      "kuf =  645.242513357377 kuu =  1.0 kfu =  645.242513357377 kff =  0.3704981687433958\n",
      "kuf =  650.456195905252 kuu =  1.0 kfu =  650.456195905252 kff =  0.37349186526238565\n",
      "kuf =  655.6351504949804 kuu =  1.0 kfu =  655.6351504949804 kff =  0.37646562098780767\n",
      "kuf =  660.7787577512751 kuu =  1.0 kfu =  660.7787577512751 kff =  0.3794190802743721\n",
      "kuf =  665.8864175658509 kuu =  1.0 kfu =  665.8864175658509 kff =  0.3823518985399016\n",
      "kuf =  670.9575491381543 kuu =  1.0 kfu =  670.9575491381543 kff =  0.3852637422887182\n",
      "kuf =  675.9915910033105 kuu =  1.0 kfu =  675.9915910033105 kff =  0.3881542891276909\n",
      "kuf =  680.9880010474719 kuu =  1.0 kfu =  680.9880010474719 kff =  0.3910232277750484\n",
      "kuf =  685.9462565107674 kuu =  1.0 kfu =  685.9462565107674 kff =  0.39387025806207265\n",
      "kuf =  690.8658539780503 kuu =  1.0 kfu =  690.8658539780503 kff =  0.39669509092778643\n",
      "kuf =  695.7463093576594 kuu =  1.0 kfu =  695.7463093576594 kff =  0.39949744840675794\n",
      "kuf =  700.5871578484044 kuu =  1.0 kfu =  700.5871578484044 kff =  0.4022770636101438\n",
      "kuf =  705.3879538950048 kuu =  1.0 kfu =  705.3879538950048 kff =  0.4050336807001017\n",
      "kuf =  710.1482711322005 kuu =  1.0 kfu =  710.1482711322005 kff =  0.4077670548576995\n",
      "kuf =  714.8677023177793 kuu =  1.0 kfu =  714.8677023177793 kff =  0.4104769522444588\n",
      "kuf =  719.5458592547545 kuu =  1.0 kfu =  719.5458592547545 kff =  0.41316314995767\n",
      "kuf =  724.1823727029357 kuu =  1.0 kfu =  724.1823727029357 kff =  0.41582543597961563\n",
      "kuf =  728.7768922801475 kuu =  1.0 kfu =  728.7768922801475 kff =  0.4184636091208507\n",
      "kuf =  733.3290863533438 kuu =  1.0 kfu =  733.3290863533438 kff =  0.42107747895768\n",
      "kuf =  737.838641919878 kuu =  1.0 kfu =  737.838641919878 kff =  0.42366686576398394\n",
      "kuf =  742.3052644791894 kuu =  1.0 kfu =  742.3052644791894 kff =  0.4262316004375405\n",
      "kuf =  746.7286778951715 kuu =  1.0 kfu =  746.7286778951715 kff =  0.4287715244209974\n",
      "kuf =  751.108624249485 kuu =  1.0 kfu =  751.108624249485 kff =  0.43128648961764426\n",
      "kuf =  755.444863686093 kuu =  1.0 kfu =  755.444863686093 kff =  0.43377635830214456\n",
      "kuf =  759.7371742472818 kuu =  1.0 kfu =  759.7371742472818 kff =  0.43624100302637914\n",
      "kuf =  763.9853517014542 kuu =  1.0 kfu =  763.9853517014542 kff =  0.438680306520565\n",
      "kuf =  768.1892093629549 kuu =  1.0 kfu =  768.1892093629549 kff =  0.44109416158979864\n",
      "kuf =  772.3485779042253 kuu =  1.0 kfu =  772.3485779042253 kff =  0.4434824710061961\n",
      "kuf =  776.4633051605492 kuu =  1.0 kfu =  776.4633051605492 kff =  0.44584514739677733\n",
      "kuf =  780.5332559276815 kuu =  1.0 kfu =  780.5332559276815 kff =  0.44818211312726464\n",
      "kuf =  784.5583117526352 kuu =  1.0 kfu =  784.5583117526352 kff =  0.4504933001819531\n",
      "kuf =  788.5383707179084 kuu =  1.0 kfu =  788.5383707179084 kff =  0.452778650039813\n",
      "kuf =  792.4733472194331 kuu =  1.0 kfu =  792.4733472194331 kff =  0.4550381135469884\n",
      "kuf =  796.3631717385267 kuu =  1.0 kfu =  796.3631717385267 kff =  0.45727165078585197\n",
      "kuf =  800.2077906081252 kuu =  1.0 kfu =  800.2077906081252 kff =  0.4594792309407755\n",
      "kuf =  804.0071657735803 kuu =  1.0 kfu =  804.0071657735803 kff =  0.46166083216077974\n",
      "kuf =  807.7612745482966 kuu =  1.0 kfu =  807.7612745482966 kff =  0.46381644141922185\n",
      "kuf =  811.4701093644879 kuu =  1.0 kfu =  811.4701093644879 kff =  0.46594605437067893\n",
      "kuf =  815.1336775193284 kuu =  1.0 kfu =  815.1336775193284 kff =  0.46804967520518836\n",
      "kuf =  818.7520009167721 kuu =  1.0 kfu =  818.7520009167721 kff =  0.4701273165000005\n",
      "kuf =  822.3251158053164 kuu =  1.0 kfu =  822.3251158053164 kff =  0.4721789990690026\n",
      "kuf =  825.8530725119729 kuu =  1.0 kfu =  825.8530725119729 kff =  0.4742047518099648\n",
      "kuf =  829.3359351727241 kuu =  1.0 kfu =  829.3359351727241 kff =  0.4762046115497681\n",
      "kuf =  832.7737814597194 kuu =  1.0 kfu =  832.7737814597194 kff =  0.47817862288776086\n",
      "kuf =  836.1667023054838 kuu =  1.0 kfu =  836.1667023054838 kff =  0.48012683803739875\n",
      "kuf =  839.5148016243911 kuu =  1.0 kfu =  839.5148016243911 kff =  0.48204931666631534\n",
      "kuf =  842.818196032804 kuu =  1.0 kfu =  842.818196032804 kff =  0.483946125735626\n",
      "kuf =  846.0770145613062 kuu =  1.0 kfu =  846.0770145613062 kff =  0.48581733933469196\n",
      "kuf =  849.291398376297 kuu =  1.0 kfu =  849.291398376297 kff =  0.4876630385212597\n",
      "kuf =  852.4615004885582 kuu =  1.0 kfu =  852.4615004885582 kff =  0.48948331115412\n",
      "kuf =  855.5874854659733 kuu =  1.0 kfu =  855.5874854659733 kff =  0.4912782517281518\n",
      "kuf =  858.6695291438734 kuu =  1.0 kfu =  858.6695291438734 kff =  0.4930479612080021\n",
      "kuf =  861.7078183343776 kuu =  1.0 kfu =  861.7078183343776 kff =  0.49479254686118956\n",
      "kuf =  864.7025505349491 kuu =  1.0 kfu =  864.7025505349491 kff =  0.4965121220907577\n",
      "kuf =  867.6539336363978 kuu =  1.0 kfu =  867.6539336363978 kff =  0.4982068062676096\n",
      "kuf =  870.5621856305494 kuu =  1.0 kfu =  870.5621856305494 kff =  0.4998767245626514\n",
      "kuf =  873.4275343178012 kuu =  1.0 kfu =  873.4275343178012 kff =  0.5015220077788715\n",
      "kuf =  876.2502170147684 kuu =  1.0 kfu =  876.2502170147684 kff =  0.5031427921834699\n",
      "kuf =  879.0304802622392 kuu =  1.0 kfu =  879.0304802622392 kff =  0.5047392193401676\n",
      "kuf =  881.7685795336332 kuu =  1.0 kfu =  881.7685795336332 kff =  0.5063114359418022\n",
      "kuf =  884.4647789441658 kuu =  1.0 kfu =  884.4647789441658 kff =  0.50785959364333\n",
      "kuf =  887.1193509609091 kuu =  1.0 kfu =  887.1193509609091 kff =  0.5093838488953439\n",
      "kuf =  889.7325761139364 kuu =  1.0 kfu =  889.7325761139364 kff =  0.5108843627782123\n",
      "kuf =  892.3047427087353 kuu =  1.0 kfu =  892.3047427087353 kff =  0.5123613008369458\n",
      "kuf =  894.8361465400657 kuu =  1.0 kfu =  894.8361465400657 kff =  0.5138148329168957\n",
      "kuf =  897.3270906074342 kuu =  1.0 kfu =  897.3270906074342 kff =  0.5152451330003787\n",
      "kuf =  899.7778848323521 kuu =  1.0 kfu =  899.7778848323521 kff =  0.5166523790443265\n",
      "kuf =  902.1888457775417 kuu =  1.0 kfu =  902.1888457775417 kff =  0.5180367528190544\n",
      "kuf =  904.5602963682411 kuu =  1.0 kfu =  904.5602963682411 kff =  0.5193984397482341\n",
      "kuf =  906.8925656157645 kuu =  1.0 kfu =  906.8925656157645 kff =  0.5207376287501619\n",
      "kuf =  909.1859883434614 kuu =  1.0 kfu =  909.1859883434614 kff =  0.5220545120804055\n",
      "kuf =  911.4409049152146 kuu =  1.0 kfu =  911.4409049152146 kff =  0.5233492851759062\n",
      "kuf =  913.6576609666107 kuu =  1.0 kfu =  913.6576609666107 kff =  0.5246221465006178\n",
      "kuf =  915.8366071389188 kuu =  1.0 kfu =  915.8366071389188 kff =  0.5258732973927571\n",
      "kuf =  917.9780988159895 kuu =  1.0 kfu =  917.9780988159895 kff =  0.5271029419137312\n",
      "kuf =  920.0824958642112 kuu =  1.0 kfu =  920.0824958642112 kff =  0.52831128669882\n",
      "kuf =  922.1501623756154 kuu =  1.0 kfu =  922.1501623756154 kff =  0.5294985408096684\n",
      "kuf =  924.1814664142615 kuu =  1.0 kfu =  924.1814664142615 kff =  0.5306649155886589\n",
      "kuf =  926.176779765983 kuu =  1.0 kfu =  926.176779765983 kff =  0.5318106245152174\n",
      "kuf =  928.1364776916126 kuu =  1.0 kfu =  928.1364776916126 kff =  0.532935883064114\n",
      "kuf =  930.0609386837608 kuu =  1.0 kfu =  930.0609386837608 kff =  0.5340409085658054\n",
      "kuf =  931.9505442272513 kuu =  1.0 kfu =  931.9505442272513 kff =  0.5351259200688776\n",
      "kuf =  933.8056785632807 kuu =  1.0 kfu =  933.8056785632807 kff =  0.5361911382046257\n",
      "kuf =  935.6267284573942 kuu =  1.0 kfu =  935.6267284573942 kff =  0.5372367850538257\n",
      "kuf =  937.4140829713367 kuu =  1.0 kfu =  937.4140829713367 kff =  0.5382630840157315\n",
      "kuf =  939.1681332388531 kuu =  1.0 kfu =  939.1681332388531 kff =  0.5392702596793394\n",
      "kuf =  940.8892722455023 kuu =  1.0 kfu =  940.8892722455023 kff =  0.5402585376969573\n",
      "kuf =  942.5778946125369 kuu =  1.0 kfu =  942.5778946125369 kff =  0.5412281446601086\n",
      "kuf =  944.2343963849012 kuu =  1.0 kfu =  944.2343963849012 kff =  0.5421793079778002\n",
      "kuf =  945.8591748234036 kuu =  1.0 kfu =  945.8591748234036 kff =  0.5431122557571884\n",
      "kuf =  947.4526282010985 kuu =  1.0 kfu =  947.4526282010985 kff =  0.5440272166866607\n",
      "kuf =  949.0151556039184 kuu =  1.0 kfu =  949.0151556039184 kff =  0.5449244199213599\n",
      "kuf =  950.5471567355934 kuu =  1.0 kfu =  950.5471567355934 kff =  0.5458040949711677\n",
      "kuf =  952.0490317268883 kuu =  1.0 kfu =  952.0490317268883 kff =  0.5466664715911692\n",
      "kuf =  953.5211809491773 kuu =  1.0 kfu =  953.5211809491773 kff =  0.5475117796746076\n",
      "kuf =  954.9640048323868 kuu =  1.0 kfu =  954.9640048323868 kff =  0.5483402491483464\n",
      "kuf =  956.3779036873166 kuu =  1.0 kfu =  956.3779036873166 kff =  0.5491521098708472\n",
      "kuf =  957.7632775323567 kuu =  1.0 kfu =  957.7632775323567 kff =  0.5499475915326693\n",
      "kuf =  959.1205259246075 kuu =  1.0 kfu =  959.1205259246075 kff =  0.5507269235594996\n",
      "kuf =  960.4500477954125 kuu =  1.0 kfu =  960.4500477954125 kff =  0.5514903350177158\n",
      "kuf =  961.7522412902997 kuu =  1.0 kfu =  961.7522412902997 kff =  0.5522380545224801\n",
      "kuf =  963.0275036133366 kuu =  1.0 kfu =  963.0275036133366 kff =  0.5529703101483678\n",
      "kuf =  964.2762308758898 kuu =  1.0 kfu =  964.2762308758898 kff =  0.553687329342526\n",
      "kuf =  965.4988179497801 kuu =  1.0 kfu =  965.4988179497801 kff =  0.5543893388403537\n",
      "kuf =  966.6956583248269 kuu =  1.0 kfu =  966.6956583248269 kff =  0.5550765645837056\n",
      "kuf =  967.8671439707567 kuu =  1.0 kfu =  967.8671439707567 kff =  0.5557492316415985\n"
     ]
    }
   ],
   "execution_count": 993
  },
  {
   "cell_type": "markdown",
   "metadata": {},
   "source": [
    "a function for creating the sub and covariance matrix as described in the notes:\n",
    "* works only correctly for squared matrices [n1 x n2] where n1 = n2"
   ]
  },
  {
   "cell_type": "code",
   "metadata": {
    "ExecuteTime": {
     "end_time": "2024-07-24T14:58:08.538986Z",
     "start_time": "2024-07-24T14:58:08.528150Z"
    }
   },
   "source": [
    "def create_sub_matrix(variable_1, variable_2, specified_cov_function, cov_function):\n",
    "    n1 = len(variable_1)\n",
    "    n2 = len(variable_2)\n",
    "    sub_matrix = np.zeros((n1, n2))\n",
    "\n",
    "    for i, val_1 in enumerate(variable_1):\n",
    "        for j, val_2 in enumerate(variable_2):\n",
    "            sub_matrix[i, j] = specified_cov_function(val_1, val_2, cov_function)\n",
    "\n",
    "    return sub_matrix"
   ],
   "outputs": [],
   "execution_count": 994
  },
  {
   "cell_type": "markdown",
   "metadata": {},
   "source": [
    "a function for creating the covariance matrix as described in the notes:\n",
    "* works only correctly for squared matrices [2*n1 x 2*n2] where n1 = n2"
   ]
  },
  {
   "cell_type": "code",
   "metadata": {
    "ExecuteTime": {
     "end_time": "2024-07-24T14:58:08.539649Z",
     "start_time": "2024-07-24T14:58:08.532009Z"
    }
   },
   "source": [
    "def create_cov_matrix(variable_1, variable_2, cov_function):\n",
    "    n1 = len(variable_1)\n",
    "    n2 = len(variable_2)\n",
    "    cov = np.zeros((2*n1, 2*n2))\n",
    "\n",
    "    kuu_sub_matrix = create_sub_matrix(variable_1, variable_2, k_uu, cov_function)\n",
    "    kuf_sub_matrix = create_sub_matrix(variable_1, variable_2, k_uf, cov_function)\n",
    "    kfu_sub_matrix = create_sub_matrix(variable_1, variable_2, k_fu, cov_function)\n",
    "    kff_sub_matrix = create_sub_matrix(variable_1, variable_2, k_ff, cov_function)\n",
    "\n",
    "    for i in range(2*n1):\n",
    "        for j in range(2*n2):\n",
    "\n",
    "            if i <= n1 - 1 and j <= n2 - 1:\n",
    "                #print('kuu')\n",
    "                cov[i, j] = kuu_sub_matrix[i, j]\n",
    "            elif i <= n1 - 1 and n2 <= j <= 2*n2 - 1:\n",
    "                #print('kuf')\n",
    "                cov[i, j] = kuf_sub_matrix[i, j - n2]\n",
    "            elif n1 <= i <= 2*n1 - 1 and j <= n2 - 1:\n",
    "                #print('kfu')\n",
    "                cov[i, j] = kfu_sub_matrix[i - n1, j]\n",
    "            else:\n",
    "                #print('kff')\n",
    "                cov[i, j] = kff_sub_matrix[i - n1, j - n2]\n",
    "\n",
    "    return cov"
   ],
   "outputs": [],
   "execution_count": 995
  },
  {
   "cell_type": "markdown",
   "metadata": {},
   "source": [
    "testing the implemented functions for creating the covariance matrix above"
   ]
  },
  {
   "cell_type": "code",
   "metadata": {
    "ExecuteTime": {
     "end_time": "2024-07-24T14:58:11.483799Z",
     "start_time": "2024-07-24T14:58:08.553342Z"
    }
   },
   "source": [
    "variable_1 = [1, 1, 1, 1]\n",
    "variable_2 = [1, 1, 1, 1]\n",
    "#variable_1 = np.array([0.3, 0.8, 1.4, 1.8, 2])\n",
    "#variable_2 = np.array([0.3, 0.8, 1.4, 1.8, 2])\n",
    "\n",
    "cov_func = SquaredExponentialKernel()\n",
    "cov = create_cov_matrix(variable_1, variable_2, cov_func)\n",
    "\n",
    "print('covariance matrix = ', cov)"
   ],
   "outputs": [
    {
     "name": "stdout",
     "output_type": "stream",
     "text": [
      "covariance matrix =  [[1.00000000e+00 1.00000000e+00 1.00000000e+00 1.00000000e+00\n",
      "  1.37400292e+02 1.37400292e+02 1.37400292e+02 1.37400292e+02]\n",
      " [1.00000000e+00 1.00000000e+00 1.00000000e+00 1.00000000e+00\n",
      "  1.37400292e+02 1.37400292e+02 1.37400292e+02 1.37400292e+02]\n",
      " [1.00000000e+00 1.00000000e+00 1.00000000e+00 1.00000000e+00\n",
      "  1.37400292e+02 1.37400292e+02 1.37400292e+02 1.37400292e+02]\n",
      " [1.00000000e+00 1.00000000e+00 1.00000000e+00 1.00000000e+00\n",
      "  1.37400292e+02 1.37400292e+02 1.37400292e+02 1.37400292e+02]\n",
      " [1.37400292e+02 1.37400292e+02 1.37400292e+02 1.37400292e+02\n",
      "  7.88951653e-02 7.88951653e-02 7.88951653e-02 7.88951653e-02]\n",
      " [1.37400292e+02 1.37400292e+02 1.37400292e+02 1.37400292e+02\n",
      "  7.88951653e-02 7.88951653e-02 7.88951653e-02 7.88951653e-02]\n",
      " [1.37400292e+02 1.37400292e+02 1.37400292e+02 1.37400292e+02\n",
      "  7.88951653e-02 7.88951653e-02 7.88951653e-02 7.88951653e-02]\n",
      " [1.37400292e+02 1.37400292e+02 1.37400292e+02 1.37400292e+02\n",
      "  7.88951653e-02 7.88951653e-02 7.88951653e-02 7.88951653e-02]]\n"
     ]
    }
   ],
   "execution_count": 996
  },
  {
   "cell_type": "markdown",
   "metadata": {},
   "source": [
    "define function for calculating q_u transposed\n"
   ]
  },
  {
   "cell_type": "code",
   "metadata": {
    "ExecuteTime": {
     "end_time": "2024-07-24T14:58:11.487057Z",
     "start_time": "2024-07-24T14:58:11.486423Z"
    }
   },
   "source": [
    "def q_u_transposed(variable_1, variable_2, cov_function):\n",
    "    n1 = len(variable_1)\n",
    "    n2 = len(variable_2)\n",
    "    q_u_trans = np.zeros((n1, 2*n2))\n",
    "\n",
    "    kuu_sub_matrix = create_sub_matrix(variable_1, variable_2, k_uu, cov_function)\n",
    "    kuf_sub_matrix = create_sub_matrix(variable_1, variable_2, k_uf, cov_function)\n",
    "\n",
    "    for i in range(n1):\n",
    "        for j in range(2*n2):\n",
    "\n",
    "            if j <= n2 - 1:\n",
    "                q_u_trans[i, j] = kuu_sub_matrix[i, j]\n",
    "            else:\n",
    "                q_u_trans[i, j] = kuf_sub_matrix[i, j - n2]\n",
    "\n",
    "    return q_u_trans"
   ],
   "outputs": [],
   "execution_count": 997
  },
  {
   "cell_type": "code",
   "source": [
    "def q_f_transposed(variable_1, variable_2, cov_function):\n",
    "    n1 = len(variable_1)\n",
    "    n2 = len(variable_2)\n",
    "    q_f_trans = np.zeros((n1, 2*n2))\n",
    "\n",
    "    kfu_sub_matrix = create_sub_matrix(variable_1, variable_2, k_fu, cov_function)\n",
    "    kff_sub_matrix = create_sub_matrix(variable_1, variable_2, k_ff, cov_function)\n",
    "\n",
    "    for i in range(n1):\n",
    "        for j in range(2*n2):\n",
    "\n",
    "            if j <= n2 - 1:\n",
    "                q_f_trans[i, j] = kfu_sub_matrix[i, j]\n",
    "            else:\n",
    "                q_f_trans[i, j] = kff_sub_matrix[i, j - n2]\n",
    "\n",
    "    return q_f_trans"
   ],
   "metadata": {
    "collapsed": false,
    "ExecuteTime": {
     "end_time": "2024-07-24T14:58:11.490315Z",
     "start_time": "2024-07-24T14:58:11.488790Z"
    }
   },
   "outputs": [],
   "execution_count": 998
  },
  {
   "cell_type": "markdown",
   "metadata": {},
   "source": [
    "testing if the function q_u_transposed works properly"
   ]
  },
  {
   "cell_type": "code",
   "metadata": {
    "ExecuteTime": {
     "end_time": "2024-07-24T14:58:11.542227Z",
     "start_time": "2024-07-24T14:58:11.504542Z"
    }
   },
   "source": [
    "variable_1 = [1, 1, 1, 1]\n",
    "variable_2 = [1, 2, 1, 1]\n",
    "cov_func = SquaredExponentialKernel()\n",
    "\n",
    "q_u_trans = q_u_transposed(variable_1, variable_2, cov_func)\n",
    "print('q_u transposed = ', q_u_trans)"
   ],
   "outputs": [
    {
     "name": "stdout",
     "output_type": "stream",
     "text": [
      "q_u transposed =  [[  1.           0.60653066   1.           1.         137.40029216\n",
      "  475.66522877 137.40029216 137.40029216]\n",
      " [  1.           0.60653066   1.           1.         137.40029216\n",
      "  475.66522877 137.40029216 137.40029216]\n",
      " [  1.           0.60653066   1.           1.         137.40029216\n",
      "  475.66522877 137.40029216 137.40029216]\n",
      " [  1.           0.60653066   1.           1.         137.40029216\n",
      "  475.66522877 137.40029216 137.40029216]]\n"
     ]
    }
   ],
   "execution_count": 999
  },
  {
   "cell_type": "markdown",
   "source": [
    "new training method: page 113 in GP for ML"
   ],
   "metadata": {
    "collapsed": false
   }
  },
  {
   "cell_type": "code",
   "source": [
    "def log_marginal_likelihood(data_x, data_y, cov_func, noise):\n",
    "    n = len(data_x)\n",
    "    y = np.concatenate([data_y, data_y])\n",
    "    y_transposed = y.T\n",
    "    K = create_cov_matrix(data_x, data_x, cov_func) + noise * np.identity(2*n)\n",
    "    K_inverse = np.linalg.inv(K)\n",
    "\n",
    "    a = n/2 * np.log(2*np.pi)  # normalization constant\n",
    "    b = 1/2 * np.log(np.linalg.norm(K))  # complexity penalty\n",
    "    c = 1/2 * np.dot(y, np.dot(K_inverse, y_transposed))  # involving observed targets\n",
    "    log_ml = c + b + a  # is actually the negative log marginal likelihood\n",
    "    return log_ml\n",
    "\n",
    "sigma_vals = np.arange(0.2, 1, 0.05)\n",
    "length_vals = np.arange(0.1, 2.5, 0.05)\n",
    "memory = {'sigma': 1, 'length': 1, 'negative_log_marginal_likelihood': 1000}\n",
    "\n",
    "data_x = np.array([0.06078808034380694, 0.6117048213974552, 1.3795619642545989, 2.002887857111742, 2.733914642826028])\n",
    "data_y = np.array([-1.783753, -0.1626748, 0.1480789, 0.1019231, 0.0457059])\n",
    "\n",
    "for sigma_index, sigma_val in enumerate(sigma_vals):\n",
    "    for l_index, length_val in enumerate(length_vals):\n",
    "        cov_func = SquaredExponentialKernel(sigma=sigma_val, length=length_val)\n",
    "        negative_log_marginal_likelihood = log_marginal_likelihood(data_x, data_y, cov_func, noise = 0.01)\n",
    "        print('likelihood = ', negative_log_marginal_likelihood)\n",
    "\n",
    "        if negative_log_marginal_likelihood < memory['negative_log_marginal_likelihood']:\n",
    "            memory['length'] = length_val\n",
    "            memory['sigma'] = sigma_val\n",
    "            memory['negative_log_marginal_likelihood'] = negative_log_marginal_likelihood\n",
    "\n",
    "        print('obtained sigma and l values that minimize the negative log marginal likelihood: ', 'sigma = ', memory['sigma'], 'length = ', memory['length'])"
   ],
   "metadata": {
    "collapsed": false,
    "ExecuteTime": {
     "end_time": "2024-07-24T14:58:31.714499Z",
     "start_time": "2024-07-24T14:58:27.061355Z"
    }
   },
   "outputs": [
    {
     "name": "stdout",
     "output_type": "stream",
     "text": [
      "likelihood =  166.62032708949846\n",
      "obtained sigma and l values that minimize the negative log marginal likelihood:  sigma =  0.2 length =  0.1\n"
     ]
    },
    {
     "ename": "KeyboardInterrupt",
     "evalue": "",
     "output_type": "error",
     "traceback": [
      "\u001B[0;31m---------------------------------------------------------------------------\u001B[0m",
      "\u001B[0;31mKeyboardInterrupt\u001B[0m                         Traceback (most recent call last)",
      "Input \u001B[0;32mIn [1000]\u001B[0m, in \u001B[0;36m<cell line: 21>\u001B[0;34m()\u001B[0m\n\u001B[1;32m     22\u001B[0m \u001B[38;5;28;01mfor\u001B[39;00m l_index, length_val \u001B[38;5;129;01min\u001B[39;00m \u001B[38;5;28menumerate\u001B[39m(length_vals):\n\u001B[1;32m     23\u001B[0m     cov_func \u001B[38;5;241m=\u001B[39m SquaredExponentialKernel(sigma\u001B[38;5;241m=\u001B[39msigma_val, length\u001B[38;5;241m=\u001B[39mlength_val)\n\u001B[0;32m---> 24\u001B[0m     negative_log_marginal_likelihood \u001B[38;5;241m=\u001B[39m \u001B[43mlog_marginal_likelihood\u001B[49m\u001B[43m(\u001B[49m\u001B[43mdata_x\u001B[49m\u001B[43m,\u001B[49m\u001B[43m \u001B[49m\u001B[43mdata_y\u001B[49m\u001B[43m,\u001B[49m\u001B[43m \u001B[49m\u001B[43mcov_func\u001B[49m\u001B[43m,\u001B[49m\u001B[43m \u001B[49m\u001B[43mnoise\u001B[49m\u001B[43m \u001B[49m\u001B[38;5;241;43m=\u001B[39;49m\u001B[43m \u001B[49m\u001B[38;5;241;43m0.01\u001B[39;49m\u001B[43m)\u001B[49m\n\u001B[1;32m     25\u001B[0m     \u001B[38;5;28mprint\u001B[39m(\u001B[38;5;124m'\u001B[39m\u001B[38;5;124mlikelihood = \u001B[39m\u001B[38;5;124m'\u001B[39m, negative_log_marginal_likelihood)\n\u001B[1;32m     27\u001B[0m     \u001B[38;5;28;01mif\u001B[39;00m negative_log_marginal_likelihood \u001B[38;5;241m<\u001B[39m memory[\u001B[38;5;124m'\u001B[39m\u001B[38;5;124mnegative_log_marginal_likelihood\u001B[39m\u001B[38;5;124m'\u001B[39m]:\n",
      "Input \u001B[0;32mIn [1000]\u001B[0m, in \u001B[0;36mlog_marginal_likelihood\u001B[0;34m(data_x, data_y, cov_func, noise)\u001B[0m\n\u001B[1;32m      3\u001B[0m y \u001B[38;5;241m=\u001B[39m np\u001B[38;5;241m.\u001B[39mconcatenate([data_y, data_y])\n\u001B[1;32m      4\u001B[0m y_transposed \u001B[38;5;241m=\u001B[39m y\u001B[38;5;241m.\u001B[39mT\n\u001B[0;32m----> 5\u001B[0m K \u001B[38;5;241m=\u001B[39m \u001B[43mcreate_cov_matrix\u001B[49m\u001B[43m(\u001B[49m\u001B[43mdata_x\u001B[49m\u001B[43m,\u001B[49m\u001B[43m \u001B[49m\u001B[43mdata_x\u001B[49m\u001B[43m,\u001B[49m\u001B[43m \u001B[49m\u001B[43mcov_func\u001B[49m\u001B[43m)\u001B[49m \u001B[38;5;241m+\u001B[39m noise \u001B[38;5;241m*\u001B[39m np\u001B[38;5;241m.\u001B[39midentity(\u001B[38;5;241m2\u001B[39m\u001B[38;5;241m*\u001B[39mn)\n\u001B[1;32m      6\u001B[0m K_inverse \u001B[38;5;241m=\u001B[39m np\u001B[38;5;241m.\u001B[39mlinalg\u001B[38;5;241m.\u001B[39minv(K)\n\u001B[1;32m      8\u001B[0m a \u001B[38;5;241m=\u001B[39m n\u001B[38;5;241m/\u001B[39m\u001B[38;5;241m2\u001B[39m \u001B[38;5;241m*\u001B[39m np\u001B[38;5;241m.\u001B[39mlog(\u001B[38;5;241m2\u001B[39m\u001B[38;5;241m*\u001B[39mnp\u001B[38;5;241m.\u001B[39mpi)  \u001B[38;5;66;03m# normalization constant\u001B[39;00m\n",
      "Input \u001B[0;32mIn [995]\u001B[0m, in \u001B[0;36mcreate_cov_matrix\u001B[0;34m(variable_1, variable_2, cov_function)\u001B[0m\n\u001B[1;32m      7\u001B[0m kuf_sub_matrix \u001B[38;5;241m=\u001B[39m create_sub_matrix(variable_1, variable_2, k_uf, cov_function)\n\u001B[1;32m      8\u001B[0m kfu_sub_matrix \u001B[38;5;241m=\u001B[39m create_sub_matrix(variable_1, variable_2, k_fu, cov_function)\n\u001B[0;32m----> 9\u001B[0m kff_sub_matrix \u001B[38;5;241m=\u001B[39m \u001B[43mcreate_sub_matrix\u001B[49m\u001B[43m(\u001B[49m\u001B[43mvariable_1\u001B[49m\u001B[43m,\u001B[49m\u001B[43m \u001B[49m\u001B[43mvariable_2\u001B[49m\u001B[43m,\u001B[49m\u001B[43m \u001B[49m\u001B[43mk_ff\u001B[49m\u001B[43m,\u001B[49m\u001B[43m \u001B[49m\u001B[43mcov_function\u001B[49m\u001B[43m)\u001B[49m\n\u001B[1;32m     11\u001B[0m \u001B[38;5;28;01mfor\u001B[39;00m i \u001B[38;5;129;01min\u001B[39;00m \u001B[38;5;28mrange\u001B[39m(\u001B[38;5;241m2\u001B[39m\u001B[38;5;241m*\u001B[39mn1):\n\u001B[1;32m     12\u001B[0m     \u001B[38;5;28;01mfor\u001B[39;00m j \u001B[38;5;129;01min\u001B[39;00m \u001B[38;5;28mrange\u001B[39m(\u001B[38;5;241m2\u001B[39m\u001B[38;5;241m*\u001B[39mn2):\n",
      "Input \u001B[0;32mIn [994]\u001B[0m, in \u001B[0;36mcreate_sub_matrix\u001B[0;34m(variable_1, variable_2, specified_cov_function, cov_function)\u001B[0m\n\u001B[1;32m      6\u001B[0m \u001B[38;5;28;01mfor\u001B[39;00m i, val_1 \u001B[38;5;129;01min\u001B[39;00m \u001B[38;5;28menumerate\u001B[39m(variable_1):\n\u001B[1;32m      7\u001B[0m     \u001B[38;5;28;01mfor\u001B[39;00m j, val_2 \u001B[38;5;129;01min\u001B[39;00m \u001B[38;5;28menumerate\u001B[39m(variable_2):\n\u001B[0;32m----> 8\u001B[0m         sub_matrix[i, j] \u001B[38;5;241m=\u001B[39m \u001B[43mspecified_cov_function\u001B[49m\u001B[43m(\u001B[49m\u001B[43mval_1\u001B[49m\u001B[43m,\u001B[49m\u001B[43m \u001B[49m\u001B[43mval_2\u001B[49m\u001B[43m,\u001B[49m\u001B[43m \u001B[49m\u001B[43mcov_function\u001B[49m\u001B[43m)\u001B[49m\n\u001B[1;32m     10\u001B[0m \u001B[38;5;28;01mreturn\u001B[39;00m sub_matrix\n",
      "Input \u001B[0;32mIn [992]\u001B[0m, in \u001B[0;36mk_ff\u001B[0;34m(val_1, val_2, cov_func, R, C, L)\u001B[0m\n\u001B[1;32m    107\u001B[0m     d \u001B[38;5;241m=\u001B[39m R \u001B[38;5;241m/\u001B[39m L \u001B[38;5;241m*\u001B[39m double_integral(val_1, val_2)\n\u001B[1;32m    108\u001B[0m     \u001B[38;5;28;01mreturn\u001B[39;00m d\n\u001B[0;32m--> 110\u001B[0m \u001B[38;5;28;01mreturn\u001B[39;00m a \u001B[38;5;241m+\u001B[39m b \u001B[38;5;241m+\u001B[39m c() \u001B[38;5;241m+\u001B[39m d() \u001B[38;5;241m+\u001B[39m e() \u001B[38;5;241m+\u001B[39m \u001B[43mf\u001B[49m\u001B[43m(\u001B[49m\u001B[43m)\u001B[49m\n",
      "Input \u001B[0;32mIn [992]\u001B[0m, in \u001B[0;36mk_ff.<locals>.f\u001B[0;34m()\u001B[0m\n\u001B[1;32m    104\u001B[0m     integral_val, _ \u001B[38;5;241m=\u001B[39m integrate(integrand, \u001B[38;5;241m0\u001B[39m, val_1, epsabs\u001B[38;5;241m=\u001B[39m\u001B[38;5;241m1e-8\u001B[39m, epsrel\u001B[38;5;241m=\u001B[39m\u001B[38;5;241m1e-8\u001B[39m, limit\u001B[38;5;241m=\u001B[39m\u001B[38;5;241m10000\u001B[39m)\n\u001B[1;32m    105\u001B[0m     \u001B[38;5;28;01mreturn\u001B[39;00m integral_val\n\u001B[0;32m--> 107\u001B[0m d \u001B[38;5;241m=\u001B[39m R \u001B[38;5;241m/\u001B[39m L \u001B[38;5;241m*\u001B[39m \u001B[43mdouble_integral\u001B[49m\u001B[43m(\u001B[49m\u001B[43mval_1\u001B[49m\u001B[43m,\u001B[49m\u001B[43m \u001B[49m\u001B[43mval_2\u001B[49m\u001B[43m)\u001B[49m\n\u001B[1;32m    108\u001B[0m \u001B[38;5;28;01mreturn\u001B[39;00m d\n",
      "Input \u001B[0;32mIn [992]\u001B[0m, in \u001B[0;36mk_ff.<locals>.f.<locals>.double_integral\u001B[0;34m(val_1, val_2)\u001B[0m\n\u001B[1;32m    102\u001B[0m \u001B[38;5;28;01mdef\u001B[39;00m \u001B[38;5;21mdouble_integral\u001B[39m(val_1, val_2):\n\u001B[1;32m    103\u001B[0m     integrand \u001B[38;5;241m=\u001B[39m \u001B[38;5;28;01mlambda\u001B[39;00m tau: \u001B[38;5;241m1\u001B[39m \u001B[38;5;241m/\u001B[39m gamma(\u001B[38;5;241m1\u001B[39m \u001B[38;5;241m+\u001B[39m alpha \u001B[38;5;241m+\u001B[39m beta) \u001B[38;5;241m*\u001B[39m (val_1 \u001B[38;5;241m-\u001B[39m tau)\u001B[38;5;241m*\u001B[39m\u001B[38;5;241m*\u001B[39m(alpha \u001B[38;5;241m+\u001B[39m beta) \u001B[38;5;241m*\u001B[39m derivative_B(tau, val_2)\n\u001B[0;32m--> 104\u001B[0m     integral_val, _ \u001B[38;5;241m=\u001B[39m \u001B[43mintegrate\u001B[49m\u001B[43m(\u001B[49m\u001B[43mintegrand\u001B[49m\u001B[43m,\u001B[49m\u001B[43m \u001B[49m\u001B[38;5;241;43m0\u001B[39;49m\u001B[43m,\u001B[49m\u001B[43m \u001B[49m\u001B[43mval_1\u001B[49m\u001B[43m,\u001B[49m\u001B[43m \u001B[49m\u001B[43mepsabs\u001B[49m\u001B[38;5;241;43m=\u001B[39;49m\u001B[38;5;241;43m1e-8\u001B[39;49m\u001B[43m,\u001B[49m\u001B[43m \u001B[49m\u001B[43mepsrel\u001B[49m\u001B[38;5;241;43m=\u001B[39;49m\u001B[38;5;241;43m1e-8\u001B[39;49m\u001B[43m,\u001B[49m\u001B[43m \u001B[49m\u001B[43mlimit\u001B[49m\u001B[38;5;241;43m=\u001B[39;49m\u001B[38;5;241;43m10000\u001B[39;49m\u001B[43m)\u001B[49m\n\u001B[1;32m    105\u001B[0m     \u001B[38;5;28;01mreturn\u001B[39;00m integral_val\n",
      "File \u001B[0;32m/Library/Frameworks/Python.framework/Versions/3.10/lib/python3.10/site-packages/scipy/integrate/_quadpack_py.py:351\u001B[0m, in \u001B[0;36mquad\u001B[0;34m(func, a, b, args, full_output, epsabs, epsrel, limit, points, weight, wvar, wopts, maxp1, limlst)\u001B[0m\n\u001B[1;32m    348\u001B[0m flip, a, b \u001B[38;5;241m=\u001B[39m b \u001B[38;5;241m<\u001B[39m a, \u001B[38;5;28mmin\u001B[39m(a, b), \u001B[38;5;28mmax\u001B[39m(a, b)\n\u001B[1;32m    350\u001B[0m \u001B[38;5;28;01mif\u001B[39;00m weight \u001B[38;5;129;01mis\u001B[39;00m \u001B[38;5;28;01mNone\u001B[39;00m:\n\u001B[0;32m--> 351\u001B[0m     retval \u001B[38;5;241m=\u001B[39m \u001B[43m_quad\u001B[49m\u001B[43m(\u001B[49m\u001B[43mfunc\u001B[49m\u001B[43m,\u001B[49m\u001B[43m \u001B[49m\u001B[43ma\u001B[49m\u001B[43m,\u001B[49m\u001B[43m \u001B[49m\u001B[43mb\u001B[49m\u001B[43m,\u001B[49m\u001B[43m \u001B[49m\u001B[43margs\u001B[49m\u001B[43m,\u001B[49m\u001B[43m \u001B[49m\u001B[43mfull_output\u001B[49m\u001B[43m,\u001B[49m\u001B[43m \u001B[49m\u001B[43mepsabs\u001B[49m\u001B[43m,\u001B[49m\u001B[43m \u001B[49m\u001B[43mepsrel\u001B[49m\u001B[43m,\u001B[49m\u001B[43m \u001B[49m\u001B[43mlimit\u001B[49m\u001B[43m,\u001B[49m\n\u001B[1;32m    352\u001B[0m \u001B[43m                   \u001B[49m\u001B[43mpoints\u001B[49m\u001B[43m)\u001B[49m\n\u001B[1;32m    353\u001B[0m \u001B[38;5;28;01melse\u001B[39;00m:\n\u001B[1;32m    354\u001B[0m     \u001B[38;5;28;01mif\u001B[39;00m points \u001B[38;5;129;01mis\u001B[39;00m \u001B[38;5;129;01mnot\u001B[39;00m \u001B[38;5;28;01mNone\u001B[39;00m:\n",
      "File \u001B[0;32m/Library/Frameworks/Python.framework/Versions/3.10/lib/python3.10/site-packages/scipy/integrate/_quadpack_py.py:463\u001B[0m, in \u001B[0;36m_quad\u001B[0;34m(func, a, b, args, full_output, epsabs, epsrel, limit, points)\u001B[0m\n\u001B[1;32m    461\u001B[0m \u001B[38;5;28;01mif\u001B[39;00m points \u001B[38;5;129;01mis\u001B[39;00m \u001B[38;5;28;01mNone\u001B[39;00m:\n\u001B[1;32m    462\u001B[0m     \u001B[38;5;28;01mif\u001B[39;00m infbounds \u001B[38;5;241m==\u001B[39m \u001B[38;5;241m0\u001B[39m:\n\u001B[0;32m--> 463\u001B[0m         \u001B[38;5;28;01mreturn\u001B[39;00m \u001B[43m_quadpack\u001B[49m\u001B[38;5;241;43m.\u001B[39;49m\u001B[43m_qagse\u001B[49m\u001B[43m(\u001B[49m\u001B[43mfunc\u001B[49m\u001B[43m,\u001B[49m\u001B[43ma\u001B[49m\u001B[43m,\u001B[49m\u001B[43mb\u001B[49m\u001B[43m,\u001B[49m\u001B[43margs\u001B[49m\u001B[43m,\u001B[49m\u001B[43mfull_output\u001B[49m\u001B[43m,\u001B[49m\u001B[43mepsabs\u001B[49m\u001B[43m,\u001B[49m\u001B[43mepsrel\u001B[49m\u001B[43m,\u001B[49m\u001B[43mlimit\u001B[49m\u001B[43m)\u001B[49m\n\u001B[1;32m    464\u001B[0m     \u001B[38;5;28;01melse\u001B[39;00m:\n\u001B[1;32m    465\u001B[0m         \u001B[38;5;28;01mreturn\u001B[39;00m _quadpack\u001B[38;5;241m.\u001B[39m_qagie(func,bound,infbounds,args,full_output,epsabs,epsrel,limit)\n",
      "Input \u001B[0;32mIn [992]\u001B[0m, in \u001B[0;36mk_ff.<locals>.f.<locals>.double_integral.<locals>.<lambda>\u001B[0;34m(tau)\u001B[0m\n\u001B[1;32m    102\u001B[0m \u001B[38;5;28;01mdef\u001B[39;00m \u001B[38;5;21mdouble_integral\u001B[39m(val_1, val_2):\n\u001B[0;32m--> 103\u001B[0m     integrand \u001B[38;5;241m=\u001B[39m \u001B[38;5;28;01mlambda\u001B[39;00m tau: \u001B[38;5;241m1\u001B[39m \u001B[38;5;241m/\u001B[39m gamma(\u001B[38;5;241m1\u001B[39m \u001B[38;5;241m+\u001B[39m alpha \u001B[38;5;241m+\u001B[39m beta) \u001B[38;5;241m*\u001B[39m (val_1 \u001B[38;5;241m-\u001B[39m tau)\u001B[38;5;241m*\u001B[39m\u001B[38;5;241m*\u001B[39m(alpha \u001B[38;5;241m+\u001B[39m beta) \u001B[38;5;241m*\u001B[39m \u001B[43mderivative_B\u001B[49m\u001B[43m(\u001B[49m\u001B[43mtau\u001B[49m\u001B[43m,\u001B[49m\u001B[43m \u001B[49m\u001B[43mval_2\u001B[49m\u001B[43m)\u001B[49m\n\u001B[1;32m    104\u001B[0m     integral_val, _ \u001B[38;5;241m=\u001B[39m integrate(integrand, \u001B[38;5;241m0\u001B[39m, val_1, epsabs\u001B[38;5;241m=\u001B[39m\u001B[38;5;241m1e-8\u001B[39m, epsrel\u001B[38;5;241m=\u001B[39m\u001B[38;5;241m1e-8\u001B[39m, limit\u001B[38;5;241m=\u001B[39m\u001B[38;5;241m10000\u001B[39m)\n\u001B[1;32m    105\u001B[0m     \u001B[38;5;28;01mreturn\u001B[39;00m integral_val\n",
      "Input \u001B[0;32mIn [992]\u001B[0m, in \u001B[0;36mk_ff.<locals>.f.<locals>.derivative_B\u001B[0;34m(tau, val_2, h)\u001B[0m\n\u001B[1;32m     97\u001B[0m \u001B[38;5;28;01mdef\u001B[39;00m \u001B[38;5;21mB_tau\u001B[39m(tau):\n\u001B[1;32m     98\u001B[0m     \u001B[38;5;28;01mreturn\u001B[39;00m B(tau, val_2)\n\u001B[0;32m---> 99\u001B[0m dB \u001B[38;5;241m=\u001B[39m (\u001B[43mB_tau\u001B[49m\u001B[43m(\u001B[49m\u001B[43mtau\u001B[49m\u001B[43m \u001B[49m\u001B[38;5;241;43m+\u001B[39;49m\u001B[43m \u001B[49m\u001B[43mh\u001B[49m\u001B[43m)\u001B[49m \u001B[38;5;241m-\u001B[39m B_tau(tau \u001B[38;5;241m-\u001B[39m h)) \u001B[38;5;241m/\u001B[39m (\u001B[38;5;241m2\u001B[39m\u001B[38;5;241m*\u001B[39mh)\n\u001B[1;32m    100\u001B[0m \u001B[38;5;28;01mreturn\u001B[39;00m dB\n",
      "Input \u001B[0;32mIn [992]\u001B[0m, in \u001B[0;36mk_ff.<locals>.f.<locals>.derivative_B.<locals>.B_tau\u001B[0;34m(tau)\u001B[0m\n\u001B[1;32m     97\u001B[0m \u001B[38;5;28;01mdef\u001B[39;00m \u001B[38;5;21mB_tau\u001B[39m(tau):\n\u001B[0;32m---> 98\u001B[0m     \u001B[38;5;28;01mreturn\u001B[39;00m \u001B[43mB\u001B[49m\u001B[43m(\u001B[49m\u001B[43mtau\u001B[49m\u001B[43m,\u001B[49m\u001B[43m \u001B[49m\u001B[43mval_2\u001B[49m\u001B[43m)\u001B[49m\n",
      "Input \u001B[0;32mIn [992]\u001B[0m, in \u001B[0;36mk_ff.<locals>.f.<locals>.B\u001B[0;34m(val_1, val_2)\u001B[0m\n\u001B[1;32m     91\u001B[0m \u001B[38;5;28;01mdef\u001B[39;00m \u001B[38;5;21mB\u001B[39m(val_1, val_2):\n\u001B[1;32m     92\u001B[0m     integrand \u001B[38;5;241m=\u001B[39m \u001B[38;5;28;01mlambda\u001B[39;00m tau: A(val_1, val_2, tau)\n\u001B[0;32m---> 93\u001B[0m     integral_val, _ \u001B[38;5;241m=\u001B[39m \u001B[43mintegrate\u001B[49m\u001B[43m(\u001B[49m\u001B[43mintegrand\u001B[49m\u001B[43m,\u001B[49m\u001B[43m \u001B[49m\u001B[38;5;241;43m0\u001B[39;49m\u001B[43m,\u001B[49m\u001B[43m \u001B[49m\u001B[43mval_2\u001B[49m\u001B[43m,\u001B[49m\u001B[43m \u001B[49m\u001B[43mepsabs\u001B[49m\u001B[38;5;241;43m=\u001B[39;49m\u001B[38;5;241;43m1e-8\u001B[39;49m\u001B[43m,\u001B[49m\u001B[43m \u001B[49m\u001B[43mepsrel\u001B[49m\u001B[38;5;241;43m=\u001B[39;49m\u001B[38;5;241;43m1e-8\u001B[39;49m\u001B[43m,\u001B[49m\u001B[43m \u001B[49m\u001B[43mlimit\u001B[49m\u001B[38;5;241;43m=\u001B[39;49m\u001B[38;5;241;43m10000\u001B[39;49m\u001B[43m)\u001B[49m\n\u001B[1;32m     94\u001B[0m     \u001B[38;5;28;01mreturn\u001B[39;00m integral_val\n",
      "File \u001B[0;32m/Library/Frameworks/Python.framework/Versions/3.10/lib/python3.10/site-packages/scipy/integrate/_quadpack_py.py:351\u001B[0m, in \u001B[0;36mquad\u001B[0;34m(func, a, b, args, full_output, epsabs, epsrel, limit, points, weight, wvar, wopts, maxp1, limlst)\u001B[0m\n\u001B[1;32m    348\u001B[0m flip, a, b \u001B[38;5;241m=\u001B[39m b \u001B[38;5;241m<\u001B[39m a, \u001B[38;5;28mmin\u001B[39m(a, b), \u001B[38;5;28mmax\u001B[39m(a, b)\n\u001B[1;32m    350\u001B[0m \u001B[38;5;28;01mif\u001B[39;00m weight \u001B[38;5;129;01mis\u001B[39;00m \u001B[38;5;28;01mNone\u001B[39;00m:\n\u001B[0;32m--> 351\u001B[0m     retval \u001B[38;5;241m=\u001B[39m \u001B[43m_quad\u001B[49m\u001B[43m(\u001B[49m\u001B[43mfunc\u001B[49m\u001B[43m,\u001B[49m\u001B[43m \u001B[49m\u001B[43ma\u001B[49m\u001B[43m,\u001B[49m\u001B[43m \u001B[49m\u001B[43mb\u001B[49m\u001B[43m,\u001B[49m\u001B[43m \u001B[49m\u001B[43margs\u001B[49m\u001B[43m,\u001B[49m\u001B[43m \u001B[49m\u001B[43mfull_output\u001B[49m\u001B[43m,\u001B[49m\u001B[43m \u001B[49m\u001B[43mepsabs\u001B[49m\u001B[43m,\u001B[49m\u001B[43m \u001B[49m\u001B[43mepsrel\u001B[49m\u001B[43m,\u001B[49m\u001B[43m \u001B[49m\u001B[43mlimit\u001B[49m\u001B[43m,\u001B[49m\n\u001B[1;32m    352\u001B[0m \u001B[43m                   \u001B[49m\u001B[43mpoints\u001B[49m\u001B[43m)\u001B[49m\n\u001B[1;32m    353\u001B[0m \u001B[38;5;28;01melse\u001B[39;00m:\n\u001B[1;32m    354\u001B[0m     \u001B[38;5;28;01mif\u001B[39;00m points \u001B[38;5;129;01mis\u001B[39;00m \u001B[38;5;129;01mnot\u001B[39;00m \u001B[38;5;28;01mNone\u001B[39;00m:\n",
      "File \u001B[0;32m/Library/Frameworks/Python.framework/Versions/3.10/lib/python3.10/site-packages/scipy/integrate/_quadpack_py.py:463\u001B[0m, in \u001B[0;36m_quad\u001B[0;34m(func, a, b, args, full_output, epsabs, epsrel, limit, points)\u001B[0m\n\u001B[1;32m    461\u001B[0m \u001B[38;5;28;01mif\u001B[39;00m points \u001B[38;5;129;01mis\u001B[39;00m \u001B[38;5;28;01mNone\u001B[39;00m:\n\u001B[1;32m    462\u001B[0m     \u001B[38;5;28;01mif\u001B[39;00m infbounds \u001B[38;5;241m==\u001B[39m \u001B[38;5;241m0\u001B[39m:\n\u001B[0;32m--> 463\u001B[0m         \u001B[38;5;28;01mreturn\u001B[39;00m \u001B[43m_quadpack\u001B[49m\u001B[38;5;241;43m.\u001B[39;49m\u001B[43m_qagse\u001B[49m\u001B[43m(\u001B[49m\u001B[43mfunc\u001B[49m\u001B[43m,\u001B[49m\u001B[43ma\u001B[49m\u001B[43m,\u001B[49m\u001B[43mb\u001B[49m\u001B[43m,\u001B[49m\u001B[43margs\u001B[49m\u001B[43m,\u001B[49m\u001B[43mfull_output\u001B[49m\u001B[43m,\u001B[49m\u001B[43mepsabs\u001B[49m\u001B[43m,\u001B[49m\u001B[43mepsrel\u001B[49m\u001B[43m,\u001B[49m\u001B[43mlimit\u001B[49m\u001B[43m)\u001B[49m\n\u001B[1;32m    464\u001B[0m     \u001B[38;5;28;01melse\u001B[39;00m:\n\u001B[1;32m    465\u001B[0m         \u001B[38;5;28;01mreturn\u001B[39;00m _quadpack\u001B[38;5;241m.\u001B[39m_qagie(func,bound,infbounds,args,full_output,epsabs,epsrel,limit)\n",
      "Input \u001B[0;32mIn [992]\u001B[0m, in \u001B[0;36mk_ff.<locals>.f.<locals>.B.<locals>.<lambda>\u001B[0;34m(tau)\u001B[0m\n\u001B[1;32m     91\u001B[0m \u001B[38;5;28;01mdef\u001B[39;00m \u001B[38;5;21mB\u001B[39m(val_1, val_2):\n\u001B[0;32m---> 92\u001B[0m     integrand \u001B[38;5;241m=\u001B[39m \u001B[38;5;28;01mlambda\u001B[39;00m tau: \u001B[43mA\u001B[49m\u001B[43m(\u001B[49m\u001B[43mval_1\u001B[49m\u001B[43m,\u001B[49m\u001B[43m \u001B[49m\u001B[43mval_2\u001B[49m\u001B[43m,\u001B[49m\u001B[43m \u001B[49m\u001B[43mtau\u001B[49m\u001B[43m)\u001B[49m\n\u001B[1;32m     93\u001B[0m     integral_val, _ \u001B[38;5;241m=\u001B[39m integrate(integrand, \u001B[38;5;241m0\u001B[39m, val_2, epsabs\u001B[38;5;241m=\u001B[39m\u001B[38;5;241m1e-8\u001B[39m, epsrel\u001B[38;5;241m=\u001B[39m\u001B[38;5;241m1e-8\u001B[39m, limit\u001B[38;5;241m=\u001B[39m\u001B[38;5;241m10000\u001B[39m)\n\u001B[1;32m     94\u001B[0m     \u001B[38;5;28;01mreturn\u001B[39;00m integral_val\n",
      "Input \u001B[0;32mIn [992]\u001B[0m, in \u001B[0;36mk_ff.<locals>.f.<locals>.A\u001B[0;34m(val_1, val_2, tau)\u001B[0m\n\u001B[1;32m     87\u001B[0m \u001B[38;5;28;01mdef\u001B[39;00m \u001B[38;5;21mA\u001B[39m(val_1, val_2, tau):\n\u001B[1;32m     88\u001B[0m     a \u001B[38;5;241m=\u001B[39m R \u001B[38;5;241m/\u001B[39m (L \u001B[38;5;241m*\u001B[39m gamma(\u001B[38;5;241m1\u001B[39m \u001B[38;5;241m+\u001B[39m alpha \u001B[38;5;241m+\u001B[39m beta)) \u001B[38;5;241m*\u001B[39m (val_2 \u001B[38;5;241m-\u001B[39m tau)\u001B[38;5;241m*\u001B[39m\u001B[38;5;241m*\u001B[39m(alpha \u001B[38;5;241m+\u001B[39m beta) \u001B[38;5;241m*\u001B[39m \u001B[38;5;241m1\u001B[39m\u001B[38;5;241m/\u001B[39ml\u001B[38;5;241m*\u001B[39m\u001B[38;5;241m*\u001B[39m\u001B[38;5;241m2\u001B[39m \u001B[38;5;241m*\u001B[39m (val_1 \u001B[38;5;241m-\u001B[39m tau)\n\u001B[0;32m---> 89\u001B[0m     \u001B[38;5;28;01mreturn\u001B[39;00m a \u001B[38;5;241m*\u001B[39m \u001B[43mcov_func\u001B[49m\u001B[43m(\u001B[49m\u001B[43mval_1\u001B[49m\u001B[43m,\u001B[49m\u001B[43m \u001B[49m\u001B[43mtau\u001B[49m\u001B[43m)\u001B[49m\n",
      "Input \u001B[0;32mIn [987]\u001B[0m, in \u001B[0;36mSquaredExponentialKernel.__call__\u001B[0;34m(self, tau_1, tau_2)\u001B[0m\n\u001B[1;32m      5\u001B[0m     \u001B[38;5;28mself\u001B[39m\u001B[38;5;241m.\u001B[39malpha \u001B[38;5;241m=\u001B[39m alpha\n\u001B[1;32m      6\u001B[0m     \u001B[38;5;28mself\u001B[39m\u001B[38;5;241m.\u001B[39mbeta \u001B[38;5;241m=\u001B[39m beta\n\u001B[0;32m----> 8\u001B[0m \u001B[38;5;28;01mdef\u001B[39;00m \u001B[38;5;21m__call__\u001B[39m(\u001B[38;5;28mself\u001B[39m, tau_1: np\u001B[38;5;241m.\u001B[39marray, tau_2: np\u001B[38;5;241m.\u001B[39marray):\n\u001B[1;32m      9\u001B[0m     \u001B[38;5;28;01mdef\u001B[39;00m \u001B[38;5;21mkernel\u001B[39m(variable_1, variable_2):\n\u001B[1;32m     10\u001B[0m         k_SE \u001B[38;5;241m=\u001B[39m \u001B[38;5;28mfloat\u001B[39m(\u001B[38;5;28mself\u001B[39m\u001B[38;5;241m.\u001B[39msigma\u001B[38;5;241m*\u001B[39m\u001B[38;5;241m*\u001B[39m\u001B[38;5;241m2\u001B[39m \u001B[38;5;241m*\u001B[39m np\u001B[38;5;241m.\u001B[39mexp(\u001B[38;5;241m-\u001B[39m(np\u001B[38;5;241m.\u001B[39mlinalg\u001B[38;5;241m.\u001B[39mnorm(variable_1 \u001B[38;5;241m-\u001B[39m variable_2)\u001B[38;5;241m*\u001B[39m\u001B[38;5;241m*\u001B[39m\u001B[38;5;241m2\u001B[39m) \u001B[38;5;241m/\u001B[39m(\u001B[38;5;241m2\u001B[39m \u001B[38;5;241m*\u001B[39m \u001B[38;5;28mself\u001B[39m\u001B[38;5;241m.\u001B[39mlength\u001B[38;5;241m*\u001B[39m\u001B[38;5;241m*\u001B[39m\u001B[38;5;241m2\u001B[39m)))\n",
      "\u001B[0;31mKeyboardInterrupt\u001B[0m: "
     ]
    }
   ],
   "execution_count": 1000
  },
  {
   "cell_type": "code",
   "source": [
    "cov_func = SquaredExponentialKernel(sigma=0.375, length=2.5)\n",
    "negative_log_marginal_likelihood = log_marginal_likelihood(data_x, data_y, cov_func, noise = 0.01)\n",
    "print(negative_log_marginal_likelihood)"
   ],
   "metadata": {
    "collapsed": false,
    "ExecuteTime": {
     "end_time": "2024-07-24T14:29:51.746276Z",
     "start_time": "2024-07-24T14:29:47.208363Z"
    }
   },
   "outputs": [
    {
     "name": "stdout",
     "output_type": "stream",
     "text": [
      "163.2663783728347\n"
     ]
    }
   ],
   "execution_count": 981
  },
  {
   "cell_type": "markdown",
   "metadata": {},
   "source": [
    "define class GPR:\n",
    "* **data_x** is the input of the observed points\n",
    "* **data_y** is the output of the observed points\n",
    "* **noise** is the noise in the observed data\n",
    "* **memory** is a variable where the mean, the covariance matrix and the variance is stored\n",
    "* **3e-7** add this value to the noise in order to ensure stability when inverting the covariance matrix"
   ]
  },
  {
   "cell_type": "code",
   "metadata": {
    "ExecuteTime": {
     "end_time": "2024-07-24T14:58:53.462652Z",
     "start_time": "2024-07-24T14:58:53.448855Z"
    }
   },
   "source": [
    "class GPR:\n",
    "    def __init__(self, data_x, data_y, cov_func= SquaredExponentialKernel(sigma=memory['sigma'], length=memory['length']), noise=0.01):\n",
    "        print('sigma memory = ', memory['sigma'])\n",
    "        print('length memory = ', memory['length'])\n",
    "        self.data_x = data_x\n",
    "        self.data_y = np.concatenate([data_y, data_y])\n",
    "        self.cov_func = cov_func\n",
    "        self.noise = noise\n",
    "        self.memory = None\n",
    "\n",
    "        n = len(data_x)\n",
    "        self.inv_cov_matrix_of_input_data = np.linalg.inv(create_cov_matrix(data_x, data_x, cov_func) + (noise + 3e-7)**2 * np.identity(2*n))\n",
    "\n",
    "    def predict(self, at_values):\n",
    "        q_u_trans = q_u_transposed(at_values, self.data_x, self.cov_func)\n",
    "        q_f_trans = q_f_transposed(at_values, self.data_x, self.cov_func)\n",
    "\n",
    "        # methode paper:\n",
    "        mean_at_values_u = np.dot(q_u_trans, np.dot(self.data_y, self.inv_cov_matrix_of_input_data.T).T).flatten()\n",
    "        #mean_at_values_f = np.dot(q_f_trans, np.dot(self.data_y, self.inv_cov_matrix_of_input_data.T).T).flatten()\n",
    "\n",
    "        covariance_matrix_u = create_sub_matrix(at_values, at_values, k_uu, self.cov_func) - np.dot(q_u_trans, np.dot(self.inv_cov_matrix_of_input_data, q_u_trans.T))\n",
    "        #covariance_matrix_f = create_sub_matrix(at_values, at_values, k_ff, self.cov_func) - np.dot(q_f_trans, np.dot(self.inv_cov_matrix_of_input_data, q_f_trans.T))\n",
    "\n",
    "        variance_u = np.abs(np.diag(covariance_matrix_u))\n",
    "        #variance_f = np.abs(np.diag(covariance_matrix_f))\n",
    "\n",
    "        self.memory = {'mean': mean_at_values_u, 'covariance_matrix':covariance_matrix_u, 'variance': variance_u}\n",
    "\n",
    "        return mean_at_values_u"
   ],
   "outputs": [],
   "execution_count": 1001
  },
  {
   "cell_type": "markdown",
   "metadata": {
    "ExecuteTime": {
     "end_time": "2024-04-21T18:53:34.457759Z",
     "start_time": "2024-04-21T18:53:34.417061Z"
    }
   },
   "source": [
    "defining function for plotting the GPR:\n",
    "* **data_x** is a list of observed input data points\n",
    "* **data_y** is a list of observed output data points\n",
    "* **x** is equivalent to **at_values** in the GPR, the values we want to do predictions on"
   ]
  },
  {
   "cell_type": "code",
   "metadata": {
    "ExecuteTime": {
     "end_time": "2024-07-24T14:58:54.833153Z",
     "start_time": "2024-07-24T14:58:54.685184Z"
    }
   },
   "source": [
    "def plot_GPR(data_x, data_y, model, x, data_x_mv, data_y_mv, visible=True) -> list:\n",
    "    mean = model.predict(x)\n",
    "    standard_deviation = np.sqrt(model.memory['variance'])\n",
    "    data = []\n",
    "\n",
    "    for i in range(1, 4):\n",
    "        data.append(uncertainty_area_plot(x_lines=x, y_lower=mean -i * standard_deviation, y_upper=mean + i*standard_deviation, name=f'mean plus/minus {i}*standard deviation', visible=visible))\n",
    "\n",
    "    data.append(scatter_plot(x_dots=data_x_mv, y_dots=data_y_mv, visible=visible, color='blue'))\n",
    "    data.append(scatter_plot(x_dots=data_x, y_dots=data_y, visible=visible, color='red'))\n",
    "    data.append(line_plot(x_lines=x, y_lines=mean, visible=visible))\n",
    "    return data"
   ],
   "outputs": [],
   "execution_count": 1002
  },
  {
   "cell_type": "markdown",
   "metadata": {},
   "source": [
    "initializing the training data"
   ]
  },
  {
   "cell_type": "code",
   "metadata": {
    "ExecuteTime": {
     "end_time": "2024-07-24T14:58:56.943477Z",
     "start_time": "2024-07-24T14:58:56.934310Z"
    }
   },
   "source": [
    "x_values = np.array([0.06078808034380694, 0.6117048213974552, 1.3795619642545989, 2.002887857111742, 2.733914642826028])\n",
    "y_values = np.array([-1.783753, -0.1626748, 0.1480789, 0.1019231, 0.0457059])\n",
    "\n",
    "\n",
    "x_values_mv = np.array([7.812499952519758e-08, 0.02026274553126866, 0.040525412937537794, 0.06078808034380694, 0.08105074775007608, 0.1013134151563452, 0.1215760825626144, 0.14183874996888338, 0.1513253571117406, 0.1608119642545978, 0.17029857139745488, 0.17978517854031212, 0.1892717856831692, 0.1987583928260264, 0.20824499996888352, 0.21215124996888352, 0.21605749996888352, 0.21996374996888352, 0.2277762499688835, 0.23949499996888352, 0.2512137499688835, 0.27074499996888346, 0.2902762499688835, 0.3098074999688836, 0.32933874996888357, 0.3488699999688837, 0.36840124996888374, 0.38793249996888357, 0.41416017854031223, 0.4403878571117408, 0.4666155356831694, 0.492843214254598, 0.5190708928260266, 0.5452985713974552, 0.5715262499688838, 0.5916155356831695, 0.6117048213974552, 0.631794107111741, 0.6518833928260267, 0.6719726785403124, 0.6920619642545982, 0.7121512499688839, 0.721637857111741, 0.7311244642545982, 0.7406110713974553, 0.7500976785403125, 0.7595842856831696, 0.7690708928260268, 0.7785574999688839, 0.7824637499688839, 0.7863699999688839, 0.7902762499688839, 0.7941824999688839, 0.8019949999688839, 0.8137137499688839, 0.825432499968884, 0.844963749968884, 0.864494999968884, 0.884026249968884, 0.903557499968884, 0.923088749968884, 0.9426199999688841, 0.9621512499688841, 0.9922851785403126, 1.022419107111741, 1.05255303568317, 1.082686964254598, 1.1128208928260268, 1.142954821397456, 1.173088749968884, 1.214383392826027, 1.25567803568317, 1.296972678540313, 1.3382673213974559, 1.3795619642545989, 1.420856607111742, 1.462151249968884, 1.51739678568317, 1.5726423213974559, 1.6278878571117419, 1.6831333928260281, 1.738378928540313, 1.7936244642545989, 1.848869999968885, 1.925878928540313, 2.002887857111742, 2.079896785683171, 2.1569057142545986, 2.233914642826028, 2.310923571397457, 2.387932499968885, 2.457128928540313, 2.526325357111742, 2.5955217856831707, 2.6647182142546, 2.733914642826028, 2.803111071397457, 2.872307499968885, 2.9381557142546, 3.004003928540314, 3.069852142826028, 3.1357003571117428, 3.2015485713974567, 3.267396785683172, 3.333244999968886, 3.396861071397458, 3.4604771428260293, 3.5240932142546, 3.587709285683172, 3.6513253571117428, 3.714941428540315, 3.778557499968886, 3.799762857111743, 3.8209682142546, 3.842173571397457, 3.863378928540314, 3.884584285683171, 3.905789642826027, 3.9269949999688842, 3.930901249968884, 3.997307499968876, 4.0])\n",
    "\n",
    "y_values_mv = np.array([-2.149425, -2.021906, -1.900015, -1.783753, -1.67312, -1.568115, -1.468739, -1.374991, -1.332516, -1.291012, -1.250478, -1.210915, -1.172323, -1.134702, -1.098051, -1.0832, -1.068501, -1.05395, -1.025293, -0.9833953, -0.9427724, -0.8781529, -0.8164742, -0.7577361, -0.7019387, -0.6490821, -0.5991661, -0.5521909, -0.4931582, -0.4377458, -0.385954, -0.3377825, -0.2932315, -0.2523009, -0.2149908, -0.1881227, -0.1626748, -0.1386472, -0.1160399, -0.09485276, -0.07508589, -0.05673927, -0.04842326, -0.04034997, -0.03251939, -0.02493152, -0.01758636, -0.01048392, -0.003624198, -0.0008585322, 0.001869788, 0.004561141, 0.007215904, 0.01241715, 0.01995378, 0.02718076, 0.03846925, 0.04906124, 0.05895672, 0.06815569, 0.07665815, 0.08446411, 0.09157355, 0.1013317, 0.1100654, 0.1177748, 0.1244598, 0.1301204, 0.1347566, 0.1383684, 0.1420968, 0.144932, 0.1468741, 0.147923, 0.1480789, 0.1473415, 0.1457111, 0.1428017, 0.1394779, 0.1357397, 0.1315871, 0.1270201, 0.1220387, 0.1166429, 0.1091808, 0.1019231, 0.09486995, 0.08802123, 0.08137697, 0.07493717, 0.06870183, 0.06353947, 0.0586587, 0.05405952, 0.04974192, 0.0457059, 0.04195147, 0.03847863, 0.03541913, 0.03254952, 0.02986978, 0.02737992, 0.02507993, 0.02296983, 0.02104961, 0.019333, 0.01772848, 0.01623606, 0.01485573, 0.01358749, 0.01243135, 0.01138729, 0.01105281, 0.01072709, 0.01041011, 0.01010189, 0.009802425, 0.009511712, 0.009229752, 0.009178586, 0.008348948, 0.008316821])\n",
    "\n",
    "print(len(x_values_mv), len(y_values_mv))\n",
    "\n",
    "x = np.arange(0.01, 4, 0.01)"
   ],
   "outputs": [
    {
     "name": "stdout",
     "output_type": "stream",
     "text": [
      "122 122\n"
     ]
    }
   ],
   "execution_count": 1003
  },
  {
   "cell_type": "markdown",
   "metadata": {},
   "source": [
    "plot the output of the GPR"
   ]
  },
  {
   "cell_type": "code",
   "metadata": {
    "ExecuteTime": {
     "end_time": "2024-07-24T14:59:06.369894Z",
     "start_time": "2024-07-24T14:59:03.547659Z"
    }
   },
   "source": [
    "model = GPR(x_values, y_values)\n",
    "data = plot_GPR(data_x=x_values, data_y=y_values, x=x, model=model, data_x_mv=x_values_mv, data_y_mv=y_values_mv)\n",
    "fig4 = go.Figure(data)\n",
    "fig4 = update_layout_of_graph(fig=fig4, title=f'GPR with length {model.cov_func.length}, sigma {model.cov_func.sigma}, alpha {cov_func.alpha}, beta {model.cov_func.beta} and noise {model.noise}')\n",
    "fig4.show()\n",
    "fig4.write_html('C:\\\\Users\\\\simon\\\\Desktop\\\\RLC_Current\\\\RLC_Current_aperiodic_0.75.html')"
   ],
   "outputs": [
    {
     "name": "stdout",
     "output_type": "stream",
     "text": [
      "sigma memory =  0.2\n",
      "length memory =  0.1\n"
     ]
    },
    {
     "ename": "KeyboardInterrupt",
     "evalue": "",
     "output_type": "error",
     "traceback": [
      "\u001B[0;31m---------------------------------------------------------------------------\u001B[0m",
      "\u001B[0;31mKeyboardInterrupt\u001B[0m                         Traceback (most recent call last)",
      "Input \u001B[0;32mIn [1004]\u001B[0m, in \u001B[0;36m<cell line: 1>\u001B[0;34m()\u001B[0m\n\u001B[0;32m----> 1\u001B[0m model \u001B[38;5;241m=\u001B[39m \u001B[43mGPR\u001B[49m\u001B[43m(\u001B[49m\u001B[43mx_values\u001B[49m\u001B[43m,\u001B[49m\u001B[43m \u001B[49m\u001B[43my_values\u001B[49m\u001B[43m)\u001B[49m\n\u001B[1;32m      2\u001B[0m data \u001B[38;5;241m=\u001B[39m plot_GPR(data_x\u001B[38;5;241m=\u001B[39mx_values, data_y\u001B[38;5;241m=\u001B[39my_values, x\u001B[38;5;241m=\u001B[39mx, model\u001B[38;5;241m=\u001B[39mmodel, data_x_mv\u001B[38;5;241m=\u001B[39mx_values_mv, data_y_mv\u001B[38;5;241m=\u001B[39my_values_mv)\n\u001B[1;32m      3\u001B[0m fig4 \u001B[38;5;241m=\u001B[39m go\u001B[38;5;241m.\u001B[39mFigure(data)\n",
      "Input \u001B[0;32mIn [1001]\u001B[0m, in \u001B[0;36mGPR.__init__\u001B[0;34m(self, data_x, data_y, cov_func, noise)\u001B[0m\n\u001B[1;32m      9\u001B[0m \u001B[38;5;28mself\u001B[39m\u001B[38;5;241m.\u001B[39mmemory \u001B[38;5;241m=\u001B[39m \u001B[38;5;28;01mNone\u001B[39;00m\n\u001B[1;32m     11\u001B[0m n \u001B[38;5;241m=\u001B[39m \u001B[38;5;28mlen\u001B[39m(data_x)\n\u001B[0;32m---> 12\u001B[0m \u001B[38;5;28mself\u001B[39m\u001B[38;5;241m.\u001B[39minv_cov_matrix_of_input_data \u001B[38;5;241m=\u001B[39m np\u001B[38;5;241m.\u001B[39mlinalg\u001B[38;5;241m.\u001B[39minv(\u001B[43mcreate_cov_matrix\u001B[49m\u001B[43m(\u001B[49m\u001B[43mdata_x\u001B[49m\u001B[43m,\u001B[49m\u001B[43m \u001B[49m\u001B[43mdata_x\u001B[49m\u001B[43m,\u001B[49m\u001B[43m \u001B[49m\u001B[43mcov_func\u001B[49m\u001B[43m)\u001B[49m \u001B[38;5;241m+\u001B[39m (noise \u001B[38;5;241m+\u001B[39m \u001B[38;5;241m3e-7\u001B[39m)\u001B[38;5;241m*\u001B[39m\u001B[38;5;241m*\u001B[39m\u001B[38;5;241m2\u001B[39m \u001B[38;5;241m*\u001B[39m np\u001B[38;5;241m.\u001B[39midentity(\u001B[38;5;241m2\u001B[39m\u001B[38;5;241m*\u001B[39mn))\n",
      "Input \u001B[0;32mIn [995]\u001B[0m, in \u001B[0;36mcreate_cov_matrix\u001B[0;34m(variable_1, variable_2, cov_function)\u001B[0m\n\u001B[1;32m      7\u001B[0m kuf_sub_matrix \u001B[38;5;241m=\u001B[39m create_sub_matrix(variable_1, variable_2, k_uf, cov_function)\n\u001B[1;32m      8\u001B[0m kfu_sub_matrix \u001B[38;5;241m=\u001B[39m create_sub_matrix(variable_1, variable_2, k_fu, cov_function)\n\u001B[0;32m----> 9\u001B[0m kff_sub_matrix \u001B[38;5;241m=\u001B[39m \u001B[43mcreate_sub_matrix\u001B[49m\u001B[43m(\u001B[49m\u001B[43mvariable_1\u001B[49m\u001B[43m,\u001B[49m\u001B[43m \u001B[49m\u001B[43mvariable_2\u001B[49m\u001B[43m,\u001B[49m\u001B[43m \u001B[49m\u001B[43mk_ff\u001B[49m\u001B[43m,\u001B[49m\u001B[43m \u001B[49m\u001B[43mcov_function\u001B[49m\u001B[43m)\u001B[49m\n\u001B[1;32m     11\u001B[0m \u001B[38;5;28;01mfor\u001B[39;00m i \u001B[38;5;129;01min\u001B[39;00m \u001B[38;5;28mrange\u001B[39m(\u001B[38;5;241m2\u001B[39m\u001B[38;5;241m*\u001B[39mn1):\n\u001B[1;32m     12\u001B[0m     \u001B[38;5;28;01mfor\u001B[39;00m j \u001B[38;5;129;01min\u001B[39;00m \u001B[38;5;28mrange\u001B[39m(\u001B[38;5;241m2\u001B[39m\u001B[38;5;241m*\u001B[39mn2):\n",
      "Input \u001B[0;32mIn [994]\u001B[0m, in \u001B[0;36mcreate_sub_matrix\u001B[0;34m(variable_1, variable_2, specified_cov_function, cov_function)\u001B[0m\n\u001B[1;32m      6\u001B[0m \u001B[38;5;28;01mfor\u001B[39;00m i, val_1 \u001B[38;5;129;01min\u001B[39;00m \u001B[38;5;28menumerate\u001B[39m(variable_1):\n\u001B[1;32m      7\u001B[0m     \u001B[38;5;28;01mfor\u001B[39;00m j, val_2 \u001B[38;5;129;01min\u001B[39;00m \u001B[38;5;28menumerate\u001B[39m(variable_2):\n\u001B[0;32m----> 8\u001B[0m         sub_matrix[i, j] \u001B[38;5;241m=\u001B[39m \u001B[43mspecified_cov_function\u001B[49m\u001B[43m(\u001B[49m\u001B[43mval_1\u001B[49m\u001B[43m,\u001B[49m\u001B[43m \u001B[49m\u001B[43mval_2\u001B[49m\u001B[43m,\u001B[49m\u001B[43m \u001B[49m\u001B[43mcov_function\u001B[49m\u001B[43m)\u001B[49m\n\u001B[1;32m     10\u001B[0m \u001B[38;5;28;01mreturn\u001B[39;00m sub_matrix\n",
      "Input \u001B[0;32mIn [992]\u001B[0m, in \u001B[0;36mk_ff\u001B[0;34m(val_1, val_2, cov_func, R, C, L)\u001B[0m\n\u001B[1;32m    107\u001B[0m     d \u001B[38;5;241m=\u001B[39m R \u001B[38;5;241m/\u001B[39m L \u001B[38;5;241m*\u001B[39m double_integral(val_1, val_2)\n\u001B[1;32m    108\u001B[0m     \u001B[38;5;28;01mreturn\u001B[39;00m d\n\u001B[0;32m--> 110\u001B[0m \u001B[38;5;28;01mreturn\u001B[39;00m a \u001B[38;5;241m+\u001B[39m b \u001B[38;5;241m+\u001B[39m \u001B[43mc\u001B[49m\u001B[43m(\u001B[49m\u001B[43m)\u001B[49m \u001B[38;5;241m+\u001B[39m d() \u001B[38;5;241m+\u001B[39m e() \u001B[38;5;241m+\u001B[39m f()\n",
      "Input \u001B[0;32mIn [992]\u001B[0m, in \u001B[0;36mk_ff.<locals>.c\u001B[0;34m()\u001B[0m\n\u001B[1;32m     29\u001B[0m     integral_val, _ \u001B[38;5;241m=\u001B[39m integrate(integrand, \u001B[38;5;241m0\u001B[39m, val_1, epsabs\u001B[38;5;241m=\u001B[39m\u001B[38;5;241m1e-8\u001B[39m, epsrel\u001B[38;5;241m=\u001B[39m\u001B[38;5;241m1e-8\u001B[39m, limit\u001B[38;5;241m=\u001B[39m\u001B[38;5;241m10000\u001B[39m)\n\u001B[1;32m     30\u001B[0m     \u001B[38;5;28;01mreturn\u001B[39;00m integral_val\n\u001B[0;32m---> 32\u001B[0m c \u001B[38;5;241m=\u001B[39m \u001B[43mdouble_integral\u001B[49m\u001B[43m(\u001B[49m\u001B[43mval_1\u001B[49m\u001B[43m,\u001B[49m\u001B[43m \u001B[49m\u001B[43mval_2\u001B[49m\u001B[43m)\u001B[49m\n\u001B[1;32m     33\u001B[0m \u001B[38;5;28;01mreturn\u001B[39;00m c\n",
      "Input \u001B[0;32mIn [992]\u001B[0m, in \u001B[0;36mk_ff.<locals>.c.<locals>.double_integral\u001B[0;34m(val_1, val_2)\u001B[0m\n\u001B[1;32m     27\u001B[0m \u001B[38;5;28;01mdef\u001B[39;00m \u001B[38;5;21mdouble_integral\u001B[39m(val_1, val_2):\n\u001B[1;32m     28\u001B[0m     integrand \u001B[38;5;241m=\u001B[39m \u001B[38;5;28;01mlambda\u001B[39;00m tau: \u001B[38;5;241m1\u001B[39m\u001B[38;5;241m/\u001B[39mgamma(\u001B[38;5;241m1\u001B[39m \u001B[38;5;241m+\u001B[39m alpha) \u001B[38;5;241m*\u001B[39m (val_1 \u001B[38;5;241m-\u001B[39m tau)\u001B[38;5;241m*\u001B[39m\u001B[38;5;241m*\u001B[39malpha \u001B[38;5;241m*\u001B[39m derivative_B(tau, val_2)\n\u001B[0;32m---> 29\u001B[0m     integral_val, _ \u001B[38;5;241m=\u001B[39m \u001B[43mintegrate\u001B[49m\u001B[43m(\u001B[49m\u001B[43mintegrand\u001B[49m\u001B[43m,\u001B[49m\u001B[43m \u001B[49m\u001B[38;5;241;43m0\u001B[39;49m\u001B[43m,\u001B[49m\u001B[43m \u001B[49m\u001B[43mval_1\u001B[49m\u001B[43m,\u001B[49m\u001B[43m \u001B[49m\u001B[43mepsabs\u001B[49m\u001B[38;5;241;43m=\u001B[39;49m\u001B[38;5;241;43m1e-8\u001B[39;49m\u001B[43m,\u001B[49m\u001B[43m \u001B[49m\u001B[43mepsrel\u001B[49m\u001B[38;5;241;43m=\u001B[39;49m\u001B[38;5;241;43m1e-8\u001B[39;49m\u001B[43m,\u001B[49m\u001B[43m \u001B[49m\u001B[43mlimit\u001B[49m\u001B[38;5;241;43m=\u001B[39;49m\u001B[38;5;241;43m10000\u001B[39;49m\u001B[43m)\u001B[49m\n\u001B[1;32m     30\u001B[0m     \u001B[38;5;28;01mreturn\u001B[39;00m integral_val\n",
      "File \u001B[0;32m/Library/Frameworks/Python.framework/Versions/3.10/lib/python3.10/site-packages/scipy/integrate/_quadpack_py.py:351\u001B[0m, in \u001B[0;36mquad\u001B[0;34m(func, a, b, args, full_output, epsabs, epsrel, limit, points, weight, wvar, wopts, maxp1, limlst)\u001B[0m\n\u001B[1;32m    348\u001B[0m flip, a, b \u001B[38;5;241m=\u001B[39m b \u001B[38;5;241m<\u001B[39m a, \u001B[38;5;28mmin\u001B[39m(a, b), \u001B[38;5;28mmax\u001B[39m(a, b)\n\u001B[1;32m    350\u001B[0m \u001B[38;5;28;01mif\u001B[39;00m weight \u001B[38;5;129;01mis\u001B[39;00m \u001B[38;5;28;01mNone\u001B[39;00m:\n\u001B[0;32m--> 351\u001B[0m     retval \u001B[38;5;241m=\u001B[39m \u001B[43m_quad\u001B[49m\u001B[43m(\u001B[49m\u001B[43mfunc\u001B[49m\u001B[43m,\u001B[49m\u001B[43m \u001B[49m\u001B[43ma\u001B[49m\u001B[43m,\u001B[49m\u001B[43m \u001B[49m\u001B[43mb\u001B[49m\u001B[43m,\u001B[49m\u001B[43m \u001B[49m\u001B[43margs\u001B[49m\u001B[43m,\u001B[49m\u001B[43m \u001B[49m\u001B[43mfull_output\u001B[49m\u001B[43m,\u001B[49m\u001B[43m \u001B[49m\u001B[43mepsabs\u001B[49m\u001B[43m,\u001B[49m\u001B[43m \u001B[49m\u001B[43mepsrel\u001B[49m\u001B[43m,\u001B[49m\u001B[43m \u001B[49m\u001B[43mlimit\u001B[49m\u001B[43m,\u001B[49m\n\u001B[1;32m    352\u001B[0m \u001B[43m                   \u001B[49m\u001B[43mpoints\u001B[49m\u001B[43m)\u001B[49m\n\u001B[1;32m    353\u001B[0m \u001B[38;5;28;01melse\u001B[39;00m:\n\u001B[1;32m    354\u001B[0m     \u001B[38;5;28;01mif\u001B[39;00m points \u001B[38;5;129;01mis\u001B[39;00m \u001B[38;5;129;01mnot\u001B[39;00m \u001B[38;5;28;01mNone\u001B[39;00m:\n",
      "File \u001B[0;32m/Library/Frameworks/Python.framework/Versions/3.10/lib/python3.10/site-packages/scipy/integrate/_quadpack_py.py:463\u001B[0m, in \u001B[0;36m_quad\u001B[0;34m(func, a, b, args, full_output, epsabs, epsrel, limit, points)\u001B[0m\n\u001B[1;32m    461\u001B[0m \u001B[38;5;28;01mif\u001B[39;00m points \u001B[38;5;129;01mis\u001B[39;00m \u001B[38;5;28;01mNone\u001B[39;00m:\n\u001B[1;32m    462\u001B[0m     \u001B[38;5;28;01mif\u001B[39;00m infbounds \u001B[38;5;241m==\u001B[39m \u001B[38;5;241m0\u001B[39m:\n\u001B[0;32m--> 463\u001B[0m         \u001B[38;5;28;01mreturn\u001B[39;00m \u001B[43m_quadpack\u001B[49m\u001B[38;5;241;43m.\u001B[39;49m\u001B[43m_qagse\u001B[49m\u001B[43m(\u001B[49m\u001B[43mfunc\u001B[49m\u001B[43m,\u001B[49m\u001B[43ma\u001B[49m\u001B[43m,\u001B[49m\u001B[43mb\u001B[49m\u001B[43m,\u001B[49m\u001B[43margs\u001B[49m\u001B[43m,\u001B[49m\u001B[43mfull_output\u001B[49m\u001B[43m,\u001B[49m\u001B[43mepsabs\u001B[49m\u001B[43m,\u001B[49m\u001B[43mepsrel\u001B[49m\u001B[43m,\u001B[49m\u001B[43mlimit\u001B[49m\u001B[43m)\u001B[49m\n\u001B[1;32m    464\u001B[0m     \u001B[38;5;28;01melse\u001B[39;00m:\n\u001B[1;32m    465\u001B[0m         \u001B[38;5;28;01mreturn\u001B[39;00m _quadpack\u001B[38;5;241m.\u001B[39m_qagie(func,bound,infbounds,args,full_output,epsabs,epsrel,limit)\n",
      "Input \u001B[0;32mIn [992]\u001B[0m, in \u001B[0;36mk_ff.<locals>.c.<locals>.double_integral.<locals>.<lambda>\u001B[0;34m(tau)\u001B[0m\n\u001B[1;32m     27\u001B[0m \u001B[38;5;28;01mdef\u001B[39;00m \u001B[38;5;21mdouble_integral\u001B[39m(val_1, val_2):\n\u001B[0;32m---> 28\u001B[0m     integrand \u001B[38;5;241m=\u001B[39m \u001B[38;5;28;01mlambda\u001B[39;00m tau: \u001B[38;5;241m1\u001B[39m\u001B[38;5;241m/\u001B[39mgamma(\u001B[38;5;241m1\u001B[39m \u001B[38;5;241m+\u001B[39m alpha) \u001B[38;5;241m*\u001B[39m (val_1 \u001B[38;5;241m-\u001B[39m tau)\u001B[38;5;241m*\u001B[39m\u001B[38;5;241m*\u001B[39malpha \u001B[38;5;241m*\u001B[39m \u001B[43mderivative_B\u001B[49m\u001B[43m(\u001B[49m\u001B[43mtau\u001B[49m\u001B[43m,\u001B[49m\u001B[43m \u001B[49m\u001B[43mval_2\u001B[49m\u001B[43m)\u001B[49m\n\u001B[1;32m     29\u001B[0m     integral_val, _ \u001B[38;5;241m=\u001B[39m integrate(integrand, \u001B[38;5;241m0\u001B[39m, val_1, epsabs\u001B[38;5;241m=\u001B[39m\u001B[38;5;241m1e-8\u001B[39m, epsrel\u001B[38;5;241m=\u001B[39m\u001B[38;5;241m1e-8\u001B[39m, limit\u001B[38;5;241m=\u001B[39m\u001B[38;5;241m10000\u001B[39m)\n\u001B[1;32m     30\u001B[0m     \u001B[38;5;28;01mreturn\u001B[39;00m integral_val\n",
      "Input \u001B[0;32mIn [992]\u001B[0m, in \u001B[0;36mk_ff.<locals>.c.<locals>.derivative_B\u001B[0;34m(tau, val_2, h)\u001B[0m\n\u001B[1;32m     22\u001B[0m \u001B[38;5;28;01mdef\u001B[39;00m \u001B[38;5;21mB_tau\u001B[39m(tau):\n\u001B[1;32m     23\u001B[0m     \u001B[38;5;28;01mreturn\u001B[39;00m B(tau, val_2)\n\u001B[0;32m---> 24\u001B[0m dB \u001B[38;5;241m=\u001B[39m (B_tau(tau \u001B[38;5;241m+\u001B[39m h) \u001B[38;5;241m-\u001B[39m \u001B[43mB_tau\u001B[49m\u001B[43m(\u001B[49m\u001B[43mtau\u001B[49m\u001B[43m \u001B[49m\u001B[38;5;241;43m-\u001B[39;49m\u001B[43m \u001B[49m\u001B[43mh\u001B[49m\u001B[43m)\u001B[49m) \u001B[38;5;241m/\u001B[39m (\u001B[38;5;241m2\u001B[39m\u001B[38;5;241m*\u001B[39mh)\n\u001B[1;32m     25\u001B[0m \u001B[38;5;28;01mreturn\u001B[39;00m dB\n",
      "Input \u001B[0;32mIn [992]\u001B[0m, in \u001B[0;36mk_ff.<locals>.c.<locals>.derivative_B.<locals>.B_tau\u001B[0;34m(tau)\u001B[0m\n\u001B[1;32m     22\u001B[0m \u001B[38;5;28;01mdef\u001B[39;00m \u001B[38;5;21mB_tau\u001B[39m(tau):\n\u001B[0;32m---> 23\u001B[0m     \u001B[38;5;28;01mreturn\u001B[39;00m \u001B[43mB\u001B[49m\u001B[43m(\u001B[49m\u001B[43mtau\u001B[49m\u001B[43m,\u001B[49m\u001B[43m \u001B[49m\u001B[43mval_2\u001B[49m\u001B[43m)\u001B[49m\n",
      "Input \u001B[0;32mIn [992]\u001B[0m, in \u001B[0;36mk_ff.<locals>.c.<locals>.B\u001B[0;34m(val_1, val_2)\u001B[0m\n\u001B[1;32m     16\u001B[0m \u001B[38;5;28;01mdef\u001B[39;00m \u001B[38;5;21mB\u001B[39m(val_1, val_2):\n\u001B[1;32m     17\u001B[0m     integrand \u001B[38;5;241m=\u001B[39m \u001B[38;5;28;01mlambda\u001B[39;00m tau: A(val_1, val_2, tau)\n\u001B[0;32m---> 18\u001B[0m     integral_val, _ \u001B[38;5;241m=\u001B[39m \u001B[43mintegrate\u001B[49m\u001B[43m(\u001B[49m\u001B[43mintegrand\u001B[49m\u001B[43m,\u001B[49m\u001B[43m \u001B[49m\u001B[38;5;241;43m0\u001B[39;49m\u001B[43m,\u001B[49m\u001B[43m \u001B[49m\u001B[43mval_2\u001B[49m\u001B[43m,\u001B[49m\u001B[43m \u001B[49m\u001B[43mepsabs\u001B[49m\u001B[38;5;241;43m=\u001B[39;49m\u001B[38;5;241;43m1e-8\u001B[39;49m\u001B[43m,\u001B[49m\u001B[43m \u001B[49m\u001B[43mepsrel\u001B[49m\u001B[38;5;241;43m=\u001B[39;49m\u001B[38;5;241;43m1e-8\u001B[39;49m\u001B[43m,\u001B[49m\u001B[43m \u001B[49m\u001B[43mlimit\u001B[49m\u001B[38;5;241;43m=\u001B[39;49m\u001B[38;5;241;43m10000\u001B[39;49m\u001B[43m)\u001B[49m\n\u001B[1;32m     19\u001B[0m     \u001B[38;5;28;01mreturn\u001B[39;00m integral_val\n",
      "File \u001B[0;32m/Library/Frameworks/Python.framework/Versions/3.10/lib/python3.10/site-packages/scipy/integrate/_quadpack_py.py:351\u001B[0m, in \u001B[0;36mquad\u001B[0;34m(func, a, b, args, full_output, epsabs, epsrel, limit, points, weight, wvar, wopts, maxp1, limlst)\u001B[0m\n\u001B[1;32m    348\u001B[0m flip, a, b \u001B[38;5;241m=\u001B[39m b \u001B[38;5;241m<\u001B[39m a, \u001B[38;5;28mmin\u001B[39m(a, b), \u001B[38;5;28mmax\u001B[39m(a, b)\n\u001B[1;32m    350\u001B[0m \u001B[38;5;28;01mif\u001B[39;00m weight \u001B[38;5;129;01mis\u001B[39;00m \u001B[38;5;28;01mNone\u001B[39;00m:\n\u001B[0;32m--> 351\u001B[0m     retval \u001B[38;5;241m=\u001B[39m \u001B[43m_quad\u001B[49m\u001B[43m(\u001B[49m\u001B[43mfunc\u001B[49m\u001B[43m,\u001B[49m\u001B[43m \u001B[49m\u001B[43ma\u001B[49m\u001B[43m,\u001B[49m\u001B[43m \u001B[49m\u001B[43mb\u001B[49m\u001B[43m,\u001B[49m\u001B[43m \u001B[49m\u001B[43margs\u001B[49m\u001B[43m,\u001B[49m\u001B[43m \u001B[49m\u001B[43mfull_output\u001B[49m\u001B[43m,\u001B[49m\u001B[43m \u001B[49m\u001B[43mepsabs\u001B[49m\u001B[43m,\u001B[49m\u001B[43m \u001B[49m\u001B[43mepsrel\u001B[49m\u001B[43m,\u001B[49m\u001B[43m \u001B[49m\u001B[43mlimit\u001B[49m\u001B[43m,\u001B[49m\n\u001B[1;32m    352\u001B[0m \u001B[43m                   \u001B[49m\u001B[43mpoints\u001B[49m\u001B[43m)\u001B[49m\n\u001B[1;32m    353\u001B[0m \u001B[38;5;28;01melse\u001B[39;00m:\n\u001B[1;32m    354\u001B[0m     \u001B[38;5;28;01mif\u001B[39;00m points \u001B[38;5;129;01mis\u001B[39;00m \u001B[38;5;129;01mnot\u001B[39;00m \u001B[38;5;28;01mNone\u001B[39;00m:\n",
      "File \u001B[0;32m/Library/Frameworks/Python.framework/Versions/3.10/lib/python3.10/site-packages/scipy/integrate/_quadpack_py.py:463\u001B[0m, in \u001B[0;36m_quad\u001B[0;34m(func, a, b, args, full_output, epsabs, epsrel, limit, points)\u001B[0m\n\u001B[1;32m    461\u001B[0m \u001B[38;5;28;01mif\u001B[39;00m points \u001B[38;5;129;01mis\u001B[39;00m \u001B[38;5;28;01mNone\u001B[39;00m:\n\u001B[1;32m    462\u001B[0m     \u001B[38;5;28;01mif\u001B[39;00m infbounds \u001B[38;5;241m==\u001B[39m \u001B[38;5;241m0\u001B[39m:\n\u001B[0;32m--> 463\u001B[0m         \u001B[38;5;28;01mreturn\u001B[39;00m \u001B[43m_quadpack\u001B[49m\u001B[38;5;241;43m.\u001B[39;49m\u001B[43m_qagse\u001B[49m\u001B[43m(\u001B[49m\u001B[43mfunc\u001B[49m\u001B[43m,\u001B[49m\u001B[43ma\u001B[49m\u001B[43m,\u001B[49m\u001B[43mb\u001B[49m\u001B[43m,\u001B[49m\u001B[43margs\u001B[49m\u001B[43m,\u001B[49m\u001B[43mfull_output\u001B[49m\u001B[43m,\u001B[49m\u001B[43mepsabs\u001B[49m\u001B[43m,\u001B[49m\u001B[43mepsrel\u001B[49m\u001B[43m,\u001B[49m\u001B[43mlimit\u001B[49m\u001B[43m)\u001B[49m\n\u001B[1;32m    464\u001B[0m     \u001B[38;5;28;01melse\u001B[39;00m:\n\u001B[1;32m    465\u001B[0m         \u001B[38;5;28;01mreturn\u001B[39;00m _quadpack\u001B[38;5;241m.\u001B[39m_qagie(func,bound,infbounds,args,full_output,epsabs,epsrel,limit)\n",
      "Input \u001B[0;32mIn [992]\u001B[0m, in \u001B[0;36mk_ff.<locals>.c.<locals>.B.<locals>.<lambda>\u001B[0;34m(tau)\u001B[0m\n\u001B[1;32m     16\u001B[0m \u001B[38;5;28;01mdef\u001B[39;00m \u001B[38;5;21mB\u001B[39m(val_1, val_2):\n\u001B[0;32m---> 17\u001B[0m     integrand \u001B[38;5;241m=\u001B[39m \u001B[38;5;28;01mlambda\u001B[39;00m tau: \u001B[43mA\u001B[49m\u001B[43m(\u001B[49m\u001B[43mval_1\u001B[49m\u001B[43m,\u001B[49m\u001B[43m \u001B[49m\u001B[43mval_2\u001B[49m\u001B[43m,\u001B[49m\u001B[43m \u001B[49m\u001B[43mtau\u001B[49m\u001B[43m)\u001B[49m\n\u001B[1;32m     18\u001B[0m     integral_val, _ \u001B[38;5;241m=\u001B[39m integrate(integrand, \u001B[38;5;241m0\u001B[39m, val_2, epsabs\u001B[38;5;241m=\u001B[39m\u001B[38;5;241m1e-8\u001B[39m, epsrel\u001B[38;5;241m=\u001B[39m\u001B[38;5;241m1e-8\u001B[39m, limit\u001B[38;5;241m=\u001B[39m\u001B[38;5;241m10000\u001B[39m)\n\u001B[1;32m     19\u001B[0m     \u001B[38;5;28;01mreturn\u001B[39;00m integral_val\n",
      "Input \u001B[0;32mIn [992]\u001B[0m, in \u001B[0;36mk_ff.<locals>.c.<locals>.A\u001B[0;34m(val_1, val_2, tau)\u001B[0m\n\u001B[1;32m     12\u001B[0m \u001B[38;5;28;01mdef\u001B[39;00m \u001B[38;5;21mA\u001B[39m(val_1, val_2, tau):\n\u001B[1;32m     13\u001B[0m     a \u001B[38;5;241m=\u001B[39m \u001B[38;5;241m1\u001B[39m\u001B[38;5;241m/\u001B[39mgamma(\u001B[38;5;241m1\u001B[39m\u001B[38;5;241m+\u001B[39malpha) \u001B[38;5;241m*\u001B[39m (val_2 \u001B[38;5;241m-\u001B[39m tau)\u001B[38;5;241m*\u001B[39m\u001B[38;5;241m*\u001B[39malpha \u001B[38;5;241m*\u001B[39m \u001B[38;5;241m1\u001B[39m\u001B[38;5;241m/\u001B[39ml\u001B[38;5;241m*\u001B[39m\u001B[38;5;241m*\u001B[39m\u001B[38;5;241m2\u001B[39m \u001B[38;5;241m*\u001B[39m (val_1 \u001B[38;5;241m-\u001B[39m tau)\n\u001B[0;32m---> 14\u001B[0m     \u001B[38;5;28;01mreturn\u001B[39;00m a \u001B[38;5;241m*\u001B[39m \u001B[43mcov_func\u001B[49m\u001B[43m(\u001B[49m\u001B[43mval_1\u001B[49m\u001B[43m,\u001B[49m\u001B[43m \u001B[49m\u001B[43mtau\u001B[49m\u001B[43m)\u001B[49m\n",
      "Input \u001B[0;32mIn [987]\u001B[0m, in \u001B[0;36mSquaredExponentialKernel.__call__\u001B[0;34m(self, tau_1, tau_2)\u001B[0m\n\u001B[1;32m      5\u001B[0m     \u001B[38;5;28mself\u001B[39m\u001B[38;5;241m.\u001B[39malpha \u001B[38;5;241m=\u001B[39m alpha\n\u001B[1;32m      6\u001B[0m     \u001B[38;5;28mself\u001B[39m\u001B[38;5;241m.\u001B[39mbeta \u001B[38;5;241m=\u001B[39m beta\n\u001B[0;32m----> 8\u001B[0m \u001B[38;5;28;01mdef\u001B[39;00m \u001B[38;5;21m__call__\u001B[39m(\u001B[38;5;28mself\u001B[39m, tau_1: np\u001B[38;5;241m.\u001B[39marray, tau_2: np\u001B[38;5;241m.\u001B[39marray):\n\u001B[1;32m      9\u001B[0m     \u001B[38;5;28;01mdef\u001B[39;00m \u001B[38;5;21mkernel\u001B[39m(variable_1, variable_2):\n\u001B[1;32m     10\u001B[0m         k_SE \u001B[38;5;241m=\u001B[39m \u001B[38;5;28mfloat\u001B[39m(\u001B[38;5;28mself\u001B[39m\u001B[38;5;241m.\u001B[39msigma\u001B[38;5;241m*\u001B[39m\u001B[38;5;241m*\u001B[39m\u001B[38;5;241m2\u001B[39m \u001B[38;5;241m*\u001B[39m np\u001B[38;5;241m.\u001B[39mexp(\u001B[38;5;241m-\u001B[39m(np\u001B[38;5;241m.\u001B[39mlinalg\u001B[38;5;241m.\u001B[39mnorm(variable_1 \u001B[38;5;241m-\u001B[39m variable_2)\u001B[38;5;241m*\u001B[39m\u001B[38;5;241m*\u001B[39m\u001B[38;5;241m2\u001B[39m) \u001B[38;5;241m/\u001B[39m(\u001B[38;5;241m2\u001B[39m \u001B[38;5;241m*\u001B[39m \u001B[38;5;28mself\u001B[39m\u001B[38;5;241m.\u001B[39mlength\u001B[38;5;241m*\u001B[39m\u001B[38;5;241m*\u001B[39m\u001B[38;5;241m2\u001B[39m)))\n",
      "\u001B[0;31mKeyboardInterrupt\u001B[0m: "
     ]
    }
   ],
   "execution_count": 1004
  },
  {
   "cell_type": "code",
   "metadata": {
    "ExecuteTime": {
     "end_time": "2024-07-24T10:45:39.223363Z",
     "start_time": "2024-07-24T10:45:39.190119Z"
    }
   },
   "source": [],
   "outputs": [],
   "execution_count": 922
  },
  {
   "cell_type": "code",
   "execution_count": null,
   "metadata": {
    "ExecuteTime": {
     "start_time": "2024-05-28T22:29:33.473883Z"
    }
   },
   "outputs": [],
   "source": []
  },
  {
   "cell_type": "code",
   "execution_count": null,
   "outputs": [],
   "source": [],
   "metadata": {
    "collapsed": false,
    "ExecuteTime": {
     "start_time": "2024-05-28T22:29:33.474546Z"
    }
   }
  }
 ],
 "metadata": {
  "kernelspec": {
   "display_name": "Python 3 (ipykernel)",
   "language": "python",
   "name": "python3"
  },
  "language_info": {
   "codemirror_mode": {
    "name": "ipython",
    "version": 3
   },
   "file_extension": ".py",
   "mimetype": "text/x-python",
   "name": "python",
   "nbconvert_exporter": "python",
   "pygments_lexer": "ipython3",
   "version": "3.10.2"
  }
 },
 "nbformat": 4,
 "nbformat_minor": 1
}
