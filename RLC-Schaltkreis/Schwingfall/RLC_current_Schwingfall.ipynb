{
 "cells": [
  {
   "cell_type": "markdown",
   "metadata": {},
   "source": [
    "necessary packages"
   ]
  },
  {
   "cell_type": "code",
   "execution_count": 109,
   "metadata": {
    "ExecuteTime": {
     "end_time": "2024-07-15T20:23:19.228119Z",
     "start_time": "2024-07-15T20:23:19.226514Z"
    }
   },
   "outputs": [],
   "source": [
    "import numpy as np\n",
    "from ipywidgets import interact\n",
    "import plotly.graph_objects as go\n",
    "from scipy.special import gamma\n",
    "from scipy.integrate import quad as integrate"
   ]
  },
  {
   "cell_type": "markdown",
   "metadata": {},
   "source": [
    "define function for updating the layout of the figure:\n",
    "* updates the layout of a plotly figure with predefined settings\n",
    "* the **title** dict includes all title properties: **'x'** specifies the position of the title along the x-axis, **'xanchor'** specifies the anchor point of the title along the x-axis"
   ]
  },
  {
   "cell_type": "code",
   "execution_count": 110,
   "metadata": {
    "ExecuteTime": {
     "end_time": "2024-07-15T20:23:20.687427Z",
     "start_time": "2024-07-15T20:23:20.682872Z"
    }
   },
   "outputs": [],
   "source": [
    "def update_layout_of_graph(fig: go.Figure, title: str = 'Plot') -> go.Figure:\n",
    "    fig.update_layout(\n",
    "        width=1000,\n",
    "        height=500,\n",
    "        autosize=False,\n",
    "        plot_bgcolor='black',\n",
    "        title={'text': title, 'x': 0.5, 'xanchor': 'center'},  # dict includes all title properties; specifies the position of the title along the x-axis\n",
    "        xaxis_title='t / ms',\n",
    "        yaxis_title='I / A',\n",
    "        legend=dict(yanchor=\"top\", y=0.4, xanchor=\"right\", x=0.95),\n",
    "        xaxis=dict(showline=True, linewidth=1, linecolor='black'),\n",
    "        yaxis=dict(showline=True, linewidth=1, linecolor='black')\n",
    "    )\n",
    "    return fig"
   ]
  },
  {
   "cell_type": "markdown",
   "metadata": {},
   "source": [
    "define function for creating a line plot:\n",
    "* creates a Plotly scatter trace representing a line plot\n",
    "* **x_lines** x-coordinates of the points on the line with an empty default array\n",
    "* **y_lines** y-coordinates of the points on the line with an empty default array"
   ]
  },
  {
   "cell_type": "code",
   "execution_count": 111,
   "metadata": {
    "ExecuteTime": {
     "end_time": "2024-07-15T20:23:21.316964Z",
     "start_time": "2024-07-15T20:23:21.300966Z"
    }
   },
   "outputs": [],
   "source": [
    "def line_plot(x_lines: np.array = np.array([]), y_lines: np.array = np.array([]), title: str = 'predicted function',\n",
    "show_legend: bool = True, visible: bool = True, ) -> go.Scatter:\n",
    "\n",
    "    scatter = go.Scatter(x=x_lines, y=y_lines, line=dict(color=\"orange\", width=3), name=title, showlegend= show_legend, visible=visible)\n",
    "    return scatter"
   ]
  },
  {
   "cell_type": "markdown",
   "metadata": {},
   "source": [
    "define function for a scatter plot:\n",
    "* creates a scatter plot with Plotly\n",
    "* **x_dots** is an array of x-coordinates for the data points in the scatter plot with an empty default array\n",
    "* **y_dots** is an array of y-coordinates for the data points in the scatter plot with an empty default array"
   ]
  },
  {
   "cell_type": "code",
   "execution_count": 112,
   "metadata": {
    "ExecuteTime": {
     "end_time": "2024-07-15T20:23:21.961324Z",
     "start_time": "2024-07-15T20:23:21.958347Z"
    }
   },
   "outputs": [],
   "source": [
    "def scatter_plot(visible: bool = True, x_dots: np.array = np.array([]), y_dots: np.array = np.array([]), name_dots: str = 'observed points',\n",
    "show_legend: bool = True, color: str = 'red') -> go.Scatter:\n",
    "\n",
    "    scatter = go.Scatter(x=x_dots, y=y_dots, visible=visible, mode='markers', name=name_dots, marker=dict(color=color, size=8), showlegend=show_legend)\n",
    "    return scatter"
   ]
  },
  {
   "cell_type": "markdown",
   "metadata": {},
   "source": [
    "define function for plotting the uncertainty area:\n",
    "* generates an area plot to represent the uncertainty using the Plotly\n",
    "* **x_lines** an array of x-coordinates for the lines outlining the area plot with an empty default array\n",
    "* **y_lower** an array of y-coordinates representing the lower boundary of the uncertainty area plot with an empty default array\n",
    "* **y_upper** an array of y-coordinates representing the upper boundary of the uncertainty area plot with an empty default array"
   ]
  },
  {
   "cell_type": "code",
   "execution_count": 113,
   "metadata": {
    "ExecuteTime": {
     "end_time": "2024-07-15T20:23:22.946578Z",
     "start_time": "2024-07-15T20:23:22.934573Z"
    }
   },
   "outputs": [],
   "source": [
    "def uncertainty_area_plot(visible: bool = True, x_lines: np.array = np.array([]), y_lower: np.array = np.array([]), y_upper: np.array = np.array([]), name: str = 'mean plus/minus standard deviation') -> go.Scatter:\n",
    "\n",
    "    scatter = go.Scatter(x=np.concatenate((x_lines, x_lines[::-1])), y=np.concatenate((y_upper, y_lower[::-1])), visible=visible, fill='toself', fillcolor='rgba(189, 195, 199, 0.5)', line=dict(color='rgba(200, 200, 200, 0)'), hoverinfo='skip', showlegend=True, name=name)\n",
    "    return scatter"
   ]
  },
  {
   "cell_type": "markdown",
   "metadata": {},
   "source": [
    "define squared exponential kernel:\n",
    "* **variable1** & **variable2** correspond to t & t'\n",
    "* **sigma** describes the average distance away from the function mean and l determines the reach of influence on neighbors\n",
    "* **sigma** & **length** is assigned the float standard value 1\n",
    "* **variable_1** & **variable_2** expect an array"
   ]
  },
  {
   "cell_type": "code",
   "execution_count": 114,
   "metadata": {
    "ExecuteTime": {
     "end_time": "2024-07-15T20:23:23.835604Z",
     "start_time": "2024-07-15T20:23:23.763500Z"
    }
   },
   "outputs": [],
   "source": [
    "class SquaredExponentialKernel:\n",
    "    def __init__(self, sigma: float = 1, length: float = 1, alpha: float = 0.75, beta: float = 0.75):\n",
    "        self.sigma = sigma\n",
    "        self.length = length\n",
    "        self.alpha = alpha\n",
    "        self.beta = beta\n",
    "\n",
    "    def __call__(self, tau_1: np.array, tau_2: np.array):\n",
    "        def kernel(variable_1, variable_2):\n",
    "            k_SE = float(self.sigma**2 * np.exp(-(np.linalg.norm(variable_1 - variable_2)**2) /(2 * self.length**2)))\n",
    "            return k_SE\n",
    "        return kernel(tau_1, tau_2)"
   ]
  },
  {
   "cell_type": "markdown",
   "metadata": {
    "ExecuteTime": {
     "end_time": "2024-03-18T13:48:10.656422Z",
     "start_time": "2024-03-18T13:48:08.952728Z"
    }
   },
   "source": [
    "visualize the squared exponential kernel:\n",
    "* only for testing the squared exponential kernel and monitor the effect of changing the parameters\n",
    "* **@interact** generates a user interface which allows for an interactive regulation of the parameters length, sigma and variable_2 in the defined ranges\n",
    "* the function **update** is called whenever the values of the sliders are changed\n",
    "* **batch_update()** ensures that all updates to the figure within the block are batched together"
   ]
  },
  {
   "cell_type": "code",
   "execution_count": 115,
   "metadata": {
    "ExecuteTime": {
     "end_time": "2024-07-15T20:23:24.720521Z",
     "start_time": "2024-07-15T20:23:24.599709Z"
    }
   },
   "outputs": [
    {
     "data": {
      "text/plain": "interactive(children=(FloatSlider(value=1.0, description='length', max=3.0, min=0.1), FloatSlider(value=1.0, d…",
      "application/vnd.jupyter.widget-view+json": {
       "version_major": 2,
       "version_minor": 0,
       "model_id": "13b2685a28154db68f75101ad621f2d1"
      }
     },
     "metadata": {},
     "output_type": "display_data"
    },
    {
     "data": {
      "application/vnd.jupyter.widget-view+json": {
       "version_major": 2,
       "version_minor": 0,
       "model_id": "a5ba8f36732e488f91aa90e1d27861ee"
      },
      "text/plain": "FigureWidget({\n    'data': [{'line': {'color': 'orange', 'width': 3},\n              'name': 'predicted function',\n              'showlegend': True,\n              'type': 'scatter',\n              'uid': '75e51801-8c3b-48af-8a90-e90c5d1f209d',\n              'visible': True,\n              'x': array([-1.00000000e+01, -9.90000000e+00, -9.80000000e+00, -9.70000000e+00,\n                          -9.60000000e+00, -9.50000000e+00, -9.40000000e+00, -9.30000000e+00,\n                          -9.20000000e+00, -9.10000000e+00, -9.00000000e+00, -8.90000000e+00,\n                          -8.80000000e+00, -8.70000000e+00, -8.60000000e+00, -8.50000000e+00,\n                          -8.40000000e+00, -8.30000000e+00, -8.20000000e+00, -8.10000000e+00,\n                          -8.00000000e+00, -7.90000000e+00, -7.80000000e+00, -7.70000000e+00,\n                          -7.60000000e+00, -7.50000000e+00, -7.40000000e+00, -7.30000000e+00,\n                          -7.20000000e+00, -7.10000000e+00, -7.00000000e+00, -6.90000000e+00,\n                          -6.80000000e+00, -6.70000000e+00, -6.60000000e+00, -6.50000000e+00,\n                          -6.40000000e+00, -6.30000000e+00, -6.20000000e+00, -6.10000000e+00,\n                          -6.00000000e+00, -5.90000000e+00, -5.80000000e+00, -5.70000000e+00,\n                          -5.60000000e+00, -5.50000000e+00, -5.40000000e+00, -5.30000000e+00,\n                          -5.20000000e+00, -5.10000000e+00, -5.00000000e+00, -4.90000000e+00,\n                          -4.80000000e+00, -4.70000000e+00, -4.60000000e+00, -4.50000000e+00,\n                          -4.40000000e+00, -4.30000000e+00, -4.20000000e+00, -4.10000000e+00,\n                          -4.00000000e+00, -3.90000000e+00, -3.80000000e+00, -3.70000000e+00,\n                          -3.60000000e+00, -3.50000000e+00, -3.40000000e+00, -3.30000000e+00,\n                          -3.20000000e+00, -3.10000000e+00, -3.00000000e+00, -2.90000000e+00,\n                          -2.80000000e+00, -2.70000000e+00, -2.60000000e+00, -2.50000000e+00,\n                          -2.40000000e+00, -2.30000000e+00, -2.20000000e+00, -2.10000000e+00,\n                          -2.00000000e+00, -1.90000000e+00, -1.80000000e+00, -1.70000000e+00,\n                          -1.60000000e+00, -1.50000000e+00, -1.40000000e+00, -1.30000000e+00,\n                          -1.20000000e+00, -1.10000000e+00, -1.00000000e+00, -9.00000000e-01,\n                          -8.00000000e-01, -7.00000000e-01, -6.00000000e-01, -5.00000000e-01,\n                          -4.00000000e-01, -3.00000000e-01, -2.00000000e-01, -1.00000000e-01,\n                          -3.55271368e-14,  1.00000000e-01,  2.00000000e-01,  3.00000000e-01,\n                           4.00000000e-01,  5.00000000e-01,  6.00000000e-01,  7.00000000e-01,\n                           8.00000000e-01,  9.00000000e-01,  1.00000000e+00,  1.10000000e+00,\n                           1.20000000e+00,  1.30000000e+00,  1.40000000e+00,  1.50000000e+00,\n                           1.60000000e+00,  1.70000000e+00,  1.80000000e+00,  1.90000000e+00,\n                           2.00000000e+00,  2.10000000e+00,  2.20000000e+00,  2.30000000e+00,\n                           2.40000000e+00,  2.50000000e+00,  2.60000000e+00,  2.70000000e+00,\n                           2.80000000e+00,  2.90000000e+00,  3.00000000e+00,  3.10000000e+00,\n                           3.20000000e+00,  3.30000000e+00,  3.40000000e+00,  3.50000000e+00,\n                           3.60000000e+00,  3.70000000e+00,  3.80000000e+00,  3.90000000e+00,\n                           4.00000000e+00,  4.10000000e+00,  4.20000000e+00,  4.30000000e+00,\n                           4.40000000e+00,  4.50000000e+00,  4.60000000e+00,  4.70000000e+00,\n                           4.80000000e+00,  4.90000000e+00,  5.00000000e+00,  5.10000000e+00,\n                           5.20000000e+00,  5.30000000e+00,  5.40000000e+00,  5.50000000e+00,\n                           5.60000000e+00,  5.70000000e+00,  5.80000000e+00,  5.90000000e+00,\n                           6.00000000e+00,  6.10000000e+00,  6.20000000e+00,  6.30000000e+00,\n                           6.40000000e+00,  6.50000000e+00,  6.60000000e+00,  6.70000000e+00,\n                           6.80000000e+00,  6.90000000e+00,  7.00000000e+00,  7.10000000e+00,\n                           7.20000000e+00,  7.30000000e+00,  7.40000000e+00,  7.50000000e+00,\n                           7.60000000e+00,  7.70000000e+00,  7.80000000e+00,  7.90000000e+00,\n                           8.00000000e+00,  8.10000000e+00,  8.20000000e+00,  8.30000000e+00,\n                           8.40000000e+00,  8.50000000e+00,  8.60000000e+00,  8.70000000e+00,\n                           8.80000000e+00,  8.90000000e+00,  9.00000000e+00,  9.10000000e+00,\n                           9.20000000e+00,  9.30000000e+00,  9.40000000e+00,  9.50000000e+00,\n                           9.60000000e+00,  9.70000000e+00,  9.80000000e+00,  9.90000000e+00]),\n              'y': array([1.92874985e-22, 5.21673666e-22, 1.39694394e-21, 3.70353198e-21,\n                          9.72098502e-21, 2.52616378e-20, 6.49934797e-20, 1.65552266e-19,\n                          4.17501006e-19, 1.04240618e-18, 2.57675711e-18, 6.30618989e-18,\n                          1.52797997e-17, 3.66543340e-17, 8.70542662e-17, 2.04697171e-16,\n                          4.76530474e-16, 1.09831413e-15, 2.50622189e-15, 5.66199552e-15,\n                          1.26641655e-14, 2.80440474e-14, 6.14839641e-14, 1.33456608e-13,\n                          2.86797501e-13, 6.10193668e-13, 1.28533723e-12, 2.68054764e-12,\n                          5.53461007e-12, 1.13137762e-11, 2.28973485e-11, 4.58796249e-11,\n                          9.10147076e-11, 1.78755887e-10, 3.47589128e-10, 6.69158609e-10,\n                          1.27540763e-09, 2.40672244e-09, 4.49634946e-09, 8.31670246e-09,\n                          1.52299797e-08, 2.76124246e-08, 4.95640532e-08, 8.80817920e-08,\n                          1.54975314e-07, 2.69957850e-07, 4.65571572e-07, 7.94939362e-07,\n                          1.34381228e-06, 2.24905597e-06, 3.72665317e-06, 6.11356797e-06,\n                          9.92950431e-06, 1.59667839e-05, 2.54193465e-05, 4.00652974e-05,\n                          6.25215038e-05, 9.65934137e-05, 1.47748360e-04, 2.23745794e-04,\n                          3.35462628e-04, 4.97955422e-04, 7.31802419e-04, 1.06476624e-03,\n                          1.53381068e-03, 2.18749112e-03, 3.08871541e-03, 4.31784001e-03,\n                          5.97602290e-03, 8.18870101e-03, 1.11089965e-02, 1.49207861e-02,\n                          1.98410947e-02, 2.61214099e-02, 3.40474547e-02, 4.39369336e-02,\n                          5.61347628e-02, 7.10053537e-02, 8.89216175e-02, 1.10250525e-01,\n                          1.35335283e-01, 1.64474457e-01, 1.97898699e-01, 2.35746077e-01,\n                          2.78037300e-01, 3.24652467e-01, 3.75311099e-01, 4.29557358e-01,\n                          4.86752256e-01, 5.46074427e-01, 6.06530660e-01, 6.66976811e-01,\n                          7.26149037e-01, 7.82704538e-01, 8.35270211e-01, 8.82496903e-01,\n                          9.23116346e-01, 9.55997482e-01, 9.80198673e-01, 9.95012479e-01,\n                          1.00000000e+00, 9.95012479e-01, 9.80198673e-01, 9.55997482e-01,\n                          9.23116346e-01, 8.82496903e-01, 8.35270211e-01, 7.82704538e-01,\n                          7.26149037e-01, 6.66976811e-01, 6.06530660e-01, 5.46074427e-01,\n                          4.86752256e-01, 4.29557358e-01, 3.75311099e-01, 3.24652467e-01,\n                          2.78037300e-01, 2.35746077e-01, 1.97898699e-01, 1.64474457e-01,\n                          1.35335283e-01, 1.10250525e-01, 8.89216175e-02, 7.10053537e-02,\n                          5.61347628e-02, 4.39369336e-02, 3.40474547e-02, 2.61214099e-02,\n                          1.98410947e-02, 1.49207861e-02, 1.11089965e-02, 8.18870101e-03,\n                          5.97602290e-03, 4.31784001e-03, 3.08871541e-03, 2.18749112e-03,\n                          1.53381068e-03, 1.06476624e-03, 7.31802419e-04, 4.97955422e-04,\n                          3.35462628e-04, 2.23745794e-04, 1.47748360e-04, 9.65934137e-05,\n                          6.25215038e-05, 4.00652974e-05, 2.54193465e-05, 1.59667839e-05,\n                          9.92950431e-06, 6.11356797e-06, 3.72665317e-06, 2.24905597e-06,\n                          1.34381228e-06, 7.94939362e-07, 4.65571572e-07, 2.69957850e-07,\n                          1.54975314e-07, 8.80817920e-08, 4.95640532e-08, 2.76124246e-08,\n                          1.52299797e-08, 8.31670246e-09, 4.49634946e-09, 2.40672244e-09,\n                          1.27540763e-09, 6.69158609e-10, 3.47589128e-10, 1.78755887e-10,\n                          9.10147076e-11, 4.58796249e-11, 2.28973485e-11, 1.13137762e-11,\n                          5.53461007e-12, 2.68054764e-12, 1.28533723e-12, 6.10193668e-13,\n                          2.86797501e-13, 1.33456608e-13, 6.14839641e-14, 2.80440474e-14,\n                          1.26641655e-14, 5.66199552e-15, 2.50622189e-15, 1.09831413e-15,\n                          4.76530474e-16, 2.04697171e-16, 8.70542662e-17, 3.66543340e-17,\n                          1.52797997e-17, 6.30618989e-18, 2.57675711e-18, 1.04240618e-18,\n                          4.17501006e-19, 1.65552266e-19, 6.49934797e-20, 2.52616378e-20,\n                          9.72098502e-21, 3.70353198e-21, 1.39694394e-21, 5.21673666e-22])}],\n    'layout': {'autosize': False,\n               'height': 500,\n               'legend': {'x': 0.95, 'xanchor': 'right', 'y': 0.4, 'yanchor': 'top'},\n               'plot_bgcolor': 'black',\n               'template': '...',\n               'title': {'text': 'squared exponential kernel', 'x': 0.5, 'xanchor': 'center'},\n               'width': 1000,\n               'xaxis': {'linecolor': 'black', 'linewidth': 1, 'showline': True, 'title': {'text': 't / ms'}},\n               'yaxis': {'linecolor': 'black', 'linewidth': 1, 'showline': True, 'title': {'text': 'I / A'}}}\n})"
     },
     "execution_count": 115,
     "metadata": {},
     "output_type": "execute_result"
    }
   ],
   "source": [
    "x_lines = np.arange(-10, 10, 0.1)\n",
    "kernel = SquaredExponentialKernel()  # initialize an instance of the class SquaredExponentialKernel, length and sigma have already standard values\n",
    "data = line_plot(x_lines=x_lines, y_lines=np.array([kernel(x, 0) for x in x_lines]))  # generates the data for the line distribution\n",
    "\n",
    "fig = go.FigureWidget(data)  # generates an interactive plot-widget with the passed data\n",
    "fig = update_layout_of_graph(fig, title='squared exponential kernel')\n",
    "\n",
    "@interact(length=(0.1, 3, 0.1), sigma=(0.1, 3, 0.1), variable_2=(-10, 10, 0.1))\n",
    "def update(length=1, sigma=1, variable_2=0):\n",
    "    with fig.batch_update():\n",
    "        kernel = SquaredExponentialKernel(sigma=sigma, length=length)  # a new instance of the class SquaredExponentialKernel with the updated length and sigma value is generated\n",
    "        fig.data[0].y = np.array([kernel(x, variable_2) for x in x_lines])  # updates the y-values plot data, data can contain multiply scatter plots\n",
    "        # with data[0].y the y-coordinates of the first scatter plot are accessed\n",
    "\n",
    "fig"
   ]
  },
  {
   "cell_type": "markdown",
   "metadata": {},
   "source": [
    "functions for creating the covariance matrix, each of them were implemented separately in such a way as to make them comprehensible with the notes, which is why they are referenced:\n",
    "* **val_1** & **val_2** are equal to a certain element of the arrays **t** & **t'**\n",
    "* **alpha**, **R** & **C** are set to a specific value"
   ]
  },
  {
   "cell_type": "code",
   "execution_count": 116,
   "metadata": {
    "ExecuteTime": {
     "end_time": "2024-07-15T20:23:26.137226Z",
     "start_time": "2024-07-15T20:23:26.130969Z"
    }
   },
   "outputs": [],
   "source": [
    "def k_fu(val_1, val_2, cov_func, R=4, C=330e-6, L=1e-3):\n",
    "    alpha = cov_func.alpha\n",
    "    beta = cov_func.beta\n",
    "    l = cov_func.length\n",
    "\n",
    "    c = R * C * cov_func(val_1, val_2)\n",
    "\n",
    "    def integrand_a(tau):\n",
    "        a = -1 / (gamma(1+alpha) * l**2)\n",
    "        return a * (tau - val_2) * (val_1 - tau)**alpha * cov_func(tau, val_2)\n",
    "\n",
    "    def integrand_b(tau):\n",
    "        b = -1 / (gamma(1+alpha+beta) * l**2)\n",
    "        return b * (tau - val_2) * (val_1 - tau)**(alpha+beta) * cov_func(tau, val_2)\n",
    "\n",
    "    integral_val_a, _ = integrate(integrand_a, 0, val_1, epsabs=1e-9, epsrel=1e-9, limit=10000)\n",
    "    integral_val_b, _ = integrate(integrand_b, 0, val_1, epsabs=1e-9, epsrel=1e-9, limit=10000)\n",
    "    return integral_val_a + R / L * integral_val_b + c"
   ]
  },
  {
   "cell_type": "code",
   "execution_count": 117,
   "metadata": {
    "ExecuteTime": {
     "end_time": "2024-07-15T20:23:26.422411Z",
     "start_time": "2024-07-15T20:23:26.417167Z"
    }
   },
   "outputs": [],
   "source": [
    "def k_uf(val_1, val_2, cov_func, R=4, C=330e-6, L=1e-3):\n",
    "    alpha = cov_func.alpha\n",
    "    beta = cov_func.beta\n",
    "    l = cov_func.length\n",
    "\n",
    "    c = R * C * cov_func(val_1, val_2)\n",
    "\n",
    "    def integrand_a(tau):\n",
    "        a = 1 / (gamma(1+alpha) * l**2)\n",
    "        return a * (val_1 - tau) * (val_2 - tau)**alpha * cov_func(val_1, tau)\n",
    "\n",
    "    def integrand_b(tau):\n",
    "        b = 1 / (gamma(1+alpha+beta) * l**2)\n",
    "        return b * (val_1 - tau) * (val_2 - tau)**(alpha+beta) * cov_func(val_1, tau)\n",
    "\n",
    "    integral_val_a, _ = integrate(integrand_a, 0, val_2, epsabs=1e-9, epsrel=1e-9, limit=10000)\n",
    "    integral_val_b, _ = integrate(integrand_b, 0, val_2, epsabs=1e-9, epsrel=1e-9, limit=10000)\n",
    "    return integral_val_a + R / L * integral_val_b + c"
   ]
  },
  {
   "cell_type": "code",
   "execution_count": 118,
   "metadata": {
    "ExecuteTime": {
     "end_time": "2024-07-15T20:23:26.711253Z",
     "start_time": "2024-07-15T20:23:26.703513Z"
    }
   },
   "outputs": [],
   "source": [
    "def k_uu(val_1, val_2, cov_func):\n",
    "    return cov_func(val_1, val_2)"
   ]
  },
  {
   "cell_type": "code",
   "execution_count": 119,
   "metadata": {
    "ExecuteTime": {
     "end_time": "2024-07-15T20:23:27.586896Z",
     "start_time": "2024-07-15T20:23:27.565389Z"
    }
   },
   "outputs": [],
   "source": [
    "def k_ff(val_1, val_2, cov_func, R=4, C=330e-6, L=1e-3):\n",
    "    alpha = cov_func.alpha\n",
    "    beta = cov_func.beta\n",
    "    l = cov_func.length\n",
    "\n",
    "    # simple expressions, see notes:\n",
    "    a = R * C * k_uf(val_1, val_2, cov_func, R, C, L)\n",
    "    b = R * C * (k_fu(val_1, val_2, cov_func, R, C, L) - R * C * k_uu(val_1, val_2, cov_func))\n",
    "\n",
    "    # more complex integral c, see notes:\n",
    "    def c():\n",
    "        def A(val_1, val_2, tau):\n",
    "            a = 1/gamma(1+alpha) * (val_2 - tau)**alpha * 1/l**2 * (val_1 - tau)\n",
    "            return a * cov_func(val_1, tau)\n",
    "\n",
    "        def B(val_1, val_2):\n",
    "            integrand = lambda tau: A(val_1, val_2, tau)\n",
    "            integral_val, _ = integrate(integrand, 0, val_2, epsabs=1e-8, epsrel=1e-8, limit=10000)\n",
    "            return integral_val\n",
    "\n",
    "        def derivative_B(tau, val_2, h= 0.01*np.sqrt(2e-53)):\n",
    "            def B_tau(tau):\n",
    "                return B(tau, val_2)\n",
    "            dB = (B_tau(tau + h) - B_tau(tau - h)) / (2*h)\n",
    "            return dB\n",
    "\n",
    "        def double_integral(val_1, val_2):\n",
    "            integrand = lambda tau: 1/gamma(1 + alpha) * (val_1 - tau)**alpha * derivative_B(tau, val_2)\n",
    "            integral_val, _ = integrate(integrand, 0, val_1, epsabs=1e-8, epsrel=1e-8, limit=10000)\n",
    "            return integral_val\n",
    "\n",
    "        c = double_integral(val_1, val_2)\n",
    "        return c\n",
    "\n",
    "    # more complex integral d, see notes:\n",
    "    def d():\n",
    "        def A(val_1, val_2, tau):\n",
    "            a = R / (L * gamma(1+alpha+beta)) * (val_2 - tau)**(alpha+beta) * 1/l**2 * (val_1 - tau)\n",
    "            return a * cov_func(val_1, tau)\n",
    "\n",
    "        def B(val_1, val_2):\n",
    "            integrand = lambda tau: A(val_1, val_2, tau)\n",
    "            integral_val, _ = integrate(integrand, 0, val_2, epsabs=1e-8, epsrel=1e-8, limit=10000)\n",
    "            return integral_val\n",
    "\n",
    "        def derivative_B(tau, val_2, h= 0.01*np.sqrt(2e-53)):\n",
    "            def B_tau(tau):\n",
    "                return B(tau, val_2)\n",
    "            dB = (B_tau(tau + h) - B_tau(tau - h)) / (2*h)\n",
    "            return dB\n",
    "\n",
    "        def double_integral(val_1, val_2):\n",
    "            integrand = lambda tau: 1/gamma(1 + alpha) * (val_1 - tau)**alpha * derivative_B(tau, val_2)\n",
    "            integral_val, _ = integrate(integrand, 0, val_1, epsabs=1e-8, epsrel=1e-8, limit=10000)\n",
    "            return integral_val\n",
    "\n",
    "        d = double_integral(val_1, val_2)\n",
    "        return d\n",
    "\n",
    "    # more complex integral e, see notes:\n",
    "    def e():\n",
    "        def A(val_1, val_2, tau):\n",
    "            a = 1/gamma(1+alpha) * (val_2 - tau)**alpha * 1/l**2 * (val_1 - tau)\n",
    "            return a * cov_func(val_1, tau)\n",
    "\n",
    "        def B(val_1, val_2):\n",
    "            integrand = lambda tau: A(val_1, val_2, tau)\n",
    "            integral_val, _ = integrate(integrand, 0, val_2, epsabs=1e-8, epsrel=1e-8, limit=10000)\n",
    "            return integral_val\n",
    "\n",
    "        def derivative_B(tau, val_2, h= 0.01*np.sqrt(2e-53)):\n",
    "            def B_tau(tau):\n",
    "                return B(tau, val_2)\n",
    "            dB = (B_tau(tau + h) - B_tau(tau - h)) / (2*h)\n",
    "            return dB\n",
    "\n",
    "        def double_integral(val_1, val_2):\n",
    "            integrand = lambda tau: 1 / gamma(1 + alpha + beta) * (val_1 - tau)**(alpha + beta) * derivative_B(tau, val_2)\n",
    "            integral_val, _ = integrate(integrand, 0, val_1, epsabs=1e-8, epsrel=1e-8, limit=10000)\n",
    "            return integral_val\n",
    "\n",
    "        e = R / L * double_integral(val_1, val_2)\n",
    "        return e\n",
    "\n",
    "    # more complex integral f, see notes:\n",
    "    def f():\n",
    "        def A(val_1, val_2, tau):\n",
    "            a = R / (L * gamma(1 + alpha + beta)) * (val_2 - tau)**(alpha + beta) * 1/l**2 * (val_1 - tau)\n",
    "            return a * cov_func(val_1, tau)\n",
    "\n",
    "        def B(val_1, val_2):\n",
    "            integrand = lambda tau: A(val_1, val_2, tau)\n",
    "            integral_val, _ = integrate(integrand, 0, val_2, epsabs=1e-8, epsrel=1e-8, limit=10000)\n",
    "            return integral_val\n",
    "\n",
    "        def derivative_B(tau, val_2, h= 0.01*np.sqrt(2e-53)):\n",
    "            def B_tau(tau):\n",
    "                return B(tau, val_2)\n",
    "            dB = (B_tau(tau + h) - B_tau(tau - h)) / (2*h)\n",
    "            return dB\n",
    "\n",
    "        def double_integral(val_1, val_2):\n",
    "            integrand = lambda tau: 1 / gamma(1 + alpha + beta) * (val_1 - tau)**(alpha + beta) * derivative_B(tau, val_2)\n",
    "            integral_val, _ = integrate(integrand, 0, val_1, epsabs=1e-8, epsrel=1e-8, limit=10000)\n",
    "            return integral_val\n",
    "\n",
    "        d = R / L * double_integral(val_1, val_2)\n",
    "        return d\n",
    "\n",
    "    return a + b + c() + d() + e() + f()"
   ]
  },
  {
   "cell_type": "markdown",
   "metadata": {},
   "source": [
    "testing the implemented functions above:"
   ]
  },
  {
   "cell_type": "code",
   "execution_count": 120,
   "metadata": {
    "ExecuteTime": {
     "end_time": "2024-07-15T20:24:04.465323Z",
     "start_time": "2024-07-15T20:23:28.592905Z"
    }
   },
   "outputs": [
    {
     "name": "stdout",
     "output_type": "stream",
     "text": [
      "kuf =  0.0014072201614966414 kuu =  1.0 kfu =  0.0014072201614966414 kff =  1.972661226351133e-06\n",
      "kuf =  0.0023009514653992173 kuu =  1.0 kfu =  0.0023009514653992173 kff =  4.332111868653934e-06\n",
      "kuf =  0.005365011655386741 kuu =  1.0 kfu =  0.005365011655386741 kff =  1.2421230770220995e-05\n",
      "kuf =  0.012375378952579723 kuu =  1.0 kfu =  0.012375378952579723 kff =  3.0928600434810466e-05\n",
      "kuf =  0.02543524190567102 kuu =  1.0 kfu =  0.02543524190567102 kff =  6.540663863097149e-05\n",
      "kuf =  0.04692720256494821 kuu =  1.0 kfu =  0.04692720256494821 kff =  0.00012214541477146326\n",
      "kuf =  0.079480669661554 kuu =  1.0 kfu =  0.079480669661554 kff =  0.00020808656790650254\n",
      "kuf =  0.12594735902079443 kuu =  1.0 kfu =  0.12594735902079443 kff =  0.0003307586278148973\n",
      "kuf =  0.1893817251651318 kuu =  1.0 kfu =  0.1893817251651318 kff =  0.000498225354435948\n",
      "kuf =  0.27302464695579254 kuu =  1.0 kfu =  0.27302464695579254 kff =  0.0007190426679632923\n",
      "kuf =  0.38028938502383647 kuu =  1.0 kfu =  0.38028938502383647 kff =  0.0010022215764629284\n",
      "kuf =  0.5147491924667245 kuu =  1.0 kfu =  0.5147491924667245 kff =  0.0013571954681121526\n",
      "kuf =  0.6801261677785202 kuu =  1.0 kfu =  0.6801261677785202 kff =  0.0017937906829352934\n",
      "kuf =  0.8802810652964048 kuu =  1.0 kfu =  0.8802810652964048 kff =  0.002322199612382509\n",
      "kuf =  1.1192038593120162 kuu =  1.0 kfu =  1.1192038593120162 kff =  0.002952955788583723\n",
      "kuf =  1.4010049119897667 kuu =  1.0 kfu =  1.4010049119897667 kff =  0.003696910567652984\n",
      "kuf =  1.7299066324777423 kuu =  1.0 kfu =  1.7299066324777423 kff =  0.00456521110974124\n",
      "kuf =  2.1102355410597244 kuu =  1.0 kfu =  2.1102355410597244 kff =  0.005569279428397672\n",
      "kuf =  2.5464146714498677 kuu =  1.0 kfu =  2.5464146714498677 kff =  0.006720792332627651\n",
      "kuf =  3.0429562586386156 kuu =  1.0 kfu =  3.0429562586386156 kff =  0.008031662122805944\n",
      "kuf =  3.6044546705257168 kuu =  1.0 kfu =  3.6044546705257168 kff =  0.009514017930187892\n",
      "kuf =  4.235579549902812 kuu =  1.0 kfu =  4.235579549902812 kff =  0.011180187611743424\n",
      "kuf =  4.941069139843404 kuu =  1.0 kfu =  4.941069139843404 kff =  0.013042680129186586\n",
      "kuf =  5.725723770684157 kuu =  1.0 kfu =  5.725723770684157 kff =  0.015114168354606175\n",
      "kuf =  6.594399490892071 kuu =  1.0 kfu =  6.594399490892071 kff =  0.01740747225595507\n",
      "kuf =  7.552001827398961 kuu =  1.0 kfu =  7.552001827398961 kff =  0.019935542424333257\n",
      "kuf =  8.603479663696888 kuu =  1.0 kfu =  8.603479663696888 kff =  0.022711443912159783\n",
      "kuf =  9.753819226186678 kuu =  1.0 kfu =  9.753819226186678 kff =  0.025748340357132832\n",
      "kuf =  11.008038171102426 kuu =  1.0 kfu =  11.008038171102426 kff =  0.029059478371710405\n",
      "kuf =  12.371179765854452 kuu =  1.0 kfu =  12.371179765854452 kff =  0.03265817218185575\n",
      "kuf =  13.848307159905037 kuu =  1.0 kfu =  13.848307159905037 kff =  0.0365577885021493\n",
      "kuf =  15.444497741360506 kuu =  1.0 kfu =  15.444497741360506 kff =  0.040771731637191735\n",
      "kuf =  17.16483757636628 kuu =  1.0 kfu =  17.16483757636628 kff =  0.04531342880160698\n",
      "kuf =  19.014415929156378 kuu =  1.0 kfu =  19.014415929156378 kff =  0.050196315652972834\n",
      "kuf =  20.99831986125891 kuu =  1.0 kfu =  20.99831986125891 kff =  0.05543382203372352\n",
      "kuf =  23.121628908912523 kuu =  1.0 kfu =  23.121628908912523 kff =  0.061039357919529066\n",
      "kuf =  25.38940983822041 kuu =  1.0 kfu =  25.38940983822041 kff =  0.06702629957290188\n",
      "kuf =  27.806711477971284 kuu =  1.0 kfu =  27.806711477971284 kff =  0.0734079759018442\n",
      "kuf =  30.37855963039905 kuu =  1.0 kfu =  30.37855963039905 kff =  0.0801976550242535\n",
      "kuf =  33.10995206044569 kuu =  1.0 kfu =  33.10995206044569 kff =  0.08740853103957663\n",
      "kuf =  36.0058535643394 kuu =  1.0 kfu =  36.0058535643394 kff =  0.09505371100985602\n",
      "kuf =  39.071191118509304 kuu =  1.0 kfu =  39.071191118509304 kff =  0.10314620215286457\n",
      "kuf =  42.31084911003505 kuu =  1.0 kfu =  42.31084911003505 kff =  0.11169889925049253\n",
      "kuf =  45.729664649975426 kuu =  1.0 kfu =  45.729664649975426 kff =  0.12072457227593512\n",
      "kuf =  49.332422971041424 kuu =  1.0 kfu =  49.332422971041424 kff =  0.13023585424354936\n",
      "kuf =  53.123852911178496 kuu =  1.0 kfu =  53.123852911178496 kff =  0.14024522928551122\n",
      "kuf =  57.108622484694926 kuu =  1.0 kfu =  57.108622484694926 kff =  0.1507650209595946\n",
      "kuf =  61.29133454264697 kuu =  1.0 kfu =  61.29133454264697 kff =  0.161807380792588\n",
      "kuf =  65.67652252421308 kuu =  1.0 kfu =  65.67652252421308 kff =  0.17338427706392254\n",
      "kuf =  70.26864630083968 kuu =  1.0 kfu =  70.26864630083968 kff =  0.18550748383421672\n",
      "kuf =  75.07208811494411 kuu =  1.0 kfu =  75.07208811494411 kff =  0.19818857022345243\n",
      "kuf =  80.09114861496953 kuu =  1.0 kfu =  80.09114861496953 kff =  0.21143888994351953\n",
      "kuf =  85.33004298857804 kuu =  1.0 kfu =  85.33004298857804 kff =  0.22526957108984602\n",
      "kuf =  90.79289719575334 kuu =  1.0 kfu =  90.79289719575334 kff =  0.2396915061967888\n",
      "kuf =  96.48374430355871 kuu =  1.0 kfu =  96.48374430355871 kff =  0.254715342561395\n",
      "kuf =  102.40652092426284 kuu =  1.0 kfu =  102.40652092426284 kff =  0.2703514728400539\n",
      "kuf =  108.56506375850665 kuu =  1.0 kfu =  108.56506375850665 kff =  0.28661002592245755\n",
      "kuf =  114.9631062451366 kuu =  1.0 kfu =  114.9631062451366 kff =  0.3035008580871606\n",
      "kuf =  121.60427531927728 kuu =  1.0 kfu =  121.60427531927728 kff =  0.321033544442892\n",
      "kuf =  128.49208828539872 kuu =  1.0 kfu =  128.49208828539872 kff =  0.33921737067345265\n",
      "kuf =  135.62994977569812 kuu =  1.0 kfu =  135.62994977569812 kff =  0.35806132500784305\n",
      "kuf =  143.02114887223848 kuu =  1.0 kfu =  143.02114887223848 kff =  0.37757409062270963\n",
      "kuf =  150.6688562924159 kuu =  1.0 kfu =  150.6688562924159 kff =  0.39776403821197803\n",
      "kuf =  158.57612171455233 kuu =  1.0 kfu =  158.57612171455233 kff =  0.41863921892641814\n",
      "kuf =  166.7458712148363 kuu =  1.0 kfu =  166.7458712148363 kff =  0.4402073576071679\n",
      "kuf =  175.18090482162611 kuu =  1.0 kfu =  175.18090482162611 kff =  0.46247584632909294\n",
      "kuf =  183.88389418810203 kuu =  1.0 kfu =  183.88389418810203 kff =  0.4854517382565894\n",
      "kuf =  192.85738038416847 kuu =  1.0 kfu =  192.85738038416847 kff =  0.5091417418142048\n",
      "kuf =  202.1037718084157 kuu =  1.0 kfu =  202.1037718084157 kff =  0.5335522151742175\n",
      "kuf =  211.62534222085839 kuu =  1.0 kfu =  211.62534222085839 kff =  0.5586891610630662\n",
      "kuf =  221.42422889707655 kuu =  1.0 kfu =  221.42422889707655 kff =  0.5845582218882821\n",
      "kuf =  231.5024309042862 kuu =  1.0 kfu =  231.5024309042862 kff =  0.6111646751873157\n",
      "kuf =  241.86180749977476 kuu =  1.0 kfu =  241.86180749977476 kff =  0.6385134293994054\n",
      "kuf =  252.50407665203375 kuu =  1.0 kfu =  252.50407665203375 kff =  0.666609019961369\n",
      "kuf =  263.43081368482814 kuu =  1.0 kfu =  263.43081368482814 kff =  0.6954556057279462\n",
      "kuf =  274.6434500443394 kuu =  1.0 kfu =  274.6434500443394 kff =  0.7250569657170559\n",
      "kuf =  286.1432721894208 kuu =  1.0 kfu =  286.1432721894208 kff =  0.7554164961800709\n",
      "kuf =  297.93142060490453 kuu =  1.0 kfu =  297.93142060490453 kff =  0.7865372079969479\n",
      "kuf =  310.0088889378004 kuu =  1.0 kfu =  310.0088889378004 kff =  0.818421724395793\n",
      "kuf =  322.3765232561244 kuu =  1.0 kfu =  322.3765232561244 kff =  0.8510722789961684\n",
      "kuf =  335.03502143000003 kuu =  1.0 kfu =  335.03502143000003 kff =  0.8844907141752001\n",
      "kuf =  347.98493263457067 kuu =  1.0 kfu =  347.98493263457067 kff =  0.9186784797552665\n",
      "kuf =  361.2266569741698 kuu =  1.0 kfu =  361.2266569741698 kff =  0.9536366320118084\n",
      "kuf =  374.76044522708975 kuu =  1.0 kfu =  374.76044522708975 kff =  0.989365832999517\n",
      "kuf =  388.58639871020165 kuu =  1.0 kfu =  388.58639871020165 kff =  1.0258663501949323\n",
      "kuf =  402.70446926257677 kuu =  1.0 kfu =  402.70446926257677 kff =  1.0631380564532027\n",
      "kuf =  417.114459347165 kuu =  1.0 kfu =  417.114459347165 kff =  1.1011804302765156\n",
      "kuf =  431.81602226949894 kuu =  1.0 kfu =  431.81602226949894 kff =  1.1399925563914772\n",
      "kuf =  446.80866251229077 kuu =  1.0 kfu =  446.80866251229077 kff =  1.1795731266324476\n",
      "kuf =  462.09173618470527 kuu =  1.0 kfu =  462.09173618470527 kff =  1.2199204411276219\n",
      "kuf =  477.66445158499886 kuu =  1.0 kfu =  477.66445158499886 kff =  1.261032409784397\n",
      "kuf =  493.525869875131 kuu =  1.0 kfu =  493.525869875131 kff =  1.3029065540703457\n",
      "kuf =  509.67490586586024 kuu =  1.0 kfu =  509.67490586586024 kff =  1.345540009085871\n",
      "kuf =  526.110328910771 kuu =  1.0 kfu =  526.110328910771 kff =  1.3889295259244356\n",
      "kuf =  542.8307639075674 kuu =  1.0 kfu =  542.8307639075674 kff =  1.433071474315978\n",
      "kuf =  559.8346924049209 kuu =  1.0 kfu =  559.8346924049209 kff =  1.4779618455489913\n",
      "kuf =  577.1204538130569 kuu =  1.0 kfu =  577.1204538130569 kff =  1.5235962556664702\n",
      "kuf =  594.6862467162052 kuu =  1.0 kfu =  594.6862467162052 kff =  1.569969948930782\n",
      "kuf =  612.5301302849582 kuu =  1.0 kfu =  612.5301302849582 kff =  1.6170778015522895\n",
      "kuf =  630.6500257865098 kuu =  1.0 kfu =  630.6500257865098 kff =  1.6649143256763859\n",
      "kuf =  649.0437181906873 kuu =  1.0 kfu =  649.0437181906873 kff =  1.7134736736234144\n",
      "kuf =  667.7088578696129 kuu =  1.0 kfu =  667.7088578696129 kff =  1.7627496423757778\n",
      "kuf =  686.6429623887722 kuu =  1.0 kfu =  686.6429623887722 kff =  1.8127356783063586\n",
      "kuf =  705.8434183872122 kuu =  1.0 kfu =  705.8434183872122 kff =  1.8634248821422403\n",
      "kuf =  725.3074835445203 kuu =  1.0 kfu =  725.3074835445203 kff =  1.9148100141575335\n",
      "kuf =  745.0322886321944 kuu =  1.0 kfu =  745.0322886321944 kff =  1.9668834995889934\n",
      "kuf =  765.0148396469523 kuu =  1.0 kfu =  765.0148396469523 kff =  2.0196374342679544\n",
      "kuf =  785.2520200234827 kuu =  1.0 kfu =  785.2520200234827 kff =  2.0730635904619943\n",
      "kuf =  805.7405929240931 kuu =  1.0 kfu =  805.7405929240931 kff =  2.127153422919606\n",
      "kuf =  826.477203602665 kuu =  1.0 kfu =  826.477203602665 kff =  2.1818980751110355\n",
      "kuf =  847.4583818402857 kuu =  1.0 kfu =  847.4583818402857 kff =  2.2372883856583545\n",
      "kuf =  868.6805444498902 kuu =  1.0 kfu =  868.6805444498902 kff =  2.2933148949477102\n",
      "kuf =  890.1399978472056 kuu =  1.0 kfu =  890.1399978472056 kff =  2.349967851916623\n",
      "kuf =  911.8329406852683 kuu =  1.0 kfu =  911.8329406852683 kff =  2.407237221009108\n",
      "kuf =  933.7554665497403 kuu =  1.0 kfu =  933.7554665497403 kff =  2.465112689291314\n",
      "kuf =  955.9035667122424 kuu =  1.0 kfu =  955.9035667122424 kff =  2.52358367372032\n",
      "kuf =  978.2731329388798 kuu =  1.0 kfu =  978.2731329388798 kff =  2.582639328558643\n",
      "kuf =  1000.8599603511341 kuu =  1.0 kfu =  1000.8599603511341 kff =  2.642268552926994\n",
      "kuf =  1023.6597503362581 kuu =  1.0 kfu =  1023.6597503362581 kff =  2.702459998487721\n",
      "kuf =  1046.6681135095562 kuu =  1.0 kfu =  1046.6681135095562 kff =  2.763202077265228\n",
      "kuf =  1069.8805726943767 kuu =  1.0 kfu =  1069.8805726943767 kff =  2.824482969513155\n",
      "kuf =  1093.2925659947691 kuu =  1.0 kfu =  1093.2925659947691 kff =  2.8862906318261903\n",
      "kuf =  1116.899449854633 kuu =  1.0 kfu =  1116.899449854633 kff =  2.9486128052162313\n",
      "kuf =  1140.696502177545 kuu =  1.0 kfu =  1140.696502177545 kff =  3.0114370233487184\n",
      "kuf =  1164.678925473684 kuu =  1.0 kfu =  1164.678925473684 kff =  3.0747506208505255\n",
      "kuf =  1188.8418500360513 kuu =  1.0 kfu =  1188.8418500360513 kff =  3.1385407416951754\n",
      "kuf =  1213.1803371430908 kuu =  1.0 kfu =  1213.1803371430908 kff =  3.2027943476577594\n",
      "kuf =  1237.6893822848417 kuu =  1.0 kfu =  1237.6893822848417 kff =  3.2674982268319823\n",
      "kuf =  1262.3639184097426 kuu =  1.0 kfu =  1262.3639184097426 kff =  3.33263900220172\n",
      "kuf =  1287.1988191892397 kuu =  1.0 kfu =  1287.1988191892397 kff =  3.398203140259593\n",
      "kuf =  1312.1889022973546 kuu =  1.0 kfu =  1312.1889022973546 kff =  3.464176959665016\n",
      "kuf =  1337.3289327023992 kuu =  1.0 kfu =  1337.3289327023992 kff =  3.530546639934334\n",
      "kuf =  1362.6136259680334 kuu =  1.0 kfu =  1362.6136259680334 kff =  3.597298230155608\n",
      "kuf =  1388.0376515608905 kuu =  1.0 kfu =  1388.0376515608905 kff =  3.664417657720751\n",
      "kuf =  1413.5956361620304 kuu =  1.0 kfu =  1413.5956361620304 kff =  3.7318907370677596\n",
      "kuf =  1439.282166979492 kuu =  1.0 kfu =  1439.282166979492 kff =  3.799703178425859\n",
      "kuf =  1465.0917950592607 kuu =  1.0 kfu =  1465.0917950592607 kff =  3.867840596556448\n",
      "kuf =  1491.019038591999 kuu =  1.0 kfu =  1491.019038591999 kff =  3.9362885194828774\n",
      "kuf =  1517.0583862129154 kuu =  1.0 kfu =  1517.0583862129154 kff =  4.005032397202097\n",
      "kuf =  1543.204300292194 kuu =  1.0 kfu =  1543.204300292194 kff =  4.074057610371392\n",
      "kuf =  1569.4512202134433 kuu =  1.0 kfu =  1569.4512202134433 kff =  4.14334947896349\n",
      "kuf =  1595.7935656376592 kuu =  1.0 kfu =  1595.7935656376592 kff =  4.21289327088342\n",
      "kuf =  1622.2257397502533 kuu =  1.0 kfu =  1622.2257397502533 kff =  4.2826742105406685\n",
      "kuf =  1648.7421324887257 kuu =  1.0 kfu =  1648.7421324887257 kff =  4.352677487370236\n",
      "kuf =  1675.3371237486326 kuu =  1.0 kfu =  1675.3371237486326 kff =  4.42288826429639\n",
      "kuf =  1702.0050865655137 kuu =  1.0 kfu =  1702.0050865655137 kff =  4.493291686132956\n",
      "kuf =  1728.7403902705373 kuu =  1.0 kfu =  1728.7403902705373 kff =  4.5638728879142185\n",
      "kuf =  1755.5374036176388 kuu =  1.0 kfu =  1755.5374036176388 kff =  4.6346170031505665\n",
      "kuf =  1782.3904978799892 kuu =  1.0 kfu =  1782.3904978799892 kff =  4.705509172003172\n",
      "kuf =  1809.2940499137055 kuu =  1.0 kfu =  1809.2940499137055 kff =  4.776534549372182\n",
      "kuf =  1836.2424451867432 kuu =  1.0 kfu =  1836.2424451867432 kff =  4.847678312893002\n",
      "kuf =  1863.2300807709898 kuu =  1.0 kfu =  1863.2300807709898 kff =  4.918925670835414\n",
      "kuf =  1890.251368295617 kuu =  1.0 kfu =  1890.251368295617 kff =  4.990261869900429\n",
      "kuf =  1917.3007368598426 kuu =  1.0 kfu =  1917.3007368598426 kff =  5.061672202909984\n",
      "kuf =  1944.3726359032637 kuu =  1.0 kfu =  1944.3726359032637 kff =  5.133142016384616\n",
      "kuf =  1971.4615380320372 kuu =  1.0 kfu =  1971.4615380320372 kff =  5.204656718004578\n",
      "kuf =  1998.5619417992164 kuu =  1.0 kfu =  1998.5619417992164 kff =  5.276201783949931\n",
      "kuf =  2025.668374437604 kuu =  1.0 kfu =  2025.668374437604 kff =  5.347762766115274\n",
      "kuf =  2052.775394543597 kuu =  1.0 kfu =  2052.775394543597 kff =  5.419325299195096\n",
      "kuf =  2079.8775947105005 kuu =  1.0 kfu =  2079.8775947105005 kff =  5.490875107635722\n",
      "kuf =  2106.969604109897 kuu =  1.0 kfu =  2106.969604109897 kff =  5.562398012450128\n",
      "kuf =  2134.0460910197053 kuu =  1.0 kfu =  2134.0460910197053 kff =  5.633879937892022\n",
      "kuf =  2161.1017652976416 kuu =  1.0 kfu =  2161.1017652976416 kff =  5.705306917985775\n",
      "kuf =  2188.131380798834 kuu =  1.0 kfu =  2188.131380798834 kff =  5.776665102908922\n",
      "kuf =  2215.1297377364576 kuu =  1.0 kfu =  2215.1297377364576 kff =  5.847940765224248\n",
      "kuf =  2242.0916849842547 kuu =  1.0 kfu =  2242.0916849842547 kff =  5.919120305958433\n",
      "kuf =  2269.012122319959 kuu =  1.0 kfu =  2269.012122319959 kff =  5.990190260524692\n",
      "kuf =  2295.8860026086113 kuu =  1.0 kfu =  2295.8860026086113 kff =  6.061137304486734\n",
      "kuf =  2322.7083339249216 kuu =  1.0 kfu =  2322.7083339249216 kff =  6.131948259161794\n",
      "kuf =  2349.474181613798 kuu =  1.0 kfu =  2349.474181613798 kff =  6.202610097060427\n",
      "kuf =  2376.178670288333 kuu =  1.0 kfu =  2376.178670288333 kff =  6.273109947161199\n",
      "kuf =  2402.8169857645044 kuu =  1.0 kfu =  2402.8169857645044 kff =  6.343435100018292\n",
      "kuf =  2429.3843769319974 kuu =  1.0 kfu =  2429.3843769319974 kff =  6.413573012700473\n",
      "kuf =  2455.876157560555 kuu =  1.0 kfu =  2455.876157560555 kff =  6.483511313559865\n",
      "kuf =  2482.287708041388 kuu =  1.0 kfu =  2482.287708041388 kff =  6.553237806829266\n",
      "kuf =  2508.6144770631763 kuu =  1.0 kfu =  2508.6144770631763 kff =  6.622740477046786\n",
      "kuf =  2534.851983222317 kuu =  1.0 kfu =  2534.851983222317 kff =  6.692007493306917\n",
      "kuf =  2560.9958165671046 kuu =  1.0 kfu =  2560.9958165671046 kff =  6.761027213337156\n",
      "kuf =  2587.04164007559 kuu =  1.0 kfu =  2587.04164007559 kff =  6.829788187399558\n",
      "kuf =  2612.9851910669436 kuu =  1.0 kfu =  2612.9851910669436 kff =  6.898279162016731\n",
      "kuf =  2638.8222825462067 kuu =  1.0 kfu =  2638.8222825462067 kff =  6.966489083521985\n",
      "kuf =  2664.5488044823514 kuu =  1.0 kfu =  2664.5488044823514 kff =  7.034407101433407\n",
      "kuf =  2690.160725019662 kuu =  1.0 kfu =  2690.160725019662 kff =  7.102022571651908\n",
      "kuf =  2715.654091622492 kuu =  1.0 kfu =  2715.654091622492 kff =  7.169325059483379\n",
      "kuf =  2741.0250321534927 kuu =  1.0 kfu =  2741.0250321534927 kff =  7.236304342485221\n",
      "kuf =  2766.2697558855143 kuu =  1.0 kfu =  2766.2697558855143 kff =  7.302950413137758\n",
      "kuf =  2791.3845544473756 kuu =  1.0 kfu =  2791.3845544473756 kff =  7.369253481341072\n",
      "kuf =  2816.3658027037836 kuu =  1.0 kfu =  2816.3658027037836 kff =  7.43520397673799\n",
      "kuf =  2841.209959569757 kuu =  1.0 kfu =  2841.209959569757 kff =  7.500792550864158\n"
     ]
    },
    {
     "ename": "KeyboardInterrupt",
     "evalue": "",
     "output_type": "error",
     "traceback": [
      "\u001B[0;31m---------------------------------------------------------------------------\u001B[0m",
      "\u001B[0;31mKeyboardInterrupt\u001B[0m                         Traceback (most recent call last)",
      "Input \u001B[0;32mIn [120]\u001B[0m, in \u001B[0;36m<cell line: 7>\u001B[0;34m()\u001B[0m\n\u001B[1;32m      9\u001B[0m kfu \u001B[38;5;241m=\u001B[39m k_fu(x[i], x[i], cov_func)\n\u001B[1;32m     10\u001B[0m kuu \u001B[38;5;241m=\u001B[39m k_uu(x[i], x[i], cov_func)\n\u001B[0;32m---> 11\u001B[0m kff \u001B[38;5;241m=\u001B[39m \u001B[43mk_ff\u001B[49m\u001B[43m(\u001B[49m\u001B[43mx\u001B[49m\u001B[43m[\u001B[49m\u001B[43mi\u001B[49m\u001B[43m]\u001B[49m\u001B[43m,\u001B[49m\u001B[43m \u001B[49m\u001B[43mx\u001B[49m\u001B[43m[\u001B[49m\u001B[43mi\u001B[49m\u001B[43m]\u001B[49m\u001B[43m,\u001B[49m\u001B[43m \u001B[49m\u001B[43mcov_func\u001B[49m\u001B[43m)\u001B[49m\n\u001B[1;32m     12\u001B[0m \u001B[38;5;28mprint\u001B[39m(\u001B[38;5;124m'\u001B[39m\u001B[38;5;124mkuf = \u001B[39m\u001B[38;5;124m'\u001B[39m, kuf, \u001B[38;5;124m'\u001B[39m\u001B[38;5;124mkuu = \u001B[39m\u001B[38;5;124m'\u001B[39m, kuu, \u001B[38;5;124m'\u001B[39m\u001B[38;5;124mkfu = \u001B[39m\u001B[38;5;124m'\u001B[39m, kfu, \u001B[38;5;124m'\u001B[39m\u001B[38;5;124mkff = \u001B[39m\u001B[38;5;124m'\u001B[39m, kff)\n",
      "Input \u001B[0;32mIn [119]\u001B[0m, in \u001B[0;36mk_ff\u001B[0;34m(val_1, val_2, cov_func, R, C, L)\u001B[0m\n\u001B[1;32m    107\u001B[0m     d \u001B[38;5;241m=\u001B[39m R \u001B[38;5;241m/\u001B[39m L \u001B[38;5;241m*\u001B[39m double_integral(val_1, val_2)\n\u001B[1;32m    108\u001B[0m     \u001B[38;5;28;01mreturn\u001B[39;00m d\n\u001B[0;32m--> 110\u001B[0m \u001B[38;5;28;01mreturn\u001B[39;00m a \u001B[38;5;241m+\u001B[39m b \u001B[38;5;241m+\u001B[39m c() \u001B[38;5;241m+\u001B[39m d() \u001B[38;5;241m+\u001B[39m \u001B[43me\u001B[49m\u001B[43m(\u001B[49m\u001B[43m)\u001B[49m \u001B[38;5;241m+\u001B[39m f()\n",
      "Input \u001B[0;32mIn [119]\u001B[0m, in \u001B[0;36mk_ff.<locals>.e\u001B[0;34m()\u001B[0m\n\u001B[1;32m     79\u001B[0m     integral_val, _ \u001B[38;5;241m=\u001B[39m integrate(integrand, \u001B[38;5;241m0\u001B[39m, val_1, epsabs\u001B[38;5;241m=\u001B[39m\u001B[38;5;241m1e-8\u001B[39m, epsrel\u001B[38;5;241m=\u001B[39m\u001B[38;5;241m1e-8\u001B[39m, limit\u001B[38;5;241m=\u001B[39m\u001B[38;5;241m10000\u001B[39m)\n\u001B[1;32m     80\u001B[0m     \u001B[38;5;28;01mreturn\u001B[39;00m integral_val\n\u001B[0;32m---> 82\u001B[0m e \u001B[38;5;241m=\u001B[39m R \u001B[38;5;241m/\u001B[39m L \u001B[38;5;241m*\u001B[39m \u001B[43mdouble_integral\u001B[49m\u001B[43m(\u001B[49m\u001B[43mval_1\u001B[49m\u001B[43m,\u001B[49m\u001B[43m \u001B[49m\u001B[43mval_2\u001B[49m\u001B[43m)\u001B[49m\n\u001B[1;32m     83\u001B[0m \u001B[38;5;28;01mreturn\u001B[39;00m e\n",
      "Input \u001B[0;32mIn [119]\u001B[0m, in \u001B[0;36mk_ff.<locals>.e.<locals>.double_integral\u001B[0;34m(val_1, val_2)\u001B[0m\n\u001B[1;32m     77\u001B[0m \u001B[38;5;28;01mdef\u001B[39;00m \u001B[38;5;21mdouble_integral\u001B[39m(val_1, val_2):\n\u001B[1;32m     78\u001B[0m     integrand \u001B[38;5;241m=\u001B[39m \u001B[38;5;28;01mlambda\u001B[39;00m tau: \u001B[38;5;241m1\u001B[39m \u001B[38;5;241m/\u001B[39m gamma(\u001B[38;5;241m1\u001B[39m \u001B[38;5;241m+\u001B[39m alpha \u001B[38;5;241m+\u001B[39m beta) \u001B[38;5;241m*\u001B[39m (val_1 \u001B[38;5;241m-\u001B[39m tau)\u001B[38;5;241m*\u001B[39m\u001B[38;5;241m*\u001B[39m(alpha \u001B[38;5;241m+\u001B[39m beta) \u001B[38;5;241m*\u001B[39m derivative_B(tau, val_2)\n\u001B[0;32m---> 79\u001B[0m     integral_val, _ \u001B[38;5;241m=\u001B[39m \u001B[43mintegrate\u001B[49m\u001B[43m(\u001B[49m\u001B[43mintegrand\u001B[49m\u001B[43m,\u001B[49m\u001B[43m \u001B[49m\u001B[38;5;241;43m0\u001B[39;49m\u001B[43m,\u001B[49m\u001B[43m \u001B[49m\u001B[43mval_1\u001B[49m\u001B[43m,\u001B[49m\u001B[43m \u001B[49m\u001B[43mepsabs\u001B[49m\u001B[38;5;241;43m=\u001B[39;49m\u001B[38;5;241;43m1e-8\u001B[39;49m\u001B[43m,\u001B[49m\u001B[43m \u001B[49m\u001B[43mepsrel\u001B[49m\u001B[38;5;241;43m=\u001B[39;49m\u001B[38;5;241;43m1e-8\u001B[39;49m\u001B[43m,\u001B[49m\u001B[43m \u001B[49m\u001B[43mlimit\u001B[49m\u001B[38;5;241;43m=\u001B[39;49m\u001B[38;5;241;43m10000\u001B[39;49m\u001B[43m)\u001B[49m\n\u001B[1;32m     80\u001B[0m     \u001B[38;5;28;01mreturn\u001B[39;00m integral_val\n",
      "File \u001B[0;32m/Library/Frameworks/Python.framework/Versions/3.10/lib/python3.10/site-packages/scipy/integrate/_quadpack_py.py:351\u001B[0m, in \u001B[0;36mquad\u001B[0;34m(func, a, b, args, full_output, epsabs, epsrel, limit, points, weight, wvar, wopts, maxp1, limlst)\u001B[0m\n\u001B[1;32m    348\u001B[0m flip, a, b \u001B[38;5;241m=\u001B[39m b \u001B[38;5;241m<\u001B[39m a, \u001B[38;5;28mmin\u001B[39m(a, b), \u001B[38;5;28mmax\u001B[39m(a, b)\n\u001B[1;32m    350\u001B[0m \u001B[38;5;28;01mif\u001B[39;00m weight \u001B[38;5;129;01mis\u001B[39;00m \u001B[38;5;28;01mNone\u001B[39;00m:\n\u001B[0;32m--> 351\u001B[0m     retval \u001B[38;5;241m=\u001B[39m \u001B[43m_quad\u001B[49m\u001B[43m(\u001B[49m\u001B[43mfunc\u001B[49m\u001B[43m,\u001B[49m\u001B[43m \u001B[49m\u001B[43ma\u001B[49m\u001B[43m,\u001B[49m\u001B[43m \u001B[49m\u001B[43mb\u001B[49m\u001B[43m,\u001B[49m\u001B[43m \u001B[49m\u001B[43margs\u001B[49m\u001B[43m,\u001B[49m\u001B[43m \u001B[49m\u001B[43mfull_output\u001B[49m\u001B[43m,\u001B[49m\u001B[43m \u001B[49m\u001B[43mepsabs\u001B[49m\u001B[43m,\u001B[49m\u001B[43m \u001B[49m\u001B[43mepsrel\u001B[49m\u001B[43m,\u001B[49m\u001B[43m \u001B[49m\u001B[43mlimit\u001B[49m\u001B[43m,\u001B[49m\n\u001B[1;32m    352\u001B[0m \u001B[43m                   \u001B[49m\u001B[43mpoints\u001B[49m\u001B[43m)\u001B[49m\n\u001B[1;32m    353\u001B[0m \u001B[38;5;28;01melse\u001B[39;00m:\n\u001B[1;32m    354\u001B[0m     \u001B[38;5;28;01mif\u001B[39;00m points \u001B[38;5;129;01mis\u001B[39;00m \u001B[38;5;129;01mnot\u001B[39;00m \u001B[38;5;28;01mNone\u001B[39;00m:\n",
      "File \u001B[0;32m/Library/Frameworks/Python.framework/Versions/3.10/lib/python3.10/site-packages/scipy/integrate/_quadpack_py.py:463\u001B[0m, in \u001B[0;36m_quad\u001B[0;34m(func, a, b, args, full_output, epsabs, epsrel, limit, points)\u001B[0m\n\u001B[1;32m    461\u001B[0m \u001B[38;5;28;01mif\u001B[39;00m points \u001B[38;5;129;01mis\u001B[39;00m \u001B[38;5;28;01mNone\u001B[39;00m:\n\u001B[1;32m    462\u001B[0m     \u001B[38;5;28;01mif\u001B[39;00m infbounds \u001B[38;5;241m==\u001B[39m \u001B[38;5;241m0\u001B[39m:\n\u001B[0;32m--> 463\u001B[0m         \u001B[38;5;28;01mreturn\u001B[39;00m \u001B[43m_quadpack\u001B[49m\u001B[38;5;241;43m.\u001B[39;49m\u001B[43m_qagse\u001B[49m\u001B[43m(\u001B[49m\u001B[43mfunc\u001B[49m\u001B[43m,\u001B[49m\u001B[43ma\u001B[49m\u001B[43m,\u001B[49m\u001B[43mb\u001B[49m\u001B[43m,\u001B[49m\u001B[43margs\u001B[49m\u001B[43m,\u001B[49m\u001B[43mfull_output\u001B[49m\u001B[43m,\u001B[49m\u001B[43mepsabs\u001B[49m\u001B[43m,\u001B[49m\u001B[43mepsrel\u001B[49m\u001B[43m,\u001B[49m\u001B[43mlimit\u001B[49m\u001B[43m)\u001B[49m\n\u001B[1;32m    464\u001B[0m     \u001B[38;5;28;01melse\u001B[39;00m:\n\u001B[1;32m    465\u001B[0m         \u001B[38;5;28;01mreturn\u001B[39;00m _quadpack\u001B[38;5;241m.\u001B[39m_qagie(func,bound,infbounds,args,full_output,epsabs,epsrel,limit)\n",
      "Input \u001B[0;32mIn [119]\u001B[0m, in \u001B[0;36mk_ff.<locals>.e.<locals>.double_integral.<locals>.<lambda>\u001B[0;34m(tau)\u001B[0m\n\u001B[1;32m     77\u001B[0m \u001B[38;5;28;01mdef\u001B[39;00m \u001B[38;5;21mdouble_integral\u001B[39m(val_1, val_2):\n\u001B[0;32m---> 78\u001B[0m     integrand \u001B[38;5;241m=\u001B[39m \u001B[38;5;28;01mlambda\u001B[39;00m tau: \u001B[38;5;241m1\u001B[39m \u001B[38;5;241m/\u001B[39m gamma(\u001B[38;5;241m1\u001B[39m \u001B[38;5;241m+\u001B[39m alpha \u001B[38;5;241m+\u001B[39m beta) \u001B[38;5;241m*\u001B[39m (val_1 \u001B[38;5;241m-\u001B[39m tau)\u001B[38;5;241m*\u001B[39m\u001B[38;5;241m*\u001B[39m(alpha \u001B[38;5;241m+\u001B[39m beta) \u001B[38;5;241m*\u001B[39m \u001B[43mderivative_B\u001B[49m\u001B[43m(\u001B[49m\u001B[43mtau\u001B[49m\u001B[43m,\u001B[49m\u001B[43m \u001B[49m\u001B[43mval_2\u001B[49m\u001B[43m)\u001B[49m\n\u001B[1;32m     79\u001B[0m     integral_val, _ \u001B[38;5;241m=\u001B[39m integrate(integrand, \u001B[38;5;241m0\u001B[39m, val_1, epsabs\u001B[38;5;241m=\u001B[39m\u001B[38;5;241m1e-8\u001B[39m, epsrel\u001B[38;5;241m=\u001B[39m\u001B[38;5;241m1e-8\u001B[39m, limit\u001B[38;5;241m=\u001B[39m\u001B[38;5;241m10000\u001B[39m)\n\u001B[1;32m     80\u001B[0m     \u001B[38;5;28;01mreturn\u001B[39;00m integral_val\n",
      "Input \u001B[0;32mIn [119]\u001B[0m, in \u001B[0;36mk_ff.<locals>.e.<locals>.derivative_B\u001B[0;34m(tau, val_2, h)\u001B[0m\n\u001B[1;32m     72\u001B[0m \u001B[38;5;28;01mdef\u001B[39;00m \u001B[38;5;21mB_tau\u001B[39m(tau):\n\u001B[1;32m     73\u001B[0m     \u001B[38;5;28;01mreturn\u001B[39;00m B(tau, val_2)\n\u001B[0;32m---> 74\u001B[0m dB \u001B[38;5;241m=\u001B[39m (B_tau(tau \u001B[38;5;241m+\u001B[39m h) \u001B[38;5;241m-\u001B[39m \u001B[43mB_tau\u001B[49m\u001B[43m(\u001B[49m\u001B[43mtau\u001B[49m\u001B[43m \u001B[49m\u001B[38;5;241;43m-\u001B[39;49m\u001B[43m \u001B[49m\u001B[43mh\u001B[49m\u001B[43m)\u001B[49m) \u001B[38;5;241m/\u001B[39m (\u001B[38;5;241m2\u001B[39m\u001B[38;5;241m*\u001B[39mh)\n\u001B[1;32m     75\u001B[0m \u001B[38;5;28;01mreturn\u001B[39;00m dB\n",
      "Input \u001B[0;32mIn [119]\u001B[0m, in \u001B[0;36mk_ff.<locals>.e.<locals>.derivative_B.<locals>.B_tau\u001B[0;34m(tau)\u001B[0m\n\u001B[1;32m     72\u001B[0m \u001B[38;5;28;01mdef\u001B[39;00m \u001B[38;5;21mB_tau\u001B[39m(tau):\n\u001B[0;32m---> 73\u001B[0m     \u001B[38;5;28;01mreturn\u001B[39;00m \u001B[43mB\u001B[49m\u001B[43m(\u001B[49m\u001B[43mtau\u001B[49m\u001B[43m,\u001B[49m\u001B[43m \u001B[49m\u001B[43mval_2\u001B[49m\u001B[43m)\u001B[49m\n",
      "Input \u001B[0;32mIn [119]\u001B[0m, in \u001B[0;36mk_ff.<locals>.e.<locals>.B\u001B[0;34m(val_1, val_2)\u001B[0m\n\u001B[1;32m     66\u001B[0m \u001B[38;5;28;01mdef\u001B[39;00m \u001B[38;5;21mB\u001B[39m(val_1, val_2):\n\u001B[1;32m     67\u001B[0m     integrand \u001B[38;5;241m=\u001B[39m \u001B[38;5;28;01mlambda\u001B[39;00m tau: A(val_1, val_2, tau)\n\u001B[0;32m---> 68\u001B[0m     integral_val, _ \u001B[38;5;241m=\u001B[39m \u001B[43mintegrate\u001B[49m\u001B[43m(\u001B[49m\u001B[43mintegrand\u001B[49m\u001B[43m,\u001B[49m\u001B[43m \u001B[49m\u001B[38;5;241;43m0\u001B[39;49m\u001B[43m,\u001B[49m\u001B[43m \u001B[49m\u001B[43mval_2\u001B[49m\u001B[43m,\u001B[49m\u001B[43m \u001B[49m\u001B[43mepsabs\u001B[49m\u001B[38;5;241;43m=\u001B[39;49m\u001B[38;5;241;43m1e-8\u001B[39;49m\u001B[43m,\u001B[49m\u001B[43m \u001B[49m\u001B[43mepsrel\u001B[49m\u001B[38;5;241;43m=\u001B[39;49m\u001B[38;5;241;43m1e-8\u001B[39;49m\u001B[43m,\u001B[49m\u001B[43m \u001B[49m\u001B[43mlimit\u001B[49m\u001B[38;5;241;43m=\u001B[39;49m\u001B[38;5;241;43m10000\u001B[39;49m\u001B[43m)\u001B[49m\n\u001B[1;32m     69\u001B[0m     \u001B[38;5;28;01mreturn\u001B[39;00m integral_val\n",
      "File \u001B[0;32m/Library/Frameworks/Python.framework/Versions/3.10/lib/python3.10/site-packages/scipy/integrate/_quadpack_py.py:351\u001B[0m, in \u001B[0;36mquad\u001B[0;34m(func, a, b, args, full_output, epsabs, epsrel, limit, points, weight, wvar, wopts, maxp1, limlst)\u001B[0m\n\u001B[1;32m    348\u001B[0m flip, a, b \u001B[38;5;241m=\u001B[39m b \u001B[38;5;241m<\u001B[39m a, \u001B[38;5;28mmin\u001B[39m(a, b), \u001B[38;5;28mmax\u001B[39m(a, b)\n\u001B[1;32m    350\u001B[0m \u001B[38;5;28;01mif\u001B[39;00m weight \u001B[38;5;129;01mis\u001B[39;00m \u001B[38;5;28;01mNone\u001B[39;00m:\n\u001B[0;32m--> 351\u001B[0m     retval \u001B[38;5;241m=\u001B[39m \u001B[43m_quad\u001B[49m\u001B[43m(\u001B[49m\u001B[43mfunc\u001B[49m\u001B[43m,\u001B[49m\u001B[43m \u001B[49m\u001B[43ma\u001B[49m\u001B[43m,\u001B[49m\u001B[43m \u001B[49m\u001B[43mb\u001B[49m\u001B[43m,\u001B[49m\u001B[43m \u001B[49m\u001B[43margs\u001B[49m\u001B[43m,\u001B[49m\u001B[43m \u001B[49m\u001B[43mfull_output\u001B[49m\u001B[43m,\u001B[49m\u001B[43m \u001B[49m\u001B[43mepsabs\u001B[49m\u001B[43m,\u001B[49m\u001B[43m \u001B[49m\u001B[43mepsrel\u001B[49m\u001B[43m,\u001B[49m\u001B[43m \u001B[49m\u001B[43mlimit\u001B[49m\u001B[43m,\u001B[49m\n\u001B[1;32m    352\u001B[0m \u001B[43m                   \u001B[49m\u001B[43mpoints\u001B[49m\u001B[43m)\u001B[49m\n\u001B[1;32m    353\u001B[0m \u001B[38;5;28;01melse\u001B[39;00m:\n\u001B[1;32m    354\u001B[0m     \u001B[38;5;28;01mif\u001B[39;00m points \u001B[38;5;129;01mis\u001B[39;00m \u001B[38;5;129;01mnot\u001B[39;00m \u001B[38;5;28;01mNone\u001B[39;00m:\n",
      "File \u001B[0;32m/Library/Frameworks/Python.framework/Versions/3.10/lib/python3.10/site-packages/scipy/integrate/_quadpack_py.py:463\u001B[0m, in \u001B[0;36m_quad\u001B[0;34m(func, a, b, args, full_output, epsabs, epsrel, limit, points)\u001B[0m\n\u001B[1;32m    461\u001B[0m \u001B[38;5;28;01mif\u001B[39;00m points \u001B[38;5;129;01mis\u001B[39;00m \u001B[38;5;28;01mNone\u001B[39;00m:\n\u001B[1;32m    462\u001B[0m     \u001B[38;5;28;01mif\u001B[39;00m infbounds \u001B[38;5;241m==\u001B[39m \u001B[38;5;241m0\u001B[39m:\n\u001B[0;32m--> 463\u001B[0m         \u001B[38;5;28;01mreturn\u001B[39;00m \u001B[43m_quadpack\u001B[49m\u001B[38;5;241;43m.\u001B[39;49m\u001B[43m_qagse\u001B[49m\u001B[43m(\u001B[49m\u001B[43mfunc\u001B[49m\u001B[43m,\u001B[49m\u001B[43ma\u001B[49m\u001B[43m,\u001B[49m\u001B[43mb\u001B[49m\u001B[43m,\u001B[49m\u001B[43margs\u001B[49m\u001B[43m,\u001B[49m\u001B[43mfull_output\u001B[49m\u001B[43m,\u001B[49m\u001B[43mepsabs\u001B[49m\u001B[43m,\u001B[49m\u001B[43mepsrel\u001B[49m\u001B[43m,\u001B[49m\u001B[43mlimit\u001B[49m\u001B[43m)\u001B[49m\n\u001B[1;32m    464\u001B[0m     \u001B[38;5;28;01melse\u001B[39;00m:\n\u001B[1;32m    465\u001B[0m         \u001B[38;5;28;01mreturn\u001B[39;00m _quadpack\u001B[38;5;241m.\u001B[39m_qagie(func,bound,infbounds,args,full_output,epsabs,epsrel,limit)\n",
      "Input \u001B[0;32mIn [119]\u001B[0m, in \u001B[0;36mk_ff.<locals>.e.<locals>.B.<locals>.<lambda>\u001B[0;34m(tau)\u001B[0m\n\u001B[1;32m     66\u001B[0m \u001B[38;5;28;01mdef\u001B[39;00m \u001B[38;5;21mB\u001B[39m(val_1, val_2):\n\u001B[0;32m---> 67\u001B[0m     integrand \u001B[38;5;241m=\u001B[39m \u001B[38;5;28;01mlambda\u001B[39;00m tau: \u001B[43mA\u001B[49m\u001B[43m(\u001B[49m\u001B[43mval_1\u001B[49m\u001B[43m,\u001B[49m\u001B[43m \u001B[49m\u001B[43mval_2\u001B[49m\u001B[43m,\u001B[49m\u001B[43m \u001B[49m\u001B[43mtau\u001B[49m\u001B[43m)\u001B[49m\n\u001B[1;32m     68\u001B[0m     integral_val, _ \u001B[38;5;241m=\u001B[39m integrate(integrand, \u001B[38;5;241m0\u001B[39m, val_2, epsabs\u001B[38;5;241m=\u001B[39m\u001B[38;5;241m1e-8\u001B[39m, epsrel\u001B[38;5;241m=\u001B[39m\u001B[38;5;241m1e-8\u001B[39m, limit\u001B[38;5;241m=\u001B[39m\u001B[38;5;241m10000\u001B[39m)\n\u001B[1;32m     69\u001B[0m     \u001B[38;5;28;01mreturn\u001B[39;00m integral_val\n",
      "Input \u001B[0;32mIn [119]\u001B[0m, in \u001B[0;36mk_ff.<locals>.e.<locals>.A\u001B[0;34m(val_1, val_2, tau)\u001B[0m\n\u001B[1;32m     62\u001B[0m \u001B[38;5;28;01mdef\u001B[39;00m \u001B[38;5;21mA\u001B[39m(val_1, val_2, tau):\n\u001B[1;32m     63\u001B[0m     a \u001B[38;5;241m=\u001B[39m \u001B[38;5;241m1\u001B[39m\u001B[38;5;241m/\u001B[39mgamma(\u001B[38;5;241m1\u001B[39m\u001B[38;5;241m+\u001B[39malpha) \u001B[38;5;241m*\u001B[39m (val_2 \u001B[38;5;241m-\u001B[39m tau)\u001B[38;5;241m*\u001B[39m\u001B[38;5;241m*\u001B[39malpha \u001B[38;5;241m*\u001B[39m \u001B[38;5;241m1\u001B[39m\u001B[38;5;241m/\u001B[39ml\u001B[38;5;241m*\u001B[39m\u001B[38;5;241m*\u001B[39m\u001B[38;5;241m2\u001B[39m \u001B[38;5;241m*\u001B[39m (val_1 \u001B[38;5;241m-\u001B[39m tau)\n\u001B[0;32m---> 64\u001B[0m     \u001B[38;5;28;01mreturn\u001B[39;00m a \u001B[38;5;241m*\u001B[39m \u001B[43mcov_func\u001B[49m\u001B[43m(\u001B[49m\u001B[43mval_1\u001B[49m\u001B[43m,\u001B[49m\u001B[43m \u001B[49m\u001B[43mtau\u001B[49m\u001B[43m)\u001B[49m\n",
      "Input \u001B[0;32mIn [114]\u001B[0m, in \u001B[0;36mSquaredExponentialKernel.__call__\u001B[0;34m(self, tau_1, tau_2)\u001B[0m\n\u001B[1;32m     10\u001B[0m     k_SE \u001B[38;5;241m=\u001B[39m \u001B[38;5;28mfloat\u001B[39m(\u001B[38;5;28mself\u001B[39m\u001B[38;5;241m.\u001B[39msigma\u001B[38;5;241m*\u001B[39m\u001B[38;5;241m*\u001B[39m\u001B[38;5;241m2\u001B[39m \u001B[38;5;241m*\u001B[39m np\u001B[38;5;241m.\u001B[39mexp(\u001B[38;5;241m-\u001B[39m(np\u001B[38;5;241m.\u001B[39mlinalg\u001B[38;5;241m.\u001B[39mnorm(variable_1 \u001B[38;5;241m-\u001B[39m variable_2)\u001B[38;5;241m*\u001B[39m\u001B[38;5;241m*\u001B[39m\u001B[38;5;241m2\u001B[39m) \u001B[38;5;241m/\u001B[39m(\u001B[38;5;241m2\u001B[39m \u001B[38;5;241m*\u001B[39m \u001B[38;5;28mself\u001B[39m\u001B[38;5;241m.\u001B[39mlength\u001B[38;5;241m*\u001B[39m\u001B[38;5;241m*\u001B[39m\u001B[38;5;241m2\u001B[39m)))\n\u001B[1;32m     11\u001B[0m     \u001B[38;5;28;01mreturn\u001B[39;00m k_SE\n\u001B[0;32m---> 12\u001B[0m \u001B[38;5;28;01mreturn\u001B[39;00m \u001B[43mkernel\u001B[49m\u001B[43m(\u001B[49m\u001B[43mtau_1\u001B[49m\u001B[43m,\u001B[49m\u001B[43m \u001B[49m\u001B[43mtau_2\u001B[49m\u001B[43m)\u001B[49m\n",
      "Input \u001B[0;32mIn [114]\u001B[0m, in \u001B[0;36mSquaredExponentialKernel.__call__.<locals>.kernel\u001B[0;34m(variable_1, variable_2)\u001B[0m\n\u001B[1;32m      9\u001B[0m \u001B[38;5;28;01mdef\u001B[39;00m \u001B[38;5;21mkernel\u001B[39m(variable_1, variable_2):\n\u001B[0;32m---> 10\u001B[0m     k_SE \u001B[38;5;241m=\u001B[39m \u001B[38;5;28mfloat\u001B[39m(\u001B[38;5;28mself\u001B[39m\u001B[38;5;241m.\u001B[39msigma\u001B[38;5;241m*\u001B[39m\u001B[38;5;241m*\u001B[39m\u001B[38;5;241m2\u001B[39m \u001B[38;5;241m*\u001B[39m np\u001B[38;5;241m.\u001B[39mexp(\u001B[38;5;241m-\u001B[39m(\u001B[43mnp\u001B[49m\u001B[38;5;241;43m.\u001B[39;49m\u001B[43mlinalg\u001B[49m\u001B[38;5;241;43m.\u001B[39;49m\u001B[43mnorm\u001B[49m\u001B[43m(\u001B[49m\u001B[43mvariable_1\u001B[49m\u001B[43m \u001B[49m\u001B[38;5;241;43m-\u001B[39;49m\u001B[43m \u001B[49m\u001B[43mvariable_2\u001B[49m\u001B[43m)\u001B[49m\u001B[38;5;241m*\u001B[39m\u001B[38;5;241m*\u001B[39m\u001B[38;5;241m2\u001B[39m) \u001B[38;5;241m/\u001B[39m(\u001B[38;5;241m2\u001B[39m \u001B[38;5;241m*\u001B[39m \u001B[38;5;28mself\u001B[39m\u001B[38;5;241m.\u001B[39mlength\u001B[38;5;241m*\u001B[39m\u001B[38;5;241m*\u001B[39m\u001B[38;5;241m2\u001B[39m)))\n\u001B[1;32m     11\u001B[0m     \u001B[38;5;28;01mreturn\u001B[39;00m k_SE\n",
      "File \u001B[0;32m<__array_function__ internals>:180\u001B[0m, in \u001B[0;36mnorm\u001B[0;34m(*args, **kwargs)\u001B[0m\n",
      "File \u001B[0;32m/Library/Frameworks/Python.framework/Versions/3.10/lib/python3.10/site-packages/numpy/linalg/linalg.py:2349\u001B[0m, in \u001B[0;36mnorm\u001B[0;34m(x, ord, axis, keepdims)\u001B[0m\n\u001B[1;32m   2345\u001B[0m \u001B[38;5;28;01mdef\u001B[39;00m \u001B[38;5;21m_norm_dispatcher\u001B[39m(x, \u001B[38;5;28mord\u001B[39m\u001B[38;5;241m=\u001B[39m\u001B[38;5;28;01mNone\u001B[39;00m, axis\u001B[38;5;241m=\u001B[39m\u001B[38;5;28;01mNone\u001B[39;00m, keepdims\u001B[38;5;241m=\u001B[39m\u001B[38;5;28;01mNone\u001B[39;00m):\n\u001B[1;32m   2346\u001B[0m     \u001B[38;5;28;01mreturn\u001B[39;00m (x,)\n\u001B[0;32m-> 2349\u001B[0m \u001B[38;5;129m@array_function_dispatch\u001B[39m(_norm_dispatcher)\n\u001B[1;32m   2350\u001B[0m \u001B[38;5;28;01mdef\u001B[39;00m \u001B[38;5;21mnorm\u001B[39m(x, \u001B[38;5;28mord\u001B[39m\u001B[38;5;241m=\u001B[39m\u001B[38;5;28;01mNone\u001B[39;00m, axis\u001B[38;5;241m=\u001B[39m\u001B[38;5;28;01mNone\u001B[39;00m, keepdims\u001B[38;5;241m=\u001B[39m\u001B[38;5;28;01mFalse\u001B[39;00m):\n\u001B[1;32m   2351\u001B[0m     \u001B[38;5;124;03m\"\"\"\u001B[39;00m\n\u001B[1;32m   2352\u001B[0m \u001B[38;5;124;03m    Matrix or vector norm.\u001B[39;00m\n\u001B[1;32m   2353\u001B[0m \n\u001B[0;32m   (...)\u001B[0m\n\u001B[1;32m   2498\u001B[0m \n\u001B[1;32m   2499\u001B[0m \u001B[38;5;124;03m    \"\"\"\u001B[39;00m\n\u001B[1;32m   2500\u001B[0m     x \u001B[38;5;241m=\u001B[39m asarray(x)\n",
      "\u001B[0;31mKeyboardInterrupt\u001B[0m: "
     ]
    }
   ],
   "source": [
    "val_1 = 0.1\n",
    "val_2 = 0.1\n",
    "x = np.arange(0.01, 3, 0.01)\n",
    "#x = np.array([0.3, 0.8, 1.4, 1.8, 2]) please\n",
    "cov_func = SquaredExponentialKernel()\n",
    "\n",
    "for i in range(len(x)):\n",
    "    kuf = k_uf(x[i], x[i], cov_func)\n",
    "    kfu = k_fu(x[i], x[i], cov_func)\n",
    "    kuu = k_uu(x[i], x[i], cov_func)\n",
    "    kff = k_ff(x[i], x[i], cov_func)\n",
    "    print('kuf = ', kuf, 'kuu = ', kuu, 'kfu = ', kfu, 'kff = ', kff)"
   ]
  },
  {
   "cell_type": "markdown",
   "metadata": {},
   "source": [
    "a function for creating the sub and covariance matrix as described in the notes:\n",
    "* works only correctly for squared matrices [n1 x n2] where n1 = n2"
   ]
  },
  {
   "cell_type": "code",
   "execution_count": null,
   "metadata": {},
   "outputs": [],
   "source": [
    "def create_sub_matrix(variable_1, variable_2, specified_cov_function, cov_function):\n",
    "    n1 = len(variable_1)\n",
    "    n2 = len(variable_2)\n",
    "    sub_matrix = np.zeros((n1, n2))\n",
    "\n",
    "    for i, val_1 in enumerate(variable_1):\n",
    "        for j, val_2 in enumerate(variable_2):\n",
    "            sub_matrix[i, j] = specified_cov_function(val_1, val_2, cov_function)\n",
    "\n",
    "    return sub_matrix"
   ]
  },
  {
   "cell_type": "markdown",
   "metadata": {},
   "source": [
    "a function for creating the covariance matrix as described in the notes:\n",
    "* works only correctly for squared matrices [2*n1 x 2*n2] where n1 = n2"
   ]
  },
  {
   "cell_type": "code",
   "execution_count": null,
   "metadata": {},
   "outputs": [],
   "source": [
    "def create_cov_matrix(variable_1, variable_2, cov_function):\n",
    "    n1 = len(variable_1)\n",
    "    n2 = len(variable_2)\n",
    "    cov = np.zeros((2*n1, 2*n2))\n",
    "\n",
    "    kuu_sub_matrix = create_sub_matrix(variable_1, variable_2, k_uu, cov_function)\n",
    "    kuf_sub_matrix = create_sub_matrix(variable_1, variable_2, k_uf, cov_function)\n",
    "    kfu_sub_matrix = create_sub_matrix(variable_1, variable_2, k_fu, cov_function)\n",
    "    kff_sub_matrix = create_sub_matrix(variable_1, variable_2, k_ff, cov_function)\n",
    "\n",
    "    for i in range(2*n1):\n",
    "        for j in range(2*n2):\n",
    "\n",
    "            if i <= n1 - 1 and j <= n2 - 1:\n",
    "                #print('kuu')\n",
    "                cov[i, j] = kuu_sub_matrix[i, j]\n",
    "            elif i <= n1 - 1 and n2 <= j <= 2*n2 - 1:\n",
    "                #print('kuf')\n",
    "                cov[i, j] = kuf_sub_matrix[i, j - n2]\n",
    "            elif n1 <= i <= 2*n1 - 1 and j <= n2 - 1:\n",
    "                #print('kfu')\n",
    "                cov[i, j] = kfu_sub_matrix[i - n1, j]\n",
    "            else:\n",
    "                #print('kff')\n",
    "                cov[i, j] = kff_sub_matrix[i - n1, j - n2]\n",
    "\n",
    "    return cov"
   ]
  },
  {
   "cell_type": "markdown",
   "metadata": {},
   "source": [
    "testing the implemented functions for creating the covariance matrix above"
   ]
  },
  {
   "cell_type": "code",
   "execution_count": null,
   "metadata": {},
   "outputs": [],
   "source": [
    "variable_1 = [1, 1, 1, 1]\n",
    "variable_2 = [1, 1, 1, 1]\n",
    "#variable_1 = np.array([0.3, 0.8, 1.4, 1.8, 2])\n",
    "#variable_2 = np.array([0.3, 0.8, 1.4, 1.8, 2])\n",
    "\n",
    "cov_func = SquaredExponentialKernel()\n",
    "cov = create_cov_matrix(variable_1, variable_2, cov_func)\n",
    "\n",
    "print('covariance matrix = ', cov)"
   ]
  },
  {
   "cell_type": "markdown",
   "metadata": {},
   "source": [
    "define function for calculating q_u transposed\n"
   ]
  },
  {
   "cell_type": "code",
   "execution_count": null,
   "metadata": {},
   "outputs": [],
   "source": [
    "def q_u_transposed(variable_1, variable_2, cov_function):\n",
    "    n1 = len(variable_1)\n",
    "    n2 = len(variable_2)\n",
    "    q_u_trans = np.zeros((n1, 2*n2))\n",
    "\n",
    "    kuu_sub_matrix = create_sub_matrix(variable_1, variable_2, k_uu, cov_function)\n",
    "    kuf_sub_matrix = create_sub_matrix(variable_1, variable_2, k_uf, cov_function)\n",
    "\n",
    "    for i in range(n1):\n",
    "        for j in range(2*n2):\n",
    "\n",
    "            if j <= n2 - 1:\n",
    "                q_u_trans[i, j] = kuu_sub_matrix[i, j]\n",
    "            else:\n",
    "                q_u_trans[i, j] = kuf_sub_matrix[i, j - n2]\n",
    "\n",
    "    return q_u_trans"
   ]
  },
  {
   "cell_type": "code",
   "execution_count": null,
   "outputs": [],
   "source": [
    "def q_f_transposed(variable_1, variable_2, cov_function):\n",
    "    n1 = len(variable_1)\n",
    "    n2 = len(variable_2)\n",
    "    q_f_trans = np.zeros((n1, 2*n2))\n",
    "\n",
    "    kfu_sub_matrix = create_sub_matrix(variable_1, variable_2, k_fu, cov_function)\n",
    "    kff_sub_matrix = create_sub_matrix(variable_1, variable_2, k_ff, cov_function)\n",
    "\n",
    "    for i in range(n1):\n",
    "        for j in range(2*n2):\n",
    "\n",
    "            if j <= n2 - 1:\n",
    "                q_f_trans[i, j] = kfu_sub_matrix[i, j]\n",
    "            else:\n",
    "                q_f_trans[i, j] = kff_sub_matrix[i, j - n2]\n",
    "\n",
    "    return q_f_trans"
   ],
   "metadata": {
    "collapsed": false
   }
  },
  {
   "cell_type": "markdown",
   "metadata": {},
   "source": [
    "testing if the function q_u_transposed works properly"
   ]
  },
  {
   "cell_type": "code",
   "execution_count": null,
   "metadata": {},
   "outputs": [],
   "source": [
    "variable_1 = [1, 1, 1, 1]\n",
    "variable_2 = [1, 2, 1, 1]\n",
    "cov_func = SquaredExponentialKernel()\n",
    "\n",
    "q_u_trans = q_u_transposed(variable_1, variable_2, cov_func)\n",
    "print('q_u transposed = ', q_u_trans)"
   ]
  },
  {
   "cell_type": "markdown",
   "source": [
    "new training method: page 113 in GP for ML"
   ],
   "metadata": {
    "collapsed": false
   }
  },
  {
   "cell_type": "code",
   "execution_count": null,
   "outputs": [],
   "source": [
    "def log_marginal_likelihood(data_x, data_y, cov_func, noise):\n",
    "    n = len(data_x)\n",
    "    y = np.concatenate([data_y, data_y])\n",
    "    y_transposed = y.T\n",
    "    K = create_cov_matrix(data_x, data_x, cov_func) + noise * np.identity(2*n)\n",
    "    K_inverse = np.linalg.inv(K)\n",
    "\n",
    "    a = n/2 * np.log(2*np.pi)  # normalization constant\n",
    "    b = 1/2 * np.log(np.linalg.norm(K))  # complexity penalty\n",
    "    c = 1/2 * np.dot(y, np.dot(K_inverse, y_transposed))  # involving observed targets\n",
    "    log_ml = c + b + a  # is actually the negative log marginal likelihood\n",
    "    return log_ml\n",
    "\n",
    "sigma_vals = np.arange(0.1, 0.4, 0.1)\n",
    "length_vals = np.arange(1.3, 1.8, 0.05)\n",
    "memory = {'sigma': 1, 'length': 1, 'negative_log_marginal_likelihood': 1000}\n",
    "\n",
    "data_x = np.array([0.2374093751495821, 1.067487500149583, 1.876639285863869, 3.7014160715781177, 5.547119196578079, 7.423514285863754])\n",
    "data_y = np.array([-1.161687, 0.0001378406, 0.6200954, -0.3075965, 0.1525422, -0.0756551])\n",
    "\n",
    "for sigma_index, sigma_val in enumerate(sigma_vals):\n",
    "    for l_index, length_val in enumerate(length_vals):\n",
    "        cov_func = SquaredExponentialKernel(sigma=sigma_val, length=length_val)\n",
    "        negative_log_marginal_likelihood = log_marginal_likelihood(data_x, data_y, cov_func, noise = 0.01)\n",
    "        print('likelihood = ', negative_log_marginal_likelihood)\n",
    "\n",
    "        if negative_log_marginal_likelihood < memory['negative_log_marginal_likelihood']:\n",
    "            memory['length'] = length_val\n",
    "            memory['sigma'] = sigma_val\n",
    "            memory['negative_log_marginal_likelihood'] = negative_log_marginal_likelihood\n",
    "\n",
    "        print('obtained sigma and l values that minimize the negative log marginal likelihood: ', 'sigma = ', memory['sigma'], 'length = ', memory['length'])"
   ],
   "metadata": {
    "collapsed": false
   }
  },
  {
   "cell_type": "markdown",
   "source": [
    "testing the functions above"
   ],
   "metadata": {
    "collapsed": false
   }
  },
  {
   "cell_type": "code",
   "execution_count": null,
   "outputs": [],
   "source": [
    "cov_func = SquaredExponentialKernel(sigma=0.475, length=1.35)\n",
    "negative_log_marginal_likelihood = log_marginal_likelihood(data_x, data_y, cov_func, noise = 0.01)\n",
    "print(negative_log_marginal_likelihood)"
   ],
   "metadata": {
    "collapsed": false
   }
  },
  {
   "cell_type": "markdown",
   "metadata": {},
   "source": [
    "define class GPR:\n",
    "* **data_x** is the input of the observed points\n",
    "* **data_y** is the output of the observed points\n",
    "* **noise** is the noise in the observed data\n",
    "* **memory** is a variable where the mean, the covariance matrix and the variance is stored\n",
    "* **3e-7** add this value to the noise in order to ensure stability when inverting the covariance matrix"
   ]
  },
  {
   "cell_type": "code",
   "execution_count": null,
   "metadata": {},
   "outputs": [],
   "source": [
    "class GPR:\n",
    "    def __init__(self, data_x, data_y, cov_func= SquaredExponentialKernel(sigma=memory['sigma'], length=memory['length']), noise=0.01):\n",
    "        print('sigma memory = ', memory['sigma'])\n",
    "        print('length memory = ', memory['length'])\n",
    "        self.data_x = data_x\n",
    "        self.data_y = np.concatenate([data_y, data_y])\n",
    "        self.cov_func = cov_func\n",
    "        self.noise = noise\n",
    "        self.memory = None\n",
    "\n",
    "        n = len(data_x)\n",
    "        self.inv_cov_matrix_of_input_data = np.linalg.inv(create_cov_matrix(data_x, data_x, cov_func) + (noise + 3e-7)**2 * np.identity(2*n))\n",
    "\n",
    "    def predict(self, at_values):\n",
    "        q_u_trans = q_u_transposed(at_values, self.data_x, self.cov_func)\n",
    "        q_f_trans = q_f_transposed(at_values, self.data_x, self.cov_func)\n",
    "\n",
    "        # methode paper:\n",
    "        mean_at_values_u = np.dot(q_u_trans, np.dot(self.data_y, self.inv_cov_matrix_of_input_data.T).T).flatten()\n",
    "        #mean_at_values_f = np.dot(q_f_trans, np.dot(self.data_y, self.inv_cov_matrix_of_input_data.T).T).flatten()\n",
    "\n",
    "        covariance_matrix_u = create_sub_matrix(at_values, at_values, k_uu, self.cov_func) - np.dot(q_u_trans, np.dot(self.inv_cov_matrix_of_input_data, q_u_trans.T))\n",
    "        #covariance_matrix_f = create_sub_matrix(at_values, at_values, k_ff, self.cov_func) - np.dot(q_f_trans, np.dot(self.inv_cov_matrix_of_input_data, q_f_trans.T))\n",
    "\n",
    "        variance_u = np.abs(np.diag(covariance_matrix_u))\n",
    "        #variance_f = np.abs(np.diag(covariance_matrix_f))\n",
    "\n",
    "        self.memory = {'mean': mean_at_values_u, 'covariance_matrix':covariance_matrix_u, 'variance': variance_u}\n",
    "\n",
    "        return mean_at_values_u"
   ]
  },
  {
   "cell_type": "markdown",
   "metadata": {
    "ExecuteTime": {
     "end_time": "2024-04-21T18:53:34.457759Z",
     "start_time": "2024-04-21T18:53:34.417061Z"
    }
   },
   "source": [
    "defining function for plotting the GPR:\n",
    "* **data_x** is a list of observed input data points\n",
    "* **data_y** is a list of observed output data points\n",
    "* **x** is equivalent to **at_values** in the GPR, the values we want to do predictions on"
   ]
  },
  {
   "cell_type": "code",
   "execution_count": null,
   "metadata": {},
   "outputs": [],
   "source": [
    "def plot_GPR(data_x, data_y, model, x, data_x_mv, data_y_mv, visible=True) -> list:\n",
    "    mean = model.predict(x)\n",
    "    standard_deviation = np.sqrt(model.memory['variance'])\n",
    "    data = []\n",
    "\n",
    "    for i in range(1, 4):\n",
    "        data.append(uncertainty_area_plot(x_lines=x, y_lower=mean -i * standard_deviation, y_upper=mean + i*standard_deviation, name=f'mean plus/minus {i}*standard deviation', visible=visible))\n",
    "\n",
    "    data.append(scatter_plot(x_dots=data_x_mv, y_dots=data_y_mv, visible=visible, color='blue'))\n",
    "    data.append(scatter_plot(x_dots=data_x, y_dots=data_y, visible=visible, color='red'))\n",
    "    data.append(line_plot(x_lines=x, y_lines=mean, visible=visible))\n",
    "    return data"
   ]
  },
  {
   "cell_type": "markdown",
   "metadata": {},
   "source": [
    "initializing the training data"
   ]
  },
  {
   "cell_type": "code",
   "execution_count": null,
   "metadata": {},
   "outputs": [],
   "source": [
    "x_values = np.array([0.2374093751495821, 1.067487500149583, 1.876639285863869, 3.7014160715781177, 5.547119196578079, 7.423514285863754])\n",
    "y_values = np.array([-1.161687, 0.0001378406, 0.6200954, -0.3075965, 0.1525422, -0.0756551])\n",
    "\n",
    "x_values_mv = np.array([0.029730524574942258, 0.059460853837382234, 0.08919118309982221, 0.1189215123622622, 0.14865184162470219, 0.1783821708871422, 0.2081125001495821, 0.2374093751495821, 0.2569406251495821, 0.2667062501495821, 0.2764718751495821, 0.28623750014958205, 0.3057687501495821, 0.3350656251495822, 0.3727330358638679, 0.41040044657815367, 0.4480678572924394, 0.48573526800672523, 0.5234026787210109, 0.5610700894352967, 0.5987375001495824, 0.6391950894352967, 0.679652678721011, 0.7201102680067254, 0.7605678572924397, 0.801025446578154, 0.8414830358638684, 0.8819406251495826, 0.9056571430067255, 0.9293736608638683, 0.9530901787210113, 0.9768066965781541, 1.000523214435297, 1.02423973229244, 1.047956250149583, 1.057721875149583, 1.067487500149583, 1.077253125149583, 1.096784375149583, 1.126081250149583, 1.1511928572924401, 1.1763044644352971, 1.201416071578154, 1.226527678721012, 1.251639285863869, 1.276750893006726, 1.301862500149583, 1.321393750149583, 1.331159375149583, 1.350690625149583, 1.379987500149583, 1.416259821578154, 1.452532143006726, 1.488804464435298, 1.525076785863869, 1.56134910729244, 1.597621428721012, 1.6338937501495832, 1.674351339435298, 1.714808928721012, 1.755266518006726, 1.795724107292441, 1.836181696578155, 1.876639285863869, 1.917096875149584, 1.9422084822924401, 1.9673200894352971, 1.9924316965781539, 2.01754330372101, 2.042654910863867, 2.067766518006724, 2.092878125149581, 2.11240937514958, 2.12217500014958, 2.13194062514958, 2.151471875149579, 2.1807687501495794, 2.218436160863864, 2.2561035715781492, 2.293770982292434, 2.331438393006719, 2.3691058037210033, 2.406773214435288, 2.444440625149573, 2.484898214435287, 2.5253558037209998, 2.565813393006714, 2.606270982292427, 2.64672857157814, 2.6871861608638543, 2.727643750149567, 2.751360268006709, 2.775076785863852, 2.798793303720994, 2.8225098215781372, 2.8462263394352787, 2.869942857292421, 2.893659375149564, 2.903425000149563, 2.913190625149563, 2.922956250149563, 2.942487500149563, 2.971784375149562, 2.9968959822924193, 3.022007589435275, 3.047119196578132, 3.0722308037209882, 3.097342410863845, 3.1224540180067017, 3.147565625149558, 3.167096875149558, 3.176862500149558, 3.1866281251495567, 3.2061593751495567, 3.235456250149556, 3.273123660863841, 3.3107910715781257, 3.3484584822924113, 3.386125893006696, 3.423793303720981, 3.4614607144352663, 3.499128125149551, 3.539585714435264, 3.580043303720977, 3.620500893006691, 3.660958482292405, 3.7014160715781177, 3.7418736608638308, 3.782331250149545, 3.8060477680066866, 3.829764285863829, 3.853480803720972, 3.877197321578114, 3.9009138394352574, 3.924630357292399, 3.9483468751495425, 3.958112500149541, 3.967878125149541, 3.9776437501495407, 3.9971750001495394, 4.026471875149539, 4.064139285863824, 4.10180669657811, 4.139474107292394, 4.17714151800668, 4.214808928720965, 4.252476339435249, 4.290143750149534, 4.330601339435248, 4.371058928720961, 4.411516518006675, 4.451974107292387, 4.492431696578101, 4.532889285863815, 4.573346875149528, 4.597063393006671, 4.6207799108638135, 4.644496428720955, 4.668212946578098, 4.6919294644352405, 4.715645982292382, 4.739362500149524, 4.758893750149524, 4.768659375149524, 4.778425000149523, 4.797956250149523, 4.8272531251495225, 4.852364732292379, 4.877476339435236, 4.902587946578093, 4.927699553720949, 4.952811160863805, 4.977922768006663, 5.003034375149519, 5.012800000149519, 5.022565625149519, 5.032331250149518, 5.051862500149518, 5.081159375149517, 5.118826785863802, 5.1564941965780875, 5.194161607292372, 5.231829018006657, 5.269496428720942, 5.307163839435227, 5.344831250149512, 5.385288839435226, 5.425746428720938, 5.4662040180066525, 5.506661607292365, 5.547119196578079, 5.587576785863793, 5.628034375149506, 5.651750893006648, 5.67546741086379, 5.699183928720933, 5.722900446578075, 5.746616964435217, 5.77033348229236, 5.794050000149502, 5.813581250149502, 5.823346875149502, 5.833112500149501, 5.852643750149501, 5.8819406251495, 5.919608035863785, 5.957275446578071, 5.994942857292354, 6.03261026800664, 6.070277678720925, 6.10794508943521, 6.145612500149495, 6.186070089435208, 6.226527678720921, 6.266985268006636, 6.307442857292348, 6.347900446578062, 6.388358035863776, 6.428815625149489, 6.452532143006631, 6.476248660863773, 6.499965178720916, 6.523681696578058, 6.5473982144352005, 6.571114732292344, 6.594831250149485, 6.604596875149485, 6.614362500149484, 6.6241281251494835, 6.643659375149484, 6.672956250149483, 6.69806785729234, 6.723179464435197, 6.748291071578054, 6.77340267872091, 6.798514285863766, 6.823625893006623, 6.84873750014948, 6.868268750149479, 6.878034375149479, 6.897565625149479, 6.926862500149478, 6.963134821578048, 6.99940714300662, 7.035679464435191, 7.07195178586376, 7.108224107292331, 7.144496428720902, 7.180768750149473, 7.221226339435186, 7.261683928720899, 7.302141518006613, 7.342599107292326, 7.3830566965780395, 7.423514285863754, 7.463971875149467, 7.489083482292323, 7.51419508943518, 7.539306696578038, 7.564418303720893, 7.5895299108637495, 7.614641518006605, 7.639753125149463, 7.659284375149462, 7.669050000149462, 7.678815625149462, 7.698346875149461, 7.727643750149461, 7.765311160863746, 7.802978571578031, 7.840645982292315, 7.878313393006601, 7.9159808037208865, 7.95364821443517, 7.991315625149455, 8.031773214435168, 8.072230803720883, 8.112688393006596, 8.153145982292308, 8.193603571578022, 8.234061160863737, 8.274518750149449, 8.298235268006591, 8.321951785863735, 8.345668303720878, 8.369384821578018, 8.39310133943516, 8.416817857292303, 8.440534375149445, 8.450300000149445, 8.460065625149445, 8.469831250149445, 8.489362500149445, 8.518659375149443, 8.543770982292301, 8.568882589435157, 8.593994196578013, 8.61910580372087, 8.644217410863728, 8.669329018006584, 8.69444062514944, 8.71397187514944, 8.72373750014944, 8.73350312514944, 8.75303437514944, 8.782331250149438, 8.819998660863725, 8.857666071578008, 8.895333482292292, 8.933000893006579, 8.970668303720863, 9.008335714435148, 9.046003125149433, 9.086460714435146, 9.12691830372086, 9.167375893006573, 9.207833482292287, 9.248291071577999, 9.288748660863714, 9.329206250149428, 9.35292276800657, 9.376639285863712, 9.400355803720855, 9.424072321577995, 9.447788839435137, 9.47150535729228, 9.495221875149424, 9.504987500149424, 9.514753125149422, 9.524518750149422, 9.544050000149422, 9.573346875149422, 9.608224107292278, 9.643101339435134, 9.67797857157799, 9.712855803720847, 9.747733035863703, 9.782610268006561, 9.817487500149417, 9.827253125149417, 9.849574553720846, 9.871895982292273, 9.894217410863702, 9.916538839435129, 9.938860268006557, 9.961181696577984, 9.983503125149413, 9.993268750149413, 10.0]) # x data for model validation\n",
    "\n",
    "y_values_mv = np.array([-1.249598, -1.246124, -1.239578, -1.22996, -1.217271, -1.201509, -1.182676, -1.161687, -1.146283, -1.13817, -1.12979, -1.121146, -1.103086, -1.074131, -1.033092, -0.9895089, -0.9433829, -0.8947136, -0.8435011, -0.7897454, -0.7334465, -0.671181, -0.6083459, -0.5449413, -0.480967, -0.4164232, -0.3513099, -0.2856269, -0.2477141, -0.2101983, -0.1730796, -0.1363578, -0.100033, -0.06410527, -0.02857453, -0.01416722, 0.0001378406, 0.01433729, 0.04240617, 0.08363647, 0.1181947, 0.1517696, 0.1843611, 0.2159693, 0.246594, 0.2762354, 0.3048934, 0.3263343, 0.3367969, 0.3571979, 0.3864644, 0.4205153, 0.4518922, 0.4805948, 0.5066234, 0.5299778, 0.5506581, 0.5686643, 0.5853191, 0.5987407, 0.6089291, 0.6158844, 0.6196065, 0.6200954, 0.6173511, 0.6141967, 0.6100138, 0.6048023, 0.5985622, 0.5912936, 0.5829965, 0.5736708, 0.5658481, 0.5617353, 0.5574911, 0.5486172, 0.5343763, 0.514166, 0.4926824, 0.4699254, 0.445895, 0.4205912, 0.394014, 0.3661634, 0.3353445, 0.3042297, 0.2728192, 0.2411128, 0.2091106, 0.1768127, 0.1442189, 0.1253999, 0.1067741, 0.08834141, 0.07010189, 0.05205552, 0.0342023, 0.01654224, 0.009380195, 0.002268303, -0.004791756, -0.0187498, -0.03925775, -0.0564521, -0.0731614, -0.08938563, -0.1051248, -0.1203789, -0.135148, -0.1494319, -0.1601219, -0.1653394, -0.1704708, -0.180472, -0.1948078, -0.2120823, -0.2279223, -0.2423278, -0.2552987, -0.2668351, -0.276937, -0.2856043, -0.2931828, -0.2991713, -0.3035697, -0.3063781, -0.3075965, -0.3072249, -0.3052632, -0.3034656, -0.3012193, -0.2985243, -0.2953806, -0.2917882, -0.2877471, -0.2832574, -0.2813059, -0.2792878, -0.2772042, -0.2728447, -0.2658413, -0.2558896, -0.2453004, -0.2340737, -0.2222095, -0.2097077, -0.1965684, -0.1827916, -0.1675381, -0.1521312, -0.136571, -0.1208575, -0.1049907, -0.08897055, -0.07279709, -0.06345608, -0.05420901, -0.04505587, -0.03599666, -0.02703138, -0.01816003, -0.009382619, -0.002286757, 0.00122344, 0.004707379, 0.01159326, 0.02170536, 0.03017849, 0.03840838, 0.04639501, 0.05413839, 0.06163851, 0.06889538, 0.075909, 0.07855292, 0.0811547, 0.08371391, 0.08870294, 0.09585713, 0.1044836, 0.1123992, 0.1196039, 0.1260978, 0.1318809, 0.1369531, 0.1413144, 0.1451399, 0.1481755, 0.150421, 0.1518766, 0.1525422, 0.1524178, 0.1515034, 0.1506448, 0.1495628, 0.1482573, 0.1467284, 0.144976, 0.1430002, 0.140801, 0.1388541, 0.1378313, 0.1367764, 0.1345723, 0.1310388, 0.1260307, 0.1207124, 0.1150839, 0.1091452, 0.1028963, 0.09633717, 0.08946785, 0.08187063, 0.07420402, 0.06646802, 0.05866262, 0.05078781, 0.04284362, 0.03483002, 0.03020454, 0.02562752, 0.02109897, 0.01661888, 0.01218726, 0.007804099, 0.003469404, 0.001711742, -3.344024e-05, -0.001765734, -0.005190045, -0.01021997, -0.0144359, -0.01853183, -0.02250777, -0.02636371, -0.03009965, -0.0337156, -0.03721154, -0.03982706, -0.04110336, -0.04359199, -0.04716205, -0.05131567, -0.05514301, -0.05864409, -0.06181889, -0.06466743, -0.06718969, -0.06938568, -0.07141671, -0.07305328, -0.07429541, -0.07514309, -0.07559632, -0.0756551, -0.07531942, -0.07493406, -0.07442322, -0.07378691, -0.07302512, -0.07213786, -0.07112512, -0.06998691, -0.06903217, -0.06853023, -0.06801226, -0.0669293, -0.0651914, -0.06272511, -0.06010351, -0.05732659, -0.05439434, -0.05130679, -0.04806391, -0.04466571, -0.04090539, -0.03710902, -0.03327661, -0.02940816, -0.02550367, -0.02156313, -0.01758655, -0.01529057, -0.01301817, -0.01076936, -0.008544116, -0.006342455, -0.004164374, -0.002009872, -0.001136116, -0.0002684821, 0.0005928263, 0.002295664, 0.004797551, 0.006895175, 0.008933609, 0.01091285, 0.01283291, 0.01469377, 0.01649545, 0.01823793, 0.01954197, 0.02017844, 0.02080441, 0.0220244, 0.02377314, 0.02588032, 0.02781248, 0.0295696, 0.0311517, 0.03255878, 0.03379083, 0.03484785, 0.03577199, 0.03650215, 0.03703833, 0.03738053, 0.03752875, 0.03748298, 0.03724323, 0.03702368, 0.03674938, 0.03642035, 0.03603659, 0.03559809, 0.03510485, 0.03455688, 0.03431871, 0.03407241, 0.03381812, 0.03328608, 0.03243142, 0.03131328, 0.03012657, 0.0288713, 0.02754746, 0.02615506, 0.0246941, 0.02316458, 0.02273272, 0.02172883, 0.02071362, 0.01968707, 0.01864919, 0.01759998, 0.01653944, 0.01546757, 0.01499887, 0.01467537]) # y data for model validation\n",
    "\n",
    "print(len(x_values_mv), len(y_values_mv))\n",
    "\n",
    "x = np.arange(0.01, 10, 0.01)"
   ]
  },
  {
   "cell_type": "markdown",
   "metadata": {},
   "source": [
    "plot the output of the GPR"
   ]
  },
  {
   "cell_type": "code",
   "execution_count": null,
   "metadata": {},
   "outputs": [],
   "source": [
    "model = GPR(x_values, y_values)\n",
    "data = plot_GPR(data_x=x_values, data_y=y_values, x=x, model=model, data_x_mv=x_values_mv, data_y_mv=y_values_mv)\n",
    "fig4 = go.Figure(data)\n",
    "fig4 = update_layout_of_graph(fig=fig4, title=f'GPR with length {model.cov_func.length}, sigma {model.cov_func.sigma}, alpha {cov_func.alpha}, beta {model.cov_func.beta} and noise {model.noise}')\n",
    "fig4.show()\n",
    "fig4.write_html('/Users/simonjamnik/PycharmProjects/GaussianProcess/RLC_Current_Schwing_0.75.html')"
   ]
  },
  {
   "cell_type": "code",
   "execution_count": 131,
   "metadata": {
    "ExecuteTime": {
     "end_time": "2024-07-14T12:38:50.659405Z",
     "start_time": "2024-07-14T12:38:50.654998Z"
    }
   },
   "outputs": [],
   "source": []
  },
  {
   "cell_type": "code",
   "execution_count": 56,
   "metadata": {
    "ExecuteTime": {
     "end_time": "2024-07-13T12:17:18.607523Z",
     "start_time": "2024-07-13T12:17:18.592536Z"
    }
   },
   "outputs": [],
   "source": []
  },
  {
   "cell_type": "code",
   "execution_count": null,
   "outputs": [],
   "source": [],
   "metadata": {
    "collapsed": false,
    "ExecuteTime": {
     "start_time": "2024-05-28T22:29:33.474546Z"
    }
   }
  }
 ],
 "metadata": {
  "kernelspec": {
   "display_name": "Python 3 (ipykernel)",
   "language": "python",
   "name": "python3"
  },
  "language_info": {
   "codemirror_mode": {
    "name": "ipython",
    "version": 3
   },
   "file_extension": ".py",
   "mimetype": "text/x-python",
   "name": "python",
   "nbconvert_exporter": "python",
   "pygments_lexer": "ipython3",
   "version": "3.10.2"
  }
 },
 "nbformat": 4,
 "nbformat_minor": 1
}
