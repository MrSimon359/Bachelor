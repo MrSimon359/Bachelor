{
 "cells": [
  {
   "cell_type": "markdown",
   "metadata": {},
   "source": [
    "necessary packages"
   ]
  },
  {
   "cell_type": "code",
   "execution_count": 1,
   "metadata": {
    "ExecuteTime": {
     "end_time": "2024-07-24T16:33:15.282077Z",
     "start_time": "2024-07-24T16:33:14.738263Z"
    }
   },
   "outputs": [],
   "source": [
    "import numpy as np\n",
    "from ipywidgets import interact\n",
    "import plotly.graph_objects as go\n",
    "from scipy.special import gamma\n",
    "from scipy.integrate import quad as integrate"
   ]
  },
  {
   "cell_type": "markdown",
   "metadata": {},
   "source": [
    "define function for updating the layout of the figure:\n",
    "* updates the layout of a plotly figure with predefined settings\n",
    "* the **title** dict includes all title properties: **'x'** specifies the position of the title along the x-axis, **'xanchor'** specifies the anchor point of the title along the x-axis"
   ]
  },
  {
   "cell_type": "code",
   "execution_count": 2,
   "metadata": {
    "ExecuteTime": {
     "end_time": "2024-07-24T16:33:15.738479Z",
     "start_time": "2024-07-24T16:33:15.725317Z"
    }
   },
   "outputs": [],
   "source": [
    "def update_layout_of_graph(fig: go.Figure, title: str = 'Plot') -> go.Figure:\n",
    "    fig.update_layout(\n",
    "        width=1000,\n",
    "        height=500,\n",
    "        autosize=False,\n",
    "        plot_bgcolor='black',\n",
    "        title={'text': title, 'x': 0.5, 'xanchor': 'center'},  # dict includes all title properties; specifies the position of the title along the x-axis\n",
    "        xaxis_title='input values',\n",
    "        yaxis_title='output values',\n",
    "        legend=dict(yanchor=\"top\", y=0.5, xanchor=\"right\", x=0.95),\n",
    "        xaxis=dict(showline=True, linewidth=1, linecolor='black'),\n",
    "        yaxis=dict(showline=True, linewidth=1, linecolor='black')\n",
    "    )\n",
    "    return fig"
   ]
  },
  {
   "cell_type": "markdown",
   "metadata": {},
   "source": [
    "define function for creating a line plot:\n",
    "* creates a Plotly scatter trace representing a line plot\n",
    "* **x_lines** x-coordinates of the points on the line with an empty default array\n",
    "* **y_lines** y-coordinates of the points on the line with an empty default array"
   ]
  },
  {
   "cell_type": "code",
   "execution_count": 3,
   "metadata": {
    "ExecuteTime": {
     "end_time": "2024-07-24T16:33:17.549964Z",
     "start_time": "2024-07-24T16:33:17.537617Z"
    }
   },
   "outputs": [],
   "source": [
    "def line_plot(x_lines: np.array = np.array([]), y_lines: np.array = np.array([]), title: str = 'predicted function',\n",
    "show_legend: bool = True, visible: bool = True, ) -> go.Scatter:\n",
    "\n",
    "    scatter = go.Scatter(x=x_lines, y=y_lines, line=dict(color=\"orange\", width=3), name=title, showlegend= show_legend, visible=visible)\n",
    "    return scatter"
   ]
  },
  {
   "cell_type": "markdown",
   "metadata": {},
   "source": [
    "define function for a scatter plot:\n",
    "* creates a scatter plot with Plotly\n",
    "* **x_dots** is an array of x-coordinates for the data points in the scatter plot with an empty default array\n",
    "* **y_dots** is an array of y-coordinates for the data points in the scatter plot with an empty default array"
   ]
  },
  {
   "cell_type": "code",
   "execution_count": 4,
   "metadata": {
    "ExecuteTime": {
     "end_time": "2024-07-24T16:33:18.269364Z",
     "start_time": "2024-07-24T16:33:18.200879Z"
    }
   },
   "outputs": [],
   "source": [
    "def scatter_plot(visible: bool = True, x_dots: np.array = np.array([]), y_dots: np.array = np.array([]), name_dots: str = 'observed points',\n",
    "show_legend: bool = True, color: str = 'red') -> go.Scatter:\n",
    "\n",
    "    scatter = go.Scatter(x=x_dots, y=y_dots, visible=visible, mode='markers', name=name_dots, marker=dict(color=color, size=8), showlegend=show_legend)\n",
    "    return scatter"
   ]
  },
  {
   "cell_type": "markdown",
   "metadata": {},
   "source": [
    "define function for plotting the uncertainty area:\n",
    "* generates an area plot to represent the uncertainty using the Plotly\n",
    "* **x_lines** an array of x-coordinates for the lines outlining the area plot with an empty default array\n",
    "* **y_lower** an array of y-coordinates representing the lower boundary of the uncertainty area plot with an empty default array\n",
    "* **y_upper** an array of y-coordinates representing the upper boundary of the uncertainty area plot with an empty default array"
   ]
  },
  {
   "cell_type": "code",
   "execution_count": 5,
   "metadata": {
    "ExecuteTime": {
     "end_time": "2024-07-24T16:33:18.729286Z",
     "start_time": "2024-07-24T16:33:18.721065Z"
    }
   },
   "outputs": [],
   "source": [
    "def uncertainty_area_plot(visible: bool = True, x_lines: np.array = np.array([]), y_lower: np.array = np.array([]), y_upper: np.array = np.array([]), name: str = 'mean plus/minus standard deviation') -> go.Scatter:\n",
    "\n",
    "    scatter = go.Scatter(x=np.concatenate((x_lines, x_lines[::-1])), y=np.concatenate((y_upper, y_lower[::-1])), visible=visible, fill='toself', fillcolor='rgba(189, 195, 199, 0.5)', line=dict(color='rgba(200, 200, 200, 0)'), hoverinfo='skip', showlegend=True, name=name)\n",
    "    return scatter"
   ]
  },
  {
   "cell_type": "markdown",
   "metadata": {},
   "source": [
    "define squared exponential kernel:\n",
    "* **variable1** & **variable2** correspond to t & t'\n",
    "* **sigma** describes the average distance away from the function mean and l determines the reach of influence on neighbors\n",
    "* **sigma** & **length** is assigned the float standard value 1\n",
    "* **variable_1** & **variable_2** expect an array"
   ]
  },
  {
   "cell_type": "code",
   "execution_count": 6,
   "metadata": {
    "ExecuteTime": {
     "end_time": "2024-07-24T16:33:20.516517Z",
     "start_time": "2024-07-24T16:33:20.469646Z"
    }
   },
   "outputs": [],
   "source": [
    "class SquaredExponentialKernel:\n",
    "    def __init__(self, sigma: float = 1, length: float = 1, alpha: float = 0.75, beta: float = 0.75):\n",
    "        self.sigma = sigma\n",
    "        self.length = length\n",
    "        self.alpha = alpha\n",
    "        self.beta = beta\n",
    "\n",
    "    def __call__(self, tau_1: np.array, tau_2: np.array):\n",
    "        def kernel(variable_1, variable_2):\n",
    "            k_SE = float(self.sigma**2 * np.exp(-(np.linalg.norm(variable_1 - variable_2)**2) /(2 * self.length**2)))\n",
    "            return k_SE\n",
    "        return kernel(tau_1, tau_2)"
   ]
  },
  {
   "cell_type": "markdown",
   "metadata": {
    "ExecuteTime": {
     "end_time": "2024-03-18T13:48:10.656422Z",
     "start_time": "2024-03-18T13:48:08.952728Z"
    }
   },
   "source": [
    "visualize the squared exponential kernel:\n",
    "* only for testing the squared exponential kernel and monitor the effect of changing the parameters\n",
    "* **@interact** generates a user interface which allows for an interactive regulation of the parameters length, sigma and variable_2 in the defined ranges\n",
    "* the function **update** is called whenever the values of the sliders are changed\n",
    "* **batch_update()** ensures that all updates to the figure within the block are batched together"
   ]
  },
  {
   "cell_type": "code",
   "execution_count": 7,
   "metadata": {
    "ExecuteTime": {
     "end_time": "2024-07-24T16:33:21.714187Z",
     "start_time": "2024-07-24T16:33:21.537810Z"
    }
   },
   "outputs": [
    {
     "data": {
      "text/plain": "interactive(children=(FloatSlider(value=1.0, description='length', max=3.0, min=0.1), FloatSlider(value=1.0, d…",
      "application/vnd.jupyter.widget-view+json": {
       "version_major": 2,
       "version_minor": 0,
       "model_id": "fa61cb7713e44ad4bb18136595709a0f"
      }
     },
     "metadata": {},
     "output_type": "display_data"
    },
    {
     "data": {
      "application/vnd.jupyter.widget-view+json": {
       "version_major": 2,
       "version_minor": 0,
       "model_id": "7b065e069aaf405ebdfe526b5481cfe7"
      },
      "text/plain": "FigureWidget({\n    'data': [{'line': {'color': 'orange', 'width': 3},\n              'name': 'predicted function',\n              'showlegend': True,\n              'type': 'scatter',\n              'uid': 'ca5b7775-9abc-4c81-9d42-32cf72ff7298',\n              'visible': True,\n              'x': array([-1.00000000e+01, -9.90000000e+00, -9.80000000e+00, -9.70000000e+00,\n                          -9.60000000e+00, -9.50000000e+00, -9.40000000e+00, -9.30000000e+00,\n                          -9.20000000e+00, -9.10000000e+00, -9.00000000e+00, -8.90000000e+00,\n                          -8.80000000e+00, -8.70000000e+00, -8.60000000e+00, -8.50000000e+00,\n                          -8.40000000e+00, -8.30000000e+00, -8.20000000e+00, -8.10000000e+00,\n                          -8.00000000e+00, -7.90000000e+00, -7.80000000e+00, -7.70000000e+00,\n                          -7.60000000e+00, -7.50000000e+00, -7.40000000e+00, -7.30000000e+00,\n                          -7.20000000e+00, -7.10000000e+00, -7.00000000e+00, -6.90000000e+00,\n                          -6.80000000e+00, -6.70000000e+00, -6.60000000e+00, -6.50000000e+00,\n                          -6.40000000e+00, -6.30000000e+00, -6.20000000e+00, -6.10000000e+00,\n                          -6.00000000e+00, -5.90000000e+00, -5.80000000e+00, -5.70000000e+00,\n                          -5.60000000e+00, -5.50000000e+00, -5.40000000e+00, -5.30000000e+00,\n                          -5.20000000e+00, -5.10000000e+00, -5.00000000e+00, -4.90000000e+00,\n                          -4.80000000e+00, -4.70000000e+00, -4.60000000e+00, -4.50000000e+00,\n                          -4.40000000e+00, -4.30000000e+00, -4.20000000e+00, -4.10000000e+00,\n                          -4.00000000e+00, -3.90000000e+00, -3.80000000e+00, -3.70000000e+00,\n                          -3.60000000e+00, -3.50000000e+00, -3.40000000e+00, -3.30000000e+00,\n                          -3.20000000e+00, -3.10000000e+00, -3.00000000e+00, -2.90000000e+00,\n                          -2.80000000e+00, -2.70000000e+00, -2.60000000e+00, -2.50000000e+00,\n                          -2.40000000e+00, -2.30000000e+00, -2.20000000e+00, -2.10000000e+00,\n                          -2.00000000e+00, -1.90000000e+00, -1.80000000e+00, -1.70000000e+00,\n                          -1.60000000e+00, -1.50000000e+00, -1.40000000e+00, -1.30000000e+00,\n                          -1.20000000e+00, -1.10000000e+00, -1.00000000e+00, -9.00000000e-01,\n                          -8.00000000e-01, -7.00000000e-01, -6.00000000e-01, -5.00000000e-01,\n                          -4.00000000e-01, -3.00000000e-01, -2.00000000e-01, -1.00000000e-01,\n                          -3.55271368e-14,  1.00000000e-01,  2.00000000e-01,  3.00000000e-01,\n                           4.00000000e-01,  5.00000000e-01,  6.00000000e-01,  7.00000000e-01,\n                           8.00000000e-01,  9.00000000e-01,  1.00000000e+00,  1.10000000e+00,\n                           1.20000000e+00,  1.30000000e+00,  1.40000000e+00,  1.50000000e+00,\n                           1.60000000e+00,  1.70000000e+00,  1.80000000e+00,  1.90000000e+00,\n                           2.00000000e+00,  2.10000000e+00,  2.20000000e+00,  2.30000000e+00,\n                           2.40000000e+00,  2.50000000e+00,  2.60000000e+00,  2.70000000e+00,\n                           2.80000000e+00,  2.90000000e+00,  3.00000000e+00,  3.10000000e+00,\n                           3.20000000e+00,  3.30000000e+00,  3.40000000e+00,  3.50000000e+00,\n                           3.60000000e+00,  3.70000000e+00,  3.80000000e+00,  3.90000000e+00,\n                           4.00000000e+00,  4.10000000e+00,  4.20000000e+00,  4.30000000e+00,\n                           4.40000000e+00,  4.50000000e+00,  4.60000000e+00,  4.70000000e+00,\n                           4.80000000e+00,  4.90000000e+00,  5.00000000e+00,  5.10000000e+00,\n                           5.20000000e+00,  5.30000000e+00,  5.40000000e+00,  5.50000000e+00,\n                           5.60000000e+00,  5.70000000e+00,  5.80000000e+00,  5.90000000e+00,\n                           6.00000000e+00,  6.10000000e+00,  6.20000000e+00,  6.30000000e+00,\n                           6.40000000e+00,  6.50000000e+00,  6.60000000e+00,  6.70000000e+00,\n                           6.80000000e+00,  6.90000000e+00,  7.00000000e+00,  7.10000000e+00,\n                           7.20000000e+00,  7.30000000e+00,  7.40000000e+00,  7.50000000e+00,\n                           7.60000000e+00,  7.70000000e+00,  7.80000000e+00,  7.90000000e+00,\n                           8.00000000e+00,  8.10000000e+00,  8.20000000e+00,  8.30000000e+00,\n                           8.40000000e+00,  8.50000000e+00,  8.60000000e+00,  8.70000000e+00,\n                           8.80000000e+00,  8.90000000e+00,  9.00000000e+00,  9.10000000e+00,\n                           9.20000000e+00,  9.30000000e+00,  9.40000000e+00,  9.50000000e+00,\n                           9.60000000e+00,  9.70000000e+00,  9.80000000e+00,  9.90000000e+00]),\n              'y': array([1.92874985e-22, 5.21673666e-22, 1.39694394e-21, 3.70353198e-21,\n                          9.72098502e-21, 2.52616378e-20, 6.49934797e-20, 1.65552266e-19,\n                          4.17501006e-19, 1.04240618e-18, 2.57675711e-18, 6.30618989e-18,\n                          1.52797997e-17, 3.66543340e-17, 8.70542662e-17, 2.04697171e-16,\n                          4.76530474e-16, 1.09831413e-15, 2.50622189e-15, 5.66199552e-15,\n                          1.26641655e-14, 2.80440474e-14, 6.14839641e-14, 1.33456608e-13,\n                          2.86797501e-13, 6.10193668e-13, 1.28533723e-12, 2.68054764e-12,\n                          5.53461007e-12, 1.13137762e-11, 2.28973485e-11, 4.58796249e-11,\n                          9.10147076e-11, 1.78755887e-10, 3.47589128e-10, 6.69158609e-10,\n                          1.27540763e-09, 2.40672244e-09, 4.49634946e-09, 8.31670246e-09,\n                          1.52299797e-08, 2.76124246e-08, 4.95640532e-08, 8.80817920e-08,\n                          1.54975314e-07, 2.69957850e-07, 4.65571572e-07, 7.94939362e-07,\n                          1.34381228e-06, 2.24905597e-06, 3.72665317e-06, 6.11356797e-06,\n                          9.92950431e-06, 1.59667839e-05, 2.54193465e-05, 4.00652974e-05,\n                          6.25215038e-05, 9.65934137e-05, 1.47748360e-04, 2.23745794e-04,\n                          3.35462628e-04, 4.97955422e-04, 7.31802419e-04, 1.06476624e-03,\n                          1.53381068e-03, 2.18749112e-03, 3.08871541e-03, 4.31784001e-03,\n                          5.97602290e-03, 8.18870101e-03, 1.11089965e-02, 1.49207861e-02,\n                          1.98410947e-02, 2.61214099e-02, 3.40474547e-02, 4.39369336e-02,\n                          5.61347628e-02, 7.10053537e-02, 8.89216175e-02, 1.10250525e-01,\n                          1.35335283e-01, 1.64474457e-01, 1.97898699e-01, 2.35746077e-01,\n                          2.78037300e-01, 3.24652467e-01, 3.75311099e-01, 4.29557358e-01,\n                          4.86752256e-01, 5.46074427e-01, 6.06530660e-01, 6.66976811e-01,\n                          7.26149037e-01, 7.82704538e-01, 8.35270211e-01, 8.82496903e-01,\n                          9.23116346e-01, 9.55997482e-01, 9.80198673e-01, 9.95012479e-01,\n                          1.00000000e+00, 9.95012479e-01, 9.80198673e-01, 9.55997482e-01,\n                          9.23116346e-01, 8.82496903e-01, 8.35270211e-01, 7.82704538e-01,\n                          7.26149037e-01, 6.66976811e-01, 6.06530660e-01, 5.46074427e-01,\n                          4.86752256e-01, 4.29557358e-01, 3.75311099e-01, 3.24652467e-01,\n                          2.78037300e-01, 2.35746077e-01, 1.97898699e-01, 1.64474457e-01,\n                          1.35335283e-01, 1.10250525e-01, 8.89216175e-02, 7.10053537e-02,\n                          5.61347628e-02, 4.39369336e-02, 3.40474547e-02, 2.61214099e-02,\n                          1.98410947e-02, 1.49207861e-02, 1.11089965e-02, 8.18870101e-03,\n                          5.97602290e-03, 4.31784001e-03, 3.08871541e-03, 2.18749112e-03,\n                          1.53381068e-03, 1.06476624e-03, 7.31802419e-04, 4.97955422e-04,\n                          3.35462628e-04, 2.23745794e-04, 1.47748360e-04, 9.65934137e-05,\n                          6.25215038e-05, 4.00652974e-05, 2.54193465e-05, 1.59667839e-05,\n                          9.92950431e-06, 6.11356797e-06, 3.72665317e-06, 2.24905597e-06,\n                          1.34381228e-06, 7.94939362e-07, 4.65571572e-07, 2.69957850e-07,\n                          1.54975314e-07, 8.80817920e-08, 4.95640532e-08, 2.76124246e-08,\n                          1.52299797e-08, 8.31670246e-09, 4.49634946e-09, 2.40672244e-09,\n                          1.27540763e-09, 6.69158609e-10, 3.47589128e-10, 1.78755887e-10,\n                          9.10147076e-11, 4.58796249e-11, 2.28973485e-11, 1.13137762e-11,\n                          5.53461007e-12, 2.68054764e-12, 1.28533723e-12, 6.10193668e-13,\n                          2.86797501e-13, 1.33456608e-13, 6.14839641e-14, 2.80440474e-14,\n                          1.26641655e-14, 5.66199552e-15, 2.50622189e-15, 1.09831413e-15,\n                          4.76530474e-16, 2.04697171e-16, 8.70542662e-17, 3.66543340e-17,\n                          1.52797997e-17, 6.30618989e-18, 2.57675711e-18, 1.04240618e-18,\n                          4.17501006e-19, 1.65552266e-19, 6.49934797e-20, 2.52616378e-20,\n                          9.72098502e-21, 3.70353198e-21, 1.39694394e-21, 5.21673666e-22])}],\n    'layout': {'autosize': False,\n               'height': 500,\n               'legend': {'x': 0.95, 'xanchor': 'right', 'y': 0.5, 'yanchor': 'top'},\n               'plot_bgcolor': 'black',\n               'template': '...',\n               'title': {'text': 'squared exponential kernel', 'x': 0.5, 'xanchor': 'center'},\n               'width': 1000,\n               'xaxis': {'linecolor': 'black', 'linewidth': 1, 'showline': True, 'title': {'text': 'input values'}},\n               'yaxis': {'linecolor': 'black', 'linewidth': 1, 'showline': True, 'title': {'text': 'output values'}}}\n})"
     },
     "execution_count": 7,
     "metadata": {},
     "output_type": "execute_result"
    }
   ],
   "source": [
    "x_lines = np.arange(-10, 10, 0.1)\n",
    "kernel = SquaredExponentialKernel()  # initialize an instance of the class SquaredExponentialKernel, length and sigma have already standard values\n",
    "data = line_plot(x_lines=x_lines, y_lines=np.array([kernel(x, 0) for x in x_lines]))  # generates the data for the line distribution\n",
    "\n",
    "fig = go.FigureWidget(data)  # generates an interactive plot-widget with the passed data\n",
    "fig = update_layout_of_graph(fig, title='squared exponential kernel')\n",
    "\n",
    "@interact(length=(0.1, 3, 0.1), sigma=(0.1, 3, 0.1), variable_2=(-10, 10, 0.1))\n",
    "def update(length=1, sigma=1, variable_2=0):\n",
    "    with fig.batch_update():\n",
    "        kernel = SquaredExponentialKernel(sigma=sigma, length=length)  # a new instance of the class SquaredExponentialKernel with the updated length and sigma value is generated\n",
    "        fig.data[0].y = np.array([kernel(x, variable_2) for x in x_lines])  # updates the y-values plot data, data can contain multiply scatter plots\n",
    "        # with data[0].y the y-coordinates of the first scatter plot are accessed\n",
    "\n",
    "fig"
   ]
  },
  {
   "cell_type": "markdown",
   "metadata": {},
   "source": [
    "functions for creating the covariance matrix, each of them were implemented separately in such a way as to make them comprehensible with the notes, which is why they are referenced:\n",
    "* **val_1** & **val_2** are equal to a certain element of the arrays **t** & **t'**\n",
    "* **alpha**, **R** & **C** are set to a specific value"
   ]
  },
  {
   "cell_type": "code",
   "execution_count": 27,
   "metadata": {
    "ExecuteTime": {
     "end_time": "2024-07-26T16:32:21.102712Z",
     "start_time": "2024-07-26T16:32:21.061726Z"
    }
   },
   "outputs": [],
   "source": [
    "def k_fu(val_1, val_2, cov_func, R=4, C=330e-6, L=1e-3):\n",
    "    alpha = cov_func.alpha\n",
    "    beta = cov_func.beta\n",
    "    l = cov_func.length\n",
    "\n",
    "    c = 1/(R*C) * cov_func(val_1, val_2)\n",
    "\n",
    "    def integrand_a(tau):\n",
    "        a = -1 / (gamma(1-alpha) * l**2)\n",
    "        return a * (tau - val_2) / (val_1 - tau)**alpha * cov_func(tau, val_2)\n",
    "\n",
    "    def integrand_b(tau):\n",
    "        b = -1 / (gamma(1+beta) * l**2 * L * C)\n",
    "        return b * (tau - val_2) * (val_1 - tau)**beta * cov_func(tau, val_2)\n",
    "\n",
    "    integral_val_a, _ = integrate(integrand_a, 0, val_1, epsabs=1e-9, epsrel=1e-9, limit=10000)\n",
    "    integral_val_b, _ = integrate(integrand_b, 0, val_1, epsabs=1e-9, epsrel=1e-9, limit=10000)\n",
    "    return integral_val_a + integral_val_b + c"
   ]
  },
  {
   "cell_type": "code",
   "execution_count": 28,
   "metadata": {
    "ExecuteTime": {
     "end_time": "2024-07-26T16:32:23.047427Z",
     "start_time": "2024-07-26T16:32:23.019537Z"
    }
   },
   "outputs": [],
   "source": [
    "def k_uf(val_1, val_2, cov_func, R=4, C=330e-6, L=1e-3):\n",
    "    alpha = cov_func.alpha\n",
    "    beta = cov_func.beta\n",
    "    l = cov_func.length\n",
    "\n",
    "    c = 1/(R*C) * cov_func(val_1, val_2)\n",
    "\n",
    "    def integrand_a(tau):\n",
    "        a = 1 / (gamma(1-alpha) * l**2)\n",
    "        return a * (val_1 - tau) / (val_2 - tau)**alpha * cov_func(val_1, tau)\n",
    "\n",
    "    def integrand_b(tau):\n",
    "        b = 1 / (gamma(1+beta) * l**2 * L * C)\n",
    "        return b * (val_1 - tau) * (val_2 - tau)**beta * cov_func(val_1, tau)\n",
    "\n",
    "    integral_val_a, _ = integrate(integrand_a, 0, val_2, epsabs=1e-9, epsrel=1e-9, limit=10000)\n",
    "    integral_val_b, _ = integrate(integrand_b, 0, val_2, epsabs=1e-9, epsrel=1e-9, limit=10000)\n",
    "    return integral_val_a + integral_val_b + c"
   ]
  },
  {
   "cell_type": "code",
   "execution_count": 29,
   "metadata": {
    "ExecuteTime": {
     "end_time": "2024-07-26T16:32:23.998614Z",
     "start_time": "2024-07-26T16:32:23.992046Z"
    }
   },
   "outputs": [],
   "source": [
    "def k_uu(val_1, val_2, cov_func):\n",
    "    return cov_func(val_1, val_2)"
   ]
  },
  {
   "cell_type": "code",
   "execution_count": 31,
   "metadata": {
    "ExecuteTime": {
     "end_time": "2024-07-26T20:05:39.097264Z",
     "start_time": "2024-07-26T20:05:39.072498Z"
    }
   },
   "outputs": [],
   "source": [
    "def k_ff(val_1, val_2, cov_func, R=4, C=330e-6, L=1e-3):\n",
    "    alpha = cov_func.alpha\n",
    "    beta = cov_func.beta\n",
    "    l = cov_func.length\n",
    "\n",
    "    # simpler integrals, see notes:\n",
    "    a = 1 / (R*C) * k_uf(val_1, val_2, cov_func, R, C, L)\n",
    "\n",
    "    # one possibility for implementing the integrals\n",
    "    '''def integrand_c(tau):\n",
    "        c_const = -1 / (gamma(1-alpha) * l**2 * R)\n",
    "        return c_const * (tau - val_2) / (val_1 - tau)**alpha * cov_func(tau, val_2)\n",
    "\n",
    "    def integrand_b(tau):\n",
    "        b_const = -1 / (gamma(1+beta) * l**2 * R * C * L)\n",
    "        return b_const * (tau - val_2) * (val_1 - tau)**beta * cov_func(tau, val_2)\n",
    "\n",
    "    integral_val_c, _ = integrate(integrand_c, 0, val_1, epsabs=1e-8, epsrel=1e-8, limit=10000)\n",
    "    integral_val_b, _ = integrate(integrand_b, 0, val_1, epsabs=1e-8, epsrel=1e-8, limit=10000)'''\n",
    "\n",
    "    # or a simpler one\n",
    "    b = 1/(R*C) * (k_fu(val_1, val_2, cov_func, R, C, L) - k_uu(val_1, val_2, cov_func))\n",
    "\n",
    "    # more complex integral g:\n",
    "    def g():\n",
    "        def A(val_1, val_2, tau):\n",
    "            a = 1/gamma(1-alpha) * 1/(val_2 - tau)**alpha * 1/l**2 * (val_1 - tau)\n",
    "            return a * cov_func(val_1, tau)\n",
    "\n",
    "        def B(val_1, val_2):\n",
    "            integrand = lambda tau: A(val_1, val_2, tau)\n",
    "            integral_val, _ = integrate(integrand, 0, val_2, epsabs=1e-8, epsrel=1e-8, limit=10000)\n",
    "            return integral_val\n",
    "\n",
    "        def derivative_B(tau, val_2, h= 0.01*np.sqrt(2e-53)):\n",
    "            def B_tau(tau):\n",
    "                return B(tau, val_2)\n",
    "            dB = (B_tau(tau + h) - B_tau(tau - h)) / (2*h)\n",
    "            return dB\n",
    "\n",
    "        def double_integral(val_1, val_2):\n",
    "            integrand = lambda tau: 1/gamma(1 - alpha) * 1/(val_1 - tau)**alpha * derivative_B(tau, val_2)\n",
    "            integral_val, _ = integrate(integrand, 0, val_1, epsabs=1e-8, epsrel=1e-8, limit=10000)\n",
    "            return integral_val\n",
    "\n",
    "        g = double_integral(val_1, val_2)\n",
    "        return g\n",
    "\n",
    "    # more complex integral f:\n",
    "    def f():\n",
    "        def A(val_1, val_2, tau):\n",
    "            a = 1/(L*C*gamma(1+beta)) * (val_2 - tau)**beta * 1/l**2 * (val_1 - tau)\n",
    "            return a * cov_func(val_1, tau)\n",
    "\n",
    "        def B(val_1, val_2):\n",
    "            integrand = lambda tau: A(val_1, val_2, tau)\n",
    "            integral_val, _ = integrate(integrand, 0, val_2, epsabs=1e-8, epsrel=1e-8, limit=10000)\n",
    "            return integral_val\n",
    "\n",
    "        def derivative_B(tau, val_2, h= 0.01*np.sqrt(2e-53)):\n",
    "            def B_tau(tau):\n",
    "                return B(tau, val_2)\n",
    "            dB = (B_tau(tau + h) - B_tau(tau - h)) / (2*h)\n",
    "            return dB\n",
    "\n",
    "        def double_integral(val_1, val_2):\n",
    "            integrand = lambda tau: 1/gamma(1 - alpha) * 1/(val_1 - tau)**alpha * derivative_B(tau, val_2)\n",
    "            integral_val, _ = integrate(integrand, 0, val_1, epsabs=1e-8, epsrel=1e-8, limit=10000)\n",
    "            return integral_val\n",
    "\n",
    "        f = double_integral(val_1, val_2)\n",
    "        return f\n",
    "\n",
    "    # more complex integral e:\n",
    "    def e():\n",
    "        def A(val_1, val_2, tau):\n",
    "            a = 1/gamma(1-alpha) * 1/(val_2 - tau)**alpha * 1/l**2 * (val_1 - tau)\n",
    "            return a * cov_func(val_1, tau)\n",
    "\n",
    "        def B(val_1, val_2):\n",
    "            integrand = lambda tau: A(val_1, val_2, tau)\n",
    "            integral_val, _ = integrate(integrand, 0, val_2, epsabs=1e-8, epsrel=1e-8, limit=10000)\n",
    "            return integral_val\n",
    "\n",
    "        def derivative_B(tau, val_2, h= 0.01*np.sqrt(2e-53)):\n",
    "            def B_tau(tau):\n",
    "                return B(tau, val_2)\n",
    "            dB = (B_tau(tau + h) - B_tau(tau - h)) / (2*h)\n",
    "            return dB\n",
    "\n",
    "        def double_integral(val_1, val_2):\n",
    "            integrand = lambda tau: 1/(L*C*gamma(1 + beta)) * (val_1 - tau)**beta * derivative_B(tau, val_2)\n",
    "            integral_val, _ = integrate(integrand, 0, val_1, epsabs=1e-8, epsrel=1e-8, limit=10000)\n",
    "            return integral_val\n",
    "\n",
    "        e = double_integral(val_1, val_2)\n",
    "        return e\n",
    "\n",
    "    # more complex integral d:\n",
    "    def d():\n",
    "        def A(val_1, val_2, tau):\n",
    "            a = 1/(L*C*gamma(1+beta)) * (val_2 - tau)**beta * 1/l**2 * (val_1 - tau)\n",
    "            return a * cov_func(val_1, tau)\n",
    "\n",
    "        def B(val_1, val_2):\n",
    "            integrand = lambda tau: A(val_1, val_2, tau)\n",
    "            integral_val, _ = integrate(integrand, 0, val_2, epsabs=1e-8, epsrel=1e-8, limit=10000)\n",
    "            return integral_val\n",
    "\n",
    "        def derivative_B(tau, val_2, h= 0.01*np.sqrt(2e-53)):\n",
    "            def B_tau(tau):\n",
    "                return B(tau, val_2)\n",
    "            dB = (B_tau(tau + h) - B_tau(tau - h)) / (2*h)\n",
    "            return dB\n",
    "\n",
    "        def double_integral(val_1, val_2):\n",
    "            integrand = lambda tau: 1/(L*C*gamma(1 + beta)) * (val_1 - tau)**beta * derivative_B(tau, val_2)\n",
    "            integral_val, _ = integrate(integrand, 0, val_1, epsabs=1e-8, epsrel=1e-8, limit=10000)\n",
    "            return integral_val\n",
    "\n",
    "        d = double_integral(val_1, val_2)\n",
    "        return d\n",
    "\n",
    "    return a + b + g() + f() + e() + d()  # or integral_val_b + integral_val_c instead of b"
   ]
  },
  {
   "cell_type": "markdown",
   "metadata": {},
   "source": [
    "testing the implemented functions above:"
   ]
  },
  {
   "cell_type": "code",
   "execution_count": 32,
   "metadata": {
    "ExecuteTime": {
     "end_time": "2024-07-26T20:07:48.062938Z",
     "start_time": "2024-07-26T20:05:42.089725Z"
    }
   },
   "outputs": [
    {
     "name": "stderr",
     "output_type": "stream",
     "text": [
      "/var/folders/db/wdxh9ynd7_bfr2nwqswb2nn80000gn/T/ipykernel_55963/1614084484.py:32: IntegrationWarning:\n",
      "\n",
      "The integral is probably divergent, or slowly convergent.\n",
      "\n",
      "/var/folders/db/wdxh9ynd7_bfr2nwqswb2nn80000gn/T/ipykernel_55963/1614084484.py:82: IntegrationWarning:\n",
      "\n",
      "The integral is probably divergent, or slowly convergent.\n",
      "\n"
     ]
    },
    {
     "name": "stdout",
     "output_type": "stream",
     "text": [
      "kuf =  761.367821542107 kuu =  1.0 kfu =  761.367821542107 kff =  1152830.032639556\n",
      "kuf =  783.0803723035367 kuu =  1.0 kfu =  783.0803723035367 kff =  1185727.8368235405\n",
      "kuf =  835.3425163860752 kuu =  1.0 kfu =  835.3425163860752 kff =  1264912.9036152656\n",
      "kuf =  929.0828715002643 kuu =  1.0 kfu =  929.0828715002643 kff =  1406943.74469737\n",
      "kuf =  1074.290808369169 kuu =  1.0 kfu =  1074.290808369169 kff =  1626955.7702563168\n",
      "kuf =  1280.3054337031413 kuu =  1.0 kfu =  1280.3054337031413 kff =  1939099.1419744566\n",
      "kuf =  1555.968015241926 kuu =  1.0 kfu =  1555.968015241926 kff =  2356769.7200635243\n",
      "kuf =  1909.7147608469695 kuu =  1.0 kfu =  1909.7147608469695 kff =  2892749.637646924\n",
      "kuf =  2349.6382904290735 kuu =  1.0 kfu =  2349.6382904290735 kff =  3559300.440044051\n",
      "kuf =  2883.5307264860876 kuu =  1.0 kfu =  2883.5307264860876 kff =  4368228.3734637685\n",
      "kuf =  3518.9151313863094 kuu =  1.0 kfu =  3518.9151313863094 kff =  5330932.017251985\n",
      "kuf =  4263.069130158179 kuu =  1.0 kfu =  4263.069130158179 kff =  6458438.075997241\n",
      "kuf =  5123.043063428932 kuu =  1.0 kfu =  5123.043063428932 kff =  7761428.883983232\n",
      "kuf =  6105.674180308637 kuu =  1.0 kfu =  6105.674180308637 kff =  9250263.909558542\n",
      "kuf =  7217.597885477746 kuu =  1.0 kfu =  7217.597885477746 kff =  10934996.796178404\n",
      "kuf =  8465.256745938594 kuu =  1.0 kfu =  8465.256745938594 kff =  12825389.008997869\n",
      "kuf =  9854.907762592462 kuu =  1.0 kfu =  9854.907762592462 kff =  14930920.852412822\n",
      "kuf =  11392.628277434378 kuu =  1.0 kfu =  11392.628277434378 kff =  17260800.42035512\n",
      "kuf =  13084.320794393296 kuu =  1.0 kfu =  13084.320794393296 kff =  19823970.900595903\n",
      "kuf =  14935.71692619626 kuu =  1.0 kfu =  14935.71692619626 kff =  22629116.554842822\n",
      "kuf =  16952.380632159577 kuu =  1.0 kfu =  16952.380632159577 kff =  25684667.62448421\n",
      "kuf =  19139.710876815916 kuu =  1.0 kfu =  19139.710876815916 kff =  28998804.358811997\n",
      "kuf =  21502.943813050824 kuu =  1.0 kfu =  21502.943813050824 kff =  32579460.32280428\n",
      "kuf =  24047.154573452048 kuu =  1.0 kfu =  24047.154573452048 kff =  36434325.111290984\n",
      "kuf =  26777.25873816461 kuu =  1.0 kfu =  26777.25873816461 kff =  40570846.572976686\n",
      "kuf =  29698.0135355034 kuu =  1.0 kfu =  29698.0135355034 kff =  44996232.629550606\n",
      "kuf =  32814.0188220589 kuu =  1.0 kfu =  32814.0188220589 kff =  49717452.7606953\n",
      "kuf =  36129.71788143294 kuu =  1.0 kfu =  36129.71788143294 kff =  54741239.21429233\n",
      "kuf =  39649.39807461365 kuu =  1.0 kfu =  39649.39807461365 kff =  60074087.99183887\n",
      "kuf =  43377.19137001373 kuu =  1.0 kfu =  43377.19137001373 kff =  65722259.65153596\n",
      "kuf =  47317.07477710738 kuu =  1.0 kfu =  47317.07477710738 kff =  71691779.96531421\n",
      "kuf =  51472.870704218476 kuu =  1.0 kfu =  51472.870704218476 kff =  77988440.46093708\n",
      "kuf =  55848.24725819784 kuu =  1.0 kfu =  55848.24725819784 kff =  84617798.87605734\n",
      "kuf =  60446.71850136372 kuu =  1.0 kfu =  60446.71850136372 kff =  91585179.54752079\n",
      "kuf =  65271.644679085985 kuu =  1.0 kfu =  65271.644679085985 kff =  98895673.7561909\n",
      "kuf =  70326.23242969945 kuu =  1.0 kfu =  70326.23242969945 kff =  106554140.04499917\n",
      "kuf =  75613.53498698356 kuu =  1.0 kfu =  75613.53498698356 kff =  114565204.52573268\n",
      "kuf =  81136.45238419995 kuu =  1.0 kfu =  81136.45238419995 kff =  122933261.18818174\n",
      "kuf =  86897.73166760277 kuu =  1.0 kfu =  86897.73166760277 kff =  131662472.22364056\n",
      "kuf =  92899.96712640172 kuu =  1.0 kfu =  92899.96712640172 kff =  140756768.37333596\n",
      "kuf =  99145.60054533837 kuu =  1.0 kfu =  99145.60054533837 kff =  150219849.31111875\n",
      "kuf =  105636.92148532074 kuu =  1.0 kfu =  105636.92148532074 kff =  160055184.06866777\n",
      "kuf =  112376.06759692516 kuu =  1.0 kfu =  112376.06759692516 kff =  170266011.51049268\n",
      "kuf =  119365.02497101559 kuu =  1.0 kfu =  119365.02497101559 kff =  180855340.86517513\n",
      "kuf =  126605.6285302273 kuu =  1.0 kfu =  126605.6285302273 kff =  191825952.3185262\n",
      "kuf =  134099.56246461798 kuu =  1.0 kfu =  134099.56246461798 kff =  203180397.67366362\n",
      "kuf =  141848.36071438444 kuu =  1.0 kfu =  141848.36071438444 kff =  214921001.08240068\n",
      "kuf =  149853.40750218203 kuu =  1.0 kfu =  149853.40750218203 kff =  227049859.85179096\n",
      "kuf =  158115.93791725583 kuu =  1.0 kfu =  158115.93791725583 kff =  239568845.32917553\n",
      "kuf =  166637.03855329345 kuu =  1.0 kfu =  166637.03855329345 kff =  252479603.86862645\n",
      "kuf =  175417.64820163648 kuu =  1.0 kfu =  175417.64820163648 kff =  265783557.88126743\n",
      "kuf =  184458.55860124074 kuu =  1.0 kfu =  184458.55860124074 kff =  279481906.9715769\n",
      "kuf =  193760.41524654298 kuu =  1.0 kfu =  193760.41524654298 kff =  293575629.1614288\n",
      "kuf =  203323.71825418278 kuu =  1.0 kfu =  203323.71825418278 kff =  308065482.2033073\n",
      "kuf =  213148.82328933326 kuu =  1.0 kfu =  213148.82328933326 kff =  322952004.9838383\n",
      "kuf =  223235.9425522121 kuu =  1.0 kfu =  223235.9425522121 kff =  338235519.0185032\n",
      "kuf =  233585.14582517676 kuu =  1.0 kfu =  233585.14582517676 kff =  353916130.0381466\n",
      "kuf =  244196.36158065198 kuu =  1.0 kfu =  244196.36158065198 kff =  369993729.6676545\n",
      "kuf =  255069.37814999025 kuu =  1.0 kfu =  255069.37814999025 kff =  386467997.19695497\n",
      "kuf =  266203.8449532304 kuu =  1.0 kfu =  266203.8449532304 kff =  403338401.4442885\n",
      "kuf =  277599.2737895889 kuu =  1.0 kfu =  277599.2737895889 kff =  420604202.7114983\n",
      "kuf =  289255.040188401 kuu =  1.0 kfu =  289255.040188401 kff =  438264454.8309107\n",
      "kuf =  301170.3848201154 kuu =  1.0 kfu =  301170.3848201154 kff =  456318007.3032052\n",
      "kuf =  313344.4149668355 kuu =  1.0 kfu =  313344.4149668355 kff =  474763507.5255084\n",
      "kuf =  325776.1060518066 kuu =  1.0 kfu =  325776.1060518066 kff =  493599403.1087979\n",
      "kuf =  338464.3032271478 kuu =  1.0 kfu =  338464.3032271478 kff =  512823944.2835573\n",
      "kuf =  351407.7230190423 kuu =  1.0 kfu =  351407.7230190423 kff =  532435186.39248836\n",
      "kuf =  364604.95502951177 kuu =  1.0 kfu =  364604.95502951177 kff =  552430992.4689572\n",
      "kuf =  378054.46369382594 kuu =  1.0 kfu =  378054.46369382594 kff =  572809035.8997364\n",
      "kuf =  391754.5900925172 kuu =  1.0 kfu =  391754.5900925172 kff =  593566803.1704807\n",
      "kuf =  405703.55381690443 kuu =  1.0 kfu =  405703.55381690443 kff =  614701596.6922796\n",
      "kuf =  419899.4548869608 kuu =  1.0 kfu =  419899.4548869608 kff =  636210537.7075164\n",
      "kuf =  434340.27572029753 kuu =  1.0 kfu =  434340.27572029753 kff =  658090569.2731781\n",
      "kuf =  449023.88315097505 kuu =  1.0 kfu =  449023.88315097505 kff =  680338459.3196592\n",
      "kuf =  463948.0304968016 kuu =  1.0 kfu =  463948.0304968016 kff =  702950803.7830328\n",
      "kuf =  479110.3596737187 kuu =  1.0 kfu =  479110.3596737187 kff =  725924029.8086648\n",
      "kuf =  494508.4033558322 kuu =  1.0 kfu =  494508.4033558322 kff =  749254399.0239882\n",
      "kuf =  510139.5871795963 kuu =  1.0 kfu =  510139.5871795963 kff =  772938010.8781762\n",
      "kuf =  526001.2319906142 kuu =  1.0 kfu =  526001.2319906142 kff =  796970806.0463853\n",
      "kuf =  542090.5561314825 kuu =  1.0 kfu =  542090.5561314825 kff =  821348569.8961856\n",
      "kuf =  558404.6777690679 kuu =  1.0 kfu =  558404.6777690679 kff =  846066936.0137393\n",
      "kuf =  574940.6172595662 kuu =  1.0 kfu =  574940.6172595662 kff =  871121389.7872217\n",
      "kuf =  591695.2995496682 kuu =  1.0 kfu =  591695.2995496682 kff =  896507272.0449519\n",
      "kuf =  608665.5566121236 kuu =  1.0 kfu =  608665.5566121236 kff =  922219782.745642\n",
      "kuf =  625848.1299139678 kuu =  1.0 kfu =  625848.1299139678 kff =  948253984.7181331\n",
      "kuf =  643239.672915655 kuu =  1.0 kfu =  643239.672915655 kff =  974604807.447962\n",
      "kuf =  660836.7535993158 kuu =  1.0 kfu =  660836.7535993158 kff =  1001267050.9080544\n",
      "kuf =  678635.8570243401 kuu =  1.0 kfu =  678635.8570243401 kff =  1028235389.4308183\n",
      "kuf =  696633.3879084734 kuu =  1.0 kfu =  696633.3879084734 kff =  1055504375.6188991\n",
      "kuf =  714825.6732325898 kuu =  1.0 kfu =  714825.6732325898 kff =  1083068444.291803\n",
      "kuf =  733208.9648673045 kuu =  1.0 kfu =  733208.9648673045 kff =  1110921916.465613\n",
      "kuf =  751779.4422195704 kuu =  1.0 kfu =  751779.4422195704 kff =  1139059003.3629856\n",
      "kuf =  770533.2148974031 kuu =  1.0 kfu =  770533.2148974031 kff =  1167473810.4506109\n",
      "kuf =  789466.3253908608 kuu =  1.0 kfu =  789466.3253908608 kff =  1196160341.5013041\n",
      "kuf =  808574.75176742 kuu =  1.0 kfu =  808574.75176742 kff =  1225112502.6779091\n",
      "kuf =  827854.4103798697 kuu =  1.0 kfu =  827854.4103798697 kff =  1254324106.6361663\n",
      "kuf =  847301.1585848555 kuu =  1.0 kfu =  847301.1585848555 kff =  1283788876.6437206\n",
      "kuf =  866910.7974702116 kuu =  1.0 kfu =  866910.7974702116 kff =  1313500450.712442\n",
      "kuf =  886679.074589211 kuu =  1.0 kfu =  886679.074589211 kff =  1343452385.741229\n",
      "kuf =  906601.6866998823 kuu =  1.0 kfu =  906601.6866998823 kff =  1373638161.6664884\n",
      "kuf =  926674.2825075493 kuu =  1.0 kfu =  926674.2825075493 kff =  1404051185.6174989\n",
      "kuf =  946892.4654087444 kuu =  1.0 kfu =  946892.4654087444 kff =  1434684796.0738554\n",
      "kuf =  967251.7962346864 kuu =  1.0 kfu =  967251.7962346864 kff =  1465532267.022252\n",
      "kuf =  987747.7959924975 kuu =  1.0 kfu =  987747.7959924975 kff =  1496586812.1098447\n",
      "kuf =  1008375.9486023713 kuu =  1.0 kfu =  1008375.9486023713 kff =  1527841588.7914717\n",
      "kuf =  1029131.703628907 kuu =  1.0 kfu =  1029131.703628907 kff =  1559289702.468041\n",
      "kuf =  1050010.4790048585 kuu =  1.0 kfu =  1050010.4790048585 kff =  1590924210.613422\n",
      "kuf =  1071007.663745544 kuu =  1.0 kfu =  1071007.663745544 kff =  1622738126.887188\n",
      "kuf =  1092118.620652212 kuu =  1.0 kfu =  1092118.620652212 kff =  1654724425.2306244\n",
      "kuf =  1113338.6890026582 kuu =  1.0 kfu =  1113338.6890026582 kff =  1686876043.9434218\n",
      "kuf =  1134663.187227426 kuu =  1.0 kfu =  1134663.187227426 kff =  1719185889.7385244\n",
      "kuf =  1156087.4155699462 kuu =  1.0 kfu =  1156087.4155699462 kff =  1751646841.772646\n",
      "kuf =  1177606.6587289956 kuu =  1.0 kfu =  1177606.6587289956 kff =  1784251755.6499934\n",
      "kuf =  1199216.1884818876 kuu =  1.0 kfu =  1199216.1884818876 kff =  1816993467.3967996\n",
      "kuf =  1220911.266286833 kuu =  1.0 kfu =  1220911.266286833 kff =  1849864797.4042926\n",
      "kuf =  1242687.145862948 kuu =  1.0 kfu =  1242687.145862948 kff =  1882858554.3378\n",
      "kuf =  1264539.0757463996 kuu =  1.0 kfu =  1264539.0757463996 kff =  1915967539.0096965\n",
      "kuf =  1286462.3018212437 kuu =  1.0 kfu =  1286462.3018212437 kff =  1949184548.2140057\n",
      "kuf =  1308452.069823507 kuu =  1.0 kfu =  1308452.069823507 kff =  1982502378.5204654\n",
      "kuf =  1330503.627817135 kuu =  1.0 kfu =  1330503.627817135 kff =  2015913830.0259624\n",
      "kuf =  1352612.2286404357 kuu =  1.0 kfu =  1352612.2286404357 kff =  2049411710.0612664\n",
      "kuf =  1374773.1323217019 kuu =  1.0 kfu =  1374773.1323217019 kff =  2082988836.8510635\n",
      "kuf =  1396981.608462735 kuu =  1.0 kfu =  1396981.608462735 kff =  2116638043.1253562\n",
      "kuf =  1419232.938589011 kuu =  1.0 kfu =  1419232.938589011 kff =  2150352179.68032\n",
      "kuf =  1441522.4184652935 kuu =  1.0 kfu =  1441522.4184652935 kff =  2184124118.8868084\n",
      "kuf =  1463845.3603755292 kuu =  1.0 kfu =  1463845.3603755292 kff =  2217946758.144741\n",
      "kuf =  1486197.0953658852 kuu =  1.0 kfu =  1486197.0953658852 kff =  2251813023.2816443\n",
      "kuf =  1508572.9754498643 kuu =  1.0 kfu =  1508572.9754498643 kff =  2285715871.893734\n",
      "kuf =  1530968.3757744418 kuu =  1.0 kfu =  1530968.3757744418 kff =  2319648296.627942\n",
      "kuf =  1553378.696746222 kuu =  1.0 kfu =  1553378.696746222 kff =  2353603328.403367\n",
      "kuf =  1575799.3661166674 kuu =  1.0 kfu =  1575799.3661166674 kff =  2387574039.5707083\n",
      "kuf =  1598225.841025471 kuu =  1.0 kfu =  1598225.841025471 kff =  2421553547.0082893\n",
      "kuf =  1620653.6100012134 kuu =  1.0 kfu =  1620653.6100012134 kff =  2455535015.1533537\n",
      "kuf =  1643078.194918462 kuu =  1.0 kfu =  1643078.194918462 kff =  2489511658.967367\n",
      "kuf =  1665495.152910541 kuu =  1.0 kfu =  1665495.152910541 kff =  2523476746.834153\n",
      "kuf =  1687900.0782372148 kuu =  1.0 kfu =  1687900.0782372148 kff =  2557423603.3897195\n",
      "kuf =  1710288.6041066092 kuu =  1.0 kfu =  1710288.6041066092 kff =  2591345612.2827415\n",
      "kuf =  1732656.4044506894 kuu =  1.0 kfu =  1732656.4044506894 kff =  2625236218.8646812\n",
      "kuf =  1754999.1956537166 kuu =  1.0 kfu =  1754999.1956537166 kff =  2659088932.8086615\n",
      "kuf =  1777312.7382330904 kuu =  1.0 kfu =  1777312.7382330904 kff =  2692897330.6561975\n",
      "kuf =  1799592.8384720746 kuu =  1.0 kfu =  1799592.8384720746 kff =  2726655058.2910223\n",
      "kuf =  1821835.3500039212 kuu =  1.0 kfu =  1821835.3500039212 kff =  2760355833.3392744\n",
      "kuf =  1844036.1753469645 kuu =  1.0 kfu =  1844036.1753469645 kff =  2793993447.495401\n",
      "kuf =  1866191.2673902859 kuu =  1.0 kfu =  1866191.2673902859 kff =  2827561768.7731605\n",
      "kuf =  1888296.6308296202 kuu =  1.0 kfu =  1888296.6308296202 kff =  2861054743.681243\n",
      "kuf =  1910348.3235531827 kuu =  1.0 kfu =  1910348.3235531827 kff =  2894466399.3230042\n",
      "kuf =  1932342.457977168 kuu =  1.0 kfu =  1932342.457977168 kff =  2927790845.4199514\n",
      "kuf =  1954275.2023307045 kuu =  1.0 kfu =  1954275.2023307045 kff =  2961022276.258643\n",
      "kuf =  1976142.7818900768 kuu =  1.0 kfu =  1976142.7818900768 kff =  2994154972.5607224\n",
      "kuf =  1997941.4801620976 kuu =  1.0 kfu =  1997941.4801620976 kff =  3027183303.2759056\n",
      "kuf =  2019667.6400165288 kuu =  1.0 kfu =  2019667.6400165288 kff =  3060101727.297771\n",
      "kuf =  2041317.6647675 kuu =  1.0 kfu =  2041317.6647675 kff =  3092904795.102273\n",
      "kuf =  2062888.0192039127 kuu =  1.0 kfu =  2062888.0192039127 kff =  3125587150.308959\n",
      "kuf =  2084375.2305688672 kuu =  1.0 kfu =  2084375.2305688672 kff =  3158143531.1649504\n",
      "kuf =  2105775.8894881685 kuu =  1.0 kfu =  2105775.8894881685 kff =  3190568771.951771\n",
      "kuf =  2127086.650848021 kuu =  1.0 kfu =  2127086.650848021 kff =  3222857804.315183\n",
      "kuf =  2148304.2346220594 kuu =  1.0 kfu =  2148304.2346220594 kff =  3255005658.518272\n",
      "kuf =  2169425.4266478987 kuu =  1.0 kfu =  2169425.4266478987 kff =  3287007464.6180286\n",
      "kuf =  2190447.079353408 kuu =  1.0 kfu =  2190447.079353408 kff =  3318858453.5657697\n",
      "kuf =  2211366.112432977 kuu =  1.0 kfu =  2211366.112432977 kff =  3350553958.231784\n",
      "kuf =  2232179.513474056 kuu =  1.0 kfu =  2232179.513474056 kff =  3382089414.3546305\n",
      "kuf =  2252884.338534293 kuu =  1.0 kfu =  2252884.338534293 kff =  3413460361.415596\n",
      "kuf =  2273477.7126696245 kuu =  1.0 kfu =  2273477.7126696245 kff =  3444662443.438825\n",
      "kuf =  2293956.8304137075 kuu =  1.0 kfu =  2293956.8304137075 kff =  3475691409.717739\n",
      "kuf =  2314318.956209115 kuu =  1.0 kfu =  2314318.956209115 kff =  3506543115.4683566\n",
      "kuf =  2334561.4247907503 kuu =  1.0 kfu =  2334561.4247907503 kff =  3537213522.410228\n",
      "kuf =  2354681.6415219493 kuu =  1.0 kfu =  2354681.6415219493 kff =  3567698699.275681\n",
      "kuf =  2374677.082683797 kuu =  1.0 kfu =  2374677.082683797 kff =  3597994822.2481775\n",
      "kuf =  2394545.29571964 kuu =  1.0 kfu =  2394545.29571964 kff =  3628098175.332788\n",
      "kuf =  2414283.899426666 kuu =  1.0 kfu =  2414283.899426666 kff =  3658005150.646464\n",
      "kuf =  2433890.5841168347 kuu =  1.0 kfu =  2433890.5841168347 kff =  3687712248.661871\n",
      "kuf =  2453363.1117189312 kuu =  1.0 kfu =  2453363.1117189312 kff =  3717216078.362017\n",
      "kuf =  2472699.315843966 kuu =  1.0 kfu =  2472699.315843966 kff =  3746513357.3393426\n",
      "kuf =  2491897.101805974 kuu =  1.0 kfu =  2491897.101805974 kff =  3775600911.8272333\n",
      "kuf =  2510954.4466003333 kuu =  1.0 kfu =  2510954.4466003333 kff =  3804475676.667172\n",
      "kuf =  2529869.3988403264 kuu =  1.0 kfu =  2529869.3988403264 kff =  3833134695.212616\n",
      "kuf =  2548640.078652653 kuu =  1.0 kfu =  2548640.078652653 kff =  3861575119.1706867\n",
      "kuf =  2567264.677532663 kuu =  1.0 kfu =  2567264.677532663 kff =  3889794208.382823\n",
      "kuf =  2585741.4581600786 kuu =  1.0 kfu =  2585741.4581600786 kff =  3917789330.545574\n",
      "kuf =  2604068.754175983 kuu =  1.0 kfu =  2604068.754175983 kff =  3945557960.8727016\n",
      "kuf =  2622244.969921885 kuu =  1.0 kfu =  2622244.969921885 kff =  3973097681.6998262\n",
      "kuf =  2640268.5801416864 kuu =  1.0 kfu =  2640268.5801416864 kff =  4000406182.0328584\n",
      "kuf =  2658138.1296473704 kuu =  1.0 kfu =  2658138.1296473704 kff =  4027481257.0414705\n",
      "kuf =  2675852.2329492825 kuu =  1.0 kfu =  2675852.2329492825 kff =  4054320807.4989133\n",
      "kuf =  2693409.573851839 kuu =  1.0 kfu =  2693409.573851839 kff =  4080922839.1694536\n",
      "kuf =  2710808.905015556 kuu =  1.0 kfu =  2710808.905015556 kff =  4107285462.144782\n",
      "kuf =  2728049.047486278 kuu =  1.0 kfu =  2728049.047486278 kff =  4133406890.130725\n",
      "kuf =  2745128.8901924896 kuu =  1.0 kfu =  2745128.8901924896 kff =  4159285439.6855907\n",
      "kuf =  2762047.3894116324 kuu =  1.0 kfu =  2762047.3894116324 kff =  4184919529.411565\n",
      "kuf =  2778803.5682063154 kuu =  1.0 kfu =  2778803.5682063154 kff =  4210307679.100478\n",
      "kuf =  2795396.5158313527 kuu =  1.0 kfu =  2795396.5158313527 kff =  4235448508.835383\n",
      "kuf =  2811825.387112554 kuu =  1.0 kfu =  2811825.387112554 kff =  4260340738.049325\n",
      "kuf =  2828089.401798178 kuu =  1.0 kfu =  2828089.401798178 kff =  4284983184.542694\n",
      "kuf =  2844187.8438840015 kuu =  1.0 kfu =  2844187.8438840015 kff =  4309374763.460609\n",
      "kuf =  2860120.060912932 kuu =  1.0 kfu =  2860120.060912932 kff =  4333514486.231714\n",
      "kuf =  2875885.4632501067 kuu =  1.0 kfu =  2875885.4632501067 kff =  4357401459.469858\n",
      "kuf =  2891483.523334414 kuu =  1.0 kfu =  2891483.523334414 kff =  4381034883.840021\n",
      "kuf =  2906913.774907383 kuu =  1.0 kfu =  2906913.774907383 kff =  4404414052.889975\n",
      "kuf =  2922175.812220382 kuu =  1.0 kfu =  2922175.812220382 kff =  4427538351.849064\n",
      "kuf =  2937269.2892210656 kuu =  1.0 kfu =  2937269.2892210656 kff =  4450407256.395554\n",
      "kuf =  2952193.9187200097 kuu =  1.0 kfu =  2952193.9187200097 kff =  4473020331.393955\n",
      "kuf =  2966949.4715384752 kuu =  1.0 kfu =  2966949.4715384752 kff =  4495377229.60375\n",
      "kuf =  2981535.7756382204 kuu =  1.0 kfu =  2981535.7756382204 kff =  4517477690.360941\n",
      "kuf =  2995952.7152343174 kuu =  1.0 kfu =  2995952.7152343174 kff =  4539321538.233814\n",
      "kuf =  3010200.22989186 kuu =  1.0 kfu =  3010200.22989186 kff =  4560908681.654333\n",
      "kuf =  3024278.31360753 kuu =  1.0 kfu =  3024278.31360753 kff =  4582239111.526562\n",
      "kuf =  3038187.013876878 kuu =  1.0 kfu =  3038187.013876878 kff =  4603312899.813452\n",
      "kuf =  3051926.4307482797 kuu =  1.0 kfu =  3051926.4307482797 kff =  4624130198.103455\n",
      "kuf =  3065496.715864435 kuu =  1.0 kfu =  3065496.715864435 kff =  4644691236.158236\n",
      "kuf =  3078898.0714923 kuu =  1.0 kfu =  3078898.0714923 kff =  4664996320.442879\n",
      "kuf =  3092130.7495423593 kuu =  1.0 kfu =  3092130.7495423593 kff =  4685045832.639938\n",
      "kuf =  3105195.050578075 kuu =  1.0 kfu =  3105195.050578075 kff =  4704840228.1486\n",
      "kuf =  3118091.322816413 kuu =  1.0 kfu =  3118091.322816413 kff =  4724380034.570322\n",
      "kuf =  3130819.9611202637 kuu =  1.0 kfu =  3130819.9611202637 kff =  4743665850.182219\n",
      "kuf =  3143381.405983634 kuu =  1.0 kfu =  3143381.405983634 kff =  4762698342.399446\n",
      "kuf =  3155776.142510401 kuu =  1.0 kfu =  3155776.142510401 kff =  4781478246.2278805\n",
      "kuf =  3168004.6993874935 kuu =  1.0 kfu =  3168004.6993874935 kff =  4800006362.708324\n",
      "kuf =  3180067.647853253 kuu =  1.0 kfu =  3180067.647853253 kff =  4818283557.353415\n",
      "kuf =  3191965.600661813 kuu =  1.0 kfu =  3191965.600661813 kff =  4836310758.578505\n",
      "kuf =  3203699.2110442524 kuu =  1.0 kfu =  3203699.2110442524 kff =  4854088956.127655\n",
      "kuf =  3215269.171667298 kuu =  1.0 kfu =  3215269.171667298 kff =  4871619199.495907\n",
      "kuf =  3226676.2135903076 kuu =  1.0 kfu =  3226676.2135903076 kff =  4888902596.348951\n",
      "kuf =  3237921.105221315 kuu =  1.0 kfu =  3237921.105221315 kff =  4905940310.941387\n",
      "kuf =  3249004.6512728054 kuu =  1.0 kfu =  3249004.6512728054 kff =  4922733562.534554\n",
      "kuf =  3259927.6917179762 kuu =  1.0 kfu =  3259927.6917179762 kff =  4939283623.815115\n",
      "kuf =  3270691.1007481324 kuu =  1.0 kfu =  3270691.1007481324 kff =  4955591819.315352\n",
      "kuf =  3281295.78573194 kuu =  1.0 kfu =  3281295.78573194 kff =  4971659523.836273\n",
      "kuf =  3291742.6861771517 kuu =  1.0 kfu =  3291742.6861771517 kff =  4987488160.874473\n",
      "kuf =  3302032.772695482 kuu =  1.0 kfu =  3302032.772695482 kff =  5003079201.053761\n",
      "kuf =  3312167.045971241 kuu =  1.0 kfu =  3312167.045971241 kff =  5018434160.562487\n",
      "kuf =  3322146.5357343582 kuu =  1.0 kfu =  3322146.5357343582 kff =  5033554599.597513\n",
      "kuf =  3331972.29973836 kuu =  1.0 kfu =  3331972.29973836 kff =  5048442120.815697\n",
      "kuf =  3341645.4227439114 kuu =  1.0 kfu =  3341645.4227439114 kff =  5063098367.793806\n",
      "kuf =  3351167.015508468 kuu =  1.0 kfu =  3351167.015508468 kff =  5077525023.497679\n",
      "kuf =  3360538.21378257 kuu =  1.0 kfu =  3360538.21378257 kff =  5091723808.76147\n",
      "kuf =  3369760.1773133394 kuu =  1.0 kfu =  3369760.1773133394 kff =  5105696480.777788\n",
      "kuf =  3378834.0888556475 kuu =  1.0 kfu =  3378834.0888556475 kff =  5119444831.599466\n",
      "kuf =  3387761.1531914813 kuu =  1.0 kfu =  3387761.1531914813 kff =  5132970686.653759\n",
      "kuf =  3396542.59615795 kuu =  1.0 kfu =  3396542.59615795 kff =  5146275903.269621\n",
      "kuf =  3405179.663684436 kuu =  1.0 kfu =  3405179.663684436 kff =  5159362369.218843\n",
      "kuf =  3413673.620839267 kuu =  1.0 kfu =  3413673.620839267 kff =  5172232001.271618\n",
      "kuf =  3422025.750886388 kuu =  1.0 kfu =  3422025.750886388 kff =  5184886743.767256\n",
      "kuf =  3430237.3543524165 kuu =  1.0 kfu =  3430237.3543524165 kff =  5197328567.200632\n",
      "kuf =  3438309.7481044587 kuu =  1.0 kfu =  3438309.7481044587 kff =  5209559466.824938\n",
      "kuf =  3446244.2644390734 kuu =  1.0 kfu =  3446244.2644390734 kff =  5221581461.271324\n",
      "kuf =  3454042.2501827367 kuu =  1.0 kfu =  3454042.2501827367 kff =  5233396591.185965\n",
      "kuf =  3461705.065804129 kuu =  1.0 kfu =  3461705.065804129 kff =  5245006917.885044\n",
      "kuf =  3469234.084538585 kuu =  1.0 kfu =  3469234.084538585 kff =  5256414522.02816\n",
      "kuf =  3476630.6915249904 kuu =  1.0 kfu =  3476630.6915249904 kff =  5267621502.310593\n",
      "kuf =  3483896.2829554314 kuu =  1.0 kfu =  3483896.2829554314 kff =  5278629974.174896\n",
      "kuf =  3491032.2652378418 kuu =  1.0 kfu =  3491032.2652378418 kff =  5289442068.542185\n",
      "kuf =  3498040.0541719235 kuu =  1.0 kfu =  3498040.0541719235 kff =  5300059930.56352\n",
      "kuf =  3504921.0741385715 kuu =  1.0 kfu =  3504921.0741385715 kff =  5310485718.391775\n",
      "kuf =  3511676.7573030107 kuu =  1.0 kfu =  3511676.7573030107 kff =  5320721601.974258\n",
      "kuf =  3518308.542831872 kuu =  1.0 kfu =  3518308.542831872 kff =  5330769761.866473\n",
      "kuf =  3524817.876124385 kuu =  1.0 kfu =  3524817.876124385 kff =  5340632388.067249\n",
      "kuf =  3531206.2080578543 kuu =  1.0 kfu =  3531206.2080578543 kff =  5350311678.875538\n",
      "kuf =  3537474.9942476 kuu =  1.0 kfu =  3537474.9942476 kff =  5359809839.769091\n",
      "kuf =  3543625.6943214834 kuu =  1.0 kfu =  3543625.6943214834 kff =  5369129082.305279\n",
      "kuf =  3549659.7712091627 kuu =  1.0 kfu =  3549659.7712091627 kff =  5378271623.044186\n",
      "kuf =  3555578.6904461896 kuu =  1.0 kfu =  3555578.6904461896 kff =  5387239682.494226\n",
      "kuf =  3561383.919493045 kuu =  1.0 kfu =  3561383.919493045 kff =  5396035484.080372\n",
      "kuf =  3567076.927069201 kuu =  1.0 kfu =  3567076.927069201 kff =  5404661253.135153\n",
      "kuf =  3572659.182502289 kuu =  1.0 kfu =  3572659.182502289 kff =  5413119215.9125595\n",
      "kuf =  3578132.1550924247 kuu =  1.0 kfu =  3578132.1550924247 kff =  5421411598.624886\n",
      "kuf =  3583497.313491747 kuu =  1.0 kfu =  3583497.313491747 kff =  5429540626.502647\n",
      "kuf =  3588756.1250991854 kuu =  1.0 kfu =  3588756.1250991854 kff =  5437508522.877554\n",
      "kuf =  3593910.055470507 kuu =  1.0 kfu =  3593910.055470507 kff =  5445317508.288647\n",
      "kuf =  3598960.5677436306 kuu =  1.0 kfu =  3598960.5677436306 kff =  5452969799.611563\n",
      "kuf =  3603909.122079202 kuu =  1.0 kfu =  3603909.122079202 kff =  5460467609.210913\n",
      "kuf =  3608757.17511644 kuu =  1.0 kfu =  3608757.17511644 kff =  5467813144.115818\n",
      "kuf =  3613506.1794442018 kuu =  1.0 kfu =  3613506.1794442018 kff =  5475008605.218489\n",
      "kuf =  3618157.5830872487 kuu =  1.0 kfu =  3618157.5830872487 kff =  5482056186.495832\n",
      "kuf =  3622712.829007654 kuu =  1.0 kfu =  3622712.829007654 kff =  5488958074.254021\n",
      "kuf =  3627173.354621306 kuu =  1.0 kfu =  3627173.354621306 kff =  5495716446.395918\n",
      "kuf =  3631540.5913294274 kuu =  1.0 kfu =  3631540.5913294274 kff =  5502333471.711254\n",
      "kuf =  3635815.9640650456 kuu =  1.0 kfu =  3635815.9640650456 kff =  5508811309.189463\n",
      "kuf =  3640000.8908543144 kuu =  1.0 kfu =  3640000.8908543144 kff =  5515152107.355022\n",
      "kuf =  3644096.782392606 kuu =  1.0 kfu =  3644096.782392606 kff =  5521358003.625161\n",
      "kuf =  3648105.0416352553 kuu =  1.0 kfu =  3648105.0416352553 kff =  5527431123.689781\n",
      "kuf =  3652027.063402855 kuu =  1.0 kfu =  3652027.063402855 kff =  5533373580.913416\n",
      "kuf =  3655864.2340009776 kuu =  1.0 kfu =  3655864.2340009776 kff =  5539187475.759058\n",
      "kuf =  3659617.930854178 kuu =  1.0 kfu =  3659617.930854178 kff =  5544874895.2336035\n",
      "kuf =  3663289.522154187 kuu =  1.0 kfu =  3663289.522154187 kff =  5550437912.354829\n",
      "kuf =  3666880.3665220877 kuu =  1.0 kfu =  3666880.3665220877 kff =  5555878585.639526\n",
      "kuf =  3670391.812684386 kuu =  1.0 kfu =  3670391.812684386 kff =  5561198958.612707\n",
      "kuf =  3673825.1991627817 kuu =  1.0 kfu =  3673825.1991627817 kff =  5566401059.337549\n",
      "kuf =  3677181.853977487 kuu =  1.0 kfu =  3677181.853977487 kff =  5571486899.965889\n",
      "kuf =  3680463.094363929 kuu =  1.0 kfu =  3680463.094363929 kff =  5576458476.308983\n",
      "kuf =  3683670.2265026527 kuu =  1.0 kfu =  3683670.2265026527 kff =  5581317767.428263\n",
      "kuf =  3686804.5452622618 kuu =  1.0 kfu =  3686804.5452622618 kff =  5586066735.2458515\n",
      "kuf =  3689867.333955184 kuu =  1.0 kfu =  3689867.333955184 kff =  5590707324.174522\n",
      "kuf =  3692859.864106115 kuu =  1.0 kfu =  3692859.864106115 kff =  5595241460.766842\n",
      "kuf =  3695783.3952328973 kuu =  1.0 kfu =  3695783.3952328973 kff =  5599671053.383179\n",
      "kuf =  3698639.174639676 kuu =  1.0 kfu =  3698639.174639676 kff =  5603997991.878298\n",
      "kuf =  3701428.437222112 kuu =  1.0 kfu =  3701428.437222112 kff =  5608224147.306231\n",
      "kuf =  3704152.405284457 kuu =  1.0 kfu =  3704152.405284457 kff =  5612351371.643116\n",
      "kuf =  3706812.2883682707 kuu =  1.0 kfu =  3706812.2883682707 kff =  5616381497.527683\n",
      "kuf =  3709409.283092575 kuu =  1.0 kfu =  3709409.283092575 kff =  5620316338.019054\n"
     ]
    }
   ],
   "source": [
    "val_1 = 0.1\n",
    "val_2 = 0.1\n",
    "x = np.arange(0.01, 3, 0.01)\n",
    "cov_func = SquaredExponentialKernel()\n",
    "\n",
    "for i in range(len(x)):\n",
    "    kuf = k_uf(x[i], x[i], cov_func)\n",
    "    kfu = k_fu(x[i], x[i], cov_func)\n",
    "    kuu = k_uu(x[i], x[i], cov_func)\n",
    "    kff = k_ff(x[i], x[i], cov_func)\n",
    "    print('kuf = ', kuf, 'kuu = ', kuu, 'kfu = ', kfu, 'kff = ', kff)"
   ]
  },
  {
   "cell_type": "markdown",
   "metadata": {},
   "source": [
    "a function for creating the sub and covariance matrix as described in the notes:\n",
    "* works only correctly for squared matrices [n1 x n2] where n1 = n2"
   ]
  },
  {
   "cell_type": "code",
   "execution_count": 13,
   "metadata": {
    "ExecuteTime": {
     "end_time": "2024-07-24T16:35:00.592801Z",
     "start_time": "2024-07-24T16:35:00.461961Z"
    }
   },
   "outputs": [],
   "source": [
    "def create_sub_matrix(variable_1, variable_2, specified_cov_function, cov_function):\n",
    "    n1 = len(variable_1)\n",
    "    n2 = len(variable_2)\n",
    "    sub_matrix = np.zeros((n1, n2))\n",
    "\n",
    "    for i, val_1 in enumerate(variable_1):\n",
    "        for j, val_2 in enumerate(variable_2):\n",
    "            sub_matrix[i, j] = specified_cov_function(val_1, val_2, cov_function)\n",
    "\n",
    "    return sub_matrix"
   ]
  },
  {
   "cell_type": "markdown",
   "metadata": {},
   "source": [
    "a function for creating the covariance matrix as described in the notes:\n",
    "* works only correctly for squared matrices [2*n1 x 2*n2] where n1 = n2"
   ]
  },
  {
   "cell_type": "code",
   "execution_count": 14,
   "metadata": {
    "ExecuteTime": {
     "end_time": "2024-07-24T16:35:00.592839Z",
     "start_time": "2024-07-24T16:35:00.464606Z"
    }
   },
   "outputs": [],
   "source": [
    "def create_cov_matrix(variable_1, variable_2, cov_function):\n",
    "    n1 = len(variable_1)\n",
    "    n2 = len(variable_2)\n",
    "    cov = np.zeros((2*n1, 2*n2))\n",
    "\n",
    "    kuu_sub_matrix = create_sub_matrix(variable_1, variable_2, k_uu, cov_function)\n",
    "    kuf_sub_matrix = create_sub_matrix(variable_1, variable_2, k_uf, cov_function)\n",
    "    kfu_sub_matrix = create_sub_matrix(variable_1, variable_2, k_fu, cov_function)\n",
    "    kff_sub_matrix = create_sub_matrix(variable_1, variable_2, k_ff, cov_function)\n",
    "\n",
    "    for i in range(2*n1):\n",
    "        for j in range(2*n2):\n",
    "\n",
    "            if i <= n1 - 1 and j <= n2 - 1:\n",
    "                #print('kuu')\n",
    "                cov[i, j] = kuu_sub_matrix[i, j]\n",
    "            elif i <= n1 - 1 and n2 <= j <= 2*n2 - 1:\n",
    "                #print('kuf')\n",
    "                cov[i, j] = kuf_sub_matrix[i, j - n2]\n",
    "            elif n1 <= i <= 2*n1 - 1 and j <= n2 - 1:\n",
    "                #print('kfu')\n",
    "                cov[i, j] = kfu_sub_matrix[i - n1, j]\n",
    "            else:\n",
    "                #print('kff')\n",
    "                cov[i, j] = kff_sub_matrix[i - n1, j - n2]\n",
    "\n",
    "    return cov"
   ]
  },
  {
   "cell_type": "markdown",
   "metadata": {},
   "source": [
    "testing the implemented functions for creating the covariance matrix above"
   ]
  },
  {
   "cell_type": "code",
   "execution_count": 15,
   "metadata": {
    "ExecuteTime": {
     "end_time": "2024-07-24T16:35:04.252137Z",
     "start_time": "2024-07-24T16:35:00.477865Z"
    }
   },
   "outputs": [
    {
     "name": "stderr",
     "output_type": "stream",
     "text": [
      "/var/folders/db/wdxh9ynd7_bfr2nwqswb2nn80000gn/T/ipykernel_55963/72069979.py:28: IntegrationWarning:\n",
      "\n",
      "The integral is probably divergent, or slowly convergent.\n",
      "\n",
      "/var/folders/db/wdxh9ynd7_bfr2nwqswb2nn80000gn/T/ipykernel_55963/72069979.py:78: IntegrationWarning:\n",
      "\n",
      "The integral is probably divergent, or slowly convergent.\n",
      "\n"
     ]
    },
    {
     "name": "stdout",
     "output_type": "stream",
     "text": [
      "covariance matrix =  [[1.00000000e+00 1.00000000e+00 1.00000000e+00 1.00000000e+00\n",
      "  2.74498160e+12 2.74498160e+12 2.74498160e+12 2.74498160e+12]\n",
      " [1.00000000e+00 1.00000000e+00 1.00000000e+00 1.00000000e+00\n",
      "  2.74498160e+12 2.74498160e+12 2.74498160e+12 2.74498160e+12]\n",
      " [1.00000000e+00 1.00000000e+00 1.00000000e+00 1.00000000e+00\n",
      "  2.74498160e+12 2.74498160e+12 2.74498160e+12 2.74498160e+12]\n",
      " [1.00000000e+00 1.00000000e+00 1.00000000e+00 1.00000000e+00\n",
      "  2.74498160e+12 2.74498160e+12 2.74498160e+12 2.74498160e+12]\n",
      " [2.74498160e+12 2.74498160e+12 2.74498160e+12 2.74498160e+12\n",
      "  2.07953151e+15 2.07953151e+15 2.07953151e+15 2.07953151e+15]\n",
      " [2.74498160e+12 2.74498160e+12 2.74498160e+12 2.74498160e+12\n",
      "  2.07953151e+15 2.07953151e+15 2.07953151e+15 2.07953151e+15]\n",
      " [2.74498160e+12 2.74498160e+12 2.74498160e+12 2.74498160e+12\n",
      "  2.07953151e+15 2.07953151e+15 2.07953151e+15 2.07953151e+15]\n",
      " [2.74498160e+12 2.74498160e+12 2.74498160e+12 2.74498160e+12\n",
      "  2.07953151e+15 2.07953151e+15 2.07953151e+15 2.07953151e+15]]\n"
     ]
    }
   ],
   "source": [
    "variable_1 = [1, 1, 1, 1]\n",
    "variable_2 = [1, 1, 1, 1]\n",
    "#variable_1 = np.array([0.3, 0.8, 1.4, 1.8, 2])\n",
    "#variable_2 = np.array([0.3, 0.8, 1.4, 1.8, 2])\n",
    "\n",
    "cov_func = SquaredExponentialKernel()\n",
    "cov = create_cov_matrix(variable_1, variable_2, cov_func)\n",
    "\n",
    "print('covariance matrix = ', cov)"
   ]
  },
  {
   "cell_type": "markdown",
   "metadata": {},
   "source": [
    "define function for calculating q_u transposed\n"
   ]
  },
  {
   "cell_type": "code",
   "execution_count": 16,
   "metadata": {
    "ExecuteTime": {
     "end_time": "2024-07-24T16:35:04.252283Z",
     "start_time": "2024-07-24T16:35:04.213019Z"
    }
   },
   "outputs": [],
   "source": [
    "def q_u_transposed(variable_1, variable_2, cov_function):\n",
    "    n1 = len(variable_1)\n",
    "    n2 = len(variable_2)\n",
    "    q_u_trans = np.zeros((n1, 2*n2))\n",
    "\n",
    "    kuu_sub_matrix = create_sub_matrix(variable_1, variable_2, k_uu, cov_function)\n",
    "    kuf_sub_matrix = create_sub_matrix(variable_1, variable_2, k_uf, cov_function)\n",
    "\n",
    "    for i in range(n1):\n",
    "        for j in range(2*n2):\n",
    "\n",
    "            if j <= n2 - 1:\n",
    "                q_u_trans[i, j] = kuu_sub_matrix[i, j]\n",
    "            else:\n",
    "                q_u_trans[i, j] = kuf_sub_matrix[i, j - n2]\n",
    "\n",
    "    return q_u_trans"
   ]
  },
  {
   "cell_type": "code",
   "execution_count": 17,
   "metadata": {
    "ExecuteTime": {
     "end_time": "2024-07-24T16:35:04.252320Z",
     "start_time": "2024-07-24T16:35:04.218713Z"
    }
   },
   "outputs": [],
   "source": [
    "def q_f_transposed(variable_1, variable_2, cov_function):\n",
    "    n1 = len(variable_1)\n",
    "    n2 = len(variable_2)\n",
    "    q_f_trans = np.zeros((n1, 2*n2))\n",
    "\n",
    "    kfu_sub_matrix = create_sub_matrix(variable_1, variable_2, k_fu, cov_function)\n",
    "    kff_sub_matrix = create_sub_matrix(variable_1, variable_2, k_ff, cov_function)\n",
    "\n",
    "    for i in range(n1):\n",
    "        for j in range(2*n2):\n",
    "\n",
    "            if j <= n2 - 1:\n",
    "                q_f_trans[i, j] = kfu_sub_matrix[i, j]\n",
    "            else:\n",
    "                q_f_trans[i, j] = kff_sub_matrix[i, j - n2]\n",
    "\n",
    "    return q_f_trans"
   ]
  },
  {
   "cell_type": "markdown",
   "metadata": {},
   "source": [
    "testing if the function q_u_transposed works properly"
   ]
  },
  {
   "cell_type": "code",
   "execution_count": 18,
   "metadata": {
    "ExecuteTime": {
     "end_time": "2024-07-24T16:35:04.259914Z",
     "start_time": "2024-07-24T16:35:04.233839Z"
    }
   },
   "outputs": [
    {
     "name": "stdout",
     "output_type": "stream",
     "text": [
      "q_u transposed =  [[1.00000000e+00 6.06530660e-01 1.00000000e+00 1.00000000e+00\n",
      "  2.74498160e+12 3.90005833e+12 2.74498160e+12 2.74498160e+12]\n",
      " [1.00000000e+00 6.06530660e-01 1.00000000e+00 1.00000000e+00\n",
      "  2.74498160e+12 3.90005833e+12 2.74498160e+12 2.74498160e+12]\n",
      " [1.00000000e+00 6.06530660e-01 1.00000000e+00 1.00000000e+00\n",
      "  2.74498160e+12 3.90005833e+12 2.74498160e+12 2.74498160e+12]\n",
      " [1.00000000e+00 6.06530660e-01 1.00000000e+00 1.00000000e+00\n",
      "  2.74498160e+12 3.90005833e+12 2.74498160e+12 2.74498160e+12]]\n"
     ]
    }
   ],
   "source": [
    "variable_1 = [1, 1, 1, 1]\n",
    "variable_2 = [1, 2, 1, 1]\n",
    "cov_func = SquaredExponentialKernel()\n",
    "\n",
    "q_u_trans = q_u_transposed(variable_1, variable_2, cov_func)\n",
    "print('q_u transposed = ', q_u_trans)"
   ]
  },
  {
   "cell_type": "markdown",
   "metadata": {},
   "source": [
    "training: page 113 in GP for ML"
   ]
  },
  {
   "cell_type": "code",
   "execution_count": 19,
   "metadata": {
    "ExecuteTime": {
     "end_time": "2024-07-24T16:35:35.015557Z",
     "start_time": "2024-07-24T16:35:26.085268Z"
    }
   },
   "outputs": [
    {
     "name": "stderr",
     "output_type": "stream",
     "text": [
      "/var/folders/db/wdxh9ynd7_bfr2nwqswb2nn80000gn/T/ipykernel_55963/72069979.py:28: IntegrationWarning:\n",
      "\n",
      "The integral is probably divergent, or slowly convergent.\n",
      "\n",
      "/var/folders/db/wdxh9ynd7_bfr2nwqswb2nn80000gn/T/ipykernel_55963/72069979.py:78: IntegrationWarning:\n",
      "\n",
      "The integral is probably divergent, or slowly convergent.\n",
      "\n"
     ]
    },
    {
     "ename": "KeyboardInterrupt",
     "evalue": "",
     "output_type": "error",
     "traceback": [
      "\u001B[0;31m---------------------------------------------------------------------------\u001B[0m",
      "\u001B[0;31mKeyboardInterrupt\u001B[0m                         Traceback (most recent call last)",
      "Input \u001B[0;32mIn [19]\u001B[0m, in \u001B[0;36m<cell line: 21>\u001B[0;34m()\u001B[0m\n\u001B[1;32m     22\u001B[0m \u001B[38;5;28;01mfor\u001B[39;00m l_index, length_val \u001B[38;5;129;01min\u001B[39;00m \u001B[38;5;28menumerate\u001B[39m(length_vals):\n\u001B[1;32m     23\u001B[0m     cov_func \u001B[38;5;241m=\u001B[39m SquaredExponentialKernel(sigma\u001B[38;5;241m=\u001B[39msigma_val, length\u001B[38;5;241m=\u001B[39mlength_val)\n\u001B[0;32m---> 24\u001B[0m     negative_log_marginal_likelihood \u001B[38;5;241m=\u001B[39m \u001B[43mlog_marginal_likelihood\u001B[49m\u001B[43m(\u001B[49m\u001B[43mdata_x\u001B[49m\u001B[43m,\u001B[49m\u001B[43m \u001B[49m\u001B[43mdata_y\u001B[49m\u001B[43m,\u001B[49m\u001B[43m \u001B[49m\u001B[43mcov_func\u001B[49m\u001B[43m,\u001B[49m\u001B[43m \u001B[49m\u001B[43mnoise\u001B[49m\u001B[43m \u001B[49m\u001B[38;5;241;43m=\u001B[39;49m\u001B[43m \u001B[49m\u001B[38;5;241;43m0.01\u001B[39;49m\u001B[43m)\u001B[49m\n\u001B[1;32m     25\u001B[0m     \u001B[38;5;28mprint\u001B[39m(\u001B[38;5;124m'\u001B[39m\u001B[38;5;124mlikelihood = \u001B[39m\u001B[38;5;124m'\u001B[39m, negative_log_marginal_likelihood)\n\u001B[1;32m     27\u001B[0m     \u001B[38;5;28;01mif\u001B[39;00m negative_log_marginal_likelihood \u001B[38;5;241m<\u001B[39m memory[\u001B[38;5;124m'\u001B[39m\u001B[38;5;124mnegative_log_marginal_likelihood\u001B[39m\u001B[38;5;124m'\u001B[39m]:\n",
      "Input \u001B[0;32mIn [19]\u001B[0m, in \u001B[0;36mlog_marginal_likelihood\u001B[0;34m(data_x, data_y, cov_func, noise)\u001B[0m\n\u001B[1;32m      3\u001B[0m y \u001B[38;5;241m=\u001B[39m np\u001B[38;5;241m.\u001B[39mconcatenate([data_y, data_y])\n\u001B[1;32m      4\u001B[0m y_transposed \u001B[38;5;241m=\u001B[39m y\u001B[38;5;241m.\u001B[39mT\n\u001B[0;32m----> 5\u001B[0m K \u001B[38;5;241m=\u001B[39m \u001B[43mcreate_cov_matrix\u001B[49m\u001B[43m(\u001B[49m\u001B[43mdata_x\u001B[49m\u001B[43m,\u001B[49m\u001B[43m \u001B[49m\u001B[43mdata_x\u001B[49m\u001B[43m,\u001B[49m\u001B[43m \u001B[49m\u001B[43mcov_func\u001B[49m\u001B[43m)\u001B[49m \u001B[38;5;241m+\u001B[39m noise \u001B[38;5;241m*\u001B[39m np\u001B[38;5;241m.\u001B[39midentity(\u001B[38;5;241m2\u001B[39m\u001B[38;5;241m*\u001B[39mn)\n\u001B[1;32m      6\u001B[0m K_inverse \u001B[38;5;241m=\u001B[39m np\u001B[38;5;241m.\u001B[39mlinalg\u001B[38;5;241m.\u001B[39minv(K)\n\u001B[1;32m      8\u001B[0m a \u001B[38;5;241m=\u001B[39m n\u001B[38;5;241m/\u001B[39m\u001B[38;5;241m2\u001B[39m \u001B[38;5;241m*\u001B[39m np\u001B[38;5;241m.\u001B[39mlog(\u001B[38;5;241m2\u001B[39m\u001B[38;5;241m*\u001B[39mnp\u001B[38;5;241m.\u001B[39mpi)  \u001B[38;5;66;03m# normalization constant\u001B[39;00m\n",
      "Input \u001B[0;32mIn [14]\u001B[0m, in \u001B[0;36mcreate_cov_matrix\u001B[0;34m(variable_1, variable_2, cov_function)\u001B[0m\n\u001B[1;32m      7\u001B[0m kuf_sub_matrix \u001B[38;5;241m=\u001B[39m create_sub_matrix(variable_1, variable_2, k_uf, cov_function)\n\u001B[1;32m      8\u001B[0m kfu_sub_matrix \u001B[38;5;241m=\u001B[39m create_sub_matrix(variable_1, variable_2, k_fu, cov_function)\n\u001B[0;32m----> 9\u001B[0m kff_sub_matrix \u001B[38;5;241m=\u001B[39m \u001B[43mcreate_sub_matrix\u001B[49m\u001B[43m(\u001B[49m\u001B[43mvariable_1\u001B[49m\u001B[43m,\u001B[49m\u001B[43m \u001B[49m\u001B[43mvariable_2\u001B[49m\u001B[43m,\u001B[49m\u001B[43m \u001B[49m\u001B[43mk_ff\u001B[49m\u001B[43m,\u001B[49m\u001B[43m \u001B[49m\u001B[43mcov_function\u001B[49m\u001B[43m)\u001B[49m\n\u001B[1;32m     11\u001B[0m \u001B[38;5;28;01mfor\u001B[39;00m i \u001B[38;5;129;01min\u001B[39;00m \u001B[38;5;28mrange\u001B[39m(\u001B[38;5;241m2\u001B[39m\u001B[38;5;241m*\u001B[39mn1):\n\u001B[1;32m     12\u001B[0m     \u001B[38;5;28;01mfor\u001B[39;00m j \u001B[38;5;129;01min\u001B[39;00m \u001B[38;5;28mrange\u001B[39m(\u001B[38;5;241m2\u001B[39m\u001B[38;5;241m*\u001B[39mn2):\n",
      "Input \u001B[0;32mIn [13]\u001B[0m, in \u001B[0;36mcreate_sub_matrix\u001B[0;34m(variable_1, variable_2, specified_cov_function, cov_function)\u001B[0m\n\u001B[1;32m      6\u001B[0m \u001B[38;5;28;01mfor\u001B[39;00m i, val_1 \u001B[38;5;129;01min\u001B[39;00m \u001B[38;5;28menumerate\u001B[39m(variable_1):\n\u001B[1;32m      7\u001B[0m     \u001B[38;5;28;01mfor\u001B[39;00m j, val_2 \u001B[38;5;129;01min\u001B[39;00m \u001B[38;5;28menumerate\u001B[39m(variable_2):\n\u001B[0;32m----> 8\u001B[0m         sub_matrix[i, j] \u001B[38;5;241m=\u001B[39m \u001B[43mspecified_cov_function\u001B[49m\u001B[43m(\u001B[49m\u001B[43mval_1\u001B[49m\u001B[43m,\u001B[49m\u001B[43m \u001B[49m\u001B[43mval_2\u001B[49m\u001B[43m,\u001B[49m\u001B[43m \u001B[49m\u001B[43mcov_function\u001B[49m\u001B[43m)\u001B[49m\n\u001B[1;32m     10\u001B[0m \u001B[38;5;28;01mreturn\u001B[39;00m sub_matrix\n",
      "Input \u001B[0;32mIn [11]\u001B[0m, in \u001B[0;36mk_ff\u001B[0;34m(val_1, val_2, cov_func, R, C, L)\u001B[0m\n\u001B[1;32m    117\u001B[0m     d \u001B[38;5;241m=\u001B[39m double_integral(val_1, val_2)\n\u001B[1;32m    118\u001B[0m     \u001B[38;5;28;01mreturn\u001B[39;00m d\n\u001B[0;32m--> 120\u001B[0m \u001B[38;5;28;01mreturn\u001B[39;00m a \u001B[38;5;241m+\u001B[39m integral_val_b \u001B[38;5;241m+\u001B[39m integral_val_c \u001B[38;5;241m+\u001B[39m \u001B[43mg\u001B[49m\u001B[43m(\u001B[49m\u001B[43m)\u001B[49m \u001B[38;5;241m+\u001B[39m f() \u001B[38;5;241m+\u001B[39m e() \u001B[38;5;241m+\u001B[39m d()\n",
      "Input \u001B[0;32mIn [11]\u001B[0m, in \u001B[0;36mk_ff.<locals>.g\u001B[0;34m()\u001B[0m\n\u001B[1;32m     39\u001B[0m     integral_val, _ \u001B[38;5;241m=\u001B[39m integrate(integrand, \u001B[38;5;241m0\u001B[39m, val_1, epsabs\u001B[38;5;241m=\u001B[39m\u001B[38;5;241m1e-8\u001B[39m, epsrel\u001B[38;5;241m=\u001B[39m\u001B[38;5;241m1e-8\u001B[39m, limit\u001B[38;5;241m=\u001B[39m\u001B[38;5;241m10000\u001B[39m)\n\u001B[1;32m     40\u001B[0m     \u001B[38;5;28;01mreturn\u001B[39;00m integral_val\n\u001B[0;32m---> 42\u001B[0m g \u001B[38;5;241m=\u001B[39m \u001B[43mdouble_integral\u001B[49m\u001B[43m(\u001B[49m\u001B[43mval_1\u001B[49m\u001B[43m,\u001B[49m\u001B[43m \u001B[49m\u001B[43mval_2\u001B[49m\u001B[43m)\u001B[49m\n\u001B[1;32m     43\u001B[0m \u001B[38;5;28;01mreturn\u001B[39;00m g\n",
      "Input \u001B[0;32mIn [11]\u001B[0m, in \u001B[0;36mk_ff.<locals>.g.<locals>.double_integral\u001B[0;34m(val_1, val_2)\u001B[0m\n\u001B[1;32m     37\u001B[0m \u001B[38;5;28;01mdef\u001B[39;00m \u001B[38;5;21mdouble_integral\u001B[39m(val_1, val_2):\n\u001B[1;32m     38\u001B[0m     integrand \u001B[38;5;241m=\u001B[39m \u001B[38;5;28;01mlambda\u001B[39;00m tau: \u001B[38;5;241m1\u001B[39m\u001B[38;5;241m/\u001B[39mgamma(\u001B[38;5;241m1\u001B[39m \u001B[38;5;241m-\u001B[39m alpha) \u001B[38;5;241m*\u001B[39m \u001B[38;5;241m1\u001B[39m\u001B[38;5;241m/\u001B[39m(val_1 \u001B[38;5;241m-\u001B[39m tau)\u001B[38;5;241m*\u001B[39m\u001B[38;5;241m*\u001B[39malpha \u001B[38;5;241m*\u001B[39m derivative_B(tau, val_2)\n\u001B[0;32m---> 39\u001B[0m     integral_val, _ \u001B[38;5;241m=\u001B[39m \u001B[43mintegrate\u001B[49m\u001B[43m(\u001B[49m\u001B[43mintegrand\u001B[49m\u001B[43m,\u001B[49m\u001B[43m \u001B[49m\u001B[38;5;241;43m0\u001B[39;49m\u001B[43m,\u001B[49m\u001B[43m \u001B[49m\u001B[43mval_1\u001B[49m\u001B[43m,\u001B[49m\u001B[43m \u001B[49m\u001B[43mepsabs\u001B[49m\u001B[38;5;241;43m=\u001B[39;49m\u001B[38;5;241;43m1e-8\u001B[39;49m\u001B[43m,\u001B[49m\u001B[43m \u001B[49m\u001B[43mepsrel\u001B[49m\u001B[38;5;241;43m=\u001B[39;49m\u001B[38;5;241;43m1e-8\u001B[39;49m\u001B[43m,\u001B[49m\u001B[43m \u001B[49m\u001B[43mlimit\u001B[49m\u001B[38;5;241;43m=\u001B[39;49m\u001B[38;5;241;43m10000\u001B[39;49m\u001B[43m)\u001B[49m\n\u001B[1;32m     40\u001B[0m     \u001B[38;5;28;01mreturn\u001B[39;00m integral_val\n",
      "File \u001B[0;32m/Library/Frameworks/Python.framework/Versions/3.10/lib/python3.10/site-packages/scipy/integrate/_quadpack_py.py:351\u001B[0m, in \u001B[0;36mquad\u001B[0;34m(func, a, b, args, full_output, epsabs, epsrel, limit, points, weight, wvar, wopts, maxp1, limlst)\u001B[0m\n\u001B[1;32m    348\u001B[0m flip, a, b \u001B[38;5;241m=\u001B[39m b \u001B[38;5;241m<\u001B[39m a, \u001B[38;5;28mmin\u001B[39m(a, b), \u001B[38;5;28mmax\u001B[39m(a, b)\n\u001B[1;32m    350\u001B[0m \u001B[38;5;28;01mif\u001B[39;00m weight \u001B[38;5;129;01mis\u001B[39;00m \u001B[38;5;28;01mNone\u001B[39;00m:\n\u001B[0;32m--> 351\u001B[0m     retval \u001B[38;5;241m=\u001B[39m \u001B[43m_quad\u001B[49m\u001B[43m(\u001B[49m\u001B[43mfunc\u001B[49m\u001B[43m,\u001B[49m\u001B[43m \u001B[49m\u001B[43ma\u001B[49m\u001B[43m,\u001B[49m\u001B[43m \u001B[49m\u001B[43mb\u001B[49m\u001B[43m,\u001B[49m\u001B[43m \u001B[49m\u001B[43margs\u001B[49m\u001B[43m,\u001B[49m\u001B[43m \u001B[49m\u001B[43mfull_output\u001B[49m\u001B[43m,\u001B[49m\u001B[43m \u001B[49m\u001B[43mepsabs\u001B[49m\u001B[43m,\u001B[49m\u001B[43m \u001B[49m\u001B[43mepsrel\u001B[49m\u001B[43m,\u001B[49m\u001B[43m \u001B[49m\u001B[43mlimit\u001B[49m\u001B[43m,\u001B[49m\n\u001B[1;32m    352\u001B[0m \u001B[43m                   \u001B[49m\u001B[43mpoints\u001B[49m\u001B[43m)\u001B[49m\n\u001B[1;32m    353\u001B[0m \u001B[38;5;28;01melse\u001B[39;00m:\n\u001B[1;32m    354\u001B[0m     \u001B[38;5;28;01mif\u001B[39;00m points \u001B[38;5;129;01mis\u001B[39;00m \u001B[38;5;129;01mnot\u001B[39;00m \u001B[38;5;28;01mNone\u001B[39;00m:\n",
      "File \u001B[0;32m/Library/Frameworks/Python.framework/Versions/3.10/lib/python3.10/site-packages/scipy/integrate/_quadpack_py.py:463\u001B[0m, in \u001B[0;36m_quad\u001B[0;34m(func, a, b, args, full_output, epsabs, epsrel, limit, points)\u001B[0m\n\u001B[1;32m    461\u001B[0m \u001B[38;5;28;01mif\u001B[39;00m points \u001B[38;5;129;01mis\u001B[39;00m \u001B[38;5;28;01mNone\u001B[39;00m:\n\u001B[1;32m    462\u001B[0m     \u001B[38;5;28;01mif\u001B[39;00m infbounds \u001B[38;5;241m==\u001B[39m \u001B[38;5;241m0\u001B[39m:\n\u001B[0;32m--> 463\u001B[0m         \u001B[38;5;28;01mreturn\u001B[39;00m \u001B[43m_quadpack\u001B[49m\u001B[38;5;241;43m.\u001B[39;49m\u001B[43m_qagse\u001B[49m\u001B[43m(\u001B[49m\u001B[43mfunc\u001B[49m\u001B[43m,\u001B[49m\u001B[43ma\u001B[49m\u001B[43m,\u001B[49m\u001B[43mb\u001B[49m\u001B[43m,\u001B[49m\u001B[43margs\u001B[49m\u001B[43m,\u001B[49m\u001B[43mfull_output\u001B[49m\u001B[43m,\u001B[49m\u001B[43mepsabs\u001B[49m\u001B[43m,\u001B[49m\u001B[43mepsrel\u001B[49m\u001B[43m,\u001B[49m\u001B[43mlimit\u001B[49m\u001B[43m)\u001B[49m\n\u001B[1;32m    464\u001B[0m     \u001B[38;5;28;01melse\u001B[39;00m:\n\u001B[1;32m    465\u001B[0m         \u001B[38;5;28;01mreturn\u001B[39;00m _quadpack\u001B[38;5;241m.\u001B[39m_qagie(func,bound,infbounds,args,full_output,epsabs,epsrel,limit)\n",
      "Input \u001B[0;32mIn [11]\u001B[0m, in \u001B[0;36mk_ff.<locals>.g.<locals>.double_integral.<locals>.<lambda>\u001B[0;34m(tau)\u001B[0m\n\u001B[1;32m     37\u001B[0m \u001B[38;5;28;01mdef\u001B[39;00m \u001B[38;5;21mdouble_integral\u001B[39m(val_1, val_2):\n\u001B[0;32m---> 38\u001B[0m     integrand \u001B[38;5;241m=\u001B[39m \u001B[38;5;28;01mlambda\u001B[39;00m tau: \u001B[38;5;241m1\u001B[39m\u001B[38;5;241m/\u001B[39mgamma(\u001B[38;5;241m1\u001B[39m \u001B[38;5;241m-\u001B[39m alpha) \u001B[38;5;241m*\u001B[39m \u001B[38;5;241m1\u001B[39m\u001B[38;5;241m/\u001B[39m(val_1 \u001B[38;5;241m-\u001B[39m tau)\u001B[38;5;241m*\u001B[39m\u001B[38;5;241m*\u001B[39malpha \u001B[38;5;241m*\u001B[39m \u001B[43mderivative_B\u001B[49m\u001B[43m(\u001B[49m\u001B[43mtau\u001B[49m\u001B[43m,\u001B[49m\u001B[43m \u001B[49m\u001B[43mval_2\u001B[49m\u001B[43m)\u001B[49m\n\u001B[1;32m     39\u001B[0m     integral_val, _ \u001B[38;5;241m=\u001B[39m integrate(integrand, \u001B[38;5;241m0\u001B[39m, val_1, epsabs\u001B[38;5;241m=\u001B[39m\u001B[38;5;241m1e-8\u001B[39m, epsrel\u001B[38;5;241m=\u001B[39m\u001B[38;5;241m1e-8\u001B[39m, limit\u001B[38;5;241m=\u001B[39m\u001B[38;5;241m10000\u001B[39m)\n\u001B[1;32m     40\u001B[0m     \u001B[38;5;28;01mreturn\u001B[39;00m integral_val\n",
      "Input \u001B[0;32mIn [11]\u001B[0m, in \u001B[0;36mk_ff.<locals>.g.<locals>.derivative_B\u001B[0;34m(tau, val_2, h)\u001B[0m\n\u001B[1;32m     32\u001B[0m \u001B[38;5;28;01mdef\u001B[39;00m \u001B[38;5;21mB_tau\u001B[39m(tau):\n\u001B[1;32m     33\u001B[0m     \u001B[38;5;28;01mreturn\u001B[39;00m B(tau, val_2)\n\u001B[0;32m---> 34\u001B[0m dB \u001B[38;5;241m=\u001B[39m (\u001B[43mB_tau\u001B[49m\u001B[43m(\u001B[49m\u001B[43mtau\u001B[49m\u001B[43m \u001B[49m\u001B[38;5;241;43m+\u001B[39;49m\u001B[43m \u001B[49m\u001B[43mh\u001B[49m\u001B[43m)\u001B[49m \u001B[38;5;241m-\u001B[39m B_tau(tau \u001B[38;5;241m-\u001B[39m h)) \u001B[38;5;241m/\u001B[39m (\u001B[38;5;241m2\u001B[39m\u001B[38;5;241m*\u001B[39mh)\n\u001B[1;32m     35\u001B[0m \u001B[38;5;28;01mreturn\u001B[39;00m dB\n",
      "Input \u001B[0;32mIn [11]\u001B[0m, in \u001B[0;36mk_ff.<locals>.g.<locals>.derivative_B.<locals>.B_tau\u001B[0;34m(tau)\u001B[0m\n\u001B[1;32m     32\u001B[0m \u001B[38;5;28;01mdef\u001B[39;00m \u001B[38;5;21mB_tau\u001B[39m(tau):\n\u001B[0;32m---> 33\u001B[0m     \u001B[38;5;28;01mreturn\u001B[39;00m \u001B[43mB\u001B[49m\u001B[43m(\u001B[49m\u001B[43mtau\u001B[49m\u001B[43m,\u001B[49m\u001B[43m \u001B[49m\u001B[43mval_2\u001B[49m\u001B[43m)\u001B[49m\n",
      "Input \u001B[0;32mIn [11]\u001B[0m, in \u001B[0;36mk_ff.<locals>.g.<locals>.B\u001B[0;34m(val_1, val_2)\u001B[0m\n\u001B[1;32m     26\u001B[0m \u001B[38;5;28;01mdef\u001B[39;00m \u001B[38;5;21mB\u001B[39m(val_1, val_2):\n\u001B[1;32m     27\u001B[0m     integrand \u001B[38;5;241m=\u001B[39m \u001B[38;5;28;01mlambda\u001B[39;00m tau: A(val_1, val_2, tau)\n\u001B[0;32m---> 28\u001B[0m     integral_val, _ \u001B[38;5;241m=\u001B[39m \u001B[43mintegrate\u001B[49m\u001B[43m(\u001B[49m\u001B[43mintegrand\u001B[49m\u001B[43m,\u001B[49m\u001B[43m \u001B[49m\u001B[38;5;241;43m0\u001B[39;49m\u001B[43m,\u001B[49m\u001B[43m \u001B[49m\u001B[43mval_2\u001B[49m\u001B[43m,\u001B[49m\u001B[43m \u001B[49m\u001B[43mepsabs\u001B[49m\u001B[38;5;241;43m=\u001B[39;49m\u001B[38;5;241;43m1e-8\u001B[39;49m\u001B[43m,\u001B[49m\u001B[43m \u001B[49m\u001B[43mepsrel\u001B[49m\u001B[38;5;241;43m=\u001B[39;49m\u001B[38;5;241;43m1e-8\u001B[39;49m\u001B[43m,\u001B[49m\u001B[43m \u001B[49m\u001B[43mlimit\u001B[49m\u001B[38;5;241;43m=\u001B[39;49m\u001B[38;5;241;43m10000\u001B[39;49m\u001B[43m)\u001B[49m\n\u001B[1;32m     29\u001B[0m     \u001B[38;5;28;01mreturn\u001B[39;00m integral_val\n",
      "File \u001B[0;32m/Library/Frameworks/Python.framework/Versions/3.10/lib/python3.10/site-packages/scipy/integrate/_quadpack_py.py:351\u001B[0m, in \u001B[0;36mquad\u001B[0;34m(func, a, b, args, full_output, epsabs, epsrel, limit, points, weight, wvar, wopts, maxp1, limlst)\u001B[0m\n\u001B[1;32m    348\u001B[0m flip, a, b \u001B[38;5;241m=\u001B[39m b \u001B[38;5;241m<\u001B[39m a, \u001B[38;5;28mmin\u001B[39m(a, b), \u001B[38;5;28mmax\u001B[39m(a, b)\n\u001B[1;32m    350\u001B[0m \u001B[38;5;28;01mif\u001B[39;00m weight \u001B[38;5;129;01mis\u001B[39;00m \u001B[38;5;28;01mNone\u001B[39;00m:\n\u001B[0;32m--> 351\u001B[0m     retval \u001B[38;5;241m=\u001B[39m \u001B[43m_quad\u001B[49m\u001B[43m(\u001B[49m\u001B[43mfunc\u001B[49m\u001B[43m,\u001B[49m\u001B[43m \u001B[49m\u001B[43ma\u001B[49m\u001B[43m,\u001B[49m\u001B[43m \u001B[49m\u001B[43mb\u001B[49m\u001B[43m,\u001B[49m\u001B[43m \u001B[49m\u001B[43margs\u001B[49m\u001B[43m,\u001B[49m\u001B[43m \u001B[49m\u001B[43mfull_output\u001B[49m\u001B[43m,\u001B[49m\u001B[43m \u001B[49m\u001B[43mepsabs\u001B[49m\u001B[43m,\u001B[49m\u001B[43m \u001B[49m\u001B[43mepsrel\u001B[49m\u001B[43m,\u001B[49m\u001B[43m \u001B[49m\u001B[43mlimit\u001B[49m\u001B[43m,\u001B[49m\n\u001B[1;32m    352\u001B[0m \u001B[43m                   \u001B[49m\u001B[43mpoints\u001B[49m\u001B[43m)\u001B[49m\n\u001B[1;32m    353\u001B[0m \u001B[38;5;28;01melse\u001B[39;00m:\n\u001B[1;32m    354\u001B[0m     \u001B[38;5;28;01mif\u001B[39;00m points \u001B[38;5;129;01mis\u001B[39;00m \u001B[38;5;129;01mnot\u001B[39;00m \u001B[38;5;28;01mNone\u001B[39;00m:\n",
      "File \u001B[0;32m/Library/Frameworks/Python.framework/Versions/3.10/lib/python3.10/site-packages/scipy/integrate/_quadpack_py.py:463\u001B[0m, in \u001B[0;36m_quad\u001B[0;34m(func, a, b, args, full_output, epsabs, epsrel, limit, points)\u001B[0m\n\u001B[1;32m    461\u001B[0m \u001B[38;5;28;01mif\u001B[39;00m points \u001B[38;5;129;01mis\u001B[39;00m \u001B[38;5;28;01mNone\u001B[39;00m:\n\u001B[1;32m    462\u001B[0m     \u001B[38;5;28;01mif\u001B[39;00m infbounds \u001B[38;5;241m==\u001B[39m \u001B[38;5;241m0\u001B[39m:\n\u001B[0;32m--> 463\u001B[0m         \u001B[38;5;28;01mreturn\u001B[39;00m \u001B[43m_quadpack\u001B[49m\u001B[38;5;241;43m.\u001B[39;49m\u001B[43m_qagse\u001B[49m\u001B[43m(\u001B[49m\u001B[43mfunc\u001B[49m\u001B[43m,\u001B[49m\u001B[43ma\u001B[49m\u001B[43m,\u001B[49m\u001B[43mb\u001B[49m\u001B[43m,\u001B[49m\u001B[43margs\u001B[49m\u001B[43m,\u001B[49m\u001B[43mfull_output\u001B[49m\u001B[43m,\u001B[49m\u001B[43mepsabs\u001B[49m\u001B[43m,\u001B[49m\u001B[43mepsrel\u001B[49m\u001B[43m,\u001B[49m\u001B[43mlimit\u001B[49m\u001B[43m)\u001B[49m\n\u001B[1;32m    464\u001B[0m     \u001B[38;5;28;01melse\u001B[39;00m:\n\u001B[1;32m    465\u001B[0m         \u001B[38;5;28;01mreturn\u001B[39;00m _quadpack\u001B[38;5;241m.\u001B[39m_qagie(func,bound,infbounds,args,full_output,epsabs,epsrel,limit)\n",
      "Input \u001B[0;32mIn [11]\u001B[0m, in \u001B[0;36mk_ff.<locals>.g.<locals>.B.<locals>.<lambda>\u001B[0;34m(tau)\u001B[0m\n\u001B[1;32m     26\u001B[0m \u001B[38;5;28;01mdef\u001B[39;00m \u001B[38;5;21mB\u001B[39m(val_1, val_2):\n\u001B[0;32m---> 27\u001B[0m     integrand \u001B[38;5;241m=\u001B[39m \u001B[38;5;28;01mlambda\u001B[39;00m tau: \u001B[43mA\u001B[49m\u001B[43m(\u001B[49m\u001B[43mval_1\u001B[49m\u001B[43m,\u001B[49m\u001B[43m \u001B[49m\u001B[43mval_2\u001B[49m\u001B[43m,\u001B[49m\u001B[43m \u001B[49m\u001B[43mtau\u001B[49m\u001B[43m)\u001B[49m\n\u001B[1;32m     28\u001B[0m     integral_val, _ \u001B[38;5;241m=\u001B[39m integrate(integrand, \u001B[38;5;241m0\u001B[39m, val_2, epsabs\u001B[38;5;241m=\u001B[39m\u001B[38;5;241m1e-8\u001B[39m, epsrel\u001B[38;5;241m=\u001B[39m\u001B[38;5;241m1e-8\u001B[39m, limit\u001B[38;5;241m=\u001B[39m\u001B[38;5;241m10000\u001B[39m)\n\u001B[1;32m     29\u001B[0m     \u001B[38;5;28;01mreturn\u001B[39;00m integral_val\n",
      "Input \u001B[0;32mIn [11]\u001B[0m, in \u001B[0;36mk_ff.<locals>.g.<locals>.A\u001B[0;34m(val_1, val_2, tau)\u001B[0m\n\u001B[1;32m     22\u001B[0m \u001B[38;5;28;01mdef\u001B[39;00m \u001B[38;5;21mA\u001B[39m(val_1, val_2, tau):\n\u001B[0;32m---> 23\u001B[0m     a \u001B[38;5;241m=\u001B[39m C\u001B[38;5;241m/\u001B[39m\u001B[43mgamma\u001B[49m\u001B[43m(\u001B[49m\u001B[38;5;241;43m1\u001B[39;49m\u001B[38;5;241;43m-\u001B[39;49m\u001B[43malpha\u001B[49m\u001B[43m)\u001B[49m \u001B[38;5;241m*\u001B[39m \u001B[38;5;241m1\u001B[39m\u001B[38;5;241m/\u001B[39m(val_2 \u001B[38;5;241m-\u001B[39m tau)\u001B[38;5;241m*\u001B[39m\u001B[38;5;241m*\u001B[39malpha \u001B[38;5;241m*\u001B[39m \u001B[38;5;241m1\u001B[39m\u001B[38;5;241m/\u001B[39ml\u001B[38;5;241m*\u001B[39m\u001B[38;5;241m*\u001B[39m\u001B[38;5;241m2\u001B[39m \u001B[38;5;241m*\u001B[39m (val_1 \u001B[38;5;241m-\u001B[39m tau)\n\u001B[1;32m     24\u001B[0m     \u001B[38;5;28;01mreturn\u001B[39;00m a \u001B[38;5;241m*\u001B[39m cov_func(val_1, tau)\n",
      "\u001B[0;31mKeyboardInterrupt\u001B[0m: "
     ]
    }
   ],
   "source": [
    "def log_marginal_likelihood(data_x, data_y, cov_func, noise):\n",
    "    n = len(data_x)\n",
    "    y = np.concatenate([data_y, data_y])\n",
    "    y_transposed = y.T\n",
    "    K = create_cov_matrix(data_x, data_x, cov_func) + noise * np.identity(2*n)\n",
    "    K_inverse = np.linalg.inv(K)\n",
    "\n",
    "    a = n/2 * np.log(2*np.pi)  # normalization constant\n",
    "    b = 1/2 * np.log(np.linalg.norm(K))  # complexity penalty\n",
    "    c = 1/2 * np.dot(y, np.dot(K_inverse, y_transposed))  # involving observed targets\n",
    "    log_ml = c + b + a  # is actually the negative log marginal likelihood\n",
    "    return log_ml\n",
    "\n",
    "sigma_vals = np.arange(0.1, 2, 0.05)\n",
    "length_vals = np.arange(0.1, 2, 0.05)\n",
    "memory = {'sigma': 1, 'length': 1, 'negative_log_marginal_likelihood': 1000}\n",
    "\n",
    "data_x = np.array([0.08919118309982221, 0.48573526800672523, 1.067487500149583, 2.01754330372101, 2.903425000149563, 4.768659375149524, 6.594831250149485, 8.460065625149445, 9.504987500149424])\n",
    "data_y = np.array([0.6626339, -0.6613839, -1.459256, -0.1826344, 0.7235726, -0.358959, 0.1779366, -0.08830133, -0.001224956])\n",
    "\n",
    "for sigma_index, sigma_val in enumerate(sigma_vals):\n",
    "    for l_index, length_val in enumerate(length_vals):\n",
    "        cov_func = SquaredExponentialKernel(sigma=sigma_val, length=length_val)\n",
    "        negative_log_marginal_likelihood = log_marginal_likelihood(data_x, data_y, cov_func, noise = 0.01)\n",
    "        print('likelihood = ', negative_log_marginal_likelihood)\n",
    "\n",
    "        if negative_log_marginal_likelihood < memory['negative_log_marginal_likelihood']:\n",
    "            memory['length'] = length_val\n",
    "            memory['sigma'] = sigma_val\n",
    "            memory['negative_log_marginal_likelihood'] = negative_log_marginal_likelihood\n",
    "\n",
    "        print('obtained sigma and l values that minimize the negative log marginal likelihood: ', 'sigma = ', memory['sigma'], 'length = ', memory['length'])"
   ]
  },
  {
   "cell_type": "markdown",
   "source": [
    "testing the function above"
   ],
   "metadata": {
    "collapsed": false
   }
  },
  {
   "cell_type": "code",
   "execution_count": 20,
   "outputs": [
    {
     "name": "stderr",
     "output_type": "stream",
     "text": [
      "/var/folders/db/wdxh9ynd7_bfr2nwqswb2nn80000gn/T/ipykernel_55963/72069979.py:28: IntegrationWarning:\n",
      "\n",
      "The integral is probably divergent, or slowly convergent.\n",
      "\n",
      "/var/folders/db/wdxh9ynd7_bfr2nwqswb2nn80000gn/T/ipykernel_55963/72069979.py:78: IntegrationWarning:\n",
      "\n",
      "The integral is probably divergent, or slowly convergent.\n",
      "\n",
      "/var/folders/db/wdxh9ynd7_bfr2nwqswb2nn80000gn/T/ipykernel_55963/72069979.py:17: IntegrationWarning:\n",
      "\n",
      "The integral is probably divergent, or slowly convergent.\n",
      "\n"
     ]
    },
    {
     "name": "stdout",
     "output_type": "stream",
     "text": [
      "26.217021271605653\n"
     ]
    }
   ],
   "source": [
    "cov_func = SquaredExponentialKernel(sigma=0.2, length=1.9)  # (0.53, 1.4);\n",
    "negative_log_marginal_likelihood = log_marginal_likelihood(data_x, data_y, cov_func, noise = 0.01)\n",
    "print(negative_log_marginal_likelihood)"
   ],
   "metadata": {
    "collapsed": false,
    "ExecuteTime": {
     "end_time": "2024-07-24T16:35:54.485227Z",
     "start_time": "2024-07-24T16:35:40.421675Z"
    }
   }
  },
  {
   "cell_type": "markdown",
   "metadata": {},
   "source": [
    "define class GPR:\n",
    "* **data_x** is the input of the observed points\n",
    "* **data_y** is the output of the observed points\n",
    "* **noise** is the noise in the observed data\n",
    "* **memory** is a variable where the mean, the covariance matrix and the variance is stored\n",
    "* **3e-7** add this value to the noise in order to ensure stability when inverting the covariance matrix"
   ]
  },
  {
   "cell_type": "code",
   "execution_count": 21,
   "metadata": {
    "ExecuteTime": {
     "end_time": "2024-07-24T16:35:54.539250Z",
     "start_time": "2024-07-24T16:35:54.503977Z"
    }
   },
   "outputs": [],
   "source": [
    "class GPR:\n",
    "    def __init__(self, data_x, data_y, cov_func= SquaredExponentialKernel(sigma=memory['sigma'], length=memory['length']), noise=0.01):\n",
    "        print('sigma memory = ', memory['sigma'])\n",
    "        print('length memory = ', memory['length'])\n",
    "        self.data_x = data_x\n",
    "        self.data_y = np.concatenate([data_y, data_y])\n",
    "        self.cov_func = cov_func\n",
    "        self.noise = noise\n",
    "        self.memory = None\n",
    "\n",
    "        n = len(data_x)\n",
    "        self.inv_cov_matrix_of_input_data = np.linalg.inv(create_cov_matrix(data_x, data_x, cov_func) + (noise + 3e-7)**2 * np.identity(2*n))\n",
    "\n",
    "    def predict(self, at_values):\n",
    "        q_u_trans = q_u_transposed(at_values, self.data_x, self.cov_func)\n",
    "        q_f_trans = q_f_transposed(at_values, self.data_x, self.cov_func)\n",
    "\n",
    "        # methode paper:\n",
    "        mean_at_values_u = np.dot(q_u_trans, np.dot(self.data_y, self.inv_cov_matrix_of_input_data.T).T).flatten()\n",
    "        #mean_at_values_f = np.dot(q_f_trans, np.dot(self.data_y, self.inv_cov_matrix_of_input_data.T).T).flatten()\n",
    "\n",
    "        covariance_matrix_u = create_sub_matrix(at_values, at_values, k_uu, self.cov_func) - np.dot(q_u_trans, np.dot(self.inv_cov_matrix_of_input_data, q_u_trans.T))\n",
    "        #covariance_matrix_f = create_sub_matrix(at_values, at_values, k_ff, self.cov_func) - np.dot(q_f_trans, np.dot(self.inv_cov_matrix_of_input_data, q_f_trans.T))\n",
    "\n",
    "        variance_u = np.abs(np.diag(covariance_matrix_u))\n",
    "        #variance_f = np.abs(np.diag(covariance_matrix_f))\n",
    "\n",
    "        self.memory = {'mean': mean_at_values_u, 'covariance_matrix':covariance_matrix_u, 'variance': variance_u}\n",
    "\n",
    "        return mean_at_values_u"
   ]
  },
  {
   "cell_type": "markdown",
   "metadata": {
    "ExecuteTime": {
     "end_time": "2024-04-21T18:53:34.457759Z",
     "start_time": "2024-04-21T18:53:34.417061Z"
    }
   },
   "source": [
    "defining function for plotting the GPR:\n",
    "* **data_x** is a list of observed input data points\n",
    "* **data_y** is a list of observed output data points\n",
    "* **x** is equivalent to **at_values** in the GPR, the values we want to do predictions on"
   ]
  },
  {
   "cell_type": "code",
   "execution_count": 22,
   "metadata": {
    "ExecuteTime": {
     "end_time": "2024-07-24T16:35:54.552206Z",
     "start_time": "2024-07-24T16:35:54.521040Z"
    }
   },
   "outputs": [],
   "source": [
    "def plot_GPR(data_x, data_y, model, x, data_x_mv, data_y_mv, visible=True) -> list:\n",
    "    mean = model.predict(x)\n",
    "    standard_deviation = np.sqrt(model.memory['variance'])\n",
    "    data = []\n",
    "\n",
    "    for i in range(1, 4):\n",
    "        data.append(uncertainty_area_plot(x_lines=x, y_lower=mean -i * standard_deviation, y_upper=mean + i*standard_deviation, name=f'mean plus/minus {i}*standard deviation', visible=visible))\n",
    "\n",
    "    data.append(scatter_plot(x_dots=data_x_mv, y_dots=data_y_mv, visible=visible, color='blue'))\n",
    "    data.append(scatter_plot(x_dots=data_x, y_dots=data_y, visible=visible, color='red'))\n",
    "    data.append(line_plot(x_lines=x, y_lines=mean, visible=visible))\n",
    "    return data"
   ]
  },
  {
   "cell_type": "markdown",
   "metadata": {},
   "source": [
    "initializing the training data"
   ]
  },
  {
   "cell_type": "code",
   "execution_count": 23,
   "metadata": {
    "ExecuteTime": {
     "end_time": "2024-07-24T16:35:54.601750Z",
     "start_time": "2024-07-24T16:35:54.540326Z"
    }
   },
   "outputs": [
    {
     "name": "stdout",
     "output_type": "stream",
     "text": [
      "350 350\n"
     ]
    }
   ],
   "source": [
    "x_values = np.array([0.08919118309982221, 0.48573526800672523, 1.067487500149583, 2.01754330372101, 2.903425000149563, 4.768659375149524, 6.594831250149485, 8.460065625149445, 9.504987500149424])\n",
    "y_values = np.array([0.6626339, -0.6613839, -1.459256, -0.1826344, 0.7235726, -0.358959, 0.1779366, -0.08830133, -0.001224956])\n",
    "\n",
    "x_values_mv = np.array([0.0, 0.029730524574942258, 0.059460853837382234, 0.08919118309982221, 0.1189215123622622, 0.14865184162470219, 0.1783821708871422, 0.2081125001495821, 0.2374093751495821, 0.2569406251495821, 0.2667062501495821, 0.2764718751495821, 0.28623750014958205, 0.3057687501495821, 0.3350656251495822, 0.3727330358638679, 0.41040044657815367, 0.4480678572924394, 0.48573526800672523, 0.5234026787210109, 0.5610700894352967, 0.5987375001495824, 0.6391950894352967, 0.679652678721011, 0.7201102680067254, 0.7605678572924397, 0.801025446578154, 0.8414830358638684, 0.8819406251495826, 0.9056571430067255, 0.9293736608638683, 0.9530901787210113, 0.9768066965781541, 1.000523214435297, 1.02423973229244, 1.047956250149583, 1.057721875149583, 1.067487500149583, 1.077253125149583, 1.096784375149583, 1.126081250149583, 1.1511928572924401, 1.1763044644352971, 1.201416071578154, 1.226527678721012, 1.251639285863869, 1.276750893006726, 1.301862500149583, 1.321393750149583, 1.331159375149583, 1.350690625149583, 1.379987500149583, 1.416259821578154, 1.452532143006726, 1.488804464435298, 1.525076785863869, 1.56134910729244, 1.597621428721012, 1.6338937501495832, 1.674351339435298, 1.714808928721012, 1.755266518006726, 1.795724107292441, 1.836181696578155, 1.876639285863869, 1.917096875149584, 1.9422084822924401, 1.9673200894352971, 1.9924316965781539, 2.01754330372101, 2.042654910863867, 2.067766518006724, 2.092878125149581, 2.11240937514958, 2.12217500014958, 2.13194062514958, 2.151471875149579, 2.1807687501495794, 2.218436160863864, 2.2561035715781492, 2.293770982292434, 2.331438393006719, 2.3691058037210033, 2.406773214435288, 2.444440625149573, 2.484898214435287, 2.5253558037209998, 2.565813393006714, 2.606270982292427, 2.64672857157814, 2.6871861608638543, 2.727643750149567, 2.751360268006709, 2.775076785863852, 2.798793303720994, 2.8225098215781372, 2.8462263394352787, 2.869942857292421, 2.893659375149564, 2.903425000149563, 2.913190625149563, 2.922956250149563, 2.942487500149563, 2.971784375149562, 2.9968959822924193, 3.022007589435275, 3.047119196578132, 3.0722308037209882, 3.097342410863845, 3.1224540180067017, 3.147565625149558, 3.167096875149558, 3.176862500149558, 3.1866281251495567, 3.2061593751495567, 3.235456250149556, 3.273123660863841, 3.3107910715781257, 3.3484584822924113, 3.386125893006696, 3.423793303720981, 3.4614607144352663, 3.499128125149551, 3.539585714435264, 3.580043303720977, 3.620500893006691, 3.660958482292405, 3.7014160715781177, 3.7418736608638308, 3.782331250149545, 3.8060477680066866, 3.829764285863829, 3.853480803720972, 3.877197321578114, 3.9009138394352574, 3.924630357292399, 3.9483468751495425, 3.958112500149541, 3.967878125149541, 3.9776437501495407, 3.9971750001495394, 4.026471875149539, 4.064139285863824, 4.10180669657811, 4.139474107292394, 4.17714151800668, 4.214808928720965, 4.252476339435249, 4.290143750149534, 4.330601339435248, 4.371058928720961, 4.411516518006675, 4.451974107292387, 4.492431696578101, 4.532889285863815, 4.573346875149528, 4.597063393006671, 4.6207799108638135, 4.644496428720955, 4.668212946578098, 4.6919294644352405, 4.715645982292382, 4.739362500149524, 4.758893750149524, 4.768659375149524, 4.778425000149523, 4.797956250149523, 4.8272531251495225, 4.852364732292379, 4.877476339435236, 4.902587946578093, 4.927699553720949, 4.952811160863805, 4.977922768006663, 5.003034375149519, 5.012800000149519, 5.022565625149519, 5.032331250149518, 5.051862500149518, 5.081159375149517, 5.118826785863802, 5.1564941965780875, 5.194161607292372, 5.231829018006657, 5.269496428720942, 5.307163839435227, 5.344831250149512, 5.385288839435226, 5.425746428720938, 5.4662040180066525, 5.506661607292365, 5.547119196578079, 5.587576785863793, 5.628034375149506, 5.651750893006648, 5.67546741086379, 5.699183928720933, 5.722900446578075, 5.746616964435217, 5.77033348229236, 5.794050000149502, 5.813581250149502, 5.823346875149502, 5.833112500149501, 5.852643750149501, 5.8819406251495, 5.919608035863785, 5.957275446578071, 5.994942857292354, 6.03261026800664, 6.070277678720925, 6.10794508943521, 6.145612500149495, 6.186070089435208, 6.226527678720921, 6.266985268006636, 6.307442857292348, 6.347900446578062, 6.388358035863776, 6.428815625149489, 6.452532143006631, 6.476248660863773, 6.499965178720916, 6.523681696578058, 6.5473982144352005, 6.571114732292344, 6.594831250149485, 6.604596875149485, 6.614362500149484, 6.6241281251494835, 6.643659375149484, 6.672956250149483, 6.69806785729234, 6.723179464435197, 6.748291071578054, 6.77340267872091, 6.798514285863766, 6.823625893006623, 6.84873750014948, 6.868268750149479, 6.878034375149479, 6.897565625149479, 6.926862500149478, 6.963134821578048, 6.99940714300662, 7.035679464435191, 7.07195178586376, 7.108224107292331, 7.144496428720902, 7.180768750149473, 7.221226339435186, 7.261683928720899, 7.302141518006613, 7.342599107292326, 7.3830566965780395, 7.423514285863754, 7.463971875149467, 7.489083482292323, 7.51419508943518, 7.539306696578038, 7.564418303720893, 7.5895299108637495, 7.614641518006605, 7.639753125149463, 7.659284375149462, 7.669050000149462, 7.678815625149462, 7.698346875149461, 7.727643750149461, 7.765311160863746, 7.802978571578031, 7.840645982292315, 7.878313393006601, 7.9159808037208865, 7.95364821443517, 7.991315625149455, 8.031773214435168, 8.072230803720883, 8.112688393006596, 8.153145982292308, 8.193603571578022, 8.234061160863737, 8.274518750149449, 8.298235268006591, 8.321951785863735, 8.345668303720878, 8.369384821578018, 8.39310133943516, 8.416817857292303, 8.440534375149445, 8.450300000149445, 8.460065625149445, 8.469831250149445, 8.489362500149445, 8.518659375149443, 8.543770982292301, 8.568882589435157, 8.593994196578013, 8.61910580372087, 8.644217410863728, 8.669329018006584, 8.69444062514944, 8.71397187514944, 8.72373750014944, 8.73350312514944, 8.75303437514944, 8.782331250149438, 8.819998660863725, 8.857666071578008, 8.895333482292292, 8.933000893006579, 8.970668303720863, 9.008335714435148, 9.046003125149433, 9.086460714435146, 9.12691830372086, 9.167375893006573, 9.207833482292287, 9.248291071577999, 9.288748660863714, 9.329206250149428, 9.35292276800657, 9.376639285863712, 9.400355803720855, 9.424072321577995, 9.447788839435137, 9.47150535729228, 9.495221875149424, 9.504987500149424, 9.514753125149422, 9.524518750149422, 9.544050000149422, 9.573346875149422, 9.608224107292278, 9.643101339435134, 9.67797857157799, 9.712855803720847, 9.747733035863703, 9.782610268006561, 9.817487500149417, 9.827253125149417, 9.849574553720846, 9.871895982292273, 9.894217410863702, 9.916538839435129, 9.938860268006557, 9.961181696577984, 9.983503125149413, 9.993268750149413, 10.0])  # x data for model validation\n",
    "\n",
    "y_values_mv = np.array([1.0, 0.8866713, 0.7742162, 0.6626339, 0.5519243, 0.4420876, 0.3331237, 0.2250326, 0.1209512, 0.05264785, 0.01884616, -0.0147115, -0.04801726, -0.1138423, -0.2105016, -0.3315973, -0.4471096, -0.5570385, -0.6613839, -0.7601459, -0.8533246, -0.9409198, -1.027311, -1.105822, -1.176455, -1.239209, -1.294083, -1.341078, -1.380195, -1.399297, -1.415757, -1.429574, -1.440748, -1.44928, -1.455169, -1.458416, -1.459049, -1.459256, -1.459042, -1.457361, -1.451759, -1.443896, -1.433624, -1.420945, -1.405858, -1.388362, -1.368459, -1.346148, -1.327466, -1.317654, -1.297114, -1.264092, -1.218994, -1.171031, -1.120205, -1.066515, -1.009961, -0.9505431, -0.8882614, -0.8164804, -0.7438536, -0.6703811, -0.5960629, -0.5208989, -0.4448891, -0.3680336, -0.3209685, -0.2743802, -0.2282688, -0.1826344, -0.1374768, -0.09279619, -0.04859247, -0.0148689, 0.001815278, 0.0183758, 0.05111053, 0.09919094, 0.1594496, 0.2169515, 0.2716964, 0.3236845, 0.3729158, 0.4193902, 0.4631077, 0.5062569, 0.545501, 0.5808402, 0.6122743, 0.6398034, 0.6634275, 0.6831466, 0.6928046, 0.7011501, 0.708183, 0.7139033, 0.7183111, 0.7214063, 0.723189, 0.7235726, 0.7237449, 0.7237076, 0.7230101, 0.7204317, 0.7166994, 0.711768, 0.7056375, 0.6983081, 0.6897795, 0.680052, 0.6691253, 0.6599635, 0.6551479, 0.650179, 0.6397924, 0.6231288, 0.5994893, 0.5743678, 0.5477643, 0.5196787, 0.4901112, 0.4590616, 0.42653, 0.3905371, 0.3542035, 0.3175295, 0.2805148, 0.2431596, 0.2054638, 0.1674275, 0.145468, 0.1237353, 0.1022293, 0.08095015, 0.05989773, 0.03907209, 0.0184732, 0.0101197, 0.001824927, -0.006409152, -0.02268758, -0.04660301, -0.07658743, -0.1052107, -0.1324729, -0.1583739, -0.1829138, -0.2060925, -0.2279101, -0.2494602, -0.269075, -0.2867545, -0.3024987, -0.3163075, -0.328181, -0.3381191, -0.3430005, -0.3472299, -0.3508074, -0.353733, -0.3560067, -0.3576284, -0.3585983, -0.3589432, -0.358959, -0.3588712, -0.3583884, -0.3569086, -0.3548889, -0.3522794, -0.3490799, -0.3452906, -0.3409113, -0.3359421, -0.330383, -0.3280976, -0.3257344, -0.323295, -0.3181921, -0.309997, -0.2983563, -0.2859737, -0.2728491, -0.2589825, -0.244374, -0.2290234, -0.2129308, -0.1951162, -0.177125, -0.1589572, -0.1406127, -0.1220916, -0.1033939, -0.08451962, -0.07361971, -0.06283008, -0.05215075, -0.04158171, -0.03112296, -0.0207745, -0.01053633, -0.002260064, 0.001833884, 0.00589709, 0.01392752, 0.02571955, 0.04049254, 0.05458423, 0.06799462, 0.08072372, 0.09277151, 0.104138, 0.1148232, 0.1253613, 0.134938, 0.1435534, 0.1512075, 0.1579003, 0.1636318, 0.168402, 0.1707312, 0.1727381, 0.1744226, 0.1757847, 0.1768244, 0.1775417, 0.1779366, 0.1780132, 0.1780381, 0.1780114, 0.1778054, 0.1771205, 0.1761599, 0.1749056, 0.1733575, 0.1715157, 0.1693801, 0.1669508, 0.1642277, 0.1619476, 0.1607501, 0.1582434, 0.1542136, 0.1487101, 0.1428573, 0.1366552, 0.1301038, 0.123203, 0.115953, 0.1083536, 0.09959534, 0.09073398, 0.08176954, 0.07270202, 0.06353143, 0.05425777, 0.04488103, 0.0391389, 0.03345499, 0.0278293, 0.02226184, 0.0167526, 0.01130157, 0.005908776, 0.001794567, -0.000240862, -0.0022612, -0.006254728, -0.01212034, -0.01947156, -0.02648639, -0.03316482, -0.03950686, -0.0455125, -0.05118174, -0.05651458, -0.06177798, -0.06656493, -0.07087543, -0.07470949, -0.0780671, -0.08094827, -0.083353, -0.08453068, -0.08554823, -0.08640565, -0.08710294, -0.08764009, -0.08801711, -0.088234, -0.08828055, -0.08830133, -0.08829653, -0.08821096, -0.08789567, -0.08743971, -0.08683747, -0.08608896, -0.08519418, -0.08415312, -0.08296579, -0.08163218, -0.08051401, -0.0799263, -0.07931989, -0.07805231, -0.07601874, -0.07313399, -0.07006848, -0.06682219, -0.06339514, -0.05978732, -0.05599874, -0.05202939, -0.04763776, -0.04320465, -0.03873003, -0.03421393, -0.02965632, -0.02505722, -0.02041663, -0.0177375, -0.01508606, -0.01246229, -0.009866213, -0.007297815, -0.0047571, -0.002244066, -0.001224956, -0.0002130131, 0.0007915224, 0.002777438, 0.005695024, 0.00908409, 0.01233262, 0.01544063, 0.0184081, 0.02123504, 0.02392145, 0.02646732, 0.02714644, 0.02865242, 0.03008809, 0.03145346, 0.03274853, 0.03397329, 0.03512774, 0.03621189, 0.03666376, 0.0369688])  # y data for model validation\n",
    "\n",
    "print(len(x_values_mv), len(y_values_mv))\n",
    "\n",
    "x = np.arange(0.01, 10, 0.02)"
   ]
  },
  {
   "cell_type": "markdown",
   "metadata": {},
   "source": [
    "plot the output of the GPR"
   ]
  },
  {
   "cell_type": "code",
   "execution_count": 24,
   "metadata": {
    "ExecuteTime": {
     "end_time": "2024-07-24T16:36:32.767391Z",
     "start_time": "2024-07-24T16:36:28.956792Z"
    }
   },
   "outputs": [
    {
     "name": "stdout",
     "output_type": "stream",
     "text": [
      "sigma memory =  1\n",
      "length memory =  1\n"
     ]
    },
    {
     "name": "stderr",
     "output_type": "stream",
     "text": [
      "/var/folders/db/wdxh9ynd7_bfr2nwqswb2nn80000gn/T/ipykernel_55963/72069979.py:28: IntegrationWarning:\n",
      "\n",
      "The integral is probably divergent, or slowly convergent.\n",
      "\n",
      "/var/folders/db/wdxh9ynd7_bfr2nwqswb2nn80000gn/T/ipykernel_55963/72069979.py:78: IntegrationWarning:\n",
      "\n",
      "The integral is probably divergent, or slowly convergent.\n",
      "\n"
     ]
    },
    {
     "ename": "KeyboardInterrupt",
     "evalue": "",
     "output_type": "error",
     "traceback": [
      "\u001B[0;31m---------------------------------------------------------------------------\u001B[0m",
      "\u001B[0;31mKeyboardInterrupt\u001B[0m                         Traceback (most recent call last)",
      "Input \u001B[0;32mIn [24]\u001B[0m, in \u001B[0;36m<cell line: 1>\u001B[0;34m()\u001B[0m\n\u001B[0;32m----> 1\u001B[0m model \u001B[38;5;241m=\u001B[39m \u001B[43mGPR\u001B[49m\u001B[43m(\u001B[49m\u001B[43mx_values\u001B[49m\u001B[43m,\u001B[49m\u001B[43m \u001B[49m\u001B[43my_values\u001B[49m\u001B[43m)\u001B[49m\n\u001B[1;32m      2\u001B[0m data \u001B[38;5;241m=\u001B[39m plot_GPR(data_x\u001B[38;5;241m=\u001B[39mx_values, data_y\u001B[38;5;241m=\u001B[39my_values, x\u001B[38;5;241m=\u001B[39mx, model\u001B[38;5;241m=\u001B[39mmodel, data_x_mv\u001B[38;5;241m=\u001B[39mx_values_mv, data_y_mv\u001B[38;5;241m=\u001B[39my_values_mv)\n\u001B[1;32m      3\u001B[0m fig4 \u001B[38;5;241m=\u001B[39m go\u001B[38;5;241m.\u001B[39mFigure(data)\n",
      "Input \u001B[0;32mIn [21]\u001B[0m, in \u001B[0;36mGPR.__init__\u001B[0;34m(self, data_x, data_y, cov_func, noise)\u001B[0m\n\u001B[1;32m      9\u001B[0m \u001B[38;5;28mself\u001B[39m\u001B[38;5;241m.\u001B[39mmemory \u001B[38;5;241m=\u001B[39m \u001B[38;5;28;01mNone\u001B[39;00m\n\u001B[1;32m     11\u001B[0m n \u001B[38;5;241m=\u001B[39m \u001B[38;5;28mlen\u001B[39m(data_x)\n\u001B[0;32m---> 12\u001B[0m \u001B[38;5;28mself\u001B[39m\u001B[38;5;241m.\u001B[39minv_cov_matrix_of_input_data \u001B[38;5;241m=\u001B[39m np\u001B[38;5;241m.\u001B[39mlinalg\u001B[38;5;241m.\u001B[39minv(\u001B[43mcreate_cov_matrix\u001B[49m\u001B[43m(\u001B[49m\u001B[43mdata_x\u001B[49m\u001B[43m,\u001B[49m\u001B[43m \u001B[49m\u001B[43mdata_x\u001B[49m\u001B[43m,\u001B[49m\u001B[43m \u001B[49m\u001B[43mcov_func\u001B[49m\u001B[43m)\u001B[49m \u001B[38;5;241m+\u001B[39m (noise \u001B[38;5;241m+\u001B[39m \u001B[38;5;241m3e-7\u001B[39m)\u001B[38;5;241m*\u001B[39m\u001B[38;5;241m*\u001B[39m\u001B[38;5;241m2\u001B[39m \u001B[38;5;241m*\u001B[39m np\u001B[38;5;241m.\u001B[39midentity(\u001B[38;5;241m2\u001B[39m\u001B[38;5;241m*\u001B[39mn))\n",
      "Input \u001B[0;32mIn [14]\u001B[0m, in \u001B[0;36mcreate_cov_matrix\u001B[0;34m(variable_1, variable_2, cov_function)\u001B[0m\n\u001B[1;32m      7\u001B[0m kuf_sub_matrix \u001B[38;5;241m=\u001B[39m create_sub_matrix(variable_1, variable_2, k_uf, cov_function)\n\u001B[1;32m      8\u001B[0m kfu_sub_matrix \u001B[38;5;241m=\u001B[39m create_sub_matrix(variable_1, variable_2, k_fu, cov_function)\n\u001B[0;32m----> 9\u001B[0m kff_sub_matrix \u001B[38;5;241m=\u001B[39m \u001B[43mcreate_sub_matrix\u001B[49m\u001B[43m(\u001B[49m\u001B[43mvariable_1\u001B[49m\u001B[43m,\u001B[49m\u001B[43m \u001B[49m\u001B[43mvariable_2\u001B[49m\u001B[43m,\u001B[49m\u001B[43m \u001B[49m\u001B[43mk_ff\u001B[49m\u001B[43m,\u001B[49m\u001B[43m \u001B[49m\u001B[43mcov_function\u001B[49m\u001B[43m)\u001B[49m\n\u001B[1;32m     11\u001B[0m \u001B[38;5;28;01mfor\u001B[39;00m i \u001B[38;5;129;01min\u001B[39;00m \u001B[38;5;28mrange\u001B[39m(\u001B[38;5;241m2\u001B[39m\u001B[38;5;241m*\u001B[39mn1):\n\u001B[1;32m     12\u001B[0m     \u001B[38;5;28;01mfor\u001B[39;00m j \u001B[38;5;129;01min\u001B[39;00m \u001B[38;5;28mrange\u001B[39m(\u001B[38;5;241m2\u001B[39m\u001B[38;5;241m*\u001B[39mn2):\n",
      "Input \u001B[0;32mIn [13]\u001B[0m, in \u001B[0;36mcreate_sub_matrix\u001B[0;34m(variable_1, variable_2, specified_cov_function, cov_function)\u001B[0m\n\u001B[1;32m      6\u001B[0m \u001B[38;5;28;01mfor\u001B[39;00m i, val_1 \u001B[38;5;129;01min\u001B[39;00m \u001B[38;5;28menumerate\u001B[39m(variable_1):\n\u001B[1;32m      7\u001B[0m     \u001B[38;5;28;01mfor\u001B[39;00m j, val_2 \u001B[38;5;129;01min\u001B[39;00m \u001B[38;5;28menumerate\u001B[39m(variable_2):\n\u001B[0;32m----> 8\u001B[0m         sub_matrix[i, j] \u001B[38;5;241m=\u001B[39m \u001B[43mspecified_cov_function\u001B[49m\u001B[43m(\u001B[49m\u001B[43mval_1\u001B[49m\u001B[43m,\u001B[49m\u001B[43m \u001B[49m\u001B[43mval_2\u001B[49m\u001B[43m,\u001B[49m\u001B[43m \u001B[49m\u001B[43mcov_function\u001B[49m\u001B[43m)\u001B[49m\n\u001B[1;32m     10\u001B[0m \u001B[38;5;28;01mreturn\u001B[39;00m sub_matrix\n",
      "Input \u001B[0;32mIn [11]\u001B[0m, in \u001B[0;36mk_ff\u001B[0;34m(val_1, val_2, cov_func, R, C, L)\u001B[0m\n\u001B[1;32m    117\u001B[0m     d \u001B[38;5;241m=\u001B[39m double_integral(val_1, val_2)\n\u001B[1;32m    118\u001B[0m     \u001B[38;5;28;01mreturn\u001B[39;00m d\n\u001B[0;32m--> 120\u001B[0m \u001B[38;5;28;01mreturn\u001B[39;00m a \u001B[38;5;241m+\u001B[39m integral_val_b \u001B[38;5;241m+\u001B[39m integral_val_c \u001B[38;5;241m+\u001B[39m g() \u001B[38;5;241m+\u001B[39m \u001B[43mf\u001B[49m\u001B[43m(\u001B[49m\u001B[43m)\u001B[49m \u001B[38;5;241m+\u001B[39m e() \u001B[38;5;241m+\u001B[39m d()\n",
      "Input \u001B[0;32mIn [11]\u001B[0m, in \u001B[0;36mk_ff.<locals>.f\u001B[0;34m()\u001B[0m\n\u001B[1;32m     64\u001B[0m     integral_val, _ \u001B[38;5;241m=\u001B[39m integrate(integrand, \u001B[38;5;241m0\u001B[39m, val_1, epsabs\u001B[38;5;241m=\u001B[39m\u001B[38;5;241m1e-8\u001B[39m, epsrel\u001B[38;5;241m=\u001B[39m\u001B[38;5;241m1e-8\u001B[39m, limit\u001B[38;5;241m=\u001B[39m\u001B[38;5;241m10000\u001B[39m)\n\u001B[1;32m     65\u001B[0m     \u001B[38;5;28;01mreturn\u001B[39;00m integral_val\n\u001B[0;32m---> 67\u001B[0m f \u001B[38;5;241m=\u001B[39m \u001B[43mdouble_integral\u001B[49m\u001B[43m(\u001B[49m\u001B[43mval_1\u001B[49m\u001B[43m,\u001B[49m\u001B[43m \u001B[49m\u001B[43mval_2\u001B[49m\u001B[43m)\u001B[49m\n\u001B[1;32m     68\u001B[0m \u001B[38;5;28;01mreturn\u001B[39;00m f\n",
      "Input \u001B[0;32mIn [11]\u001B[0m, in \u001B[0;36mk_ff.<locals>.f.<locals>.double_integral\u001B[0;34m(val_1, val_2)\u001B[0m\n\u001B[1;32m     62\u001B[0m \u001B[38;5;28;01mdef\u001B[39;00m \u001B[38;5;21mdouble_integral\u001B[39m(val_1, val_2):\n\u001B[1;32m     63\u001B[0m     integrand \u001B[38;5;241m=\u001B[39m \u001B[38;5;28;01mlambda\u001B[39;00m tau: \u001B[38;5;241m1\u001B[39m\u001B[38;5;241m/\u001B[39mgamma(\u001B[38;5;241m1\u001B[39m \u001B[38;5;241m-\u001B[39m alpha) \u001B[38;5;241m*\u001B[39m \u001B[38;5;241m1\u001B[39m\u001B[38;5;241m/\u001B[39m(val_1 \u001B[38;5;241m-\u001B[39m tau)\u001B[38;5;241m*\u001B[39m\u001B[38;5;241m*\u001B[39malpha \u001B[38;5;241m*\u001B[39m derivative_B(tau, val_2)\n\u001B[0;32m---> 64\u001B[0m     integral_val, _ \u001B[38;5;241m=\u001B[39m \u001B[43mintegrate\u001B[49m\u001B[43m(\u001B[49m\u001B[43mintegrand\u001B[49m\u001B[43m,\u001B[49m\u001B[43m \u001B[49m\u001B[38;5;241;43m0\u001B[39;49m\u001B[43m,\u001B[49m\u001B[43m \u001B[49m\u001B[43mval_1\u001B[49m\u001B[43m,\u001B[49m\u001B[43m \u001B[49m\u001B[43mepsabs\u001B[49m\u001B[38;5;241;43m=\u001B[39;49m\u001B[38;5;241;43m1e-8\u001B[39;49m\u001B[43m,\u001B[49m\u001B[43m \u001B[49m\u001B[43mepsrel\u001B[49m\u001B[38;5;241;43m=\u001B[39;49m\u001B[38;5;241;43m1e-8\u001B[39;49m\u001B[43m,\u001B[49m\u001B[43m \u001B[49m\u001B[43mlimit\u001B[49m\u001B[38;5;241;43m=\u001B[39;49m\u001B[38;5;241;43m10000\u001B[39;49m\u001B[43m)\u001B[49m\n\u001B[1;32m     65\u001B[0m     \u001B[38;5;28;01mreturn\u001B[39;00m integral_val\n",
      "File \u001B[0;32m/Library/Frameworks/Python.framework/Versions/3.10/lib/python3.10/site-packages/scipy/integrate/_quadpack_py.py:351\u001B[0m, in \u001B[0;36mquad\u001B[0;34m(func, a, b, args, full_output, epsabs, epsrel, limit, points, weight, wvar, wopts, maxp1, limlst)\u001B[0m\n\u001B[1;32m    348\u001B[0m flip, a, b \u001B[38;5;241m=\u001B[39m b \u001B[38;5;241m<\u001B[39m a, \u001B[38;5;28mmin\u001B[39m(a, b), \u001B[38;5;28mmax\u001B[39m(a, b)\n\u001B[1;32m    350\u001B[0m \u001B[38;5;28;01mif\u001B[39;00m weight \u001B[38;5;129;01mis\u001B[39;00m \u001B[38;5;28;01mNone\u001B[39;00m:\n\u001B[0;32m--> 351\u001B[0m     retval \u001B[38;5;241m=\u001B[39m \u001B[43m_quad\u001B[49m\u001B[43m(\u001B[49m\u001B[43mfunc\u001B[49m\u001B[43m,\u001B[49m\u001B[43m \u001B[49m\u001B[43ma\u001B[49m\u001B[43m,\u001B[49m\u001B[43m \u001B[49m\u001B[43mb\u001B[49m\u001B[43m,\u001B[49m\u001B[43m \u001B[49m\u001B[43margs\u001B[49m\u001B[43m,\u001B[49m\u001B[43m \u001B[49m\u001B[43mfull_output\u001B[49m\u001B[43m,\u001B[49m\u001B[43m \u001B[49m\u001B[43mepsabs\u001B[49m\u001B[43m,\u001B[49m\u001B[43m \u001B[49m\u001B[43mepsrel\u001B[49m\u001B[43m,\u001B[49m\u001B[43m \u001B[49m\u001B[43mlimit\u001B[49m\u001B[43m,\u001B[49m\n\u001B[1;32m    352\u001B[0m \u001B[43m                   \u001B[49m\u001B[43mpoints\u001B[49m\u001B[43m)\u001B[49m\n\u001B[1;32m    353\u001B[0m \u001B[38;5;28;01melse\u001B[39;00m:\n\u001B[1;32m    354\u001B[0m     \u001B[38;5;28;01mif\u001B[39;00m points \u001B[38;5;129;01mis\u001B[39;00m \u001B[38;5;129;01mnot\u001B[39;00m \u001B[38;5;28;01mNone\u001B[39;00m:\n",
      "File \u001B[0;32m/Library/Frameworks/Python.framework/Versions/3.10/lib/python3.10/site-packages/scipy/integrate/_quadpack_py.py:463\u001B[0m, in \u001B[0;36m_quad\u001B[0;34m(func, a, b, args, full_output, epsabs, epsrel, limit, points)\u001B[0m\n\u001B[1;32m    461\u001B[0m \u001B[38;5;28;01mif\u001B[39;00m points \u001B[38;5;129;01mis\u001B[39;00m \u001B[38;5;28;01mNone\u001B[39;00m:\n\u001B[1;32m    462\u001B[0m     \u001B[38;5;28;01mif\u001B[39;00m infbounds \u001B[38;5;241m==\u001B[39m \u001B[38;5;241m0\u001B[39m:\n\u001B[0;32m--> 463\u001B[0m         \u001B[38;5;28;01mreturn\u001B[39;00m \u001B[43m_quadpack\u001B[49m\u001B[38;5;241;43m.\u001B[39;49m\u001B[43m_qagse\u001B[49m\u001B[43m(\u001B[49m\u001B[43mfunc\u001B[49m\u001B[43m,\u001B[49m\u001B[43ma\u001B[49m\u001B[43m,\u001B[49m\u001B[43mb\u001B[49m\u001B[43m,\u001B[49m\u001B[43margs\u001B[49m\u001B[43m,\u001B[49m\u001B[43mfull_output\u001B[49m\u001B[43m,\u001B[49m\u001B[43mepsabs\u001B[49m\u001B[43m,\u001B[49m\u001B[43mepsrel\u001B[49m\u001B[43m,\u001B[49m\u001B[43mlimit\u001B[49m\u001B[43m)\u001B[49m\n\u001B[1;32m    464\u001B[0m     \u001B[38;5;28;01melse\u001B[39;00m:\n\u001B[1;32m    465\u001B[0m         \u001B[38;5;28;01mreturn\u001B[39;00m _quadpack\u001B[38;5;241m.\u001B[39m_qagie(func,bound,infbounds,args,full_output,epsabs,epsrel,limit)\n",
      "Input \u001B[0;32mIn [11]\u001B[0m, in \u001B[0;36mk_ff.<locals>.f.<locals>.double_integral.<locals>.<lambda>\u001B[0;34m(tau)\u001B[0m\n\u001B[1;32m     62\u001B[0m \u001B[38;5;28;01mdef\u001B[39;00m \u001B[38;5;21mdouble_integral\u001B[39m(val_1, val_2):\n\u001B[0;32m---> 63\u001B[0m     integrand \u001B[38;5;241m=\u001B[39m \u001B[38;5;28;01mlambda\u001B[39;00m tau: \u001B[38;5;241m1\u001B[39m\u001B[38;5;241m/\u001B[39mgamma(\u001B[38;5;241m1\u001B[39m \u001B[38;5;241m-\u001B[39m alpha) \u001B[38;5;241m*\u001B[39m \u001B[38;5;241m1\u001B[39m\u001B[38;5;241m/\u001B[39m(val_1 \u001B[38;5;241m-\u001B[39m tau)\u001B[38;5;241m*\u001B[39m\u001B[38;5;241m*\u001B[39malpha \u001B[38;5;241m*\u001B[39m \u001B[43mderivative_B\u001B[49m\u001B[43m(\u001B[49m\u001B[43mtau\u001B[49m\u001B[43m,\u001B[49m\u001B[43m \u001B[49m\u001B[43mval_2\u001B[49m\u001B[43m)\u001B[49m\n\u001B[1;32m     64\u001B[0m     integral_val, _ \u001B[38;5;241m=\u001B[39m integrate(integrand, \u001B[38;5;241m0\u001B[39m, val_1, epsabs\u001B[38;5;241m=\u001B[39m\u001B[38;5;241m1e-8\u001B[39m, epsrel\u001B[38;5;241m=\u001B[39m\u001B[38;5;241m1e-8\u001B[39m, limit\u001B[38;5;241m=\u001B[39m\u001B[38;5;241m10000\u001B[39m)\n\u001B[1;32m     65\u001B[0m     \u001B[38;5;28;01mreturn\u001B[39;00m integral_val\n",
      "Input \u001B[0;32mIn [11]\u001B[0m, in \u001B[0;36mk_ff.<locals>.f.<locals>.derivative_B\u001B[0;34m(tau, val_2, h)\u001B[0m\n\u001B[1;32m     57\u001B[0m \u001B[38;5;28;01mdef\u001B[39;00m \u001B[38;5;21mB_tau\u001B[39m(tau):\n\u001B[1;32m     58\u001B[0m     \u001B[38;5;28;01mreturn\u001B[39;00m B(tau, val_2)\n\u001B[0;32m---> 59\u001B[0m dB \u001B[38;5;241m=\u001B[39m (B_tau(tau \u001B[38;5;241m+\u001B[39m h) \u001B[38;5;241m-\u001B[39m \u001B[43mB_tau\u001B[49m\u001B[43m(\u001B[49m\u001B[43mtau\u001B[49m\u001B[43m \u001B[49m\u001B[38;5;241;43m-\u001B[39;49m\u001B[43m \u001B[49m\u001B[43mh\u001B[49m\u001B[43m)\u001B[49m) \u001B[38;5;241m/\u001B[39m (\u001B[38;5;241m2\u001B[39m\u001B[38;5;241m*\u001B[39mh)\n\u001B[1;32m     60\u001B[0m \u001B[38;5;28;01mreturn\u001B[39;00m dB\n",
      "Input \u001B[0;32mIn [11]\u001B[0m, in \u001B[0;36mk_ff.<locals>.f.<locals>.derivative_B.<locals>.B_tau\u001B[0;34m(tau)\u001B[0m\n\u001B[1;32m     57\u001B[0m \u001B[38;5;28;01mdef\u001B[39;00m \u001B[38;5;21mB_tau\u001B[39m(tau):\n\u001B[0;32m---> 58\u001B[0m     \u001B[38;5;28;01mreturn\u001B[39;00m \u001B[43mB\u001B[49m\u001B[43m(\u001B[49m\u001B[43mtau\u001B[49m\u001B[43m,\u001B[49m\u001B[43m \u001B[49m\u001B[43mval_2\u001B[49m\u001B[43m)\u001B[49m\n",
      "Input \u001B[0;32mIn [11]\u001B[0m, in \u001B[0;36mk_ff.<locals>.f.<locals>.B\u001B[0;34m(val_1, val_2)\u001B[0m\n\u001B[1;32m     51\u001B[0m \u001B[38;5;28;01mdef\u001B[39;00m \u001B[38;5;21mB\u001B[39m(val_1, val_2):\n\u001B[1;32m     52\u001B[0m     integrand \u001B[38;5;241m=\u001B[39m \u001B[38;5;28;01mlambda\u001B[39;00m tau: A(val_1, val_2, tau)\n\u001B[0;32m---> 53\u001B[0m     integral_val, _ \u001B[38;5;241m=\u001B[39m \u001B[43mintegrate\u001B[49m\u001B[43m(\u001B[49m\u001B[43mintegrand\u001B[49m\u001B[43m,\u001B[49m\u001B[43m \u001B[49m\u001B[38;5;241;43m0\u001B[39;49m\u001B[43m,\u001B[49m\u001B[43m \u001B[49m\u001B[43mval_2\u001B[49m\u001B[43m,\u001B[49m\u001B[43m \u001B[49m\u001B[43mepsabs\u001B[49m\u001B[38;5;241;43m=\u001B[39;49m\u001B[38;5;241;43m1e-8\u001B[39;49m\u001B[43m,\u001B[49m\u001B[43m \u001B[49m\u001B[43mepsrel\u001B[49m\u001B[38;5;241;43m=\u001B[39;49m\u001B[38;5;241;43m1e-8\u001B[39;49m\u001B[43m,\u001B[49m\u001B[43m \u001B[49m\u001B[43mlimit\u001B[49m\u001B[38;5;241;43m=\u001B[39;49m\u001B[38;5;241;43m10000\u001B[39;49m\u001B[43m)\u001B[49m\n\u001B[1;32m     54\u001B[0m     \u001B[38;5;28;01mreturn\u001B[39;00m integral_val\n",
      "File \u001B[0;32m/Library/Frameworks/Python.framework/Versions/3.10/lib/python3.10/site-packages/scipy/integrate/_quadpack_py.py:351\u001B[0m, in \u001B[0;36mquad\u001B[0;34m(func, a, b, args, full_output, epsabs, epsrel, limit, points, weight, wvar, wopts, maxp1, limlst)\u001B[0m\n\u001B[1;32m    348\u001B[0m flip, a, b \u001B[38;5;241m=\u001B[39m b \u001B[38;5;241m<\u001B[39m a, \u001B[38;5;28mmin\u001B[39m(a, b), \u001B[38;5;28mmax\u001B[39m(a, b)\n\u001B[1;32m    350\u001B[0m \u001B[38;5;28;01mif\u001B[39;00m weight \u001B[38;5;129;01mis\u001B[39;00m \u001B[38;5;28;01mNone\u001B[39;00m:\n\u001B[0;32m--> 351\u001B[0m     retval \u001B[38;5;241m=\u001B[39m \u001B[43m_quad\u001B[49m\u001B[43m(\u001B[49m\u001B[43mfunc\u001B[49m\u001B[43m,\u001B[49m\u001B[43m \u001B[49m\u001B[43ma\u001B[49m\u001B[43m,\u001B[49m\u001B[43m \u001B[49m\u001B[43mb\u001B[49m\u001B[43m,\u001B[49m\u001B[43m \u001B[49m\u001B[43margs\u001B[49m\u001B[43m,\u001B[49m\u001B[43m \u001B[49m\u001B[43mfull_output\u001B[49m\u001B[43m,\u001B[49m\u001B[43m \u001B[49m\u001B[43mepsabs\u001B[49m\u001B[43m,\u001B[49m\u001B[43m \u001B[49m\u001B[43mepsrel\u001B[49m\u001B[43m,\u001B[49m\u001B[43m \u001B[49m\u001B[43mlimit\u001B[49m\u001B[43m,\u001B[49m\n\u001B[1;32m    352\u001B[0m \u001B[43m                   \u001B[49m\u001B[43mpoints\u001B[49m\u001B[43m)\u001B[49m\n\u001B[1;32m    353\u001B[0m \u001B[38;5;28;01melse\u001B[39;00m:\n\u001B[1;32m    354\u001B[0m     \u001B[38;5;28;01mif\u001B[39;00m points \u001B[38;5;129;01mis\u001B[39;00m \u001B[38;5;129;01mnot\u001B[39;00m \u001B[38;5;28;01mNone\u001B[39;00m:\n",
      "File \u001B[0;32m/Library/Frameworks/Python.framework/Versions/3.10/lib/python3.10/site-packages/scipy/integrate/_quadpack_py.py:463\u001B[0m, in \u001B[0;36m_quad\u001B[0;34m(func, a, b, args, full_output, epsabs, epsrel, limit, points)\u001B[0m\n\u001B[1;32m    461\u001B[0m \u001B[38;5;28;01mif\u001B[39;00m points \u001B[38;5;129;01mis\u001B[39;00m \u001B[38;5;28;01mNone\u001B[39;00m:\n\u001B[1;32m    462\u001B[0m     \u001B[38;5;28;01mif\u001B[39;00m infbounds \u001B[38;5;241m==\u001B[39m \u001B[38;5;241m0\u001B[39m:\n\u001B[0;32m--> 463\u001B[0m         \u001B[38;5;28;01mreturn\u001B[39;00m \u001B[43m_quadpack\u001B[49m\u001B[38;5;241;43m.\u001B[39;49m\u001B[43m_qagse\u001B[49m\u001B[43m(\u001B[49m\u001B[43mfunc\u001B[49m\u001B[43m,\u001B[49m\u001B[43ma\u001B[49m\u001B[43m,\u001B[49m\u001B[43mb\u001B[49m\u001B[43m,\u001B[49m\u001B[43margs\u001B[49m\u001B[43m,\u001B[49m\u001B[43mfull_output\u001B[49m\u001B[43m,\u001B[49m\u001B[43mepsabs\u001B[49m\u001B[43m,\u001B[49m\u001B[43mepsrel\u001B[49m\u001B[43m,\u001B[49m\u001B[43mlimit\u001B[49m\u001B[43m)\u001B[49m\n\u001B[1;32m    464\u001B[0m     \u001B[38;5;28;01melse\u001B[39;00m:\n\u001B[1;32m    465\u001B[0m         \u001B[38;5;28;01mreturn\u001B[39;00m _quadpack\u001B[38;5;241m.\u001B[39m_qagie(func,bound,infbounds,args,full_output,epsabs,epsrel,limit)\n",
      "Input \u001B[0;32mIn [11]\u001B[0m, in \u001B[0;36mk_ff.<locals>.f.<locals>.B.<locals>.<lambda>\u001B[0;34m(tau)\u001B[0m\n\u001B[1;32m     51\u001B[0m \u001B[38;5;28;01mdef\u001B[39;00m \u001B[38;5;21mB\u001B[39m(val_1, val_2):\n\u001B[0;32m---> 52\u001B[0m     integrand \u001B[38;5;241m=\u001B[39m \u001B[38;5;28;01mlambda\u001B[39;00m tau: \u001B[43mA\u001B[49m\u001B[43m(\u001B[49m\u001B[43mval_1\u001B[49m\u001B[43m,\u001B[49m\u001B[43m \u001B[49m\u001B[43mval_2\u001B[49m\u001B[43m,\u001B[49m\u001B[43m \u001B[49m\u001B[43mtau\u001B[49m\u001B[43m)\u001B[49m\n\u001B[1;32m     53\u001B[0m     integral_val, _ \u001B[38;5;241m=\u001B[39m integrate(integrand, \u001B[38;5;241m0\u001B[39m, val_2, epsabs\u001B[38;5;241m=\u001B[39m\u001B[38;5;241m1e-8\u001B[39m, epsrel\u001B[38;5;241m=\u001B[39m\u001B[38;5;241m1e-8\u001B[39m, limit\u001B[38;5;241m=\u001B[39m\u001B[38;5;241m10000\u001B[39m)\n\u001B[1;32m     54\u001B[0m     \u001B[38;5;28;01mreturn\u001B[39;00m integral_val\n",
      "Input \u001B[0;32mIn [11]\u001B[0m, in \u001B[0;36mk_ff.<locals>.f.<locals>.A\u001B[0;34m(val_1, val_2, tau)\u001B[0m\n\u001B[1;32m     47\u001B[0m \u001B[38;5;28;01mdef\u001B[39;00m \u001B[38;5;21mA\u001B[39m(val_1, val_2, tau):\n\u001B[1;32m     48\u001B[0m     a \u001B[38;5;241m=\u001B[39m \u001B[38;5;241m1\u001B[39m\u001B[38;5;241m/\u001B[39m(L\u001B[38;5;241m*\u001B[39mgamma(\u001B[38;5;241m1\u001B[39m\u001B[38;5;241m+\u001B[39mbeta)) \u001B[38;5;241m*\u001B[39m (val_2 \u001B[38;5;241m-\u001B[39m tau)\u001B[38;5;241m*\u001B[39m\u001B[38;5;241m*\u001B[39mbeta \u001B[38;5;241m*\u001B[39m \u001B[38;5;241m1\u001B[39m\u001B[38;5;241m/\u001B[39ml\u001B[38;5;241m*\u001B[39m\u001B[38;5;241m*\u001B[39m\u001B[38;5;241m2\u001B[39m \u001B[38;5;241m*\u001B[39m (val_1 \u001B[38;5;241m-\u001B[39m tau)\n\u001B[0;32m---> 49\u001B[0m     \u001B[38;5;28;01mreturn\u001B[39;00m a \u001B[38;5;241m*\u001B[39m \u001B[43mcov_func\u001B[49m\u001B[43m(\u001B[49m\u001B[43mval_1\u001B[49m\u001B[43m,\u001B[49m\u001B[43m \u001B[49m\u001B[43mtau\u001B[49m\u001B[43m)\u001B[49m\n",
      "Input \u001B[0;32mIn [6]\u001B[0m, in \u001B[0;36mSquaredExponentialKernel.__call__\u001B[0;34m(self, tau_1, tau_2)\u001B[0m\n\u001B[1;32m      5\u001B[0m     \u001B[38;5;28mself\u001B[39m\u001B[38;5;241m.\u001B[39malpha \u001B[38;5;241m=\u001B[39m alpha\n\u001B[1;32m      6\u001B[0m     \u001B[38;5;28mself\u001B[39m\u001B[38;5;241m.\u001B[39mbeta \u001B[38;5;241m=\u001B[39m beta\n\u001B[0;32m----> 8\u001B[0m \u001B[38;5;28;01mdef\u001B[39;00m \u001B[38;5;21m__call__\u001B[39m(\u001B[38;5;28mself\u001B[39m, tau_1: np\u001B[38;5;241m.\u001B[39marray, tau_2: np\u001B[38;5;241m.\u001B[39marray):\n\u001B[1;32m      9\u001B[0m     \u001B[38;5;28;01mdef\u001B[39;00m \u001B[38;5;21mkernel\u001B[39m(variable_1, variable_2):\n\u001B[1;32m     10\u001B[0m         k_SE \u001B[38;5;241m=\u001B[39m \u001B[38;5;28mfloat\u001B[39m(\u001B[38;5;28mself\u001B[39m\u001B[38;5;241m.\u001B[39msigma\u001B[38;5;241m*\u001B[39m\u001B[38;5;241m*\u001B[39m\u001B[38;5;241m2\u001B[39m \u001B[38;5;241m*\u001B[39m np\u001B[38;5;241m.\u001B[39mexp(\u001B[38;5;241m-\u001B[39m(np\u001B[38;5;241m.\u001B[39mlinalg\u001B[38;5;241m.\u001B[39mnorm(variable_1 \u001B[38;5;241m-\u001B[39m variable_2)\u001B[38;5;241m*\u001B[39m\u001B[38;5;241m*\u001B[39m\u001B[38;5;241m2\u001B[39m) \u001B[38;5;241m/\u001B[39m(\u001B[38;5;241m2\u001B[39m \u001B[38;5;241m*\u001B[39m \u001B[38;5;28mself\u001B[39m\u001B[38;5;241m.\u001B[39mlength\u001B[38;5;241m*\u001B[39m\u001B[38;5;241m*\u001B[39m\u001B[38;5;241m2\u001B[39m)))\n",
      "\u001B[0;31mKeyboardInterrupt\u001B[0m: "
     ]
    }
   ],
   "source": [
    "model = GPR(x_values, y_values)\n",
    "data = plot_GPR(data_x=x_values, data_y=y_values, x=x, model=model, data_x_mv=x_values_mv, data_y_mv=y_values_mv)\n",
    "fig4 = go.Figure(data)\n",
    "fig4 = update_layout_of_graph(fig=fig4, title=f'GPR with length {model.cov_func.length}, sigma {model.cov_func.sigma}, alpha {cov_func.alpha}, beta {model.cov_func.beta} and noise {model.noise}')\n",
    "fig4.show()\n",
    "fig4.write_html('/Users/simonjamnik/PycharmProjects/GaussianProcess/RLC_Schwingfall_voltage_0.75.html')"
   ]
  },
  {
   "cell_type": "code",
   "execution_count": 105,
   "metadata": {
    "ExecuteTime": {
     "end_time": "2024-07-05T00:08:34.365267Z",
     "start_time": "2024-07-05T00:08:34.361358Z"
    }
   },
   "outputs": [],
   "source": []
  },
  {
   "cell_type": "code",
   "execution_count": null,
   "metadata": {},
   "outputs": [],
   "source": []
  },
  {
   "cell_type": "code",
   "execution_count": null,
   "metadata": {},
   "outputs": [],
   "source": []
  },
  {
   "cell_type": "code",
   "execution_count": null,
   "outputs": [],
   "source": [],
   "metadata": {
    "collapsed": false
   }
  }
 ],
 "metadata": {
  "kernelspec": {
   "display_name": "Python 3 (ipykernel)",
   "language": "python",
   "name": "python3"
  },
  "language_info": {
   "codemirror_mode": {
    "name": "ipython",
    "version": 3
   },
   "file_extension": ".py",
   "mimetype": "text/x-python",
   "name": "python",
   "nbconvert_exporter": "python",
   "pygments_lexer": "ipython3",
   "version": "3.10.2"
  }
 },
 "nbformat": 4,
 "nbformat_minor": 1
}
