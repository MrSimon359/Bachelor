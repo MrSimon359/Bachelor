{
 "cells": [
  {
   "cell_type": "markdown",
   "metadata": {},
   "source": [
    "necessary packages"
   ]
  },
  {
   "cell_type": "code",
   "execution_count": 1,
   "metadata": {
    "ExecuteTime": {
     "end_time": "2024-07-24T16:33:15.282077Z",
     "start_time": "2024-07-24T16:33:14.738263Z"
    }
   },
   "outputs": [],
   "source": [
    "import numpy as np\n",
    "from ipywidgets import interact\n",
    "import plotly.graph_objects as go\n",
    "from scipy.special import gamma\n",
    "from scipy.integrate import quad as integrate"
   ]
  },
  {
   "cell_type": "markdown",
   "metadata": {},
   "source": [
    "define function for updating the layout of the figure:\n",
    "* updates the layout of a plotly figure with predefined settings\n",
    "* the **title** dict includes all title properties: **'x'** specifies the position of the title along the x-axis, **'xanchor'** specifies the anchor point of the title along the x-axis"
   ]
  },
  {
   "cell_type": "code",
   "execution_count": 2,
   "metadata": {
    "ExecuteTime": {
     "end_time": "2024-07-24T16:33:15.738479Z",
     "start_time": "2024-07-24T16:33:15.725317Z"
    }
   },
   "outputs": [],
   "source": [
    "def update_layout_of_graph(fig: go.Figure, title: str = 'Plot') -> go.Figure:\n",
    "    fig.update_layout(\n",
    "        width=1000,\n",
    "        height=500,\n",
    "        autosize=False,\n",
    "        plot_bgcolor='black',\n",
    "        title={'text': title, 'x': 0.5, 'xanchor': 'center'},  # dict includes all title properties; specifies the position of the title along the x-axis\n",
    "        xaxis_title='input values',\n",
    "        yaxis_title='output values',\n",
    "        legend=dict(yanchor=\"top\", y=0.5, xanchor=\"right\", x=0.95),\n",
    "        xaxis=dict(showline=True, linewidth=1, linecolor='black'),\n",
    "        yaxis=dict(showline=True, linewidth=1, linecolor='black')\n",
    "    )\n",
    "    return fig"
   ]
  },
  {
   "cell_type": "markdown",
   "metadata": {},
   "source": [
    "define function for creating a line plot:\n",
    "* creates a Plotly scatter trace representing a line plot\n",
    "* **x_lines** x-coordinates of the points on the line with an empty default array\n",
    "* **y_lines** y-coordinates of the points on the line with an empty default array"
   ]
  },
  {
   "cell_type": "code",
   "execution_count": 3,
   "metadata": {
    "ExecuteTime": {
     "end_time": "2024-07-24T16:33:17.549964Z",
     "start_time": "2024-07-24T16:33:17.537617Z"
    }
   },
   "outputs": [],
   "source": [
    "def line_plot(x_lines: np.array = np.array([]), y_lines: np.array = np.array([]), title: str = 'predicted function',\n",
    "show_legend: bool = True, visible: bool = True, ) -> go.Scatter:\n",
    "\n",
    "    scatter = go.Scatter(x=x_lines, y=y_lines, line=dict(color=\"orange\", width=3), name=title, showlegend= show_legend, visible=visible)\n",
    "    return scatter"
   ]
  },
  {
   "cell_type": "markdown",
   "metadata": {},
   "source": [
    "define function for a scatter plot:\n",
    "* creates a scatter plot with Plotly\n",
    "* **x_dots** is an array of x-coordinates for the data points in the scatter plot with an empty default array\n",
    "* **y_dots** is an array of y-coordinates for the data points in the scatter plot with an empty default array"
   ]
  },
  {
   "cell_type": "code",
   "execution_count": 4,
   "metadata": {
    "ExecuteTime": {
     "end_time": "2024-07-24T16:33:18.269364Z",
     "start_time": "2024-07-24T16:33:18.200879Z"
    }
   },
   "outputs": [],
   "source": [
    "def scatter_plot(visible: bool = True, x_dots: np.array = np.array([]), y_dots: np.array = np.array([]), name_dots: str = 'observed points',\n",
    "show_legend: bool = True, color: str = 'red') -> go.Scatter:\n",
    "\n",
    "    scatter = go.Scatter(x=x_dots, y=y_dots, visible=visible, mode='markers', name=name_dots, marker=dict(color=color, size=8), showlegend=show_legend)\n",
    "    return scatter"
   ]
  },
  {
   "cell_type": "markdown",
   "metadata": {},
   "source": [
    "define function for plotting the uncertainty area:\n",
    "* generates an area plot to represent the uncertainty using the Plotly\n",
    "* **x_lines** an array of x-coordinates for the lines outlining the area plot with an empty default array\n",
    "* **y_lower** an array of y-coordinates representing the lower boundary of the uncertainty area plot with an empty default array\n",
    "* **y_upper** an array of y-coordinates representing the upper boundary of the uncertainty area plot with an empty default array"
   ]
  },
  {
   "cell_type": "code",
   "execution_count": 5,
   "metadata": {
    "ExecuteTime": {
     "end_time": "2024-07-24T16:33:18.729286Z",
     "start_time": "2024-07-24T16:33:18.721065Z"
    }
   },
   "outputs": [],
   "source": [
    "def uncertainty_area_plot(visible: bool = True, x_lines: np.array = np.array([]), y_lower: np.array = np.array([]), y_upper: np.array = np.array([]), name: str = 'mean plus/minus standard deviation') -> go.Scatter:\n",
    "\n",
    "    scatter = go.Scatter(x=np.concatenate((x_lines, x_lines[::-1])), y=np.concatenate((y_upper, y_lower[::-1])), visible=visible, fill='toself', fillcolor='rgba(189, 195, 199, 0.5)', line=dict(color='rgba(200, 200, 200, 0)'), hoverinfo='skip', showlegend=True, name=name)\n",
    "    return scatter"
   ]
  },
  {
   "cell_type": "markdown",
   "metadata": {},
   "source": [
    "define squared exponential kernel:\n",
    "* **variable1** & **variable2** correspond to t & t'\n",
    "* **sigma** describes the average distance away from the function mean and l determines the reach of influence on neighbors\n",
    "* **sigma** & **length** is assigned the float standard value 1\n",
    "* **variable_1** & **variable_2** expect an array"
   ]
  },
  {
   "cell_type": "code",
   "execution_count": 6,
   "metadata": {
    "ExecuteTime": {
     "end_time": "2024-07-24T16:33:20.516517Z",
     "start_time": "2024-07-24T16:33:20.469646Z"
    }
   },
   "outputs": [],
   "source": [
    "class SquaredExponentialKernel:\n",
    "    def __init__(self, sigma: float = 1, length: float = 1, alpha: float = 0.75, beta: float = 0.75):\n",
    "        self.sigma = sigma\n",
    "        self.length = length\n",
    "        self.alpha = alpha\n",
    "        self.beta = beta\n",
    "\n",
    "    def __call__(self, tau_1: np.array, tau_2: np.array):\n",
    "        def kernel(variable_1, variable_2):\n",
    "            k_SE = float(self.sigma**2 * np.exp(-(np.linalg.norm(variable_1 - variable_2)**2) /(2 * self.length**2)))\n",
    "            return k_SE\n",
    "        return kernel(tau_1, tau_2)"
   ]
  },
  {
   "cell_type": "markdown",
   "metadata": {
    "ExecuteTime": {
     "end_time": "2024-03-18T13:48:10.656422Z",
     "start_time": "2024-03-18T13:48:08.952728Z"
    }
   },
   "source": [
    "visualize the squared exponential kernel:\n",
    "* only for testing the squared exponential kernel and monitor the effect of changing the parameters\n",
    "* **@interact** generates a user interface which allows for an interactive regulation of the parameters length, sigma and variable_2 in the defined ranges\n",
    "* the function **update** is called whenever the values of the sliders are changed\n",
    "* **batch_update()** ensures that all updates to the figure within the block are batched together"
   ]
  },
  {
   "cell_type": "code",
   "execution_count": 7,
   "metadata": {
    "ExecuteTime": {
     "end_time": "2024-07-24T16:33:21.714187Z",
     "start_time": "2024-07-24T16:33:21.537810Z"
    }
   },
   "outputs": [
    {
     "data": {
      "text/plain": "interactive(children=(FloatSlider(value=1.0, description='length', max=3.0, min=0.1), FloatSlider(value=1.0, d…",
      "application/vnd.jupyter.widget-view+json": {
       "version_major": 2,
       "version_minor": 0,
       "model_id": "fa61cb7713e44ad4bb18136595709a0f"
      }
     },
     "metadata": {},
     "output_type": "display_data"
    },
    {
     "data": {
      "application/vnd.jupyter.widget-view+json": {
       "version_major": 2,
       "version_minor": 0,
       "model_id": "7b065e069aaf405ebdfe526b5481cfe7"
      },
      "text/plain": "FigureWidget({\n    'data': [{'line': {'color': 'orange', 'width': 3},\n              'name': 'predicted function',\n              'showlegend': True,\n              'type': 'scatter',\n              'uid': 'ca5b7775-9abc-4c81-9d42-32cf72ff7298',\n              'visible': True,\n              'x': array([-1.00000000e+01, -9.90000000e+00, -9.80000000e+00, -9.70000000e+00,\n                          -9.60000000e+00, -9.50000000e+00, -9.40000000e+00, -9.30000000e+00,\n                          -9.20000000e+00, -9.10000000e+00, -9.00000000e+00, -8.90000000e+00,\n                          -8.80000000e+00, -8.70000000e+00, -8.60000000e+00, -8.50000000e+00,\n                          -8.40000000e+00, -8.30000000e+00, -8.20000000e+00, -8.10000000e+00,\n                          -8.00000000e+00, -7.90000000e+00, -7.80000000e+00, -7.70000000e+00,\n                          -7.60000000e+00, -7.50000000e+00, -7.40000000e+00, -7.30000000e+00,\n                          -7.20000000e+00, -7.10000000e+00, -7.00000000e+00, -6.90000000e+00,\n                          -6.80000000e+00, -6.70000000e+00, -6.60000000e+00, -6.50000000e+00,\n                          -6.40000000e+00, -6.30000000e+00, -6.20000000e+00, -6.10000000e+00,\n                          -6.00000000e+00, -5.90000000e+00, -5.80000000e+00, -5.70000000e+00,\n                          -5.60000000e+00, -5.50000000e+00, -5.40000000e+00, -5.30000000e+00,\n                          -5.20000000e+00, -5.10000000e+00, -5.00000000e+00, -4.90000000e+00,\n                          -4.80000000e+00, -4.70000000e+00, -4.60000000e+00, -4.50000000e+00,\n                          -4.40000000e+00, -4.30000000e+00, -4.20000000e+00, -4.10000000e+00,\n                          -4.00000000e+00, -3.90000000e+00, -3.80000000e+00, -3.70000000e+00,\n                          -3.60000000e+00, -3.50000000e+00, -3.40000000e+00, -3.30000000e+00,\n                          -3.20000000e+00, -3.10000000e+00, -3.00000000e+00, -2.90000000e+00,\n                          -2.80000000e+00, -2.70000000e+00, -2.60000000e+00, -2.50000000e+00,\n                          -2.40000000e+00, -2.30000000e+00, -2.20000000e+00, -2.10000000e+00,\n                          -2.00000000e+00, -1.90000000e+00, -1.80000000e+00, -1.70000000e+00,\n                          -1.60000000e+00, -1.50000000e+00, -1.40000000e+00, -1.30000000e+00,\n                          -1.20000000e+00, -1.10000000e+00, -1.00000000e+00, -9.00000000e-01,\n                          -8.00000000e-01, -7.00000000e-01, -6.00000000e-01, -5.00000000e-01,\n                          -4.00000000e-01, -3.00000000e-01, -2.00000000e-01, -1.00000000e-01,\n                          -3.55271368e-14,  1.00000000e-01,  2.00000000e-01,  3.00000000e-01,\n                           4.00000000e-01,  5.00000000e-01,  6.00000000e-01,  7.00000000e-01,\n                           8.00000000e-01,  9.00000000e-01,  1.00000000e+00,  1.10000000e+00,\n                           1.20000000e+00,  1.30000000e+00,  1.40000000e+00,  1.50000000e+00,\n                           1.60000000e+00,  1.70000000e+00,  1.80000000e+00,  1.90000000e+00,\n                           2.00000000e+00,  2.10000000e+00,  2.20000000e+00,  2.30000000e+00,\n                           2.40000000e+00,  2.50000000e+00,  2.60000000e+00,  2.70000000e+00,\n                           2.80000000e+00,  2.90000000e+00,  3.00000000e+00,  3.10000000e+00,\n                           3.20000000e+00,  3.30000000e+00,  3.40000000e+00,  3.50000000e+00,\n                           3.60000000e+00,  3.70000000e+00,  3.80000000e+00,  3.90000000e+00,\n                           4.00000000e+00,  4.10000000e+00,  4.20000000e+00,  4.30000000e+00,\n                           4.40000000e+00,  4.50000000e+00,  4.60000000e+00,  4.70000000e+00,\n                           4.80000000e+00,  4.90000000e+00,  5.00000000e+00,  5.10000000e+00,\n                           5.20000000e+00,  5.30000000e+00,  5.40000000e+00,  5.50000000e+00,\n                           5.60000000e+00,  5.70000000e+00,  5.80000000e+00,  5.90000000e+00,\n                           6.00000000e+00,  6.10000000e+00,  6.20000000e+00,  6.30000000e+00,\n                           6.40000000e+00,  6.50000000e+00,  6.60000000e+00,  6.70000000e+00,\n                           6.80000000e+00,  6.90000000e+00,  7.00000000e+00,  7.10000000e+00,\n                           7.20000000e+00,  7.30000000e+00,  7.40000000e+00,  7.50000000e+00,\n                           7.60000000e+00,  7.70000000e+00,  7.80000000e+00,  7.90000000e+00,\n                           8.00000000e+00,  8.10000000e+00,  8.20000000e+00,  8.30000000e+00,\n                           8.40000000e+00,  8.50000000e+00,  8.60000000e+00,  8.70000000e+00,\n                           8.80000000e+00,  8.90000000e+00,  9.00000000e+00,  9.10000000e+00,\n                           9.20000000e+00,  9.30000000e+00,  9.40000000e+00,  9.50000000e+00,\n                           9.60000000e+00,  9.70000000e+00,  9.80000000e+00,  9.90000000e+00]),\n              'y': array([1.92874985e-22, 5.21673666e-22, 1.39694394e-21, 3.70353198e-21,\n                          9.72098502e-21, 2.52616378e-20, 6.49934797e-20, 1.65552266e-19,\n                          4.17501006e-19, 1.04240618e-18, 2.57675711e-18, 6.30618989e-18,\n                          1.52797997e-17, 3.66543340e-17, 8.70542662e-17, 2.04697171e-16,\n                          4.76530474e-16, 1.09831413e-15, 2.50622189e-15, 5.66199552e-15,\n                          1.26641655e-14, 2.80440474e-14, 6.14839641e-14, 1.33456608e-13,\n                          2.86797501e-13, 6.10193668e-13, 1.28533723e-12, 2.68054764e-12,\n                          5.53461007e-12, 1.13137762e-11, 2.28973485e-11, 4.58796249e-11,\n                          9.10147076e-11, 1.78755887e-10, 3.47589128e-10, 6.69158609e-10,\n                          1.27540763e-09, 2.40672244e-09, 4.49634946e-09, 8.31670246e-09,\n                          1.52299797e-08, 2.76124246e-08, 4.95640532e-08, 8.80817920e-08,\n                          1.54975314e-07, 2.69957850e-07, 4.65571572e-07, 7.94939362e-07,\n                          1.34381228e-06, 2.24905597e-06, 3.72665317e-06, 6.11356797e-06,\n                          9.92950431e-06, 1.59667839e-05, 2.54193465e-05, 4.00652974e-05,\n                          6.25215038e-05, 9.65934137e-05, 1.47748360e-04, 2.23745794e-04,\n                          3.35462628e-04, 4.97955422e-04, 7.31802419e-04, 1.06476624e-03,\n                          1.53381068e-03, 2.18749112e-03, 3.08871541e-03, 4.31784001e-03,\n                          5.97602290e-03, 8.18870101e-03, 1.11089965e-02, 1.49207861e-02,\n                          1.98410947e-02, 2.61214099e-02, 3.40474547e-02, 4.39369336e-02,\n                          5.61347628e-02, 7.10053537e-02, 8.89216175e-02, 1.10250525e-01,\n                          1.35335283e-01, 1.64474457e-01, 1.97898699e-01, 2.35746077e-01,\n                          2.78037300e-01, 3.24652467e-01, 3.75311099e-01, 4.29557358e-01,\n                          4.86752256e-01, 5.46074427e-01, 6.06530660e-01, 6.66976811e-01,\n                          7.26149037e-01, 7.82704538e-01, 8.35270211e-01, 8.82496903e-01,\n                          9.23116346e-01, 9.55997482e-01, 9.80198673e-01, 9.95012479e-01,\n                          1.00000000e+00, 9.95012479e-01, 9.80198673e-01, 9.55997482e-01,\n                          9.23116346e-01, 8.82496903e-01, 8.35270211e-01, 7.82704538e-01,\n                          7.26149037e-01, 6.66976811e-01, 6.06530660e-01, 5.46074427e-01,\n                          4.86752256e-01, 4.29557358e-01, 3.75311099e-01, 3.24652467e-01,\n                          2.78037300e-01, 2.35746077e-01, 1.97898699e-01, 1.64474457e-01,\n                          1.35335283e-01, 1.10250525e-01, 8.89216175e-02, 7.10053537e-02,\n                          5.61347628e-02, 4.39369336e-02, 3.40474547e-02, 2.61214099e-02,\n                          1.98410947e-02, 1.49207861e-02, 1.11089965e-02, 8.18870101e-03,\n                          5.97602290e-03, 4.31784001e-03, 3.08871541e-03, 2.18749112e-03,\n                          1.53381068e-03, 1.06476624e-03, 7.31802419e-04, 4.97955422e-04,\n                          3.35462628e-04, 2.23745794e-04, 1.47748360e-04, 9.65934137e-05,\n                          6.25215038e-05, 4.00652974e-05, 2.54193465e-05, 1.59667839e-05,\n                          9.92950431e-06, 6.11356797e-06, 3.72665317e-06, 2.24905597e-06,\n                          1.34381228e-06, 7.94939362e-07, 4.65571572e-07, 2.69957850e-07,\n                          1.54975314e-07, 8.80817920e-08, 4.95640532e-08, 2.76124246e-08,\n                          1.52299797e-08, 8.31670246e-09, 4.49634946e-09, 2.40672244e-09,\n                          1.27540763e-09, 6.69158609e-10, 3.47589128e-10, 1.78755887e-10,\n                          9.10147076e-11, 4.58796249e-11, 2.28973485e-11, 1.13137762e-11,\n                          5.53461007e-12, 2.68054764e-12, 1.28533723e-12, 6.10193668e-13,\n                          2.86797501e-13, 1.33456608e-13, 6.14839641e-14, 2.80440474e-14,\n                          1.26641655e-14, 5.66199552e-15, 2.50622189e-15, 1.09831413e-15,\n                          4.76530474e-16, 2.04697171e-16, 8.70542662e-17, 3.66543340e-17,\n                          1.52797997e-17, 6.30618989e-18, 2.57675711e-18, 1.04240618e-18,\n                          4.17501006e-19, 1.65552266e-19, 6.49934797e-20, 2.52616378e-20,\n                          9.72098502e-21, 3.70353198e-21, 1.39694394e-21, 5.21673666e-22])}],\n    'layout': {'autosize': False,\n               'height': 500,\n               'legend': {'x': 0.95, 'xanchor': 'right', 'y': 0.5, 'yanchor': 'top'},\n               'plot_bgcolor': 'black',\n               'template': '...',\n               'title': {'text': 'squared exponential kernel', 'x': 0.5, 'xanchor': 'center'},\n               'width': 1000,\n               'xaxis': {'linecolor': 'black', 'linewidth': 1, 'showline': True, 'title': {'text': 'input values'}},\n               'yaxis': {'linecolor': 'black', 'linewidth': 1, 'showline': True, 'title': {'text': 'output values'}}}\n})"
     },
     "execution_count": 7,
     "metadata": {},
     "output_type": "execute_result"
    }
   ],
   "source": [
    "x_lines = np.arange(-10, 10, 0.1)\n",
    "kernel = SquaredExponentialKernel()  # initialize an instance of the class SquaredExponentialKernel, length and sigma have already standard values\n",
    "data = line_plot(x_lines=x_lines, y_lines=np.array([kernel(x, 0) for x in x_lines]))  # generates the data for the line distribution\n",
    "\n",
    "fig = go.FigureWidget(data)  # generates an interactive plot-widget with the passed data\n",
    "fig = update_layout_of_graph(fig, title='squared exponential kernel')\n",
    "\n",
    "@interact(length=(0.1, 3, 0.1), sigma=(0.1, 3, 0.1), variable_2=(-10, 10, 0.1))\n",
    "def update(length=1, sigma=1, variable_2=0):\n",
    "    with fig.batch_update():\n",
    "        kernel = SquaredExponentialKernel(sigma=sigma, length=length)  # a new instance of the class SquaredExponentialKernel with the updated length and sigma value is generated\n",
    "        fig.data[0].y = np.array([kernel(x, variable_2) for x in x_lines])  # updates the y-values plot data, data can contain multiply scatter plots\n",
    "        # with data[0].y the y-coordinates of the first scatter plot are accessed\n",
    "\n",
    "fig"
   ]
  },
  {
   "cell_type": "markdown",
   "metadata": {},
   "source": [
    "functions for creating the covariance matrix, each of them were implemented separately in such a way as to make them comprehensible with the notes, which is why they are referenced:\n",
    "* **val_1** & **val_2** are equal to a certain element of the arrays **t** & **t'**\n",
    "* **alpha**, **R** & **C** are set to a specific value"
   ]
  },
  {
   "cell_type": "code",
   "execution_count": 8,
   "metadata": {
    "ExecuteTime": {
     "end_time": "2024-07-24T16:33:29.069533Z",
     "start_time": "2024-07-24T16:33:29.054186Z"
    }
   },
   "outputs": [],
   "source": [
    "def k_fu(val_1, val_2, cov_func, R=4, C=330e-6, L=1e-3):\n",
    "    alpha = cov_func.alpha\n",
    "    beta = cov_func.beta\n",
    "    l = cov_func.length\n",
    "\n",
    "    c = 1/(R*C) * cov_func(val_1, val_2)\n",
    "\n",
    "    def integrand_a(tau):\n",
    "        a = -1 / (gamma(1-alpha) * l**2)\n",
    "        return a * (tau - val_2) / (val_1 - tau)**alpha * cov_func(tau, val_2)\n",
    "\n",
    "    def integrand_b(tau):\n",
    "        b = -1 / (gamma(1+beta) * l**2 * L * C)\n",
    "        return b * (tau - val_2) * (val_1 - tau)**beta * cov_func(tau, val_2)\n",
    "\n",
    "    integral_val_a, _ = integrate(integrand_a, 0, val_1, epsabs=1e-9, epsrel=1e-9, limit=10000)\n",
    "    integral_val_b, _ = integrate(integrand_b, 0, val_1, epsabs=1e-9, epsrel=1e-9, limit=10000)\n",
    "    return integral_val_a + 1 / (L * C)* integral_val_b + c"
   ]
  },
  {
   "cell_type": "code",
   "execution_count": 9,
   "metadata": {
    "ExecuteTime": {
     "end_time": "2024-07-24T16:33:29.517852Z",
     "start_time": "2024-07-24T16:33:29.514129Z"
    }
   },
   "outputs": [],
   "source": [
    "def k_uf(val_1, val_2, cov_func, R=4, C=330e-6, L=1e-3):\n",
    "    alpha = cov_func.alpha\n",
    "    beta = cov_func.beta\n",
    "    l = cov_func.length\n",
    "\n",
    "    c = 1/(R*C) * cov_func(val_1, val_2)\n",
    "\n",
    "    def integrand_a(tau):\n",
    "        a = 1 / (gamma(1-alpha) * l**2)\n",
    "        return a * (val_1 - tau) / (val_2 - tau)**alpha * cov_func(val_1, tau)\n",
    "\n",
    "    def integrand_b(tau):\n",
    "        b = 1 / (gamma(1+beta) * l**2 * L * C)\n",
    "        return b * (val_1 - tau) * (val_2 - tau)**beta * cov_func(val_1, tau)\n",
    "\n",
    "    integral_val_a, _ = integrate(integrand_a, 0, val_2, epsabs=1e-9, epsrel=1e-9, limit=10000)\n",
    "    integral_val_b, _ = integrate(integrand_b, 0, val_2, epsabs=1e-9, epsrel=1e-9, limit=10000)\n",
    "    return integral_val_a + 1 / (L * C)* integral_val_b + c"
   ]
  },
  {
   "cell_type": "code",
   "execution_count": 10,
   "metadata": {
    "ExecuteTime": {
     "end_time": "2024-07-24T16:33:29.599319Z",
     "start_time": "2024-07-24T16:33:29.594303Z"
    }
   },
   "outputs": [],
   "source": [
    "def k_uu(val_1, val_2, cov_func):\n",
    "    return cov_func(val_1, val_2)"
   ]
  },
  {
   "cell_type": "code",
   "execution_count": 11,
   "metadata": {
    "ExecuteTime": {
     "end_time": "2024-07-24T16:33:30.019866Z",
     "start_time": "2024-07-24T16:33:30.010666Z"
    }
   },
   "outputs": [],
   "source": [
    "def k_ff(val_1, val_2, cov_func, R=4, C=330e-6, L=1e-3):\n",
    "    alpha = cov_func.alpha\n",
    "    beta = cov_func.beta\n",
    "    l = cov_func.length\n",
    "\n",
    "    # simpler integrals, see notes:\n",
    "    a = 1 / (R*C) * k_uf(val_1, val_2, cov_func, R, C, L)\n",
    "\n",
    "    def integrand_c(tau):\n",
    "        c_const = -1 / (gamma(1-alpha) * l**2 * R)\n",
    "        return c_const * (tau - val_2) / (val_1 - tau)**alpha * cov_func(tau, val_2)\n",
    "\n",
    "    def integrand_b(tau):\n",
    "        b_const = -1 / (gamma(1+beta) * l**2 * R * C * L)\n",
    "        return b_const * (tau - val_2) * (val_1 - tau)**beta * cov_func(tau, val_2)\n",
    "\n",
    "    integral_val_c, _ = integrate(integrand_c, 0, val_1, epsabs=1e-8, epsrel=1e-8, limit=10000)\n",
    "    integral_val_b, _ = integrate(integrand_b, 0, val_1, epsabs=1e-8, epsrel=1e-8, limit=10000)\n",
    "\n",
    "    # more complex integral g:\n",
    "    def g():\n",
    "        def A(val_1, val_2, tau):\n",
    "            a = C/gamma(1-alpha) * 1/(val_2 - tau)**alpha * 1/l**2 * (val_1 - tau)\n",
    "            return a * cov_func(val_1, tau)\n",
    "\n",
    "        def B(val_1, val_2):\n",
    "            integrand = lambda tau: A(val_1, val_2, tau)\n",
    "            integral_val, _ = integrate(integrand, 0, val_2, epsabs=1e-8, epsrel=1e-8, limit=10000)\n",
    "            return integral_val\n",
    "\n",
    "        def derivative_B(tau, val_2, h= 0.01*np.sqrt(2e-53)):\n",
    "            def B_tau(tau):\n",
    "                return B(tau, val_2)\n",
    "            dB = (B_tau(tau + h) - B_tau(tau - h)) / (2*h)\n",
    "            return dB\n",
    "\n",
    "        def double_integral(val_1, val_2):\n",
    "            integrand = lambda tau: 1/gamma(1 - alpha) * 1/(val_1 - tau)**alpha * derivative_B(tau, val_2)\n",
    "            integral_val, _ = integrate(integrand, 0, val_1, epsabs=1e-8, epsrel=1e-8, limit=10000)\n",
    "            return integral_val\n",
    "\n",
    "        g = double_integral(val_1, val_2)\n",
    "        return g\n",
    "\n",
    "    # more complex integral f:\n",
    "    def f():\n",
    "        def A(val_1, val_2, tau):\n",
    "            a = 1/(L*gamma(1+beta)) * (val_2 - tau)**beta * 1/l**2 * (val_1 - tau)\n",
    "            return a * cov_func(val_1, tau)\n",
    "\n",
    "        def B(val_1, val_2):\n",
    "            integrand = lambda tau: A(val_1, val_2, tau)\n",
    "            integral_val, _ = integrate(integrand, 0, val_2, epsabs=1e-8, epsrel=1e-8, limit=10000)\n",
    "            return integral_val\n",
    "\n",
    "        def derivative_B(tau, val_2, h= 0.01*np.sqrt(2e-53)):\n",
    "            def B_tau(tau):\n",
    "                return B(tau, val_2)\n",
    "            dB = (B_tau(tau + h) - B_tau(tau - h)) / (2*h)\n",
    "            return dB\n",
    "\n",
    "        def double_integral(val_1, val_2):\n",
    "            integrand = lambda tau: 1/gamma(1 - alpha) * 1/(val_1 - tau)**alpha * derivative_B(tau, val_2)\n",
    "            integral_val, _ = integrate(integrand, 0, val_1, epsabs=1e-8, epsrel=1e-8, limit=10000)\n",
    "            return integral_val\n",
    "\n",
    "        f = double_integral(val_1, val_2)\n",
    "        return f\n",
    "\n",
    "    # more complex integral e:\n",
    "    def e():\n",
    "        def A(val_1, val_2, tau):\n",
    "            a = C/gamma(1-alpha) * 1/(val_2 - tau)**alpha * 1/l**2 * (val_1 - tau)\n",
    "            return a * cov_func(val_1, tau)\n",
    "\n",
    "        def B(val_1, val_2):\n",
    "            integrand = lambda tau: A(val_1, val_2, tau)\n",
    "            integral_val, _ = integrate(integrand, 0, val_2, epsabs=1e-8, epsrel=1e-8, limit=10000)\n",
    "            return integral_val\n",
    "\n",
    "        def derivative_B(tau, val_2, h= 0.01*np.sqrt(2e-53)):\n",
    "            def B_tau(tau):\n",
    "                return B(tau, val_2)\n",
    "            dB = (B_tau(tau + h) - B_tau(tau - h)) / (2*h)\n",
    "            return dB\n",
    "\n",
    "        def double_integral(val_1, val_2):\n",
    "            integrand = lambda tau: 1/gamma(1 + beta) * (val_1 - tau)**beta * derivative_B(tau, val_2)\n",
    "            integral_val, _ = integrate(integrand, 0, val_1, epsabs=1e-8, epsrel=1e-8, limit=10000)\n",
    "            return integral_val\n",
    "\n",
    "        e = double_integral(val_1, val_2)\n",
    "        return e\n",
    "\n",
    "    # more complex integral d:\n",
    "    def d():\n",
    "        def A(val_1, val_2, tau):\n",
    "            a = 1/(L*gamma(1+beta)) * (val_2 - tau)**beta * 1/l**2 * (val_1 - tau)\n",
    "            return a * cov_func(val_1, tau)\n",
    "\n",
    "        def B(val_1, val_2):\n",
    "            integrand = lambda tau: A(val_1, val_2, tau)\n",
    "            integral_val, _ = integrate(integrand, 0, val_2, epsabs=1e-8, epsrel=1e-8, limit=10000)\n",
    "            return integral_val\n",
    "\n",
    "        def derivative_B(tau, val_2, h= 0.01*np.sqrt(2e-53)):\n",
    "            def B_tau(tau):\n",
    "                return B(tau, val_2)\n",
    "            dB = (B_tau(tau + h) - B_tau(tau - h)) / (2*h)\n",
    "            return dB\n",
    "\n",
    "        def double_integral(val_1, val_2):\n",
    "            integrand = lambda tau: 1/gamma(1 + beta) * (val_1 - tau)**beta * derivative_B(tau, val_2)\n",
    "            integral_val, _ = integrate(integrand, 0, val_1, epsabs=1e-8, epsrel=1e-8, limit=10000)\n",
    "            return integral_val\n",
    "\n",
    "        d = double_integral(val_1, val_2)\n",
    "        return d\n",
    "\n",
    "    return a + integral_val_b + integral_val_c + g() + f() + e() + d()"
   ]
  },
  {
   "cell_type": "markdown",
   "metadata": {},
   "source": [
    "testing the implemented functions above:"
   ]
  },
  {
   "cell_type": "code",
   "execution_count": 12,
   "metadata": {
    "ExecuteTime": {
     "end_time": "2024-07-24T16:35:00.592680Z",
     "start_time": "2024-07-24T16:33:44.695609Z"
    }
   },
   "outputs": [
    {
     "name": "stderr",
     "output_type": "stream",
     "text": [
      "/var/folders/db/wdxh9ynd7_bfr2nwqswb2nn80000gn/T/ipykernel_55963/72069979.py:28: IntegrationWarning:\n",
      "\n",
      "The integral is probably divergent, or slowly convergent.\n",
      "\n",
      "/var/folders/db/wdxh9ynd7_bfr2nwqswb2nn80000gn/T/ipykernel_55963/72069979.py:78: IntegrationWarning:\n",
      "\n",
      "The integral is probably divergent, or slowly convergent.\n",
      "\n"
     ]
    },
    {
     "name": "stdout",
     "output_type": "stream",
     "text": [
      "kuf =  11489746.107366322 kuu =  1.0 kfu =  11489746.107366322 kff =  8704353112.589169\n",
      "kuf =  77282440.25091717 kuu =  1.0 kfu =  77282440.25091717 kff =  58547303226.76795\n",
      "kuf =  235649255.63191846 kuu =  1.0 kfu =  235649255.63191846 kff =  178522163376.95572\n",
      "kuf =  519707327.23503035 kuu =  1.0 kfu =  519707327.23503035 kff =  393717672190.6271\n",
      "kuf =  959727534.2283741 kuu =  1.0 kfu =  959727534.2283741 kff =  727066313888.5532\n",
      "kuf =  1584010237.2723722 kuu =  1.0 kfu =  1584010237.2723722 kff =  1200007755640.0554\n",
      "kuf =  2419347182.9609118 kuu =  1.0 kfu =  2419347182.9609118 kff =  1832838775169.9858\n",
      "kuf =  3491302657.132474 kuu =  1.0 kfu =  3491302657.132474 kff =  2644926255691.4243\n",
      "kuf =  4824399765.774778 kuu =  1.0 kfu =  4824399765.774778 kff =  3654848307803.151\n",
      "kuf =  6442251013.744954 kuu =  1.0 kfu =  6442251013.744954 kff =  4880493192762.515\n",
      "kuf =  8367653570.0851755 kuu =  1.0 kfu =  8367653570.0851755 kff =  6339131493179.1045\n",
      "kuf =  10622660852.768368 kuu =  1.0 kfu =  10622660852.768368 kff =  8047470343882.713\n",
      "kuf =  13228637537.967342 kuu =  1.0 kfu =  13228637537.967342 kff =  10021695105612.082\n",
      "kuf =  16206302569.05146 kuu =  1.0 kfu =  16206302569.05146 kff =  12277501947588.13\n",
      "kuf =  19575763238.85718 kuu =  1.0 kfu =  19575763238.85718 kff =  14830123667415.902\n",
      "kuf =  23356542483.01396 kuu =  1.0 kfu =  23356542483.01396 kff =  17694350367846.586\n",
      "kuf =  27567600915.132526 kuu =  1.0 kfu =  27567600915.132526 kff =  20884546150102.008\n",
      "kuf =  32227354727.47764 kuu =  1.0 kfu =  32227354727.47764 kff =  24414662674990.312\n",
      "kuf =  37353690299.63968 kuu =  1.0 kfu =  37353690299.63968 kff =  28298250230081.445\n",
      "kuf =  42963976158.78103 kuu =  1.0 kfu =  42963976158.78103 kff =  32548466790499.863\n",
      "kuf =  49075072791.16646 kuu =  1.0 kfu =  49075072791.16646 kff =  37178085451902.086\n",
      "kuf =  55703340698.64329 kuu =  1.0 kfu =  55703340698.64329 kff =  42199500533870.75\n",
      "kuf =  62864647014.23497 kuu =  1.0 kfu =  62864647014.23497 kff =  47624732591727.99\n",
      "kuf =  70574370930.49594 kuu =  1.0 kfu =  70574370930.49594 kff =  53465432528925.38\n",
      "kuf =  78847408147.57735 kuu =  1.0 kfu =  78847408147.57735 kff =  59732884966790.8\n",
      "kuf =  87698174511.46355 kuu =  1.0 kfu =  87698174511.46355 kff =  66438011000768.1\n",
      "kuf =  97140608984.00406 kuu =  1.0 kfu =  97140608984.00406 kff =  73591370450441.44\n",
      "kuf =  107188176063.33705 kuu =  1.0 kfu =  107188176063.33705 kff =  81203163693189.3\n",
      "kuf =  117853867754.73303 kuu =  1.0 kfu =  117853867754.73303 kff =  89283233157247.98\n",
      "kuf =  129150205176.78064 kuu =  1.0 kfu =  129150205176.78064 kff =  97841064538519.03\n",
      "kuf =  141089239875.44586 kuu =  1.0 kfu =  141089239875.44586 kff =  106885787796068.56\n",
      "kuf =  153682554908.2856 kuu =  1.0 kfu =  153682554908.2856 kff =  116426177973501.27\n",
      "kuf =  166941265752.5667 kuu =  1.0 kfu =  166941265752.5667 kff =  126470655886929.28\n",
      "kuf =  180876021083.8786 kuu =  1.0 kfu =  180876021083.8786 kff =  137027288714830.33\n",
      "kuf =  195497003465.7874 kuu =  1.0 kfu =  195497003465.7874 kff =  148103790520512.9\n",
      "kuf =  210813929985.94098 kuu =  1.0 kfu =  210813929985.94098 kff =  159707522734014.12\n",
      "kuf =  226836052869.6473 kuu =  1.0 kfu =  226836052869.6473 kff =  171845494616931.62\n",
      "kuf =  243572160098.1735 kuu =  1.0 kfu =  243572160098.1735 kff =  184524363730832.25\n",
      "kuf =  261030576055.74988 kuu =  1.0 kfu =  261030576055.74988 kff =  197750436427406.2\n",
      "kuf =  279219162226.4301 kuu =  1.0 kfu =  279219162226.4301 kff =  211529668376391.78\n",
      "kuf =  298145317959.4764 kuu =  1.0 kfu =  298145317959.4764 kff =  225867665145412.47\n",
      "kuf =  317815981319.7692 kuu =  1.0 kfu =  317815981319.7692 kff =  240769682844226.84\n",
      "kuf =  338237630037.81555 kuu =  1.0 kfu =  338237630037.81555 kff =  256240628844431.56\n",
      "kuf =  359416282572.23254 kuu =  1.0 kfu =  359416282572.23254 kff =  272285062584373.5\n",
      "kuf =  381357499296.06354 kuu =  1.0 kfu =  381357499296.06354 kff =  288907196467873.8\n",
      "kuf =  404066383816.9348 kuu =  1.0 kfu =  404066383816.9348 kff =  306110896864346.75\n",
      "kuf =  427547584439.83374 kuu =  1.0 kfu =  427547584439.83374 kff =  323899685216964.94\n",
      "kuf =  451805295780.20026 kuu =  1.0 kfu =  451805295780.20026 kff =  342276739264698.4\n",
      "kuf =  476843260534.02136 kuu =  1.0 kfu =  476843260534.02136 kff =  361244894383295.2\n",
      "kuf =  502664771410.7202 kuu =  1.0 kfu =  502664771410.7202 kff =  380806645049591.2\n",
      "kuf =  529272673233.7969 kuu =  1.0 kfu =  529272673233.7969 kff =  400964146432905.06\n",
      "kuf =  556669365213.4369 kuu =  1.0 kfu =  556669365213.4369 kff =  421719216116710.8\n",
      "kuf =  584856803394.5922 kuu =  1.0 kfu =  584856803394.5922 kff =  443073335953244.75\n",
      "kuf =  613836503283.4115 kuu =  1.0 kfu =  613836503283.4115 kff =  465027654053226.0\n",
      "kuf =  643609542654.3048 kuu =  1.0 kfu =  643609542654.3048 kff =  487582986912419.7\n",
      "kuf =  674176564539.3701 kuu =  1.0 kfu =  674176564539.3701 kff =  510739821676354.5\n",
      "kuf =  705537780401.4106 kuu =  1.0 kfu =  705537780401.4106 kff =  534498318544124.06\n",
      "kuf =  737692973491.2903 kuu =  1.0 kfu =  737692973491.2903 kff =  558858313311837.2\n",
      "kuf =  770641502389.9365 kuu =  1.0 kfu =  770641502389.9365 kff =  583819320055954.1\n",
      "kuf =  804382304734.8815 kuu =  1.0 kfu =  804382304734.8815 kff =  609380533956423.2\n",
      "kuf =  838913901130.8418 kuu =  1.0 kfu =  838913901130.8418 kff =  635540834259242.1\n",
      "kuf =  874234399243.4803 kuu =  1.0 kfu =  874234399243.4803 kff =  662298787377791.4\n",
      "kuf =  910341498075.1477 kuu =  1.0 kfu =  910341498075.1477 kff =  689652650132033.2\n",
      "kuf =  947232492421.0685 kuu =  1.0 kfu =  947232492421.0685 kff =  717600373124410.6\n",
      "kuf =  984904277504.1504 kuu =  1.0 kfu =  984904277504.1504 kff =  746139604251065.6\n",
      "kuf =  1023353353786.294 kuu =  1.0 kfu =  1023353353786.294 kff =  775267692346770.6\n",
      "kuf =  1062575831953.8181 kuu =  1.0 kfu =  1062575831953.8181 kff =  804981690961767.1\n",
      "kuf =  1102567438074.3518 kuu =  1.0 kfu =  1102567438074.3518 kff =  835278362268501.1\n",
      "kuf =  1143323518922.3174 kuu =  1.0 kfu =  1143323518922.3174 kff =  866154181096079.9\n",
      "kuf =  1184839047469.8857 kuu =  1.0 kfu =  1184839047469.8857 kff =  897605339090087.0\n",
      "kuf =  1227108628540.0776 kuu =  1.0 kfu =  1227108628540.0776 kff =  929627748995234.8\n",
      "kuf =  1270126504618.4846 kuu =  1.0 kfu =  1270126504618.4846 kff =  962217049058182.9\n",
      "kuf =  1313886561819.887 kuu =  1.0 kfu =  1313886561819.887 kff =  995368607547704.0\n",
      "kuf =  1358382336005.8633 kuu =  1.0 kfu =  1358382336005.8633 kff =  1029077527389235.8\n",
      "kuf =  1403607019049.3313 kuu =  1.0 kfu =  1403607019049.3313 kff =  1063338650910745.6\n",
      "kuf =  1449553465241.778 kuu =  1.0 kfu =  1449553465241.778 kff =  1098146564696692.8\n",
      "kuf =  1496214197838.8074 kuu =  1.0 kfu =  1496214197838.8074 kff =  1133495604546776.8\n",
      "kuf =  1543581415739.4856 kuu =  1.0 kfu =  1543581415739.4856 kff =  1169379860536046.8\n",
      "kuf =  1591647000294.829 kuu =  1.0 kfu =  1591647000294.829 kff =  1205793182172848.2\n",
      "kuf =  1640402522240.666 kuu =  1.0 kfu =  1640402522240.666 kff =  1242729183650989.5\n",
      "kuf =  1689839248749.9902 kuu =  1.0 kfu =  1689839248749.9902 kff =  1280181249192434.8\n",
      "kuf =  1739948150599.8057 kuu =  1.0 kfu =  1739948150599.8057 kff =  1318142538476732.0\n",
      "kuf =  1790719909447.388 kuu =  1.0 kfu =  1790719909447.388 kff =  1356605992153331.5\n",
      "kuf =  1842144925210.7812 kuu =  1.0 kfu =  1842144925210.7812 kff =  1395564337432872.0\n",
      "kuf =  1894213323548.273 kuu =  1.0 kfu =  1894213323548.273 kff =  1435010093753449.0\n",
      "kuf =  1946914963431.5242 kuu =  1.0 kfu =  1946914963431.5242 kff =  1474935578517835.8\n",
      "kuf =  2000239444806.9573 kuu =  1.0 kfu =  2000239444806.9573 kff =  1515332912897563.2\n",
      "kuf =  2054176116339.9458 kuu =  1.0 kfu =  2054176116339.9458 kff =  1556194027699731.5\n",
      "kuf =  2108714083236.319 kuu =  1.0 kfu =  2108714083236.319 kff =  1597510669292392.8\n",
      "kuf =  2163842215135.6135 kuu =  1.0 kfu =  2163842215135.6135 kff =  1639274405584285.0\n",
      "kuf =  2219549154070.5044 kuu =  1.0 kfu =  2219549154070.5044 kff =  1681476632054707.0\n",
      "kuf =  2275823322486.796 kuu =  1.0 kfu =  2275823322486.796 kff =  1724108577829267.8\n",
      "kuf =  2332652931318.346 kuu =  1.0 kfu =  2332652931318.346 kff =  1767161311797251.5\n",
      "kuf =  2390025988111.247 kuu =  1.0 kfu =  2390025988111.247 kff =  1810625748766304.0\n",
      "kuf =  2447930305191.6313 kuu =  1.0 kfu =  2447930305191.6313 kff =  1854492655650160.0\n",
      "kuf =  2506353507871.4116 kuu =  1.0 kfu =  2506353507871.4116 kff =  1898752657685116.5\n",
      "kuf =  2565283042686.2925 kuu =  1.0 kfu =  2565283042686.2925 kff =  1943396244670948.2\n",
      "kuf =  2624706185660.415 kuu =  1.0 kfu =  2624706185660.415 kff =  1988413777232004.2\n",
      "kuf =  2684610050591.962 kuu =  1.0 kfu =  2684610050591.962 kff =  2033795493094178.8\n",
      "kuf =  2744981597354.117 kuu =  1.0 kfu =  2744981597354.117 kff =  2079531513373519.5\n",
      "kuf =  2805807640205.794 kuu =  1.0 kfu =  2805807640205.794 kff =  2125611848872232.2\n",
      "kuf =  2867074856106.523 kuu =  1.0 kfu =  2867074856106.523 kff =  2172026406377839.2\n",
      "kuf =  2928769793030.02 kuu =  1.0 kfu =  2928769793030.02 kff =  2218764994961335.8\n",
      "kuf =  2990878878270.9077 kuu =  1.0 kfu =  2990878878270.9077 kff =  2265817332270162.5\n",
      "kuf =  3053388426739.1626 kuu =  1.0 kfu =  3053388426739.1626 kff =  2313173050811876.5\n",
      "kuf =  3116284649236.883 kuu =  1.0 kfu =  3116284649236.883 kff =  2360821704224429.0\n",
      "kuf =  3179553660712.078 kuu =  1.0 kfu =  3179553660712.078 kff =  2408752773529039.0\n",
      "kuf =  3243181488484.1494 kuu =  1.0 kfu =  3243181488484.1494 kff =  2456955673361615.0\n",
      "kuf =  3307154080435.9106 kuu =  1.0 kfu =  3307154080435.9106 kff =  2505419758178833.0\n",
      "kuf =  3371457313166.97 kuu =  1.0 kfu =  3371457313166.97 kff =  2554134328434941.0\n",
      "kuf =  3436077000103.4326 kuu =  1.0 kfu =  3436077000103.4326 kff =  2603088636725471.0\n",
      "kuf =  3500998899558.925 kuu =  1.0 kfu =  3500998899558.925 kff =  2652271893894078.5\n",
      "kuf =  3566208722742.0503 kuu =  1.0 kfu =  3566208722742.0503 kff =  2701673275098795.5\n",
      "kuf =  3631692141705.449 kuu =  1.0 kfu =  3631692141705.449 kff =  2751281925834046.0\n",
      "kuf =  3697434797231.7397 kuu =  1.0 kfu =  3697434797231.7397 kff =  2801086967904841.5\n",
      "kuf =  3763422306651.7256 kuu =  1.0 kfu =  3763422306651.7256 kff =  2851077505349668.5\n",
      "kuf =  3829640271590.293 kuu =  1.0 kfu =  3829640271590.293 kff =  2901242630308592.0\n",
      "kuf =  3896074285635.6133 kuu =  1.0 kfu =  3896074285635.6133 kff =  2951571428833254.5\n",
      "kuf =  3962709941927.2725 kuu =  1.0 kfu =  3962709941927.2725 kff =  3002052986635463.5\n",
      "kuf =  4029532840659.1436 kuu =  1.0 kfu =  4029532840659.1436 kff =  3052676394771182.0\n",
      "kuf =  4096528596492.8525 kuu =  1.0 kfu =  4096528596492.8525 kff =  3103430755256791.5\n",
      "kuf =  4163682845877.8486 kuu =  1.0 kfu =  4163682845877.8486 kff =  3154305186614601.5\n",
      "kuf =  4230981254274.1978 kuu =  1.0 kfu =  4230981254274.1978 kff =  3205288829344660.5\n",
      "kuf =  4298409523274.3027 kuu =  1.0 kfu =  4298409523274.3027 kff =  3256370851320000.0\n",
      "kuf =  4365953397619.9126 kuu =  1.0 kfu =  4365953397619.9126 kff =  3307540453102549.0\n",
      "kuf =  4433598672110.895 kuu =  1.0 kfu =  4433598672110.895 kff =  3358786873177056.0\n",
      "kuf =  4501331198402.318 kuu =  1.0 kfu =  4501331198402.318 kff =  3410099393100389.5\n",
      "kuf =  4569136891686.622 kuu =  1.0 kfu =  4569136891686.622 kff =  3461467342563789.0\n",
      "kuf =  4637001737257.668 kuu =  1.0 kfu =  4637001737257.668 kff =  3512880104365634.5\n",
      "kuf =  4704911796953.636 kuu =  1.0 kfu =  4704911796953.636 kff =  3564327119292424.5\n",
      "kuf =  4772853215475.9 kuu =  1.0 kfu =  4772853215475.9 kff =  3615797890905806.5\n",
      "kuf =  4840812226581.074 kuu =  1.0 kfu =  4840812226581.074 kff =  3667281990233514.5\n",
      "kuf =  4908775159143.598 kuu =  1.0 kfu =  4908775159143.598 kff =  3718769060362245.0\n",
      "kuf =  4976728443086.347 kuu =  1.0 kfu =  4976728443086.347 kff =  3770248820930540.0\n",
      "kuf =  5044658615176.903 kuu =  1.0 kfu =  5044658615176.903 kff =  3821711072519899.5\n",
      "kuf =  5112552324687.208 kuu =  1.0 kfu =  5112552324687.208 kff =  3873145700942398.0\n",
      "kuf =  5180396338914.527 kuu =  1.0 kfu =  5180396338914.527 kff =  3924542681423237.0\n",
      "kuf =  5248177548561.694 kuu =  1.0 kfu =  5248177548561.694 kff =  3975892082676682.5\n",
      "kuf =  5315882972974.849 kuu =  1.0 kfu =  5315882972974.849 kff =  4027184070874052.0\n",
      "kuf =  5383499765236.91 kuu =  1.0 kfu =  5383499765236.91 kff =  4078408913502404.0\n",
      "kuf =  5451015217115.226 kuu =  1.0 kfu =  5451015217115.226 kff =  4129556983112759.0\n",
      "kuf =  5518416763861.945 kuu =  1.0 kfu =  5518416763861.945 kff =  4180618760956743.5\n",
      "kuf =  5585691988865.821 kuu =  1.0 kfu =  5585691988865.821 kff =  4231584840510684.5\n",
      "kuf =  5652828628154.231 kuu =  1.0 kfu =  5652828628154.231 kff =  4282445930886231.0\n",
      "kuf =  5719814574744.401 kuu =  1.0 kfu =  5719814574744.401 kff =  4333192860126734.5\n",
      "kuf =  5786637882842.88 kuu =  1.0 kfu =  5786637882842.88 kff =  4383816578388670.5\n",
      "kuf =  5853286771892.516 kuu =  1.0 kfu =  5853286771892.516 kff =  4434308161007529.5\n",
      "kuf =  5919749630466.247 kuu =  1.0 kfu =  5919749630466.247 kff =  4484658811447658.0\n",
      "kuf =  5986015020007.179 kuu =  1.0 kfu =  5986015020007.179 kff =  4534859864135648.0\n",
      "kuf =  6052071678414.555 kuu =  1.0 kfu =  6052071678414.555 kff =  4584902787176989.0\n",
      "kuf =  6117908523475.334 kuu =  1.0 kfu =  6117908523475.334 kff =  4634779184955738.0\n",
      "kuf =  6183514656141.221 kuu =  1.0 kfu =  6183514656141.221 kff =  4684480800617126.0\n",
      "kuf =  6248879363651.101 kuu =  1.0 kfu =  6248879363651.101 kff =  4733999518433034.0\n",
      "kuf =  6313992122499.001 kuu =  1.0 kfu =  6313992122499.001 kff =  4783327366050450.0\n",
      "kuf =  6378842601247.745 kuu =  1.0 kfu =  6378842601247.745 kff =  4832456516623032.0\n",
      "kuf =  6443420663188.631 kuu =  1.0 kfu =  6443420663188.631 kff =  4881379290826000.0\n",
      "kuf =  6507716368847.594 kuu =  1.0 kfu =  6507716368847.594 kff =  4930088158754761.0\n",
      "kuf =  6571719978338.377 kuu =  1.0 kfu =  6571719978338.377 kff =  4978575741707604.0\n",
      "kuf =  6635421953563.369 kuu =  1.0 kfu =  6635421953563.369 kff =  5026834813853005.0\n",
      "kuf =  6698812960262.895 kuu =  1.0 kfu =  6698812960262.895 kff =  5074858303782118.0\n",
      "kuf =  6761883869913.818 kuu =  1.0 kfu =  6761883869913.818 kff =  5122639295947112.0\n",
      "kuf =  6824625761478.454 kuu =  1.0 kfu =  6824625761478.454 kff =  5170171031986104.0\n",
      "kuf =  6887029923004.824 kuu =  1.0 kfu =  6887029923004.824 kff =  5217446911935471.0\n",
      "kuf =  6949087853079.502 kuu =  1.0 kfu =  6949087853079.502 kff =  5264460495330499.0\n",
      "kuf =  7010791262134.253 kuu =  1.0 kfu =  7010791262134.253 kff =  5311205502195249.0\n",
      "kuf =  7072132073607.897 kuu =  1.0 kfu =  7072132073607.897 kff =  5357675813922768.0\n",
      "kuf =  7133102424964.811 kuu =  1.0 kfu =  7133102424964.811 kff =  5403865474046671.0\n",
      "kuf =  7193694668571.627 kuu =  1.0 kfu =  7193694668571.627 kff =  5449768688905319.0\n",
      "kuf =  7253901372438.202 kuu =  1.0 kfu =  7253901372438.202 kff =  5495379828203146.0\n",
      "kuf =  7313715320798.144 kuu =  1.0 kfu =  7313715320798.144 kff =  5540693425450461.0\n",
      "kuf =  7373129514596.486 kuu =  1.0 kfu =  7373129514596.486 kff =  5585704178332894.0\n",
      "kuf =  7432137171798.947 kuu =  1.0 kfu =  7432137171798.947 kff =  5630406948945687.0\n",
      "kuf =  7490731727590.103 kuu =  1.0 kfu =  7490731727590.103 kff =  5674796763943821.0\n",
      "kuf =  7548906834436.42 kuu =  1.0 kfu =  7548906834436.42 kff =  5718868814589770.0\n",
      "kuf =  7606656362020.557 kuu =  1.0 kfu =  7606656362020.557 kff =  5762618456703729.0\n",
      "kuf =  7663974397049.115 kuu =  1.0 kfu =  7663974397049.115 kff =  5806041210517972.0\n",
      "kuf =  7720855242936.026 kuu =  1.0 kfu =  7720855242936.026 kff =  5849132760436991.0\n",
      "kuf =  7777293419363.852 kuu =  1.0 kfu =  7777293419363.852 kff =  5891888954705151.0\n",
      "kuf =  7833283661725.373 kuu =  1.0 kfu =  7833283661725.373 kff =  5934305804983650.0\n",
      "kuf =  7888820920447.793 kuu =  1.0 kfu =  7888820920447.793 kff =  5976379485838550.0\n",
      "kuf =  7943900360202.03 kuu =  1.0 kfu =  7943900360202.03 kff =  6018106334141759.0\n",
      "kuf =  7998517358999.587 kuu =  1.0 kfu =  7998517358999.587 kff =  6059482848386838.0\n",
      "kuf =  8052667507179.478 kuu =  1.0 kfu =  8052667507179.478 kff =  6100505687921525.0\n",
      "kuf =  8106346606287.882 kuu =  1.0 kfu =  8106346606287.882 kff =  6141171672098988.0\n",
      "kuf =  8159550667853.005 kuu =  1.0 kfu =  8159550667853.005 kff =  6181477779349682.0\n",
      "kuf =  8212275912057.899 kuu =  1.0 kfu =  8212275912057.899 kff =  6221421146175922.0\n",
      "kuf =  8264518766313.889 kuu =  1.0 kfu =  8264518766313.889 kff =  6260999066071133.0\n",
      "kuf =  8316275863737.259 kuu =  1.0 kfu =  8316275863737.259 kff =  6300208988365835.0\n",
      "kuf =  8367544041532.052 kuu =  1.0 kfu =  8367544041532.052 kff =  6339048517002483.0\n",
      "kuf =  8418320339281.596 kuu =  1.0 kfu =  8418320339281.596 kff =  6377515409241175.0\n",
      "kuf =  8468601997151.665 kuu =  1.0 kfu =  8468601997151.665 kff =  6415607574298407.0\n",
      "kuf =  8518386454008.018 kuu =  1.0 kfu =  8518386454008.018 kff =  6453323071920963.0\n",
      "kuf =  8567671345451.102 kuu =  1.0 kfu =  8567671345451.102 kff =  6490660110897062.0\n",
      "kuf =  8616454501770.82 kuu =  1.0 kfu =  8616454501770.82 kff =  6527617047506933.0\n",
      "kuf =  8664733945824.134 kuu =  1.0 kfu =  8664733945824.134 kff =  6564192383914943.0\n",
      "kuf =  8712507890838.401 kuu =  1.0 kfu =  8712507890838.401 kff =  6600384766505450.0\n",
      "kuf =  8759774738143.253 kuu =  1.0 kfu =  8759774738143.253 kff =  6636192984164540.0\n",
      "kuf =  8806533074833.898 kuu =  1.0 kfu =  8806533074833.898 kff =  6671615966509796.0\n",
      "kuf =  8852781671368.701 kuu =  1.0 kfu =  8852781671368.701 kff =  6706652782070280.0\n",
      "kuf =  8898519479103.857 kuu =  1.0 kfu =  8898519479103.857 kff =  6741302636418869.0\n",
      "kuf =  8943745627768.055 kuu =  1.0 kfu =  8943745627768.055 kff =  6775564870259113.0\n",
      "kuf =  8988459422879.938 kuu =  1.0 kfu =  8988459422879.938 kff =  6809438957468774.0\n",
      "kuf =  9032660343111.17 kuu =  1.0 kfu =  9032660343111.17 kff =  6842924503102141.0\n",
      "kuf =  9076348037598.008 kuu =  1.0 kfu =  9076348037598.008 kff =  6876021241353351.0\n",
      "kuf =  9119522323204.043 kuu =  1.0 kfu =  9119522323204.043 kff =  6908729033482697.0\n",
      "kuf =  9162183181737.082 kuu =  1.0 kfu =  9162183181737.082 kff =  6941047865708215.0\n",
      "kuf =  9204330757122.701 kuu =  1.0 kfu =  9204330757122.701 kff =  6972977847064434.0\n",
      "kuf =  9245965352537.48 kuu =  1.0 kfu =  9245965352537.48 kff =  7004519207230581.0\n",
      "kuf =  9287087427504.43 kuu =  1.0 kfu =  9287087427504.43 kff =  7035672294330147.0\n",
      "kuf =  9327697594953.4 kuu =  1.0 kfu =  9327697594953.4 kff =  7066437572703930.0\n",
      "kuf =  9367796618249.176 kuu =  1.0 kfu =  9367796618249.176 kff =  7096815620658583.0\n",
      "kuf =  9407385408189.81 kuu =  1.0 kfu =  9407385408189.81 kff =  7126807128192633.0\n",
      "kuf =  9446465019977.914 kuu =  1.0 kfu =  9446465019977.914 kff =  7156412894701996.0\n",
      "kuf =  9485036650167.387 kuu =  1.0 kfu =  9485036650167.387 kff =  7185633826666900.0\n",
      "kuf =  9523101633588.24 kuu =  1.0 kfu =  9523101633588.24 kff =  7214470935322202.0\n",
      "kuf =  9560661440251.914 kuu =  1.0 kfu =  9560661440251.914 kff =  7242925334312933.0\n",
      "kuf =  9597717672239.703 kuu =  1.0 kfu =  9597717672239.703 kff =  7270998237337042.0\n",
      "kuf =  9634272060576.574 kuu =  1.0 kfu =  9634272060576.574 kff =  7298690955777081.0\n",
      "kuf =  9670326462092.934 kuu =  1.0 kfu =  9670326462092.934 kff =  7326004896322752.0\n",
      "kuf =  9705882856276.598 kuu =  1.0 kfu =  9705882856276.598 kff =  7352941558586037.0\n",
      "kuf =  9740943342117.348 kuu =  1.0 kfu =  9740943342117.348 kff =  7379502532710710.0\n",
      "kuf =  9775510134946.271 kuu =  1.0 kfu =  9775510134946.271 kff =  7405689496977898.0\n",
      "kuf =  9809585563272.27 kuu =  1.0 kfu =  9809585563272.27 kff =  7431504215409496.0\n",
      "kuf =  9843172065617.732 kuu =  1.0 kfu =  9843172065617.732 kff =  7456948535370951.0\n",
      "kuf =  9876272187355.69 kuu =  1.0 kfu =  9876272187355.69 kff =  7482024385175163.0\n",
      "kuf =  9908888577550.416 kuu =  1.0 kfu =  9908888577550.416 kff =  7506733771689011.0\n",
      "kuf =  9941023985803.643 kuu =  1.0 kfu =  9941023985803.643 kff =  7531078777944106.0\n",
      "kuf =  9972681259108.28 kuu =  1.0 kfu =  9972681259108.28 kff =  7555061560753261.0\n",
      "kuf =  10003863338711.658 kuu =  1.0 kfu =  10003863338711.658 kff =  7578684348334151.0\n",
      "kuf =  10034573256990.207 kuu =  1.0 kfu =  10034573256990.207 kff =  7601949437941646.0\n",
      "kuf =  10064814134337.373 kuu =  1.0 kfu =  10064814134337.373 kff =  7624859193510176.0\n",
      "kuf =  10094589176066.6 kuu =  1.0 kfu =  10094589176066.6 kff =  7647416043307501.0\n",
      "kuf =  10123901669331.14 kuu =  1.0 kfu =  10123901669331.14 kff =  7669622477601238.0\n",
      "kuf =  10152754980062.418 kuu =  1.0 kfu =  10152754980062.418 kff =  7691481046339434.0\n",
      "kuf =  10181152549928.47 kuu =  1.0 kfu =  10181152549928.47 kff =  7712994356846363.0\n",
      "kuf =  10209097893314.252 kuu =  1.0 kfu =  10209097893314.252 kff =  7734165071534867.0\n",
      "kuf =  10236594594325.174 kuu =  1.0 kfu =  10236594594325.174 kff =  7754995905636318.0\n",
      "kuf =  10263646303815.486 kuu =  1.0 kfu =  10263646303815.486 kff =  7775489624949393.0\n",
      "kuf =  10290256736442.84 kuu =  1.0 kfu =  10290256736442.84 kff =  7795649043608674.0\n",
      "kuf =  10316429667750.568 kuu =  1.0 kfu =  10316429667750.568 kff =  7815477021874263.0\n",
      "kuf =  10342168931278.812 kuu =  1.0 kfu =  10342168931278.812 kff =  7834976463943239.0\n",
      "kuf =  10367478415705.943 kuu =  1.0 kfu =  10367478415705.943 kff =  7854150315784062.0\n",
      "kuf =  10392362062021.47 kuu =  1.0 kfu =  10392362062021.47 kff =  7873001562994848.0\n",
      "kuf =  10416823860731.537 kuu =  1.0 kfu =  10416823860731.537 kff =  7891533228686311.0\n",
      "kuf =  10440867849098.207 kuu =  1.0 kfu =  10440867849098.207 kff =  7909748371390317.0\n",
      "kuf =  10464498108413.594 kuu =  1.0 kfu =  10464498108413.594 kff =  7927650082994832.0\n",
      "kuf =  10487718761309.836 kuu =  1.0 kfu =  10487718761309.836 kff =  7945241486706022.0\n",
      "kuf =  10510533969105.898 kuu =  1.0 kfu =  10510533969105.898 kff =  7962525735038255.0\n",
      "kuf =  10532947929192.12 kuu =  1.0 kfu =  10532947929192.12 kff =  7979506007832695.0\n",
      "kuf =  10554964872453.389 kuu =  1.0 kfu =  10554964872453.389 kff =  7996185510305171.0\n",
      "kuf =  10576589060731.707 kuu =  1.0 kfu =  10576589060731.707 kff =  8012567471123863.0\n",
      "kuf =  10597824784328.988 kuu =  1.0 kfu =  10597824784328.988 kff =  8028655140517494.0\n",
      "kuf =  10618676359550.758 kuu =  1.0 kfu =  10618676359550.758 kff =  8044451788414494.0\n",
      "kuf =  10639148126291.424 kuu =  1.0 kfu =  10639148126291.424 kff =  8059960702613658.0\n",
      "kuf =  10659244445661.79 kuu =  1.0 kfu =  10659244445661.79 kff =  8075185186986804.0\n",
      "kuf =  10678969697659.309 kuu =  1.0 kfu =  10678969697659.309 kff =  8090128559713825.0\n",
      "kuf =  10698328278881.674 kuu =  1.0 kfu =  10698328278881.674 kff =  8104794151550547.0\n",
      "kuf =  10717324600284.203 kuu =  1.0 kfu =  10717324600284.203 kff =  8119185304129788.0\n",
      "kuf =  10735963084981.428 kuu =  1.0 kfu =  10735963084981.428 kff =  8133305368295890.0\n",
      "kuf =  10754248166093.336 kuu =  1.0 kfu =  10754248166093.336 kff =  8147157702473086.0\n",
      "kuf =  10772184284636.555 kuu =  1.0 kfu =  10772184284636.555 kff =  8160745671067914.0\n",
      "kuf =  10789775887460.844 kuu =  1.0 kfu =  10789775887460.844 kff =  8174072642905948.0\n",
      "kuf =  10807027425231.08 kuu =  1.0 kfu =  10807027425231.08 kff =  8187141989703005.0\n",
      "kuf =  10823943350455.059 kuu =  1.0 kfu =  10823943350455.059 kff =  8199957084571050.0\n",
      "kuf =  10840528115557.197 kuu =  1.0 kfu =  10840528115557.197 kff =  8212521300558888.0\n",
      "kuf =  10856786170998.338 kuu =  1.0 kfu =  10856786170998.338 kff =  8224838009227760.0\n",
      "kuf =  10872721963441.736 kuu =  1.0 kfu =  10872721963441.736 kff =  8236910579261952.0\n",
      "kuf =  10888339933965.3 kuu =  1.0 kfu =  10888339933965.3 kff =  8248742375114425.0\n",
      "kuf =  10903644516320.135 kuu =  1.0 kfu =  10903644516320.135 kff =  8260336755687532.0\n",
      "kuf =  10918640135235.299 kuu =  1.0 kfu =  10918640135235.299 kff =  8271697073048742.0\n",
      "kuf =  10933331204768.873 kuu =  1.0 kfu =  10933331204768.873 kff =  8282826671181450.0\n",
      "kuf =  10947722126705.11 kuu =  1.0 kfu =  10947722126705.11 kff =  8293728884770695.0\n",
      "kuf =  10961817288997.674 kuu =  1.0 kfu =  10961817288997.674 kff =  8304407038023800.0\n",
      "kuf =  10975621064258.758 kuu =  1.0 kfu =  10975621064258.758 kff =  8314864443525761.0\n",
      "kuf =  10989137808293.93 kuu =  1.0 kfu =  10989137808293.93 kff =  8325104401129278.0\n",
      "kuf =  11002371858682.502 kuu =  1.0 kfu =  11002371858682.502 kff =  8335130196879289.0\n",
      "kuf =  11015327533403.197 kuu =  1.0 kfu =  11015327533403.197 kff =  8344945101971794.0\n",
      "kuf =  11028009129504.824 kuu =  1.0 kfu =  11028009129504.824 kff =  8354552371746800.0\n",
      "kuf =  11040420921821.705 kuu =  1.0 kfu =  11040420921821.705 kff =  8363955244715158.0\n",
      "kuf =  11052567161733.498 kuu =  1.0 kfu =  11052567161733.498 kff =  8373156941619033.0\n",
      "kuf =  11064452075969.139 kuu =  1.0 kfu =  11064452075969.139 kff =  8382160664525801.0\n",
      "kuf =  11076079865454.47 kuu =  1.0 kfu =  11076079865454.47 kff =  8390969595955043.0\n",
      "kuf =  11087454704203.16 kuu =  1.0 kfu =  11087454704203.16 kff =  8399586898038322.0\n",
      "kuf =  11098580738250.63 kuu =  1.0 kfu =  11098580738250.63 kff =  8408015711711566.0\n",
      "kuf =  11109462084630.338 kuu =  1.0 kfu =  11109462084630.338 kff =  8416259155939515.0\n",
      "kuf =  11120102830392.176 kuu =  1.0 kfu =  11120102830392.176 kff =  8424320326972087.0\n",
      "kuf =  11130507031662.383 kuu =  1.0 kfu =  11130507031662.383 kff =  8432202297632194.0\n",
      "kuf =  11140678712744.516 kuu =  1.0 kfu =  11140678712744.516 kff =  8439908116634649.0\n",
      "kuf =  11150621865260.96 kuu =  1.0 kfu =  11150621865260.96 kff =  8447440807935806.0\n",
      "kuf =  11160340447334.47 kuu =  1.0 kfu =  11160340447334.47 kff =  8454803370113509.0\n",
      "kuf =  11169838382809.18 kuu =  1.0 kfu =  11169838382809.18 kff =  8461998775776952.0\n",
      "kuf =  11179119560510.518 kuu =  1.0 kfu =  11179119560510.518 kff =  8469029971006003.0\n",
      "kuf =  11188187833543.516 kuu =  1.0 kfu =  11188187833543.516 kff =  8475899874819628.0\n",
      "kuf =  11197047018628.8 kuu =  1.0 kfu =  11197047018628.8 kff =  8482611378672848.0\n",
      "kuf =  11205700895475.799 kuu =  1.0 kfu =  11205700895475.799 kff =  8489167345981894.0\n",
      "kuf =  11214153206192.47 kuu =  1.0 kfu =  11214153206192.47 kff =  8495570611677040.0\n",
      "kuf =  11222407654730.996 kuu =  1.0 kfu =  11222407654730.996 kff =  8501823981782665.0\n",
      "kuf =  11230467906368.727 kuu =  1.0 kfu =  11230467906368.727 kff =  8507930233024035.0\n",
      "kuf =  11238337587223.816 kuu =  1.0 kfu =  11238337587223.816 kff =  8513892112460358.0\n"
     ]
    }
   ],
   "source": [
    "val_1 = 0.1\n",
    "val_2 = 0.1\n",
    "x = np.arange(0.01, 3, 0.01)\n",
    "cov_func = SquaredExponentialKernel()\n",
    "\n",
    "for i in range(len(x)):\n",
    "    kuf = k_uf(x[i], x[i], cov_func)\n",
    "    kfu = k_fu(x[i], x[i], cov_func)\n",
    "    kuu = k_uu(x[i], x[i], cov_func)\n",
    "    kff = k_ff(x[i], x[i], cov_func)\n",
    "    print('kuf = ', kuf, 'kuu = ', kuu, 'kfu = ', kfu, 'kff = ', kff)"
   ]
  },
  {
   "cell_type": "markdown",
   "metadata": {},
   "source": [
    "a function for creating the sub and covariance matrix as described in the notes:\n",
    "* works only correctly for squared matrices [n1 x n2] where n1 = n2"
   ]
  },
  {
   "cell_type": "code",
   "execution_count": 13,
   "metadata": {
    "ExecuteTime": {
     "end_time": "2024-07-24T16:35:00.592801Z",
     "start_time": "2024-07-24T16:35:00.461961Z"
    }
   },
   "outputs": [],
   "source": [
    "def create_sub_matrix(variable_1, variable_2, specified_cov_function, cov_function):\n",
    "    n1 = len(variable_1)\n",
    "    n2 = len(variable_2)\n",
    "    sub_matrix = np.zeros((n1, n2))\n",
    "\n",
    "    for i, val_1 in enumerate(variable_1):\n",
    "        for j, val_2 in enumerate(variable_2):\n",
    "            sub_matrix[i, j] = specified_cov_function(val_1, val_2, cov_function)\n",
    "\n",
    "    return sub_matrix"
   ]
  },
  {
   "cell_type": "markdown",
   "metadata": {},
   "source": [
    "a function for creating the covariance matrix as described in the notes:\n",
    "* works only correctly for squared matrices [2*n1 x 2*n2] where n1 = n2"
   ]
  },
  {
   "cell_type": "code",
   "execution_count": 14,
   "metadata": {
    "ExecuteTime": {
     "end_time": "2024-07-24T16:35:00.592839Z",
     "start_time": "2024-07-24T16:35:00.464606Z"
    }
   },
   "outputs": [],
   "source": [
    "def create_cov_matrix(variable_1, variable_2, cov_function):\n",
    "    n1 = len(variable_1)\n",
    "    n2 = len(variable_2)\n",
    "    cov = np.zeros((2*n1, 2*n2))\n",
    "\n",
    "    kuu_sub_matrix = create_sub_matrix(variable_1, variable_2, k_uu, cov_function)\n",
    "    kuf_sub_matrix = create_sub_matrix(variable_1, variable_2, k_uf, cov_function)\n",
    "    kfu_sub_matrix = create_sub_matrix(variable_1, variable_2, k_fu, cov_function)\n",
    "    kff_sub_matrix = create_sub_matrix(variable_1, variable_2, k_ff, cov_function)\n",
    "\n",
    "    for i in range(2*n1):\n",
    "        for j in range(2*n2):\n",
    "\n",
    "            if i <= n1 - 1 and j <= n2 - 1:\n",
    "                #print('kuu')\n",
    "                cov[i, j] = kuu_sub_matrix[i, j]\n",
    "            elif i <= n1 - 1 and n2 <= j <= 2*n2 - 1:\n",
    "                #print('kuf')\n",
    "                cov[i, j] = kuf_sub_matrix[i, j - n2]\n",
    "            elif n1 <= i <= 2*n1 - 1 and j <= n2 - 1:\n",
    "                #print('kfu')\n",
    "                cov[i, j] = kfu_sub_matrix[i - n1, j]\n",
    "            else:\n",
    "                #print('kff')\n",
    "                cov[i, j] = kff_sub_matrix[i - n1, j - n2]\n",
    "\n",
    "    return cov"
   ]
  },
  {
   "cell_type": "markdown",
   "metadata": {},
   "source": [
    "testing the implemented functions for creating the covariance matrix above"
   ]
  },
  {
   "cell_type": "code",
   "execution_count": 15,
   "metadata": {
    "ExecuteTime": {
     "end_time": "2024-07-24T16:35:04.252137Z",
     "start_time": "2024-07-24T16:35:00.477865Z"
    }
   },
   "outputs": [
    {
     "name": "stderr",
     "output_type": "stream",
     "text": [
      "/var/folders/db/wdxh9ynd7_bfr2nwqswb2nn80000gn/T/ipykernel_55963/72069979.py:28: IntegrationWarning:\n",
      "\n",
      "The integral is probably divergent, or slowly convergent.\n",
      "\n",
      "/var/folders/db/wdxh9ynd7_bfr2nwqswb2nn80000gn/T/ipykernel_55963/72069979.py:78: IntegrationWarning:\n",
      "\n",
      "The integral is probably divergent, or slowly convergent.\n",
      "\n"
     ]
    },
    {
     "name": "stdout",
     "output_type": "stream",
     "text": [
      "covariance matrix =  [[1.00000000e+00 1.00000000e+00 1.00000000e+00 1.00000000e+00\n",
      "  2.74498160e+12 2.74498160e+12 2.74498160e+12 2.74498160e+12]\n",
      " [1.00000000e+00 1.00000000e+00 1.00000000e+00 1.00000000e+00\n",
      "  2.74498160e+12 2.74498160e+12 2.74498160e+12 2.74498160e+12]\n",
      " [1.00000000e+00 1.00000000e+00 1.00000000e+00 1.00000000e+00\n",
      "  2.74498160e+12 2.74498160e+12 2.74498160e+12 2.74498160e+12]\n",
      " [1.00000000e+00 1.00000000e+00 1.00000000e+00 1.00000000e+00\n",
      "  2.74498160e+12 2.74498160e+12 2.74498160e+12 2.74498160e+12]\n",
      " [2.74498160e+12 2.74498160e+12 2.74498160e+12 2.74498160e+12\n",
      "  2.07953151e+15 2.07953151e+15 2.07953151e+15 2.07953151e+15]\n",
      " [2.74498160e+12 2.74498160e+12 2.74498160e+12 2.74498160e+12\n",
      "  2.07953151e+15 2.07953151e+15 2.07953151e+15 2.07953151e+15]\n",
      " [2.74498160e+12 2.74498160e+12 2.74498160e+12 2.74498160e+12\n",
      "  2.07953151e+15 2.07953151e+15 2.07953151e+15 2.07953151e+15]\n",
      " [2.74498160e+12 2.74498160e+12 2.74498160e+12 2.74498160e+12\n",
      "  2.07953151e+15 2.07953151e+15 2.07953151e+15 2.07953151e+15]]\n"
     ]
    }
   ],
   "source": [
    "variable_1 = [1, 1, 1, 1]\n",
    "variable_2 = [1, 1, 1, 1]\n",
    "#variable_1 = np.array([0.3, 0.8, 1.4, 1.8, 2])\n",
    "#variable_2 = np.array([0.3, 0.8, 1.4, 1.8, 2])\n",
    "\n",
    "cov_func = SquaredExponentialKernel()\n",
    "cov = create_cov_matrix(variable_1, variable_2, cov_func)\n",
    "\n",
    "print('covariance matrix = ', cov)"
   ]
  },
  {
   "cell_type": "markdown",
   "metadata": {},
   "source": [
    "define function for calculating q_u transposed\n"
   ]
  },
  {
   "cell_type": "code",
   "execution_count": 16,
   "metadata": {
    "ExecuteTime": {
     "end_time": "2024-07-24T16:35:04.252283Z",
     "start_time": "2024-07-24T16:35:04.213019Z"
    }
   },
   "outputs": [],
   "source": [
    "def q_u_transposed(variable_1, variable_2, cov_function):\n",
    "    n1 = len(variable_1)\n",
    "    n2 = len(variable_2)\n",
    "    q_u_trans = np.zeros((n1, 2*n2))\n",
    "\n",
    "    kuu_sub_matrix = create_sub_matrix(variable_1, variable_2, k_uu, cov_function)\n",
    "    kuf_sub_matrix = create_sub_matrix(variable_1, variable_2, k_uf, cov_function)\n",
    "\n",
    "    for i in range(n1):\n",
    "        for j in range(2*n2):\n",
    "\n",
    "            if j <= n2 - 1:\n",
    "                q_u_trans[i, j] = kuu_sub_matrix[i, j]\n",
    "            else:\n",
    "                q_u_trans[i, j] = kuf_sub_matrix[i, j - n2]\n",
    "\n",
    "    return q_u_trans"
   ]
  },
  {
   "cell_type": "code",
   "execution_count": 17,
   "metadata": {
    "ExecuteTime": {
     "end_time": "2024-07-24T16:35:04.252320Z",
     "start_time": "2024-07-24T16:35:04.218713Z"
    }
   },
   "outputs": [],
   "source": [
    "def q_f_transposed(variable_1, variable_2, cov_function):\n",
    "    n1 = len(variable_1)\n",
    "    n2 = len(variable_2)\n",
    "    q_f_trans = np.zeros((n1, 2*n2))\n",
    "\n",
    "    kfu_sub_matrix = create_sub_matrix(variable_1, variable_2, k_fu, cov_function)\n",
    "    kff_sub_matrix = create_sub_matrix(variable_1, variable_2, k_ff, cov_function)\n",
    "\n",
    "    for i in range(n1):\n",
    "        for j in range(2*n2):\n",
    "\n",
    "            if j <= n2 - 1:\n",
    "                q_f_trans[i, j] = kfu_sub_matrix[i, j]\n",
    "            else:\n",
    "                q_f_trans[i, j] = kff_sub_matrix[i, j - n2]\n",
    "\n",
    "    return q_f_trans"
   ]
  },
  {
   "cell_type": "markdown",
   "metadata": {},
   "source": [
    "testing if the function q_u_transposed works properly"
   ]
  },
  {
   "cell_type": "code",
   "execution_count": 18,
   "metadata": {
    "ExecuteTime": {
     "end_time": "2024-07-24T16:35:04.259914Z",
     "start_time": "2024-07-24T16:35:04.233839Z"
    }
   },
   "outputs": [
    {
     "name": "stdout",
     "output_type": "stream",
     "text": [
      "q_u transposed =  [[1.00000000e+00 6.06530660e-01 1.00000000e+00 1.00000000e+00\n",
      "  2.74498160e+12 3.90005833e+12 2.74498160e+12 2.74498160e+12]\n",
      " [1.00000000e+00 6.06530660e-01 1.00000000e+00 1.00000000e+00\n",
      "  2.74498160e+12 3.90005833e+12 2.74498160e+12 2.74498160e+12]\n",
      " [1.00000000e+00 6.06530660e-01 1.00000000e+00 1.00000000e+00\n",
      "  2.74498160e+12 3.90005833e+12 2.74498160e+12 2.74498160e+12]\n",
      " [1.00000000e+00 6.06530660e-01 1.00000000e+00 1.00000000e+00\n",
      "  2.74498160e+12 3.90005833e+12 2.74498160e+12 2.74498160e+12]]\n"
     ]
    }
   ],
   "source": [
    "variable_1 = [1, 1, 1, 1]\n",
    "variable_2 = [1, 2, 1, 1]\n",
    "cov_func = SquaredExponentialKernel()\n",
    "\n",
    "q_u_trans = q_u_transposed(variable_1, variable_2, cov_func)\n",
    "print('q_u transposed = ', q_u_trans)"
   ]
  },
  {
   "cell_type": "markdown",
   "metadata": {},
   "source": [
    "training: page 113 in GP for ML"
   ]
  },
  {
   "cell_type": "code",
   "execution_count": 19,
   "metadata": {
    "ExecuteTime": {
     "end_time": "2024-07-24T16:35:35.015557Z",
     "start_time": "2024-07-24T16:35:26.085268Z"
    }
   },
   "outputs": [
    {
     "name": "stderr",
     "output_type": "stream",
     "text": [
      "/var/folders/db/wdxh9ynd7_bfr2nwqswb2nn80000gn/T/ipykernel_55963/72069979.py:28: IntegrationWarning:\n",
      "\n",
      "The integral is probably divergent, or slowly convergent.\n",
      "\n",
      "/var/folders/db/wdxh9ynd7_bfr2nwqswb2nn80000gn/T/ipykernel_55963/72069979.py:78: IntegrationWarning:\n",
      "\n",
      "The integral is probably divergent, or slowly convergent.\n",
      "\n"
     ]
    },
    {
     "ename": "KeyboardInterrupt",
     "evalue": "",
     "output_type": "error",
     "traceback": [
      "\u001B[0;31m---------------------------------------------------------------------------\u001B[0m",
      "\u001B[0;31mKeyboardInterrupt\u001B[0m                         Traceback (most recent call last)",
      "Input \u001B[0;32mIn [19]\u001B[0m, in \u001B[0;36m<cell line: 21>\u001B[0;34m()\u001B[0m\n\u001B[1;32m     22\u001B[0m \u001B[38;5;28;01mfor\u001B[39;00m l_index, length_val \u001B[38;5;129;01min\u001B[39;00m \u001B[38;5;28menumerate\u001B[39m(length_vals):\n\u001B[1;32m     23\u001B[0m     cov_func \u001B[38;5;241m=\u001B[39m SquaredExponentialKernel(sigma\u001B[38;5;241m=\u001B[39msigma_val, length\u001B[38;5;241m=\u001B[39mlength_val)\n\u001B[0;32m---> 24\u001B[0m     negative_log_marginal_likelihood \u001B[38;5;241m=\u001B[39m \u001B[43mlog_marginal_likelihood\u001B[49m\u001B[43m(\u001B[49m\u001B[43mdata_x\u001B[49m\u001B[43m,\u001B[49m\u001B[43m \u001B[49m\u001B[43mdata_y\u001B[49m\u001B[43m,\u001B[49m\u001B[43m \u001B[49m\u001B[43mcov_func\u001B[49m\u001B[43m,\u001B[49m\u001B[43m \u001B[49m\u001B[43mnoise\u001B[49m\u001B[43m \u001B[49m\u001B[38;5;241;43m=\u001B[39;49m\u001B[43m \u001B[49m\u001B[38;5;241;43m0.01\u001B[39;49m\u001B[43m)\u001B[49m\n\u001B[1;32m     25\u001B[0m     \u001B[38;5;28mprint\u001B[39m(\u001B[38;5;124m'\u001B[39m\u001B[38;5;124mlikelihood = \u001B[39m\u001B[38;5;124m'\u001B[39m, negative_log_marginal_likelihood)\n\u001B[1;32m     27\u001B[0m     \u001B[38;5;28;01mif\u001B[39;00m negative_log_marginal_likelihood \u001B[38;5;241m<\u001B[39m memory[\u001B[38;5;124m'\u001B[39m\u001B[38;5;124mnegative_log_marginal_likelihood\u001B[39m\u001B[38;5;124m'\u001B[39m]:\n",
      "Input \u001B[0;32mIn [19]\u001B[0m, in \u001B[0;36mlog_marginal_likelihood\u001B[0;34m(data_x, data_y, cov_func, noise)\u001B[0m\n\u001B[1;32m      3\u001B[0m y \u001B[38;5;241m=\u001B[39m np\u001B[38;5;241m.\u001B[39mconcatenate([data_y, data_y])\n\u001B[1;32m      4\u001B[0m y_transposed \u001B[38;5;241m=\u001B[39m y\u001B[38;5;241m.\u001B[39mT\n\u001B[0;32m----> 5\u001B[0m K \u001B[38;5;241m=\u001B[39m \u001B[43mcreate_cov_matrix\u001B[49m\u001B[43m(\u001B[49m\u001B[43mdata_x\u001B[49m\u001B[43m,\u001B[49m\u001B[43m \u001B[49m\u001B[43mdata_x\u001B[49m\u001B[43m,\u001B[49m\u001B[43m \u001B[49m\u001B[43mcov_func\u001B[49m\u001B[43m)\u001B[49m \u001B[38;5;241m+\u001B[39m noise \u001B[38;5;241m*\u001B[39m np\u001B[38;5;241m.\u001B[39midentity(\u001B[38;5;241m2\u001B[39m\u001B[38;5;241m*\u001B[39mn)\n\u001B[1;32m      6\u001B[0m K_inverse \u001B[38;5;241m=\u001B[39m np\u001B[38;5;241m.\u001B[39mlinalg\u001B[38;5;241m.\u001B[39minv(K)\n\u001B[1;32m      8\u001B[0m a \u001B[38;5;241m=\u001B[39m n\u001B[38;5;241m/\u001B[39m\u001B[38;5;241m2\u001B[39m \u001B[38;5;241m*\u001B[39m np\u001B[38;5;241m.\u001B[39mlog(\u001B[38;5;241m2\u001B[39m\u001B[38;5;241m*\u001B[39mnp\u001B[38;5;241m.\u001B[39mpi)  \u001B[38;5;66;03m# normalization constant\u001B[39;00m\n",
      "Input \u001B[0;32mIn [14]\u001B[0m, in \u001B[0;36mcreate_cov_matrix\u001B[0;34m(variable_1, variable_2, cov_function)\u001B[0m\n\u001B[1;32m      7\u001B[0m kuf_sub_matrix \u001B[38;5;241m=\u001B[39m create_sub_matrix(variable_1, variable_2, k_uf, cov_function)\n\u001B[1;32m      8\u001B[0m kfu_sub_matrix \u001B[38;5;241m=\u001B[39m create_sub_matrix(variable_1, variable_2, k_fu, cov_function)\n\u001B[0;32m----> 9\u001B[0m kff_sub_matrix \u001B[38;5;241m=\u001B[39m \u001B[43mcreate_sub_matrix\u001B[49m\u001B[43m(\u001B[49m\u001B[43mvariable_1\u001B[49m\u001B[43m,\u001B[49m\u001B[43m \u001B[49m\u001B[43mvariable_2\u001B[49m\u001B[43m,\u001B[49m\u001B[43m \u001B[49m\u001B[43mk_ff\u001B[49m\u001B[43m,\u001B[49m\u001B[43m \u001B[49m\u001B[43mcov_function\u001B[49m\u001B[43m)\u001B[49m\n\u001B[1;32m     11\u001B[0m \u001B[38;5;28;01mfor\u001B[39;00m i \u001B[38;5;129;01min\u001B[39;00m \u001B[38;5;28mrange\u001B[39m(\u001B[38;5;241m2\u001B[39m\u001B[38;5;241m*\u001B[39mn1):\n\u001B[1;32m     12\u001B[0m     \u001B[38;5;28;01mfor\u001B[39;00m j \u001B[38;5;129;01min\u001B[39;00m \u001B[38;5;28mrange\u001B[39m(\u001B[38;5;241m2\u001B[39m\u001B[38;5;241m*\u001B[39mn2):\n",
      "Input \u001B[0;32mIn [13]\u001B[0m, in \u001B[0;36mcreate_sub_matrix\u001B[0;34m(variable_1, variable_2, specified_cov_function, cov_function)\u001B[0m\n\u001B[1;32m      6\u001B[0m \u001B[38;5;28;01mfor\u001B[39;00m i, val_1 \u001B[38;5;129;01min\u001B[39;00m \u001B[38;5;28menumerate\u001B[39m(variable_1):\n\u001B[1;32m      7\u001B[0m     \u001B[38;5;28;01mfor\u001B[39;00m j, val_2 \u001B[38;5;129;01min\u001B[39;00m \u001B[38;5;28menumerate\u001B[39m(variable_2):\n\u001B[0;32m----> 8\u001B[0m         sub_matrix[i, j] \u001B[38;5;241m=\u001B[39m \u001B[43mspecified_cov_function\u001B[49m\u001B[43m(\u001B[49m\u001B[43mval_1\u001B[49m\u001B[43m,\u001B[49m\u001B[43m \u001B[49m\u001B[43mval_2\u001B[49m\u001B[43m,\u001B[49m\u001B[43m \u001B[49m\u001B[43mcov_function\u001B[49m\u001B[43m)\u001B[49m\n\u001B[1;32m     10\u001B[0m \u001B[38;5;28;01mreturn\u001B[39;00m sub_matrix\n",
      "Input \u001B[0;32mIn [11]\u001B[0m, in \u001B[0;36mk_ff\u001B[0;34m(val_1, val_2, cov_func, R, C, L)\u001B[0m\n\u001B[1;32m    117\u001B[0m     d \u001B[38;5;241m=\u001B[39m double_integral(val_1, val_2)\n\u001B[1;32m    118\u001B[0m     \u001B[38;5;28;01mreturn\u001B[39;00m d\n\u001B[0;32m--> 120\u001B[0m \u001B[38;5;28;01mreturn\u001B[39;00m a \u001B[38;5;241m+\u001B[39m integral_val_b \u001B[38;5;241m+\u001B[39m integral_val_c \u001B[38;5;241m+\u001B[39m \u001B[43mg\u001B[49m\u001B[43m(\u001B[49m\u001B[43m)\u001B[49m \u001B[38;5;241m+\u001B[39m f() \u001B[38;5;241m+\u001B[39m e() \u001B[38;5;241m+\u001B[39m d()\n",
      "Input \u001B[0;32mIn [11]\u001B[0m, in \u001B[0;36mk_ff.<locals>.g\u001B[0;34m()\u001B[0m\n\u001B[1;32m     39\u001B[0m     integral_val, _ \u001B[38;5;241m=\u001B[39m integrate(integrand, \u001B[38;5;241m0\u001B[39m, val_1, epsabs\u001B[38;5;241m=\u001B[39m\u001B[38;5;241m1e-8\u001B[39m, epsrel\u001B[38;5;241m=\u001B[39m\u001B[38;5;241m1e-8\u001B[39m, limit\u001B[38;5;241m=\u001B[39m\u001B[38;5;241m10000\u001B[39m)\n\u001B[1;32m     40\u001B[0m     \u001B[38;5;28;01mreturn\u001B[39;00m integral_val\n\u001B[0;32m---> 42\u001B[0m g \u001B[38;5;241m=\u001B[39m \u001B[43mdouble_integral\u001B[49m\u001B[43m(\u001B[49m\u001B[43mval_1\u001B[49m\u001B[43m,\u001B[49m\u001B[43m \u001B[49m\u001B[43mval_2\u001B[49m\u001B[43m)\u001B[49m\n\u001B[1;32m     43\u001B[0m \u001B[38;5;28;01mreturn\u001B[39;00m g\n",
      "Input \u001B[0;32mIn [11]\u001B[0m, in \u001B[0;36mk_ff.<locals>.g.<locals>.double_integral\u001B[0;34m(val_1, val_2)\u001B[0m\n\u001B[1;32m     37\u001B[0m \u001B[38;5;28;01mdef\u001B[39;00m \u001B[38;5;21mdouble_integral\u001B[39m(val_1, val_2):\n\u001B[1;32m     38\u001B[0m     integrand \u001B[38;5;241m=\u001B[39m \u001B[38;5;28;01mlambda\u001B[39;00m tau: \u001B[38;5;241m1\u001B[39m\u001B[38;5;241m/\u001B[39mgamma(\u001B[38;5;241m1\u001B[39m \u001B[38;5;241m-\u001B[39m alpha) \u001B[38;5;241m*\u001B[39m \u001B[38;5;241m1\u001B[39m\u001B[38;5;241m/\u001B[39m(val_1 \u001B[38;5;241m-\u001B[39m tau)\u001B[38;5;241m*\u001B[39m\u001B[38;5;241m*\u001B[39malpha \u001B[38;5;241m*\u001B[39m derivative_B(tau, val_2)\n\u001B[0;32m---> 39\u001B[0m     integral_val, _ \u001B[38;5;241m=\u001B[39m \u001B[43mintegrate\u001B[49m\u001B[43m(\u001B[49m\u001B[43mintegrand\u001B[49m\u001B[43m,\u001B[49m\u001B[43m \u001B[49m\u001B[38;5;241;43m0\u001B[39;49m\u001B[43m,\u001B[49m\u001B[43m \u001B[49m\u001B[43mval_1\u001B[49m\u001B[43m,\u001B[49m\u001B[43m \u001B[49m\u001B[43mepsabs\u001B[49m\u001B[38;5;241;43m=\u001B[39;49m\u001B[38;5;241;43m1e-8\u001B[39;49m\u001B[43m,\u001B[49m\u001B[43m \u001B[49m\u001B[43mepsrel\u001B[49m\u001B[38;5;241;43m=\u001B[39;49m\u001B[38;5;241;43m1e-8\u001B[39;49m\u001B[43m,\u001B[49m\u001B[43m \u001B[49m\u001B[43mlimit\u001B[49m\u001B[38;5;241;43m=\u001B[39;49m\u001B[38;5;241;43m10000\u001B[39;49m\u001B[43m)\u001B[49m\n\u001B[1;32m     40\u001B[0m     \u001B[38;5;28;01mreturn\u001B[39;00m integral_val\n",
      "File \u001B[0;32m/Library/Frameworks/Python.framework/Versions/3.10/lib/python3.10/site-packages/scipy/integrate/_quadpack_py.py:351\u001B[0m, in \u001B[0;36mquad\u001B[0;34m(func, a, b, args, full_output, epsabs, epsrel, limit, points, weight, wvar, wopts, maxp1, limlst)\u001B[0m\n\u001B[1;32m    348\u001B[0m flip, a, b \u001B[38;5;241m=\u001B[39m b \u001B[38;5;241m<\u001B[39m a, \u001B[38;5;28mmin\u001B[39m(a, b), \u001B[38;5;28mmax\u001B[39m(a, b)\n\u001B[1;32m    350\u001B[0m \u001B[38;5;28;01mif\u001B[39;00m weight \u001B[38;5;129;01mis\u001B[39;00m \u001B[38;5;28;01mNone\u001B[39;00m:\n\u001B[0;32m--> 351\u001B[0m     retval \u001B[38;5;241m=\u001B[39m \u001B[43m_quad\u001B[49m\u001B[43m(\u001B[49m\u001B[43mfunc\u001B[49m\u001B[43m,\u001B[49m\u001B[43m \u001B[49m\u001B[43ma\u001B[49m\u001B[43m,\u001B[49m\u001B[43m \u001B[49m\u001B[43mb\u001B[49m\u001B[43m,\u001B[49m\u001B[43m \u001B[49m\u001B[43margs\u001B[49m\u001B[43m,\u001B[49m\u001B[43m \u001B[49m\u001B[43mfull_output\u001B[49m\u001B[43m,\u001B[49m\u001B[43m \u001B[49m\u001B[43mepsabs\u001B[49m\u001B[43m,\u001B[49m\u001B[43m \u001B[49m\u001B[43mepsrel\u001B[49m\u001B[43m,\u001B[49m\u001B[43m \u001B[49m\u001B[43mlimit\u001B[49m\u001B[43m,\u001B[49m\n\u001B[1;32m    352\u001B[0m \u001B[43m                   \u001B[49m\u001B[43mpoints\u001B[49m\u001B[43m)\u001B[49m\n\u001B[1;32m    353\u001B[0m \u001B[38;5;28;01melse\u001B[39;00m:\n\u001B[1;32m    354\u001B[0m     \u001B[38;5;28;01mif\u001B[39;00m points \u001B[38;5;129;01mis\u001B[39;00m \u001B[38;5;129;01mnot\u001B[39;00m \u001B[38;5;28;01mNone\u001B[39;00m:\n",
      "File \u001B[0;32m/Library/Frameworks/Python.framework/Versions/3.10/lib/python3.10/site-packages/scipy/integrate/_quadpack_py.py:463\u001B[0m, in \u001B[0;36m_quad\u001B[0;34m(func, a, b, args, full_output, epsabs, epsrel, limit, points)\u001B[0m\n\u001B[1;32m    461\u001B[0m \u001B[38;5;28;01mif\u001B[39;00m points \u001B[38;5;129;01mis\u001B[39;00m \u001B[38;5;28;01mNone\u001B[39;00m:\n\u001B[1;32m    462\u001B[0m     \u001B[38;5;28;01mif\u001B[39;00m infbounds \u001B[38;5;241m==\u001B[39m \u001B[38;5;241m0\u001B[39m:\n\u001B[0;32m--> 463\u001B[0m         \u001B[38;5;28;01mreturn\u001B[39;00m \u001B[43m_quadpack\u001B[49m\u001B[38;5;241;43m.\u001B[39;49m\u001B[43m_qagse\u001B[49m\u001B[43m(\u001B[49m\u001B[43mfunc\u001B[49m\u001B[43m,\u001B[49m\u001B[43ma\u001B[49m\u001B[43m,\u001B[49m\u001B[43mb\u001B[49m\u001B[43m,\u001B[49m\u001B[43margs\u001B[49m\u001B[43m,\u001B[49m\u001B[43mfull_output\u001B[49m\u001B[43m,\u001B[49m\u001B[43mepsabs\u001B[49m\u001B[43m,\u001B[49m\u001B[43mepsrel\u001B[49m\u001B[43m,\u001B[49m\u001B[43mlimit\u001B[49m\u001B[43m)\u001B[49m\n\u001B[1;32m    464\u001B[0m     \u001B[38;5;28;01melse\u001B[39;00m:\n\u001B[1;32m    465\u001B[0m         \u001B[38;5;28;01mreturn\u001B[39;00m _quadpack\u001B[38;5;241m.\u001B[39m_qagie(func,bound,infbounds,args,full_output,epsabs,epsrel,limit)\n",
      "Input \u001B[0;32mIn [11]\u001B[0m, in \u001B[0;36mk_ff.<locals>.g.<locals>.double_integral.<locals>.<lambda>\u001B[0;34m(tau)\u001B[0m\n\u001B[1;32m     37\u001B[0m \u001B[38;5;28;01mdef\u001B[39;00m \u001B[38;5;21mdouble_integral\u001B[39m(val_1, val_2):\n\u001B[0;32m---> 38\u001B[0m     integrand \u001B[38;5;241m=\u001B[39m \u001B[38;5;28;01mlambda\u001B[39;00m tau: \u001B[38;5;241m1\u001B[39m\u001B[38;5;241m/\u001B[39mgamma(\u001B[38;5;241m1\u001B[39m \u001B[38;5;241m-\u001B[39m alpha) \u001B[38;5;241m*\u001B[39m \u001B[38;5;241m1\u001B[39m\u001B[38;5;241m/\u001B[39m(val_1 \u001B[38;5;241m-\u001B[39m tau)\u001B[38;5;241m*\u001B[39m\u001B[38;5;241m*\u001B[39malpha \u001B[38;5;241m*\u001B[39m \u001B[43mderivative_B\u001B[49m\u001B[43m(\u001B[49m\u001B[43mtau\u001B[49m\u001B[43m,\u001B[49m\u001B[43m \u001B[49m\u001B[43mval_2\u001B[49m\u001B[43m)\u001B[49m\n\u001B[1;32m     39\u001B[0m     integral_val, _ \u001B[38;5;241m=\u001B[39m integrate(integrand, \u001B[38;5;241m0\u001B[39m, val_1, epsabs\u001B[38;5;241m=\u001B[39m\u001B[38;5;241m1e-8\u001B[39m, epsrel\u001B[38;5;241m=\u001B[39m\u001B[38;5;241m1e-8\u001B[39m, limit\u001B[38;5;241m=\u001B[39m\u001B[38;5;241m10000\u001B[39m)\n\u001B[1;32m     40\u001B[0m     \u001B[38;5;28;01mreturn\u001B[39;00m integral_val\n",
      "Input \u001B[0;32mIn [11]\u001B[0m, in \u001B[0;36mk_ff.<locals>.g.<locals>.derivative_B\u001B[0;34m(tau, val_2, h)\u001B[0m\n\u001B[1;32m     32\u001B[0m \u001B[38;5;28;01mdef\u001B[39;00m \u001B[38;5;21mB_tau\u001B[39m(tau):\n\u001B[1;32m     33\u001B[0m     \u001B[38;5;28;01mreturn\u001B[39;00m B(tau, val_2)\n\u001B[0;32m---> 34\u001B[0m dB \u001B[38;5;241m=\u001B[39m (\u001B[43mB_tau\u001B[49m\u001B[43m(\u001B[49m\u001B[43mtau\u001B[49m\u001B[43m \u001B[49m\u001B[38;5;241;43m+\u001B[39;49m\u001B[43m \u001B[49m\u001B[43mh\u001B[49m\u001B[43m)\u001B[49m \u001B[38;5;241m-\u001B[39m B_tau(tau \u001B[38;5;241m-\u001B[39m h)) \u001B[38;5;241m/\u001B[39m (\u001B[38;5;241m2\u001B[39m\u001B[38;5;241m*\u001B[39mh)\n\u001B[1;32m     35\u001B[0m \u001B[38;5;28;01mreturn\u001B[39;00m dB\n",
      "Input \u001B[0;32mIn [11]\u001B[0m, in \u001B[0;36mk_ff.<locals>.g.<locals>.derivative_B.<locals>.B_tau\u001B[0;34m(tau)\u001B[0m\n\u001B[1;32m     32\u001B[0m \u001B[38;5;28;01mdef\u001B[39;00m \u001B[38;5;21mB_tau\u001B[39m(tau):\n\u001B[0;32m---> 33\u001B[0m     \u001B[38;5;28;01mreturn\u001B[39;00m \u001B[43mB\u001B[49m\u001B[43m(\u001B[49m\u001B[43mtau\u001B[49m\u001B[43m,\u001B[49m\u001B[43m \u001B[49m\u001B[43mval_2\u001B[49m\u001B[43m)\u001B[49m\n",
      "Input \u001B[0;32mIn [11]\u001B[0m, in \u001B[0;36mk_ff.<locals>.g.<locals>.B\u001B[0;34m(val_1, val_2)\u001B[0m\n\u001B[1;32m     26\u001B[0m \u001B[38;5;28;01mdef\u001B[39;00m \u001B[38;5;21mB\u001B[39m(val_1, val_2):\n\u001B[1;32m     27\u001B[0m     integrand \u001B[38;5;241m=\u001B[39m \u001B[38;5;28;01mlambda\u001B[39;00m tau: A(val_1, val_2, tau)\n\u001B[0;32m---> 28\u001B[0m     integral_val, _ \u001B[38;5;241m=\u001B[39m \u001B[43mintegrate\u001B[49m\u001B[43m(\u001B[49m\u001B[43mintegrand\u001B[49m\u001B[43m,\u001B[49m\u001B[43m \u001B[49m\u001B[38;5;241;43m0\u001B[39;49m\u001B[43m,\u001B[49m\u001B[43m \u001B[49m\u001B[43mval_2\u001B[49m\u001B[43m,\u001B[49m\u001B[43m \u001B[49m\u001B[43mepsabs\u001B[49m\u001B[38;5;241;43m=\u001B[39;49m\u001B[38;5;241;43m1e-8\u001B[39;49m\u001B[43m,\u001B[49m\u001B[43m \u001B[49m\u001B[43mepsrel\u001B[49m\u001B[38;5;241;43m=\u001B[39;49m\u001B[38;5;241;43m1e-8\u001B[39;49m\u001B[43m,\u001B[49m\u001B[43m \u001B[49m\u001B[43mlimit\u001B[49m\u001B[38;5;241;43m=\u001B[39;49m\u001B[38;5;241;43m10000\u001B[39;49m\u001B[43m)\u001B[49m\n\u001B[1;32m     29\u001B[0m     \u001B[38;5;28;01mreturn\u001B[39;00m integral_val\n",
      "File \u001B[0;32m/Library/Frameworks/Python.framework/Versions/3.10/lib/python3.10/site-packages/scipy/integrate/_quadpack_py.py:351\u001B[0m, in \u001B[0;36mquad\u001B[0;34m(func, a, b, args, full_output, epsabs, epsrel, limit, points, weight, wvar, wopts, maxp1, limlst)\u001B[0m\n\u001B[1;32m    348\u001B[0m flip, a, b \u001B[38;5;241m=\u001B[39m b \u001B[38;5;241m<\u001B[39m a, \u001B[38;5;28mmin\u001B[39m(a, b), \u001B[38;5;28mmax\u001B[39m(a, b)\n\u001B[1;32m    350\u001B[0m \u001B[38;5;28;01mif\u001B[39;00m weight \u001B[38;5;129;01mis\u001B[39;00m \u001B[38;5;28;01mNone\u001B[39;00m:\n\u001B[0;32m--> 351\u001B[0m     retval \u001B[38;5;241m=\u001B[39m \u001B[43m_quad\u001B[49m\u001B[43m(\u001B[49m\u001B[43mfunc\u001B[49m\u001B[43m,\u001B[49m\u001B[43m \u001B[49m\u001B[43ma\u001B[49m\u001B[43m,\u001B[49m\u001B[43m \u001B[49m\u001B[43mb\u001B[49m\u001B[43m,\u001B[49m\u001B[43m \u001B[49m\u001B[43margs\u001B[49m\u001B[43m,\u001B[49m\u001B[43m \u001B[49m\u001B[43mfull_output\u001B[49m\u001B[43m,\u001B[49m\u001B[43m \u001B[49m\u001B[43mepsabs\u001B[49m\u001B[43m,\u001B[49m\u001B[43m \u001B[49m\u001B[43mepsrel\u001B[49m\u001B[43m,\u001B[49m\u001B[43m \u001B[49m\u001B[43mlimit\u001B[49m\u001B[43m,\u001B[49m\n\u001B[1;32m    352\u001B[0m \u001B[43m                   \u001B[49m\u001B[43mpoints\u001B[49m\u001B[43m)\u001B[49m\n\u001B[1;32m    353\u001B[0m \u001B[38;5;28;01melse\u001B[39;00m:\n\u001B[1;32m    354\u001B[0m     \u001B[38;5;28;01mif\u001B[39;00m points \u001B[38;5;129;01mis\u001B[39;00m \u001B[38;5;129;01mnot\u001B[39;00m \u001B[38;5;28;01mNone\u001B[39;00m:\n",
      "File \u001B[0;32m/Library/Frameworks/Python.framework/Versions/3.10/lib/python3.10/site-packages/scipy/integrate/_quadpack_py.py:463\u001B[0m, in \u001B[0;36m_quad\u001B[0;34m(func, a, b, args, full_output, epsabs, epsrel, limit, points)\u001B[0m\n\u001B[1;32m    461\u001B[0m \u001B[38;5;28;01mif\u001B[39;00m points \u001B[38;5;129;01mis\u001B[39;00m \u001B[38;5;28;01mNone\u001B[39;00m:\n\u001B[1;32m    462\u001B[0m     \u001B[38;5;28;01mif\u001B[39;00m infbounds \u001B[38;5;241m==\u001B[39m \u001B[38;5;241m0\u001B[39m:\n\u001B[0;32m--> 463\u001B[0m         \u001B[38;5;28;01mreturn\u001B[39;00m \u001B[43m_quadpack\u001B[49m\u001B[38;5;241;43m.\u001B[39;49m\u001B[43m_qagse\u001B[49m\u001B[43m(\u001B[49m\u001B[43mfunc\u001B[49m\u001B[43m,\u001B[49m\u001B[43ma\u001B[49m\u001B[43m,\u001B[49m\u001B[43mb\u001B[49m\u001B[43m,\u001B[49m\u001B[43margs\u001B[49m\u001B[43m,\u001B[49m\u001B[43mfull_output\u001B[49m\u001B[43m,\u001B[49m\u001B[43mepsabs\u001B[49m\u001B[43m,\u001B[49m\u001B[43mepsrel\u001B[49m\u001B[43m,\u001B[49m\u001B[43mlimit\u001B[49m\u001B[43m)\u001B[49m\n\u001B[1;32m    464\u001B[0m     \u001B[38;5;28;01melse\u001B[39;00m:\n\u001B[1;32m    465\u001B[0m         \u001B[38;5;28;01mreturn\u001B[39;00m _quadpack\u001B[38;5;241m.\u001B[39m_qagie(func,bound,infbounds,args,full_output,epsabs,epsrel,limit)\n",
      "Input \u001B[0;32mIn [11]\u001B[0m, in \u001B[0;36mk_ff.<locals>.g.<locals>.B.<locals>.<lambda>\u001B[0;34m(tau)\u001B[0m\n\u001B[1;32m     26\u001B[0m \u001B[38;5;28;01mdef\u001B[39;00m \u001B[38;5;21mB\u001B[39m(val_1, val_2):\n\u001B[0;32m---> 27\u001B[0m     integrand \u001B[38;5;241m=\u001B[39m \u001B[38;5;28;01mlambda\u001B[39;00m tau: \u001B[43mA\u001B[49m\u001B[43m(\u001B[49m\u001B[43mval_1\u001B[49m\u001B[43m,\u001B[49m\u001B[43m \u001B[49m\u001B[43mval_2\u001B[49m\u001B[43m,\u001B[49m\u001B[43m \u001B[49m\u001B[43mtau\u001B[49m\u001B[43m)\u001B[49m\n\u001B[1;32m     28\u001B[0m     integral_val, _ \u001B[38;5;241m=\u001B[39m integrate(integrand, \u001B[38;5;241m0\u001B[39m, val_2, epsabs\u001B[38;5;241m=\u001B[39m\u001B[38;5;241m1e-8\u001B[39m, epsrel\u001B[38;5;241m=\u001B[39m\u001B[38;5;241m1e-8\u001B[39m, limit\u001B[38;5;241m=\u001B[39m\u001B[38;5;241m10000\u001B[39m)\n\u001B[1;32m     29\u001B[0m     \u001B[38;5;28;01mreturn\u001B[39;00m integral_val\n",
      "Input \u001B[0;32mIn [11]\u001B[0m, in \u001B[0;36mk_ff.<locals>.g.<locals>.A\u001B[0;34m(val_1, val_2, tau)\u001B[0m\n\u001B[1;32m     22\u001B[0m \u001B[38;5;28;01mdef\u001B[39;00m \u001B[38;5;21mA\u001B[39m(val_1, val_2, tau):\n\u001B[0;32m---> 23\u001B[0m     a \u001B[38;5;241m=\u001B[39m C\u001B[38;5;241m/\u001B[39m\u001B[43mgamma\u001B[49m\u001B[43m(\u001B[49m\u001B[38;5;241;43m1\u001B[39;49m\u001B[38;5;241;43m-\u001B[39;49m\u001B[43malpha\u001B[49m\u001B[43m)\u001B[49m \u001B[38;5;241m*\u001B[39m \u001B[38;5;241m1\u001B[39m\u001B[38;5;241m/\u001B[39m(val_2 \u001B[38;5;241m-\u001B[39m tau)\u001B[38;5;241m*\u001B[39m\u001B[38;5;241m*\u001B[39malpha \u001B[38;5;241m*\u001B[39m \u001B[38;5;241m1\u001B[39m\u001B[38;5;241m/\u001B[39ml\u001B[38;5;241m*\u001B[39m\u001B[38;5;241m*\u001B[39m\u001B[38;5;241m2\u001B[39m \u001B[38;5;241m*\u001B[39m (val_1 \u001B[38;5;241m-\u001B[39m tau)\n\u001B[1;32m     24\u001B[0m     \u001B[38;5;28;01mreturn\u001B[39;00m a \u001B[38;5;241m*\u001B[39m cov_func(val_1, tau)\n",
      "\u001B[0;31mKeyboardInterrupt\u001B[0m: "
     ]
    }
   ],
   "source": [
    "def log_marginal_likelihood(data_x, data_y, cov_func, noise):\n",
    "    n = len(data_x)\n",
    "    y = np.concatenate([data_y, data_y])\n",
    "    y_transposed = y.T\n",
    "    K = create_cov_matrix(data_x, data_x, cov_func) + noise * np.identity(2*n)\n",
    "    K_inverse = np.linalg.inv(K)\n",
    "\n",
    "    a = n/2 * np.log(2*np.pi)  # normalization constant\n",
    "    b = 1/2 * np.log(np.linalg.norm(K))  # complexity penalty\n",
    "    c = 1/2 * np.dot(y, np.dot(K_inverse, y_transposed))  # involving observed targets\n",
    "    log_ml = c + b + a  # is actually the negative log marginal likelihood\n",
    "    return log_ml\n",
    "\n",
    "sigma_vals = np.arange(0.1, 2, 0.05)\n",
    "length_vals = np.arange(0.1, 2, 0.05)\n",
    "memory = {'sigma': 1, 'length': 1, 'negative_log_marginal_likelihood': 1000}\n",
    "\n",
    "data_x = np.array([0.08919118309982221, 0.48573526800672523, 1.067487500149583, 2.01754330372101, 2.903425000149563, 4.768659375149524, 6.594831250149485, 8.460065625149445, 9.504987500149424])\n",
    "data_y = np.array([0.6626339, -0.6613839, -1.459256, -0.1826344, 0.7235726, -0.358959, 0.1779366, -0.08830133, -0.001224956])\n",
    "\n",
    "for sigma_index, sigma_val in enumerate(sigma_vals):\n",
    "    for l_index, length_val in enumerate(length_vals):\n",
    "        cov_func = SquaredExponentialKernel(sigma=sigma_val, length=length_val)\n",
    "        negative_log_marginal_likelihood = log_marginal_likelihood(data_x, data_y, cov_func, noise = 0.01)\n",
    "        print('likelihood = ', negative_log_marginal_likelihood)\n",
    "\n",
    "        if negative_log_marginal_likelihood < memory['negative_log_marginal_likelihood']:\n",
    "            memory['length'] = length_val\n",
    "            memory['sigma'] = sigma_val\n",
    "            memory['negative_log_marginal_likelihood'] = negative_log_marginal_likelihood\n",
    "\n",
    "        print('obtained sigma and l values that minimize the negative log marginal likelihood: ', 'sigma = ', memory['sigma'], 'length = ', memory['length'])"
   ]
  },
  {
   "cell_type": "markdown",
   "source": [
    "testing the function above"
   ],
   "metadata": {
    "collapsed": false
   }
  },
  {
   "cell_type": "code",
   "execution_count": 20,
   "outputs": [
    {
     "name": "stderr",
     "output_type": "stream",
     "text": [
      "/var/folders/db/wdxh9ynd7_bfr2nwqswb2nn80000gn/T/ipykernel_55963/72069979.py:28: IntegrationWarning:\n",
      "\n",
      "The integral is probably divergent, or slowly convergent.\n",
      "\n",
      "/var/folders/db/wdxh9ynd7_bfr2nwqswb2nn80000gn/T/ipykernel_55963/72069979.py:78: IntegrationWarning:\n",
      "\n",
      "The integral is probably divergent, or slowly convergent.\n",
      "\n",
      "/var/folders/db/wdxh9ynd7_bfr2nwqswb2nn80000gn/T/ipykernel_55963/72069979.py:17: IntegrationWarning:\n",
      "\n",
      "The integral is probably divergent, or slowly convergent.\n",
      "\n"
     ]
    },
    {
     "name": "stdout",
     "output_type": "stream",
     "text": [
      "26.217021271605653\n"
     ]
    }
   ],
   "source": [
    "cov_func = SquaredExponentialKernel(sigma=0.2, length=1.9)  # (0.53, 1.4);\n",
    "negative_log_marginal_likelihood = log_marginal_likelihood(data_x, data_y, cov_func, noise = 0.01)\n",
    "print(negative_log_marginal_likelihood)"
   ],
   "metadata": {
    "collapsed": false,
    "ExecuteTime": {
     "end_time": "2024-07-24T16:35:54.485227Z",
     "start_time": "2024-07-24T16:35:40.421675Z"
    }
   }
  },
  {
   "cell_type": "markdown",
   "metadata": {},
   "source": [
    "define class GPR:\n",
    "* **data_x** is the input of the observed points\n",
    "* **data_y** is the output of the observed points\n",
    "* **noise** is the noise in the observed data\n",
    "* **memory** is a variable where the mean, the covariance matrix and the variance is stored\n",
    "* **3e-7** add this value to the noise in order to ensure stability when inverting the covariance matrix"
   ]
  },
  {
   "cell_type": "code",
   "execution_count": 21,
   "metadata": {
    "ExecuteTime": {
     "end_time": "2024-07-24T16:35:54.539250Z",
     "start_time": "2024-07-24T16:35:54.503977Z"
    }
   },
   "outputs": [],
   "source": [
    "class GPR:\n",
    "    def __init__(self, data_x, data_y, cov_func= SquaredExponentialKernel(sigma=memory['sigma'], length=memory['length']), noise=0.01):\n",
    "        print('sigma memory = ', memory['sigma'])\n",
    "        print('length memory = ', memory['length'])\n",
    "        self.data_x = data_x\n",
    "        self.data_y = np.concatenate([data_y, data_y])\n",
    "        self.cov_func = cov_func\n",
    "        self.noise = noise\n",
    "        self.memory = None\n",
    "\n",
    "        n = len(data_x)\n",
    "        self.inv_cov_matrix_of_input_data = np.linalg.inv(create_cov_matrix(data_x, data_x, cov_func) + (noise + 3e-7)**2 * np.identity(2*n))\n",
    "\n",
    "    def predict(self, at_values):\n",
    "        q_u_trans = q_u_transposed(at_values, self.data_x, self.cov_func)\n",
    "        q_f_trans = q_f_transposed(at_values, self.data_x, self.cov_func)\n",
    "\n",
    "        # methode paper:\n",
    "        mean_at_values_u = np.dot(q_u_trans, np.dot(self.data_y, self.inv_cov_matrix_of_input_data.T).T).flatten()\n",
    "        #mean_at_values_f = np.dot(q_f_trans, np.dot(self.data_y, self.inv_cov_matrix_of_input_data.T).T).flatten()\n",
    "\n",
    "        covariance_matrix_u = create_sub_matrix(at_values, at_values, k_uu, self.cov_func) - np.dot(q_u_trans, np.dot(self.inv_cov_matrix_of_input_data, q_u_trans.T))\n",
    "        #covariance_matrix_f = create_sub_matrix(at_values, at_values, k_ff, self.cov_func) - np.dot(q_f_trans, np.dot(self.inv_cov_matrix_of_input_data, q_f_trans.T))\n",
    "\n",
    "        variance_u = np.abs(np.diag(covariance_matrix_u))\n",
    "        #variance_f = np.abs(np.diag(covariance_matrix_f))\n",
    "\n",
    "        self.memory = {'mean': mean_at_values_u, 'covariance_matrix':covariance_matrix_u, 'variance': variance_u}\n",
    "\n",
    "        return mean_at_values_u"
   ]
  },
  {
   "cell_type": "markdown",
   "metadata": {
    "ExecuteTime": {
     "end_time": "2024-04-21T18:53:34.457759Z",
     "start_time": "2024-04-21T18:53:34.417061Z"
    }
   },
   "source": [
    "defining function for plotting the GPR:\n",
    "* **data_x** is a list of observed input data points\n",
    "* **data_y** is a list of observed output data points\n",
    "* **x** is equivalent to **at_values** in the GPR, the values we want to do predictions on"
   ]
  },
  {
   "cell_type": "code",
   "execution_count": 22,
   "metadata": {
    "ExecuteTime": {
     "end_time": "2024-07-24T16:35:54.552206Z",
     "start_time": "2024-07-24T16:35:54.521040Z"
    }
   },
   "outputs": [],
   "source": [
    "def plot_GPR(data_x, data_y, model, x, data_x_mv, data_y_mv, visible=True) -> list:\n",
    "    mean = model.predict(x)\n",
    "    standard_deviation = np.sqrt(model.memory['variance'])\n",
    "    data = []\n",
    "\n",
    "    for i in range(1, 4):\n",
    "        data.append(uncertainty_area_plot(x_lines=x, y_lower=mean -i * standard_deviation, y_upper=mean + i*standard_deviation, name=f'mean plus/minus {i}*standard deviation', visible=visible))\n",
    "\n",
    "    data.append(scatter_plot(x_dots=data_x_mv, y_dots=data_y_mv, visible=visible, color='blue'))\n",
    "    data.append(scatter_plot(x_dots=data_x, y_dots=data_y, visible=visible, color='red'))\n",
    "    data.append(line_plot(x_lines=x, y_lines=mean, visible=visible))\n",
    "    return data"
   ]
  },
  {
   "cell_type": "markdown",
   "metadata": {},
   "source": [
    "initializing the training data"
   ]
  },
  {
   "cell_type": "code",
   "execution_count": 23,
   "metadata": {
    "ExecuteTime": {
     "end_time": "2024-07-24T16:35:54.601750Z",
     "start_time": "2024-07-24T16:35:54.540326Z"
    }
   },
   "outputs": [
    {
     "name": "stdout",
     "output_type": "stream",
     "text": [
      "350 350\n"
     ]
    }
   ],
   "source": [
    "x_values = np.array([0.08919118309982221, 0.48573526800672523, 1.067487500149583, 2.01754330372101, 2.903425000149563, 4.768659375149524, 6.594831250149485, 8.460065625149445, 9.504987500149424])\n",
    "y_values = np.array([0.6626339, -0.6613839, -1.459256, -0.1826344, 0.7235726, -0.358959, 0.1779366, -0.08830133, -0.001224956])\n",
    "\n",
    "x_values_mv = np.array([0.0, 0.029730524574942258, 0.059460853837382234, 0.08919118309982221, 0.1189215123622622, 0.14865184162470219, 0.1783821708871422, 0.2081125001495821, 0.2374093751495821, 0.2569406251495821, 0.2667062501495821, 0.2764718751495821, 0.28623750014958205, 0.3057687501495821, 0.3350656251495822, 0.3727330358638679, 0.41040044657815367, 0.4480678572924394, 0.48573526800672523, 0.5234026787210109, 0.5610700894352967, 0.5987375001495824, 0.6391950894352967, 0.679652678721011, 0.7201102680067254, 0.7605678572924397, 0.801025446578154, 0.8414830358638684, 0.8819406251495826, 0.9056571430067255, 0.9293736608638683, 0.9530901787210113, 0.9768066965781541, 1.000523214435297, 1.02423973229244, 1.047956250149583, 1.057721875149583, 1.067487500149583, 1.077253125149583, 1.096784375149583, 1.126081250149583, 1.1511928572924401, 1.1763044644352971, 1.201416071578154, 1.226527678721012, 1.251639285863869, 1.276750893006726, 1.301862500149583, 1.321393750149583, 1.331159375149583, 1.350690625149583, 1.379987500149583, 1.416259821578154, 1.452532143006726, 1.488804464435298, 1.525076785863869, 1.56134910729244, 1.597621428721012, 1.6338937501495832, 1.674351339435298, 1.714808928721012, 1.755266518006726, 1.795724107292441, 1.836181696578155, 1.876639285863869, 1.917096875149584, 1.9422084822924401, 1.9673200894352971, 1.9924316965781539, 2.01754330372101, 2.042654910863867, 2.067766518006724, 2.092878125149581, 2.11240937514958, 2.12217500014958, 2.13194062514958, 2.151471875149579, 2.1807687501495794, 2.218436160863864, 2.2561035715781492, 2.293770982292434, 2.331438393006719, 2.3691058037210033, 2.406773214435288, 2.444440625149573, 2.484898214435287, 2.5253558037209998, 2.565813393006714, 2.606270982292427, 2.64672857157814, 2.6871861608638543, 2.727643750149567, 2.751360268006709, 2.775076785863852, 2.798793303720994, 2.8225098215781372, 2.8462263394352787, 2.869942857292421, 2.893659375149564, 2.903425000149563, 2.913190625149563, 2.922956250149563, 2.942487500149563, 2.971784375149562, 2.9968959822924193, 3.022007589435275, 3.047119196578132, 3.0722308037209882, 3.097342410863845, 3.1224540180067017, 3.147565625149558, 3.167096875149558, 3.176862500149558, 3.1866281251495567, 3.2061593751495567, 3.235456250149556, 3.273123660863841, 3.3107910715781257, 3.3484584822924113, 3.386125893006696, 3.423793303720981, 3.4614607144352663, 3.499128125149551, 3.539585714435264, 3.580043303720977, 3.620500893006691, 3.660958482292405, 3.7014160715781177, 3.7418736608638308, 3.782331250149545, 3.8060477680066866, 3.829764285863829, 3.853480803720972, 3.877197321578114, 3.9009138394352574, 3.924630357292399, 3.9483468751495425, 3.958112500149541, 3.967878125149541, 3.9776437501495407, 3.9971750001495394, 4.026471875149539, 4.064139285863824, 4.10180669657811, 4.139474107292394, 4.17714151800668, 4.214808928720965, 4.252476339435249, 4.290143750149534, 4.330601339435248, 4.371058928720961, 4.411516518006675, 4.451974107292387, 4.492431696578101, 4.532889285863815, 4.573346875149528, 4.597063393006671, 4.6207799108638135, 4.644496428720955, 4.668212946578098, 4.6919294644352405, 4.715645982292382, 4.739362500149524, 4.758893750149524, 4.768659375149524, 4.778425000149523, 4.797956250149523, 4.8272531251495225, 4.852364732292379, 4.877476339435236, 4.902587946578093, 4.927699553720949, 4.952811160863805, 4.977922768006663, 5.003034375149519, 5.012800000149519, 5.022565625149519, 5.032331250149518, 5.051862500149518, 5.081159375149517, 5.118826785863802, 5.1564941965780875, 5.194161607292372, 5.231829018006657, 5.269496428720942, 5.307163839435227, 5.344831250149512, 5.385288839435226, 5.425746428720938, 5.4662040180066525, 5.506661607292365, 5.547119196578079, 5.587576785863793, 5.628034375149506, 5.651750893006648, 5.67546741086379, 5.699183928720933, 5.722900446578075, 5.746616964435217, 5.77033348229236, 5.794050000149502, 5.813581250149502, 5.823346875149502, 5.833112500149501, 5.852643750149501, 5.8819406251495, 5.919608035863785, 5.957275446578071, 5.994942857292354, 6.03261026800664, 6.070277678720925, 6.10794508943521, 6.145612500149495, 6.186070089435208, 6.226527678720921, 6.266985268006636, 6.307442857292348, 6.347900446578062, 6.388358035863776, 6.428815625149489, 6.452532143006631, 6.476248660863773, 6.499965178720916, 6.523681696578058, 6.5473982144352005, 6.571114732292344, 6.594831250149485, 6.604596875149485, 6.614362500149484, 6.6241281251494835, 6.643659375149484, 6.672956250149483, 6.69806785729234, 6.723179464435197, 6.748291071578054, 6.77340267872091, 6.798514285863766, 6.823625893006623, 6.84873750014948, 6.868268750149479, 6.878034375149479, 6.897565625149479, 6.926862500149478, 6.963134821578048, 6.99940714300662, 7.035679464435191, 7.07195178586376, 7.108224107292331, 7.144496428720902, 7.180768750149473, 7.221226339435186, 7.261683928720899, 7.302141518006613, 7.342599107292326, 7.3830566965780395, 7.423514285863754, 7.463971875149467, 7.489083482292323, 7.51419508943518, 7.539306696578038, 7.564418303720893, 7.5895299108637495, 7.614641518006605, 7.639753125149463, 7.659284375149462, 7.669050000149462, 7.678815625149462, 7.698346875149461, 7.727643750149461, 7.765311160863746, 7.802978571578031, 7.840645982292315, 7.878313393006601, 7.9159808037208865, 7.95364821443517, 7.991315625149455, 8.031773214435168, 8.072230803720883, 8.112688393006596, 8.153145982292308, 8.193603571578022, 8.234061160863737, 8.274518750149449, 8.298235268006591, 8.321951785863735, 8.345668303720878, 8.369384821578018, 8.39310133943516, 8.416817857292303, 8.440534375149445, 8.450300000149445, 8.460065625149445, 8.469831250149445, 8.489362500149445, 8.518659375149443, 8.543770982292301, 8.568882589435157, 8.593994196578013, 8.61910580372087, 8.644217410863728, 8.669329018006584, 8.69444062514944, 8.71397187514944, 8.72373750014944, 8.73350312514944, 8.75303437514944, 8.782331250149438, 8.819998660863725, 8.857666071578008, 8.895333482292292, 8.933000893006579, 8.970668303720863, 9.008335714435148, 9.046003125149433, 9.086460714435146, 9.12691830372086, 9.167375893006573, 9.207833482292287, 9.248291071577999, 9.288748660863714, 9.329206250149428, 9.35292276800657, 9.376639285863712, 9.400355803720855, 9.424072321577995, 9.447788839435137, 9.47150535729228, 9.495221875149424, 9.504987500149424, 9.514753125149422, 9.524518750149422, 9.544050000149422, 9.573346875149422, 9.608224107292278, 9.643101339435134, 9.67797857157799, 9.712855803720847, 9.747733035863703, 9.782610268006561, 9.817487500149417, 9.827253125149417, 9.849574553720846, 9.871895982292273, 9.894217410863702, 9.916538839435129, 9.938860268006557, 9.961181696577984, 9.983503125149413, 9.993268750149413, 10.0])  # x data for model validation\n",
    "\n",
    "y_values_mv = np.array([1.0, 0.8866713, 0.7742162, 0.6626339, 0.5519243, 0.4420876, 0.3331237, 0.2250326, 0.1209512, 0.05264785, 0.01884616, -0.0147115, -0.04801726, -0.1138423, -0.2105016, -0.3315973, -0.4471096, -0.5570385, -0.6613839, -0.7601459, -0.8533246, -0.9409198, -1.027311, -1.105822, -1.176455, -1.239209, -1.294083, -1.341078, -1.380195, -1.399297, -1.415757, -1.429574, -1.440748, -1.44928, -1.455169, -1.458416, -1.459049, -1.459256, -1.459042, -1.457361, -1.451759, -1.443896, -1.433624, -1.420945, -1.405858, -1.388362, -1.368459, -1.346148, -1.327466, -1.317654, -1.297114, -1.264092, -1.218994, -1.171031, -1.120205, -1.066515, -1.009961, -0.9505431, -0.8882614, -0.8164804, -0.7438536, -0.6703811, -0.5960629, -0.5208989, -0.4448891, -0.3680336, -0.3209685, -0.2743802, -0.2282688, -0.1826344, -0.1374768, -0.09279619, -0.04859247, -0.0148689, 0.001815278, 0.0183758, 0.05111053, 0.09919094, 0.1594496, 0.2169515, 0.2716964, 0.3236845, 0.3729158, 0.4193902, 0.4631077, 0.5062569, 0.545501, 0.5808402, 0.6122743, 0.6398034, 0.6634275, 0.6831466, 0.6928046, 0.7011501, 0.708183, 0.7139033, 0.7183111, 0.7214063, 0.723189, 0.7235726, 0.7237449, 0.7237076, 0.7230101, 0.7204317, 0.7166994, 0.711768, 0.7056375, 0.6983081, 0.6897795, 0.680052, 0.6691253, 0.6599635, 0.6551479, 0.650179, 0.6397924, 0.6231288, 0.5994893, 0.5743678, 0.5477643, 0.5196787, 0.4901112, 0.4590616, 0.42653, 0.3905371, 0.3542035, 0.3175295, 0.2805148, 0.2431596, 0.2054638, 0.1674275, 0.145468, 0.1237353, 0.1022293, 0.08095015, 0.05989773, 0.03907209, 0.0184732, 0.0101197, 0.001824927, -0.006409152, -0.02268758, -0.04660301, -0.07658743, -0.1052107, -0.1324729, -0.1583739, -0.1829138, -0.2060925, -0.2279101, -0.2494602, -0.269075, -0.2867545, -0.3024987, -0.3163075, -0.328181, -0.3381191, -0.3430005, -0.3472299, -0.3508074, -0.353733, -0.3560067, -0.3576284, -0.3585983, -0.3589432, -0.358959, -0.3588712, -0.3583884, -0.3569086, -0.3548889, -0.3522794, -0.3490799, -0.3452906, -0.3409113, -0.3359421, -0.330383, -0.3280976, -0.3257344, -0.323295, -0.3181921, -0.309997, -0.2983563, -0.2859737, -0.2728491, -0.2589825, -0.244374, -0.2290234, -0.2129308, -0.1951162, -0.177125, -0.1589572, -0.1406127, -0.1220916, -0.1033939, -0.08451962, -0.07361971, -0.06283008, -0.05215075, -0.04158171, -0.03112296, -0.0207745, -0.01053633, -0.002260064, 0.001833884, 0.00589709, 0.01392752, 0.02571955, 0.04049254, 0.05458423, 0.06799462, 0.08072372, 0.09277151, 0.104138, 0.1148232, 0.1253613, 0.134938, 0.1435534, 0.1512075, 0.1579003, 0.1636318, 0.168402, 0.1707312, 0.1727381, 0.1744226, 0.1757847, 0.1768244, 0.1775417, 0.1779366, 0.1780132, 0.1780381, 0.1780114, 0.1778054, 0.1771205, 0.1761599, 0.1749056, 0.1733575, 0.1715157, 0.1693801, 0.1669508, 0.1642277, 0.1619476, 0.1607501, 0.1582434, 0.1542136, 0.1487101, 0.1428573, 0.1366552, 0.1301038, 0.123203, 0.115953, 0.1083536, 0.09959534, 0.09073398, 0.08176954, 0.07270202, 0.06353143, 0.05425777, 0.04488103, 0.0391389, 0.03345499, 0.0278293, 0.02226184, 0.0167526, 0.01130157, 0.005908776, 0.001794567, -0.000240862, -0.0022612, -0.006254728, -0.01212034, -0.01947156, -0.02648639, -0.03316482, -0.03950686, -0.0455125, -0.05118174, -0.05651458, -0.06177798, -0.06656493, -0.07087543, -0.07470949, -0.0780671, -0.08094827, -0.083353, -0.08453068, -0.08554823, -0.08640565, -0.08710294, -0.08764009, -0.08801711, -0.088234, -0.08828055, -0.08830133, -0.08829653, -0.08821096, -0.08789567, -0.08743971, -0.08683747, -0.08608896, -0.08519418, -0.08415312, -0.08296579, -0.08163218, -0.08051401, -0.0799263, -0.07931989, -0.07805231, -0.07601874, -0.07313399, -0.07006848, -0.06682219, -0.06339514, -0.05978732, -0.05599874, -0.05202939, -0.04763776, -0.04320465, -0.03873003, -0.03421393, -0.02965632, -0.02505722, -0.02041663, -0.0177375, -0.01508606, -0.01246229, -0.009866213, -0.007297815, -0.0047571, -0.002244066, -0.001224956, -0.0002130131, 0.0007915224, 0.002777438, 0.005695024, 0.00908409, 0.01233262, 0.01544063, 0.0184081, 0.02123504, 0.02392145, 0.02646732, 0.02714644, 0.02865242, 0.03008809, 0.03145346, 0.03274853, 0.03397329, 0.03512774, 0.03621189, 0.03666376, 0.0369688])  # y data for model validation\n",
    "\n",
    "print(len(x_values_mv), len(y_values_mv))\n",
    "\n",
    "x = np.arange(0.01, 10, 0.02)"
   ]
  },
  {
   "cell_type": "markdown",
   "metadata": {},
   "source": [
    "plot the output of the GPR"
   ]
  },
  {
   "cell_type": "code",
   "execution_count": 24,
   "metadata": {
    "ExecuteTime": {
     "end_time": "2024-07-24T16:36:32.767391Z",
     "start_time": "2024-07-24T16:36:28.956792Z"
    }
   },
   "outputs": [
    {
     "name": "stdout",
     "output_type": "stream",
     "text": [
      "sigma memory =  1\n",
      "length memory =  1\n"
     ]
    },
    {
     "name": "stderr",
     "output_type": "stream",
     "text": [
      "/var/folders/db/wdxh9ynd7_bfr2nwqswb2nn80000gn/T/ipykernel_55963/72069979.py:28: IntegrationWarning:\n",
      "\n",
      "The integral is probably divergent, or slowly convergent.\n",
      "\n",
      "/var/folders/db/wdxh9ynd7_bfr2nwqswb2nn80000gn/T/ipykernel_55963/72069979.py:78: IntegrationWarning:\n",
      "\n",
      "The integral is probably divergent, or slowly convergent.\n",
      "\n"
     ]
    },
    {
     "ename": "KeyboardInterrupt",
     "evalue": "",
     "output_type": "error",
     "traceback": [
      "\u001B[0;31m---------------------------------------------------------------------------\u001B[0m",
      "\u001B[0;31mKeyboardInterrupt\u001B[0m                         Traceback (most recent call last)",
      "Input \u001B[0;32mIn [24]\u001B[0m, in \u001B[0;36m<cell line: 1>\u001B[0;34m()\u001B[0m\n\u001B[0;32m----> 1\u001B[0m model \u001B[38;5;241m=\u001B[39m \u001B[43mGPR\u001B[49m\u001B[43m(\u001B[49m\u001B[43mx_values\u001B[49m\u001B[43m,\u001B[49m\u001B[43m \u001B[49m\u001B[43my_values\u001B[49m\u001B[43m)\u001B[49m\n\u001B[1;32m      2\u001B[0m data \u001B[38;5;241m=\u001B[39m plot_GPR(data_x\u001B[38;5;241m=\u001B[39mx_values, data_y\u001B[38;5;241m=\u001B[39my_values, x\u001B[38;5;241m=\u001B[39mx, model\u001B[38;5;241m=\u001B[39mmodel, data_x_mv\u001B[38;5;241m=\u001B[39mx_values_mv, data_y_mv\u001B[38;5;241m=\u001B[39my_values_mv)\n\u001B[1;32m      3\u001B[0m fig4 \u001B[38;5;241m=\u001B[39m go\u001B[38;5;241m.\u001B[39mFigure(data)\n",
      "Input \u001B[0;32mIn [21]\u001B[0m, in \u001B[0;36mGPR.__init__\u001B[0;34m(self, data_x, data_y, cov_func, noise)\u001B[0m\n\u001B[1;32m      9\u001B[0m \u001B[38;5;28mself\u001B[39m\u001B[38;5;241m.\u001B[39mmemory \u001B[38;5;241m=\u001B[39m \u001B[38;5;28;01mNone\u001B[39;00m\n\u001B[1;32m     11\u001B[0m n \u001B[38;5;241m=\u001B[39m \u001B[38;5;28mlen\u001B[39m(data_x)\n\u001B[0;32m---> 12\u001B[0m \u001B[38;5;28mself\u001B[39m\u001B[38;5;241m.\u001B[39minv_cov_matrix_of_input_data \u001B[38;5;241m=\u001B[39m np\u001B[38;5;241m.\u001B[39mlinalg\u001B[38;5;241m.\u001B[39minv(\u001B[43mcreate_cov_matrix\u001B[49m\u001B[43m(\u001B[49m\u001B[43mdata_x\u001B[49m\u001B[43m,\u001B[49m\u001B[43m \u001B[49m\u001B[43mdata_x\u001B[49m\u001B[43m,\u001B[49m\u001B[43m \u001B[49m\u001B[43mcov_func\u001B[49m\u001B[43m)\u001B[49m \u001B[38;5;241m+\u001B[39m (noise \u001B[38;5;241m+\u001B[39m \u001B[38;5;241m3e-7\u001B[39m)\u001B[38;5;241m*\u001B[39m\u001B[38;5;241m*\u001B[39m\u001B[38;5;241m2\u001B[39m \u001B[38;5;241m*\u001B[39m np\u001B[38;5;241m.\u001B[39midentity(\u001B[38;5;241m2\u001B[39m\u001B[38;5;241m*\u001B[39mn))\n",
      "Input \u001B[0;32mIn [14]\u001B[0m, in \u001B[0;36mcreate_cov_matrix\u001B[0;34m(variable_1, variable_2, cov_function)\u001B[0m\n\u001B[1;32m      7\u001B[0m kuf_sub_matrix \u001B[38;5;241m=\u001B[39m create_sub_matrix(variable_1, variable_2, k_uf, cov_function)\n\u001B[1;32m      8\u001B[0m kfu_sub_matrix \u001B[38;5;241m=\u001B[39m create_sub_matrix(variable_1, variable_2, k_fu, cov_function)\n\u001B[0;32m----> 9\u001B[0m kff_sub_matrix \u001B[38;5;241m=\u001B[39m \u001B[43mcreate_sub_matrix\u001B[49m\u001B[43m(\u001B[49m\u001B[43mvariable_1\u001B[49m\u001B[43m,\u001B[49m\u001B[43m \u001B[49m\u001B[43mvariable_2\u001B[49m\u001B[43m,\u001B[49m\u001B[43m \u001B[49m\u001B[43mk_ff\u001B[49m\u001B[43m,\u001B[49m\u001B[43m \u001B[49m\u001B[43mcov_function\u001B[49m\u001B[43m)\u001B[49m\n\u001B[1;32m     11\u001B[0m \u001B[38;5;28;01mfor\u001B[39;00m i \u001B[38;5;129;01min\u001B[39;00m \u001B[38;5;28mrange\u001B[39m(\u001B[38;5;241m2\u001B[39m\u001B[38;5;241m*\u001B[39mn1):\n\u001B[1;32m     12\u001B[0m     \u001B[38;5;28;01mfor\u001B[39;00m j \u001B[38;5;129;01min\u001B[39;00m \u001B[38;5;28mrange\u001B[39m(\u001B[38;5;241m2\u001B[39m\u001B[38;5;241m*\u001B[39mn2):\n",
      "Input \u001B[0;32mIn [13]\u001B[0m, in \u001B[0;36mcreate_sub_matrix\u001B[0;34m(variable_1, variable_2, specified_cov_function, cov_function)\u001B[0m\n\u001B[1;32m      6\u001B[0m \u001B[38;5;28;01mfor\u001B[39;00m i, val_1 \u001B[38;5;129;01min\u001B[39;00m \u001B[38;5;28menumerate\u001B[39m(variable_1):\n\u001B[1;32m      7\u001B[0m     \u001B[38;5;28;01mfor\u001B[39;00m j, val_2 \u001B[38;5;129;01min\u001B[39;00m \u001B[38;5;28menumerate\u001B[39m(variable_2):\n\u001B[0;32m----> 8\u001B[0m         sub_matrix[i, j] \u001B[38;5;241m=\u001B[39m \u001B[43mspecified_cov_function\u001B[49m\u001B[43m(\u001B[49m\u001B[43mval_1\u001B[49m\u001B[43m,\u001B[49m\u001B[43m \u001B[49m\u001B[43mval_2\u001B[49m\u001B[43m,\u001B[49m\u001B[43m \u001B[49m\u001B[43mcov_function\u001B[49m\u001B[43m)\u001B[49m\n\u001B[1;32m     10\u001B[0m \u001B[38;5;28;01mreturn\u001B[39;00m sub_matrix\n",
      "Input \u001B[0;32mIn [11]\u001B[0m, in \u001B[0;36mk_ff\u001B[0;34m(val_1, val_2, cov_func, R, C, L)\u001B[0m\n\u001B[1;32m    117\u001B[0m     d \u001B[38;5;241m=\u001B[39m double_integral(val_1, val_2)\n\u001B[1;32m    118\u001B[0m     \u001B[38;5;28;01mreturn\u001B[39;00m d\n\u001B[0;32m--> 120\u001B[0m \u001B[38;5;28;01mreturn\u001B[39;00m a \u001B[38;5;241m+\u001B[39m integral_val_b \u001B[38;5;241m+\u001B[39m integral_val_c \u001B[38;5;241m+\u001B[39m g() \u001B[38;5;241m+\u001B[39m \u001B[43mf\u001B[49m\u001B[43m(\u001B[49m\u001B[43m)\u001B[49m \u001B[38;5;241m+\u001B[39m e() \u001B[38;5;241m+\u001B[39m d()\n",
      "Input \u001B[0;32mIn [11]\u001B[0m, in \u001B[0;36mk_ff.<locals>.f\u001B[0;34m()\u001B[0m\n\u001B[1;32m     64\u001B[0m     integral_val, _ \u001B[38;5;241m=\u001B[39m integrate(integrand, \u001B[38;5;241m0\u001B[39m, val_1, epsabs\u001B[38;5;241m=\u001B[39m\u001B[38;5;241m1e-8\u001B[39m, epsrel\u001B[38;5;241m=\u001B[39m\u001B[38;5;241m1e-8\u001B[39m, limit\u001B[38;5;241m=\u001B[39m\u001B[38;5;241m10000\u001B[39m)\n\u001B[1;32m     65\u001B[0m     \u001B[38;5;28;01mreturn\u001B[39;00m integral_val\n\u001B[0;32m---> 67\u001B[0m f \u001B[38;5;241m=\u001B[39m \u001B[43mdouble_integral\u001B[49m\u001B[43m(\u001B[49m\u001B[43mval_1\u001B[49m\u001B[43m,\u001B[49m\u001B[43m \u001B[49m\u001B[43mval_2\u001B[49m\u001B[43m)\u001B[49m\n\u001B[1;32m     68\u001B[0m \u001B[38;5;28;01mreturn\u001B[39;00m f\n",
      "Input \u001B[0;32mIn [11]\u001B[0m, in \u001B[0;36mk_ff.<locals>.f.<locals>.double_integral\u001B[0;34m(val_1, val_2)\u001B[0m\n\u001B[1;32m     62\u001B[0m \u001B[38;5;28;01mdef\u001B[39;00m \u001B[38;5;21mdouble_integral\u001B[39m(val_1, val_2):\n\u001B[1;32m     63\u001B[0m     integrand \u001B[38;5;241m=\u001B[39m \u001B[38;5;28;01mlambda\u001B[39;00m tau: \u001B[38;5;241m1\u001B[39m\u001B[38;5;241m/\u001B[39mgamma(\u001B[38;5;241m1\u001B[39m \u001B[38;5;241m-\u001B[39m alpha) \u001B[38;5;241m*\u001B[39m \u001B[38;5;241m1\u001B[39m\u001B[38;5;241m/\u001B[39m(val_1 \u001B[38;5;241m-\u001B[39m tau)\u001B[38;5;241m*\u001B[39m\u001B[38;5;241m*\u001B[39malpha \u001B[38;5;241m*\u001B[39m derivative_B(tau, val_2)\n\u001B[0;32m---> 64\u001B[0m     integral_val, _ \u001B[38;5;241m=\u001B[39m \u001B[43mintegrate\u001B[49m\u001B[43m(\u001B[49m\u001B[43mintegrand\u001B[49m\u001B[43m,\u001B[49m\u001B[43m \u001B[49m\u001B[38;5;241;43m0\u001B[39;49m\u001B[43m,\u001B[49m\u001B[43m \u001B[49m\u001B[43mval_1\u001B[49m\u001B[43m,\u001B[49m\u001B[43m \u001B[49m\u001B[43mepsabs\u001B[49m\u001B[38;5;241;43m=\u001B[39;49m\u001B[38;5;241;43m1e-8\u001B[39;49m\u001B[43m,\u001B[49m\u001B[43m \u001B[49m\u001B[43mepsrel\u001B[49m\u001B[38;5;241;43m=\u001B[39;49m\u001B[38;5;241;43m1e-8\u001B[39;49m\u001B[43m,\u001B[49m\u001B[43m \u001B[49m\u001B[43mlimit\u001B[49m\u001B[38;5;241;43m=\u001B[39;49m\u001B[38;5;241;43m10000\u001B[39;49m\u001B[43m)\u001B[49m\n\u001B[1;32m     65\u001B[0m     \u001B[38;5;28;01mreturn\u001B[39;00m integral_val\n",
      "File \u001B[0;32m/Library/Frameworks/Python.framework/Versions/3.10/lib/python3.10/site-packages/scipy/integrate/_quadpack_py.py:351\u001B[0m, in \u001B[0;36mquad\u001B[0;34m(func, a, b, args, full_output, epsabs, epsrel, limit, points, weight, wvar, wopts, maxp1, limlst)\u001B[0m\n\u001B[1;32m    348\u001B[0m flip, a, b \u001B[38;5;241m=\u001B[39m b \u001B[38;5;241m<\u001B[39m a, \u001B[38;5;28mmin\u001B[39m(a, b), \u001B[38;5;28mmax\u001B[39m(a, b)\n\u001B[1;32m    350\u001B[0m \u001B[38;5;28;01mif\u001B[39;00m weight \u001B[38;5;129;01mis\u001B[39;00m \u001B[38;5;28;01mNone\u001B[39;00m:\n\u001B[0;32m--> 351\u001B[0m     retval \u001B[38;5;241m=\u001B[39m \u001B[43m_quad\u001B[49m\u001B[43m(\u001B[49m\u001B[43mfunc\u001B[49m\u001B[43m,\u001B[49m\u001B[43m \u001B[49m\u001B[43ma\u001B[49m\u001B[43m,\u001B[49m\u001B[43m \u001B[49m\u001B[43mb\u001B[49m\u001B[43m,\u001B[49m\u001B[43m \u001B[49m\u001B[43margs\u001B[49m\u001B[43m,\u001B[49m\u001B[43m \u001B[49m\u001B[43mfull_output\u001B[49m\u001B[43m,\u001B[49m\u001B[43m \u001B[49m\u001B[43mepsabs\u001B[49m\u001B[43m,\u001B[49m\u001B[43m \u001B[49m\u001B[43mepsrel\u001B[49m\u001B[43m,\u001B[49m\u001B[43m \u001B[49m\u001B[43mlimit\u001B[49m\u001B[43m,\u001B[49m\n\u001B[1;32m    352\u001B[0m \u001B[43m                   \u001B[49m\u001B[43mpoints\u001B[49m\u001B[43m)\u001B[49m\n\u001B[1;32m    353\u001B[0m \u001B[38;5;28;01melse\u001B[39;00m:\n\u001B[1;32m    354\u001B[0m     \u001B[38;5;28;01mif\u001B[39;00m points \u001B[38;5;129;01mis\u001B[39;00m \u001B[38;5;129;01mnot\u001B[39;00m \u001B[38;5;28;01mNone\u001B[39;00m:\n",
      "File \u001B[0;32m/Library/Frameworks/Python.framework/Versions/3.10/lib/python3.10/site-packages/scipy/integrate/_quadpack_py.py:463\u001B[0m, in \u001B[0;36m_quad\u001B[0;34m(func, a, b, args, full_output, epsabs, epsrel, limit, points)\u001B[0m\n\u001B[1;32m    461\u001B[0m \u001B[38;5;28;01mif\u001B[39;00m points \u001B[38;5;129;01mis\u001B[39;00m \u001B[38;5;28;01mNone\u001B[39;00m:\n\u001B[1;32m    462\u001B[0m     \u001B[38;5;28;01mif\u001B[39;00m infbounds \u001B[38;5;241m==\u001B[39m \u001B[38;5;241m0\u001B[39m:\n\u001B[0;32m--> 463\u001B[0m         \u001B[38;5;28;01mreturn\u001B[39;00m \u001B[43m_quadpack\u001B[49m\u001B[38;5;241;43m.\u001B[39;49m\u001B[43m_qagse\u001B[49m\u001B[43m(\u001B[49m\u001B[43mfunc\u001B[49m\u001B[43m,\u001B[49m\u001B[43ma\u001B[49m\u001B[43m,\u001B[49m\u001B[43mb\u001B[49m\u001B[43m,\u001B[49m\u001B[43margs\u001B[49m\u001B[43m,\u001B[49m\u001B[43mfull_output\u001B[49m\u001B[43m,\u001B[49m\u001B[43mepsabs\u001B[49m\u001B[43m,\u001B[49m\u001B[43mepsrel\u001B[49m\u001B[43m,\u001B[49m\u001B[43mlimit\u001B[49m\u001B[43m)\u001B[49m\n\u001B[1;32m    464\u001B[0m     \u001B[38;5;28;01melse\u001B[39;00m:\n\u001B[1;32m    465\u001B[0m         \u001B[38;5;28;01mreturn\u001B[39;00m _quadpack\u001B[38;5;241m.\u001B[39m_qagie(func,bound,infbounds,args,full_output,epsabs,epsrel,limit)\n",
      "Input \u001B[0;32mIn [11]\u001B[0m, in \u001B[0;36mk_ff.<locals>.f.<locals>.double_integral.<locals>.<lambda>\u001B[0;34m(tau)\u001B[0m\n\u001B[1;32m     62\u001B[0m \u001B[38;5;28;01mdef\u001B[39;00m \u001B[38;5;21mdouble_integral\u001B[39m(val_1, val_2):\n\u001B[0;32m---> 63\u001B[0m     integrand \u001B[38;5;241m=\u001B[39m \u001B[38;5;28;01mlambda\u001B[39;00m tau: \u001B[38;5;241m1\u001B[39m\u001B[38;5;241m/\u001B[39mgamma(\u001B[38;5;241m1\u001B[39m \u001B[38;5;241m-\u001B[39m alpha) \u001B[38;5;241m*\u001B[39m \u001B[38;5;241m1\u001B[39m\u001B[38;5;241m/\u001B[39m(val_1 \u001B[38;5;241m-\u001B[39m tau)\u001B[38;5;241m*\u001B[39m\u001B[38;5;241m*\u001B[39malpha \u001B[38;5;241m*\u001B[39m \u001B[43mderivative_B\u001B[49m\u001B[43m(\u001B[49m\u001B[43mtau\u001B[49m\u001B[43m,\u001B[49m\u001B[43m \u001B[49m\u001B[43mval_2\u001B[49m\u001B[43m)\u001B[49m\n\u001B[1;32m     64\u001B[0m     integral_val, _ \u001B[38;5;241m=\u001B[39m integrate(integrand, \u001B[38;5;241m0\u001B[39m, val_1, epsabs\u001B[38;5;241m=\u001B[39m\u001B[38;5;241m1e-8\u001B[39m, epsrel\u001B[38;5;241m=\u001B[39m\u001B[38;5;241m1e-8\u001B[39m, limit\u001B[38;5;241m=\u001B[39m\u001B[38;5;241m10000\u001B[39m)\n\u001B[1;32m     65\u001B[0m     \u001B[38;5;28;01mreturn\u001B[39;00m integral_val\n",
      "Input \u001B[0;32mIn [11]\u001B[0m, in \u001B[0;36mk_ff.<locals>.f.<locals>.derivative_B\u001B[0;34m(tau, val_2, h)\u001B[0m\n\u001B[1;32m     57\u001B[0m \u001B[38;5;28;01mdef\u001B[39;00m \u001B[38;5;21mB_tau\u001B[39m(tau):\n\u001B[1;32m     58\u001B[0m     \u001B[38;5;28;01mreturn\u001B[39;00m B(tau, val_2)\n\u001B[0;32m---> 59\u001B[0m dB \u001B[38;5;241m=\u001B[39m (B_tau(tau \u001B[38;5;241m+\u001B[39m h) \u001B[38;5;241m-\u001B[39m \u001B[43mB_tau\u001B[49m\u001B[43m(\u001B[49m\u001B[43mtau\u001B[49m\u001B[43m \u001B[49m\u001B[38;5;241;43m-\u001B[39;49m\u001B[43m \u001B[49m\u001B[43mh\u001B[49m\u001B[43m)\u001B[49m) \u001B[38;5;241m/\u001B[39m (\u001B[38;5;241m2\u001B[39m\u001B[38;5;241m*\u001B[39mh)\n\u001B[1;32m     60\u001B[0m \u001B[38;5;28;01mreturn\u001B[39;00m dB\n",
      "Input \u001B[0;32mIn [11]\u001B[0m, in \u001B[0;36mk_ff.<locals>.f.<locals>.derivative_B.<locals>.B_tau\u001B[0;34m(tau)\u001B[0m\n\u001B[1;32m     57\u001B[0m \u001B[38;5;28;01mdef\u001B[39;00m \u001B[38;5;21mB_tau\u001B[39m(tau):\n\u001B[0;32m---> 58\u001B[0m     \u001B[38;5;28;01mreturn\u001B[39;00m \u001B[43mB\u001B[49m\u001B[43m(\u001B[49m\u001B[43mtau\u001B[49m\u001B[43m,\u001B[49m\u001B[43m \u001B[49m\u001B[43mval_2\u001B[49m\u001B[43m)\u001B[49m\n",
      "Input \u001B[0;32mIn [11]\u001B[0m, in \u001B[0;36mk_ff.<locals>.f.<locals>.B\u001B[0;34m(val_1, val_2)\u001B[0m\n\u001B[1;32m     51\u001B[0m \u001B[38;5;28;01mdef\u001B[39;00m \u001B[38;5;21mB\u001B[39m(val_1, val_2):\n\u001B[1;32m     52\u001B[0m     integrand \u001B[38;5;241m=\u001B[39m \u001B[38;5;28;01mlambda\u001B[39;00m tau: A(val_1, val_2, tau)\n\u001B[0;32m---> 53\u001B[0m     integral_val, _ \u001B[38;5;241m=\u001B[39m \u001B[43mintegrate\u001B[49m\u001B[43m(\u001B[49m\u001B[43mintegrand\u001B[49m\u001B[43m,\u001B[49m\u001B[43m \u001B[49m\u001B[38;5;241;43m0\u001B[39;49m\u001B[43m,\u001B[49m\u001B[43m \u001B[49m\u001B[43mval_2\u001B[49m\u001B[43m,\u001B[49m\u001B[43m \u001B[49m\u001B[43mepsabs\u001B[49m\u001B[38;5;241;43m=\u001B[39;49m\u001B[38;5;241;43m1e-8\u001B[39;49m\u001B[43m,\u001B[49m\u001B[43m \u001B[49m\u001B[43mepsrel\u001B[49m\u001B[38;5;241;43m=\u001B[39;49m\u001B[38;5;241;43m1e-8\u001B[39;49m\u001B[43m,\u001B[49m\u001B[43m \u001B[49m\u001B[43mlimit\u001B[49m\u001B[38;5;241;43m=\u001B[39;49m\u001B[38;5;241;43m10000\u001B[39;49m\u001B[43m)\u001B[49m\n\u001B[1;32m     54\u001B[0m     \u001B[38;5;28;01mreturn\u001B[39;00m integral_val\n",
      "File \u001B[0;32m/Library/Frameworks/Python.framework/Versions/3.10/lib/python3.10/site-packages/scipy/integrate/_quadpack_py.py:351\u001B[0m, in \u001B[0;36mquad\u001B[0;34m(func, a, b, args, full_output, epsabs, epsrel, limit, points, weight, wvar, wopts, maxp1, limlst)\u001B[0m\n\u001B[1;32m    348\u001B[0m flip, a, b \u001B[38;5;241m=\u001B[39m b \u001B[38;5;241m<\u001B[39m a, \u001B[38;5;28mmin\u001B[39m(a, b), \u001B[38;5;28mmax\u001B[39m(a, b)\n\u001B[1;32m    350\u001B[0m \u001B[38;5;28;01mif\u001B[39;00m weight \u001B[38;5;129;01mis\u001B[39;00m \u001B[38;5;28;01mNone\u001B[39;00m:\n\u001B[0;32m--> 351\u001B[0m     retval \u001B[38;5;241m=\u001B[39m \u001B[43m_quad\u001B[49m\u001B[43m(\u001B[49m\u001B[43mfunc\u001B[49m\u001B[43m,\u001B[49m\u001B[43m \u001B[49m\u001B[43ma\u001B[49m\u001B[43m,\u001B[49m\u001B[43m \u001B[49m\u001B[43mb\u001B[49m\u001B[43m,\u001B[49m\u001B[43m \u001B[49m\u001B[43margs\u001B[49m\u001B[43m,\u001B[49m\u001B[43m \u001B[49m\u001B[43mfull_output\u001B[49m\u001B[43m,\u001B[49m\u001B[43m \u001B[49m\u001B[43mepsabs\u001B[49m\u001B[43m,\u001B[49m\u001B[43m \u001B[49m\u001B[43mepsrel\u001B[49m\u001B[43m,\u001B[49m\u001B[43m \u001B[49m\u001B[43mlimit\u001B[49m\u001B[43m,\u001B[49m\n\u001B[1;32m    352\u001B[0m \u001B[43m                   \u001B[49m\u001B[43mpoints\u001B[49m\u001B[43m)\u001B[49m\n\u001B[1;32m    353\u001B[0m \u001B[38;5;28;01melse\u001B[39;00m:\n\u001B[1;32m    354\u001B[0m     \u001B[38;5;28;01mif\u001B[39;00m points \u001B[38;5;129;01mis\u001B[39;00m \u001B[38;5;129;01mnot\u001B[39;00m \u001B[38;5;28;01mNone\u001B[39;00m:\n",
      "File \u001B[0;32m/Library/Frameworks/Python.framework/Versions/3.10/lib/python3.10/site-packages/scipy/integrate/_quadpack_py.py:463\u001B[0m, in \u001B[0;36m_quad\u001B[0;34m(func, a, b, args, full_output, epsabs, epsrel, limit, points)\u001B[0m\n\u001B[1;32m    461\u001B[0m \u001B[38;5;28;01mif\u001B[39;00m points \u001B[38;5;129;01mis\u001B[39;00m \u001B[38;5;28;01mNone\u001B[39;00m:\n\u001B[1;32m    462\u001B[0m     \u001B[38;5;28;01mif\u001B[39;00m infbounds \u001B[38;5;241m==\u001B[39m \u001B[38;5;241m0\u001B[39m:\n\u001B[0;32m--> 463\u001B[0m         \u001B[38;5;28;01mreturn\u001B[39;00m \u001B[43m_quadpack\u001B[49m\u001B[38;5;241;43m.\u001B[39;49m\u001B[43m_qagse\u001B[49m\u001B[43m(\u001B[49m\u001B[43mfunc\u001B[49m\u001B[43m,\u001B[49m\u001B[43ma\u001B[49m\u001B[43m,\u001B[49m\u001B[43mb\u001B[49m\u001B[43m,\u001B[49m\u001B[43margs\u001B[49m\u001B[43m,\u001B[49m\u001B[43mfull_output\u001B[49m\u001B[43m,\u001B[49m\u001B[43mepsabs\u001B[49m\u001B[43m,\u001B[49m\u001B[43mepsrel\u001B[49m\u001B[43m,\u001B[49m\u001B[43mlimit\u001B[49m\u001B[43m)\u001B[49m\n\u001B[1;32m    464\u001B[0m     \u001B[38;5;28;01melse\u001B[39;00m:\n\u001B[1;32m    465\u001B[0m         \u001B[38;5;28;01mreturn\u001B[39;00m _quadpack\u001B[38;5;241m.\u001B[39m_qagie(func,bound,infbounds,args,full_output,epsabs,epsrel,limit)\n",
      "Input \u001B[0;32mIn [11]\u001B[0m, in \u001B[0;36mk_ff.<locals>.f.<locals>.B.<locals>.<lambda>\u001B[0;34m(tau)\u001B[0m\n\u001B[1;32m     51\u001B[0m \u001B[38;5;28;01mdef\u001B[39;00m \u001B[38;5;21mB\u001B[39m(val_1, val_2):\n\u001B[0;32m---> 52\u001B[0m     integrand \u001B[38;5;241m=\u001B[39m \u001B[38;5;28;01mlambda\u001B[39;00m tau: \u001B[43mA\u001B[49m\u001B[43m(\u001B[49m\u001B[43mval_1\u001B[49m\u001B[43m,\u001B[49m\u001B[43m \u001B[49m\u001B[43mval_2\u001B[49m\u001B[43m,\u001B[49m\u001B[43m \u001B[49m\u001B[43mtau\u001B[49m\u001B[43m)\u001B[49m\n\u001B[1;32m     53\u001B[0m     integral_val, _ \u001B[38;5;241m=\u001B[39m integrate(integrand, \u001B[38;5;241m0\u001B[39m, val_2, epsabs\u001B[38;5;241m=\u001B[39m\u001B[38;5;241m1e-8\u001B[39m, epsrel\u001B[38;5;241m=\u001B[39m\u001B[38;5;241m1e-8\u001B[39m, limit\u001B[38;5;241m=\u001B[39m\u001B[38;5;241m10000\u001B[39m)\n\u001B[1;32m     54\u001B[0m     \u001B[38;5;28;01mreturn\u001B[39;00m integral_val\n",
      "Input \u001B[0;32mIn [11]\u001B[0m, in \u001B[0;36mk_ff.<locals>.f.<locals>.A\u001B[0;34m(val_1, val_2, tau)\u001B[0m\n\u001B[1;32m     47\u001B[0m \u001B[38;5;28;01mdef\u001B[39;00m \u001B[38;5;21mA\u001B[39m(val_1, val_2, tau):\n\u001B[1;32m     48\u001B[0m     a \u001B[38;5;241m=\u001B[39m \u001B[38;5;241m1\u001B[39m\u001B[38;5;241m/\u001B[39m(L\u001B[38;5;241m*\u001B[39mgamma(\u001B[38;5;241m1\u001B[39m\u001B[38;5;241m+\u001B[39mbeta)) \u001B[38;5;241m*\u001B[39m (val_2 \u001B[38;5;241m-\u001B[39m tau)\u001B[38;5;241m*\u001B[39m\u001B[38;5;241m*\u001B[39mbeta \u001B[38;5;241m*\u001B[39m \u001B[38;5;241m1\u001B[39m\u001B[38;5;241m/\u001B[39ml\u001B[38;5;241m*\u001B[39m\u001B[38;5;241m*\u001B[39m\u001B[38;5;241m2\u001B[39m \u001B[38;5;241m*\u001B[39m (val_1 \u001B[38;5;241m-\u001B[39m tau)\n\u001B[0;32m---> 49\u001B[0m     \u001B[38;5;28;01mreturn\u001B[39;00m a \u001B[38;5;241m*\u001B[39m \u001B[43mcov_func\u001B[49m\u001B[43m(\u001B[49m\u001B[43mval_1\u001B[49m\u001B[43m,\u001B[49m\u001B[43m \u001B[49m\u001B[43mtau\u001B[49m\u001B[43m)\u001B[49m\n",
      "Input \u001B[0;32mIn [6]\u001B[0m, in \u001B[0;36mSquaredExponentialKernel.__call__\u001B[0;34m(self, tau_1, tau_2)\u001B[0m\n\u001B[1;32m      5\u001B[0m     \u001B[38;5;28mself\u001B[39m\u001B[38;5;241m.\u001B[39malpha \u001B[38;5;241m=\u001B[39m alpha\n\u001B[1;32m      6\u001B[0m     \u001B[38;5;28mself\u001B[39m\u001B[38;5;241m.\u001B[39mbeta \u001B[38;5;241m=\u001B[39m beta\n\u001B[0;32m----> 8\u001B[0m \u001B[38;5;28;01mdef\u001B[39;00m \u001B[38;5;21m__call__\u001B[39m(\u001B[38;5;28mself\u001B[39m, tau_1: np\u001B[38;5;241m.\u001B[39marray, tau_2: np\u001B[38;5;241m.\u001B[39marray):\n\u001B[1;32m      9\u001B[0m     \u001B[38;5;28;01mdef\u001B[39;00m \u001B[38;5;21mkernel\u001B[39m(variable_1, variable_2):\n\u001B[1;32m     10\u001B[0m         k_SE \u001B[38;5;241m=\u001B[39m \u001B[38;5;28mfloat\u001B[39m(\u001B[38;5;28mself\u001B[39m\u001B[38;5;241m.\u001B[39msigma\u001B[38;5;241m*\u001B[39m\u001B[38;5;241m*\u001B[39m\u001B[38;5;241m2\u001B[39m \u001B[38;5;241m*\u001B[39m np\u001B[38;5;241m.\u001B[39mexp(\u001B[38;5;241m-\u001B[39m(np\u001B[38;5;241m.\u001B[39mlinalg\u001B[38;5;241m.\u001B[39mnorm(variable_1 \u001B[38;5;241m-\u001B[39m variable_2)\u001B[38;5;241m*\u001B[39m\u001B[38;5;241m*\u001B[39m\u001B[38;5;241m2\u001B[39m) \u001B[38;5;241m/\u001B[39m(\u001B[38;5;241m2\u001B[39m \u001B[38;5;241m*\u001B[39m \u001B[38;5;28mself\u001B[39m\u001B[38;5;241m.\u001B[39mlength\u001B[38;5;241m*\u001B[39m\u001B[38;5;241m*\u001B[39m\u001B[38;5;241m2\u001B[39m)))\n",
      "\u001B[0;31mKeyboardInterrupt\u001B[0m: "
     ]
    }
   ],
   "source": [
    "model = GPR(x_values, y_values)\n",
    "data = plot_GPR(data_x=x_values, data_y=y_values, x=x, model=model, data_x_mv=x_values_mv, data_y_mv=y_values_mv)\n",
    "fig4 = go.Figure(data)\n",
    "fig4 = update_layout_of_graph(fig=fig4, title=f'GPR with length {model.cov_func.length}, sigma {model.cov_func.sigma}, alpha {cov_func.alpha}, beta {model.cov_func.beta} and noise {model.noise}')\n",
    "fig4.show()\n",
    "fig4.write_html('/Users/simonjamnik/PycharmProjects/GaussianProcess/RLC_Schwingfall_voltage_0.75.html')"
   ]
  },
  {
   "cell_type": "code",
   "execution_count": 105,
   "metadata": {
    "ExecuteTime": {
     "end_time": "2024-07-05T00:08:34.365267Z",
     "start_time": "2024-07-05T00:08:34.361358Z"
    }
   },
   "outputs": [],
   "source": []
  },
  {
   "cell_type": "code",
   "execution_count": null,
   "metadata": {},
   "outputs": [],
   "source": []
  },
  {
   "cell_type": "code",
   "execution_count": null,
   "metadata": {},
   "outputs": [],
   "source": []
  },
  {
   "cell_type": "code",
   "execution_count": null,
   "outputs": [],
   "source": [],
   "metadata": {
    "collapsed": false
   }
  }
 ],
 "metadata": {
  "kernelspec": {
   "display_name": "Python 3 (ipykernel)",
   "language": "python",
   "name": "python3"
  },
  "language_info": {
   "codemirror_mode": {
    "name": "ipython",
    "version": 3
   },
   "file_extension": ".py",
   "mimetype": "text/x-python",
   "name": "python",
   "nbconvert_exporter": "python",
   "pygments_lexer": "ipython3",
   "version": "3.10.2"
  }
 },
 "nbformat": 4,
 "nbformat_minor": 1
}
